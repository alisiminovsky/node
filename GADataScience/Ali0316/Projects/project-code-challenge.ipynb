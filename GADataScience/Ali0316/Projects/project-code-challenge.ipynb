{
 "cells": [
  {
   "cell_type": "markdown",
   "metadata": {},
   "source": [
    "<img src=\"http://imgur.com/1ZcRyrc.png\" style=\"float: left; margin: 20px; height: 55px\">\n",
    "\n",
    "# Project 1: Python Coding Exercises\n",
    "\n",
    "\n",
    "---"
   ]
  },
  {
   "cell_type": "markdown",
   "metadata": {},
   "source": [
    "The following code challenges are drawn from common exercises used in technical interviews.\n",
    "\n",
    "Please note that there may be several ways to approach each challenge. If you get stuck, try mapping out your approach in pseudocode first. Finally, while solutions to problems like these may be found online, remember that if you copy/paste code that you can't explain, you'll be missing out on the point of the project. The only way to truly learn a new skill is through practice, trial, and error - we can only help you improve by understanding where you are having trouble."
   ]
  },
  {
   "cell_type": "markdown",
   "metadata": {},
   "source": [
    "### Challenge 1: Largest Palindrome\n",
    "A palindromic number reads the same both ways. For example, 1234321 is a palindrome. The largest palindrome made from the product of two two-digit numbers is 9009 = 91 × 99. Find the largest palindrome made from the product of two three-digit numbers. Afterward, write a brief explanation walking through your code's logic in markdown."
   ]
  },
  {
   "cell_type": "code",
   "execution_count": null,
   "metadata": {},
   "outputs": [],
   "source": [
    "#create two ranges of all possible three digit numbers\n",
    "#multiply all three digit number pairs and identify all palindromes\n",
    "#print the maximum palindrome\n",
    "\n",
    "prodlist = []\n",
    "pallist = []\n",
    "\n",
    "for x in range(100,1000):\n",
    "    for y in range(100,1000):\n",
    "        product=x*y\n",
    "        prodlist.append(product)\n",
    "        for i in prodlist:\n",
    "            i=str(i)\n",
    "            if i == i[::-1]:\n",
    "                i=int(i)\n",
    "                pallist.append(i)\n",
    "\n",
    "print(max(pallist))      \n",
    "\n",
    "#In order to complete this challenge, I created two ranges of all possible three digit numbers (i and j), created a variable\n",
    "#of all products of i and j, converted the products to strings, and identified all products that read the same forwards\n",
    "#and backwards (i.e., palindromes). I then appended all palindromic products to a list which was summed. Although this code\n",
    "#works, it is extremely inefficient and takes hours to run. I would love to learn about how to write code more efficiently,\n",
    "#especially in a case like this where my output is only one number!"
   ]
  },
  {
   "cell_type": "markdown",
   "metadata": {},
   "source": [
    "\n",
    "### Challenge 2: Summation of Primes\n",
    "The sum of the primes below 10 is 2 + 3 + 5 + 7 = 17. Find the sum of all the primes below 2,000. Afterward, write a brief explanation walking through your code's logic in markdown."
   ]
  },
  {
   "cell_type": "code",
   "execution_count": 26,
   "metadata": {},
   "outputs": [
    {
     "name": "stdout",
     "output_type": "stream",
     "text": [
      "277050\n"
     ]
    }
   ],
   "source": [
    "#create a function to identify all primes below a top value\n",
    "def primes(top_value):\n",
    "    #start the list at 2, as it is the lowest prime number\n",
    "    list = [2]\n",
    "    max = top_value\n",
    "    for i in range (3, max):\n",
    "        is_prime = True\n",
    "        for j in list:\n",
    "            #if i is divisble by any j, it is not prime\n",
    "            if i%j==0:\n",
    "                is_prime = False\n",
    "                break\n",
    "            #if i is prime (i.e., not divisible by any j), add to the list\n",
    "        if is_prime:\n",
    "            list.append(i)\n",
    "    #print the sum of the list of all prime numbers under a given top value\n",
    "    print(sum(list))\n",
    "   \n",
    "#run the function with 2000 as the top value\n",
    "primes(2000)\n",
    "\n",
    "#I struggled here as I was writing functions that technically worked (i.e., didn't break), but were yielding incorrect\n",
    "#solutions, which I assumed as the resulting primes(2000) was extremely high. I was making an error in which if i was not\n",
    "#divisible by every possible j, it was being included as a prime. For example, 4 is divisible by 2, but not by 3, so it\n",
    "#incorrectly made it into the primes list. I am hoping this solution works but am still not confident."
   ]
  },
  {
   "cell_type": "markdown",
   "metadata": {},
   "source": [
    "### Challenge 3: Multiples of 3 and 5\n",
    "If we list all of the natural numbers below 10 that are multiples of 3 or 5, we get 3, 5, 6, and 9. The sum of these multiples is 23. Find the sum of all the multiples of 3 and 5 below 1,000. Afterward, write a brief explanation walking through your code's logic in markdown."
   ]
  },
  {
   "cell_type": "code",
   "execution_count": 29,
   "metadata": {},
   "outputs": [
    {
     "data": {
      "text/plain": [
       "233168"
      ]
     },
     "execution_count": 29,
     "metadata": {},
     "output_type": "execute_result"
    }
   ],
   "source": [
    "#create an empty list to contain all multiples of 3 and 5 below 1,000\n",
    "list=[]\n",
    "\n",
    "#create a for loop to run through all numbers between 1 and 999.\n",
    "for i in range(1,1000):\n",
    "    #if i is divisible by 3, append to the empty list\n",
    "    if i%3==0:\n",
    "        list.append(i)\n",
    "    #if i is not divisible by 3, but is divisible by 5, add to the empty list\n",
    "    elif i%5==0:\n",
    "        list.append(i)\n",
    "#The list should now contain only multiples of 3 and/or 5 between 1 and 999. The list is summed to 233,168.        \n",
    "sum(list)"
   ]
  },
  {
   "cell_type": "markdown",
   "metadata": {},
   "source": [
    "### Challenge 4: String Compressor\n",
    "Implement a method to perform basic string compression using the counts of repeated characters. (This is called run-length encoding.) For example, the string \"aabcccccaaa\" would become a2b1c5a3. If the “compressed” string would not become smaller than the original string, your method should return the original string. You can assume the string has only uppercase and lowercase letters (a–z). Specify whether your solution is case sensitive or case insensitive and what you would need to change to make it the other. Afterward, write a brief explanation walking through your code's logic in markdown."
   ]
  },
  {
   "cell_type": "code",
   "execution_count": 33,
   "metadata": {},
   "outputs": [
    {
     "name": "stdout",
     "output_type": "stream",
     "text": [
      "a3b3c3\n"
     ]
    },
    {
     "data": {
      "text/plain": [
       "'x3y2z3'"
      ]
     },
     "execution_count": 33,
     "metadata": {},
     "output_type": "execute_result"
    }
   ],
   "source": [
    "# generate unique elements of string\n",
    "\n",
    "string = 'abcabcabc'\n",
    "\n",
    "def compress2(string):\n",
    "\n",
    "    # Determine all unique elements of a string (e.g. \"a\", \"b\", and \"c\" from the test case)\n",
    "    unique_elements = list(set(string))\n",
    "    # Making it alphabetically ordered\n",
    "    unique_elements.sort()\n",
    "\n",
    "    # Container for counts\n",
    "    counts = []\n",
    "\n",
    "    # Counting occurrence of each letter in string\n",
    "    for i in unique_elements:\n",
    "        counts.append(string.count(i))\n",
    "\n",
    "    # Creating container for solution\n",
    "        # Quick and dirty solution, but not what I would ideally want probs\n",
    "    solution = []\n",
    "\n",
    "    # For i indexed over the size of the set containing all unique letters\n",
    "    # Combine these separate lists into single object\n",
    "    for i in range(len(unique_elements)):\n",
    "        solution.append([str(unique_elements[i]),str(counts[i])])\n",
    "\n",
    "    # Because it gives a list of lists we have to flatten it\n",
    "    solution = [item for sublist in solution for item in sublist]\n",
    "\n",
    "\n",
    "    # If length of the solution is less than or equal to length of original, return solution\n",
    "    if len(solution) <= len(string):\n",
    "        # Removing spaces\n",
    "        return(''.join(solution))\n",
    "    # If length of the solution is greater than length of input, return original input\n",
    "    elif len(solution) > len(string):\n",
    "        return(string)\n",
    "\n",
    "print(compress2(string))\n",
    "\n",
    "compress2('xxxyyzzz')\n",
    "\n"
   ]
  },
  {
   "cell_type": "markdown",
   "metadata": {},
   "source": [
    "### *BONUS* Challenge: FizzBuzz\n",
    "Write a program that prints all of the numbers from 1 to 100. For multiples of 3, instead of the number, print \"Fizz;\" for multiples of 5, print \"Buzz.\" For numbers that are multiples of both 3 and 5, print \"FizzBuzz.\" Afterward, write a brief explanation walking through your code's logic in markdown."
   ]
  },
  {
   "cell_type": "code",
   "execution_count": 4,
   "metadata": {},
   "outputs": [
    {
     "name": "stdout",
     "output_type": "stream",
     "text": [
      "1\n",
      "2\n",
      "Fizz\n",
      "4\n",
      "Buzz\n",
      "Fizz\n",
      "7\n",
      "8\n",
      "Fizz\n",
      "Buzz\n",
      "11\n",
      "Fizz\n",
      "13\n",
      "14\n",
      "FizzBuzz\n",
      "16\n",
      "17\n",
      "Fizz\n",
      "19\n",
      "Buzz\n",
      "Fizz\n",
      "22\n",
      "23\n",
      "Fizz\n",
      "Buzz\n",
      "26\n",
      "Fizz\n",
      "28\n",
      "29\n",
      "FizzBuzz\n",
      "31\n",
      "32\n",
      "Fizz\n",
      "34\n",
      "Buzz\n",
      "Fizz\n",
      "37\n",
      "38\n",
      "Fizz\n",
      "Buzz\n",
      "41\n",
      "Fizz\n",
      "43\n",
      "44\n",
      "FizzBuzz\n",
      "46\n",
      "47\n",
      "Fizz\n",
      "49\n",
      "Buzz\n",
      "Fizz\n",
      "52\n",
      "53\n",
      "Fizz\n",
      "Buzz\n",
      "56\n",
      "Fizz\n",
      "58\n",
      "59\n",
      "FizzBuzz\n",
      "61\n",
      "62\n",
      "Fizz\n",
      "64\n",
      "Buzz\n",
      "Fizz\n",
      "67\n",
      "68\n",
      "Fizz\n",
      "Buzz\n",
      "71\n",
      "Fizz\n",
      "73\n",
      "74\n",
      "FizzBuzz\n",
      "76\n",
      "77\n",
      "Fizz\n",
      "79\n",
      "Buzz\n",
      "Fizz\n",
      "82\n",
      "83\n",
      "Fizz\n",
      "Buzz\n",
      "86\n",
      "Fizz\n",
      "88\n",
      "89\n",
      "FizzBuzz\n",
      "91\n",
      "92\n",
      "Fizz\n",
      "94\n",
      "Buzz\n",
      "Fizz\n",
      "97\n",
      "98\n",
      "Fizz\n",
      "Buzz\n"
     ]
    }
   ],
   "source": [
    "#create a for loop cycling through the numbers 1 to 100\n",
    "for i in range(1,101):\n",
    "    #print FizzBuzz if i is a multiple of both \n",
    "    if i%5==0 and i%3==0:\n",
    "        print('FizzBuzz')\n",
    "    elif i%3==0:\n",
    "        print('Fizz')\n",
    "    elif i%5==0:\n",
    "        print('Buzz')\n",
    "    else:\n",
    "        print(i)\n",
    "\n",
    "#In order to find multiples of 3, 5, and both, I used the modulus in that i%3 should have a remainder of zero if i is a\n",
    "#muliple of 3 (and so on). I initially wrote out the challenge in the order of the instructions, but quickly realized\n",
    "#that if the first condition identified only multiples of 3, those numbers that are multiples of both 3 and 5 would\n",
    "#be satisfied by the first condition and therefore be marked as \"Fizz,\" not \"FizzBuzz.\" Therefore, I changed the third\n",
    "#condition, which was an elif, into the first if statement."
   ]
  }
 ],
 "metadata": {
  "anaconda-cloud": {},
  "kernelspec": {
   "display_name": "Python 3",
   "language": "python",
   "name": "python3"
  },
  "language_info": {
   "codemirror_mode": {
    "name": "ipython",
    "version": 3
   },
   "file_extension": ".py",
   "mimetype": "text/x-python",
   "name": "python",
   "nbconvert_exporter": "python",
   "pygments_lexer": "ipython3",
   "version": "3.8.5"
  }
 },
 "nbformat": 4,
 "nbformat_minor": 2
}

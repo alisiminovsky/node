{
 "cells": [
  {
   "cell_type": "markdown",
   "metadata": {
    "slideshow": {
     "slide_type": "slide"
    }
   },
   "source": [
    "<img src=\"http://imgur.com/1ZcRyrc.png\" style=\"float: left; margin: 20px; height: 55px\">\n",
    "\n",
    "# Homework # 3\n",
    "\n",
    "\n",
    "\n",
    "---"
   ]
  },
  {
   "cell_type": "code",
   "execution_count": 80,
   "metadata": {
    "slideshow": {
     "slide_type": "skip"
    }
   },
   "outputs": [],
   "source": [
    "import numpy as np\n",
    "import pandas as pd\n",
    "import random\n",
    "\n",
    "import matplotlib\n",
    "import matplotlib.pyplot as plt\n",
    "plt.style.use('fivethirtyeight')\n",
    "\n",
    "%matplotlib inline"
   ]
  },
  {
   "cell_type": "markdown",
   "metadata": {
    "slideshow": {
     "slide_type": "slide"
    }
   },
   "source": [
    "### Create a Python dictionary \n",
    "\n",
    "- Use the following as the keys: 'X' and 'Y'\n",
    "- Create two lists to use as the values in the dictionary: <br>\n",
    "    for 'X': 1, 2, 3, 4, 5, 6, 7, 8, 9, 10 <br>\n",
    "    for 'Y': .5, .7, .8, .99, 1, 1.4, 1.8, 2.1, 2.4, 2.9"
   ]
  },
  {
   "cell_type": "code",
   "execution_count": 81,
   "metadata": {},
   "outputs": [],
   "source": [
    "# A: \n",
    "data = {'X':[1, 2, 3, 4, 5, 6, 7, 8, 9, 10], 'Y':[.5, .7, .8, .99, 1, 1.4, 1.8, 2.1, 2.4, 2.9]}"
   ]
  },
  {
   "cell_type": "markdown",
   "metadata": {
    "slideshow": {
     "slide_type": "slide"
    }
   },
   "source": [
    "### Using that dictionary, create a pandas DataFrame and call it pre_df"
   ]
  },
  {
   "cell_type": "code",
   "execution_count": 82,
   "metadata": {},
   "outputs": [],
   "source": [
    "# A:\n",
    "pre_df = pd.DataFrame.from_dict(data)\n",
    "\n",
    "# Andrew--why is it sometimes necessary to call the package being used and other times it is not?"
   ]
  },
  {
   "cell_type": "markdown",
   "metadata": {},
   "source": [
    "### Using the Series from the DataFrame, create two new series\n",
    "\n",
    "- The first list should use the 'X' values and add 10 to each value\n",
    "- The second list should use the 'Y' values and add 3 to each\n",
    "- Add those new lists to a new DataFrame and save it as new_data (hint: zip())\n",
    "\n",
    "Note: the original DataFrame should be unchanged (don't save to pre_df as new columns)"
   ]
  },
  {
   "cell_type": "code",
   "execution_count": 86,
   "metadata": {},
   "outputs": [
    {
     "data": {
      "text/html": [
       "<div>\n",
       "<style scoped>\n",
       "    .dataframe tbody tr th:only-of-type {\n",
       "        vertical-align: middle;\n",
       "    }\n",
       "\n",
       "    .dataframe tbody tr th {\n",
       "        vertical-align: top;\n",
       "    }\n",
       "\n",
       "    .dataframe thead th {\n",
       "        text-align: right;\n",
       "    }\n",
       "</style>\n",
       "<table border=\"1\" class=\"dataframe\">\n",
       "  <thead>\n",
       "    <tr style=\"text-align: right;\">\n",
       "      <th></th>\n",
       "      <th>new_X</th>\n",
       "      <th>new_Y</th>\n",
       "    </tr>\n",
       "  </thead>\n",
       "  <tbody>\n",
       "    <tr>\n",
       "      <th>0</th>\n",
       "      <td>11</td>\n",
       "      <td>3.50</td>\n",
       "    </tr>\n",
       "    <tr>\n",
       "      <th>1</th>\n",
       "      <td>12</td>\n",
       "      <td>3.70</td>\n",
       "    </tr>\n",
       "    <tr>\n",
       "      <th>2</th>\n",
       "      <td>13</td>\n",
       "      <td>3.80</td>\n",
       "    </tr>\n",
       "    <tr>\n",
       "      <th>3</th>\n",
       "      <td>14</td>\n",
       "      <td>3.99</td>\n",
       "    </tr>\n",
       "    <tr>\n",
       "      <th>4</th>\n",
       "      <td>15</td>\n",
       "      <td>4.00</td>\n",
       "    </tr>\n",
       "    <tr>\n",
       "      <th>5</th>\n",
       "      <td>16</td>\n",
       "      <td>4.40</td>\n",
       "    </tr>\n",
       "    <tr>\n",
       "      <th>6</th>\n",
       "      <td>17</td>\n",
       "      <td>4.80</td>\n",
       "    </tr>\n",
       "    <tr>\n",
       "      <th>7</th>\n",
       "      <td>18</td>\n",
       "      <td>5.10</td>\n",
       "    </tr>\n",
       "    <tr>\n",
       "      <th>8</th>\n",
       "      <td>19</td>\n",
       "      <td>5.40</td>\n",
       "    </tr>\n",
       "    <tr>\n",
       "      <th>9</th>\n",
       "      <td>20</td>\n",
       "      <td>5.90</td>\n",
       "    </tr>\n",
       "  </tbody>\n",
       "</table>\n",
       "</div>"
      ],
      "text/plain": [
       "   new_X  new_Y\n",
       "0     11   3.50\n",
       "1     12   3.70\n",
       "2     13   3.80\n",
       "3     14   3.99\n",
       "4     15   4.00\n",
       "5     16   4.40\n",
       "6     17   4.80\n",
       "7     18   5.10\n",
       "8     19   5.40\n",
       "9     20   5.90"
      ]
     },
     "execution_count": 86,
     "metadata": {},
     "output_type": "execute_result"
    }
   ],
   "source": [
    "# A: \n",
    "new_X = pre_df.X + 10\n",
    "new_Y = pre_df.Y + 3\n",
    "\n",
    "new_df = pd.DataFrame(list(zip(new_X,new_Y)),\n",
    "               columns =['new_X', 'new_Y'])"
   ]
  },
  {
   "cell_type": "markdown",
   "metadata": {},
   "source": [
    "### Using pd.concat, vertically concat the new DataFrame, new_data, to the original pre_df DataFrame. Save it as df.\n",
    "\n",
    "Hint: Be mindful of your column names, and make sure your index is 0-based and continuous."
   ]
  },
  {
   "cell_type": "code",
   "execution_count": 89,
   "metadata": {},
   "outputs": [
    {
     "data": {
      "text/html": [
       "<div>\n",
       "<style scoped>\n",
       "    .dataframe tbody tr th:only-of-type {\n",
       "        vertical-align: middle;\n",
       "    }\n",
       "\n",
       "    .dataframe tbody tr th {\n",
       "        vertical-align: top;\n",
       "    }\n",
       "\n",
       "    .dataframe thead th {\n",
       "        text-align: right;\n",
       "    }\n",
       "</style>\n",
       "<table border=\"1\" class=\"dataframe\">\n",
       "  <thead>\n",
       "    <tr style=\"text-align: right;\">\n",
       "      <th></th>\n",
       "      <th>X</th>\n",
       "      <th>Y</th>\n",
       "      <th>new_X</th>\n",
       "      <th>new_Y</th>\n",
       "    </tr>\n",
       "  </thead>\n",
       "  <tbody>\n",
       "    <tr>\n",
       "      <th>0</th>\n",
       "      <td>1</td>\n",
       "      <td>0.50</td>\n",
       "      <td>11</td>\n",
       "      <td>3.50</td>\n",
       "    </tr>\n",
       "    <tr>\n",
       "      <th>1</th>\n",
       "      <td>2</td>\n",
       "      <td>0.70</td>\n",
       "      <td>12</td>\n",
       "      <td>3.70</td>\n",
       "    </tr>\n",
       "    <tr>\n",
       "      <th>2</th>\n",
       "      <td>3</td>\n",
       "      <td>0.80</td>\n",
       "      <td>13</td>\n",
       "      <td>3.80</td>\n",
       "    </tr>\n",
       "    <tr>\n",
       "      <th>3</th>\n",
       "      <td>4</td>\n",
       "      <td>0.99</td>\n",
       "      <td>14</td>\n",
       "      <td>3.99</td>\n",
       "    </tr>\n",
       "    <tr>\n",
       "      <th>4</th>\n",
       "      <td>5</td>\n",
       "      <td>1.00</td>\n",
       "      <td>15</td>\n",
       "      <td>4.00</td>\n",
       "    </tr>\n",
       "    <tr>\n",
       "      <th>5</th>\n",
       "      <td>6</td>\n",
       "      <td>1.40</td>\n",
       "      <td>16</td>\n",
       "      <td>4.40</td>\n",
       "    </tr>\n",
       "    <tr>\n",
       "      <th>6</th>\n",
       "      <td>7</td>\n",
       "      <td>1.80</td>\n",
       "      <td>17</td>\n",
       "      <td>4.80</td>\n",
       "    </tr>\n",
       "    <tr>\n",
       "      <th>7</th>\n",
       "      <td>8</td>\n",
       "      <td>2.10</td>\n",
       "      <td>18</td>\n",
       "      <td>5.10</td>\n",
       "    </tr>\n",
       "    <tr>\n",
       "      <th>8</th>\n",
       "      <td>9</td>\n",
       "      <td>2.40</td>\n",
       "      <td>19</td>\n",
       "      <td>5.40</td>\n",
       "    </tr>\n",
       "    <tr>\n",
       "      <th>9</th>\n",
       "      <td>10</td>\n",
       "      <td>2.90</td>\n",
       "      <td>20</td>\n",
       "      <td>5.90</td>\n",
       "    </tr>\n",
       "  </tbody>\n",
       "</table>\n",
       "</div>"
      ],
      "text/plain": [
       "    X     Y  new_X  new_Y\n",
       "0   1  0.50     11   3.50\n",
       "1   2  0.70     12   3.70\n",
       "2   3  0.80     13   3.80\n",
       "3   4  0.99     14   3.99\n",
       "4   5  1.00     15   4.00\n",
       "5   6  1.40     16   4.40\n",
       "6   7  1.80     17   4.80\n",
       "7   8  2.10     18   5.10\n",
       "8   9  2.40     19   5.40\n",
       "9  10  2.90     20   5.90"
      ]
     },
     "execution_count": 89,
     "metadata": {},
     "output_type": "execute_result"
    }
   ],
   "source": [
    "# A:\n",
    "\n",
    "df = pd.concat([pre_df,new_df],axis=1)\n",
    "df"
   ]
  },
  {
   "cell_type": "markdown",
   "metadata": {
    "slideshow": {
     "slide_type": "slide"
    }
   },
   "source": [
    "### Plot the df DataFrame using pandas + matplotlib\n",
    "\n",
    "- Set the figure size to 12 wide and 6 height\n",
    "- Add a title, 'X vs Y' to the plot\n",
    "- Set the size of the markers to 50 and the color of the markers to black"
   ]
  },
  {
   "cell_type": "code",
   "execution_count": 96,
   "metadata": {},
   "outputs": [
    {
     "data": {
      "image/png": "[encoded data removed]",
      "text/plain": [
       "<Figure size 432x288 with 1 Axes>"
      ]
     },
     "metadata": {
      "image/png": {
       "height": 261,
       "width": 409
      },
      "needs_background": "light"
     },
     "output_type": "display_data"
    }
   ],
   "source": [
    "# A:\n",
    "plt.scatter(df['X'],df['Y'],c='k', alpha=0.5)\n",
    "plt.title('X vs Y')\n",
    "plt.show()\n"
   ]
  },
  {
   "cell_type": "markdown",
   "metadata": {},
   "source": [
    "### Using statsmodels, fit an OLS regression to your data and print our the summary\n",
    "\n",
    "Documentation here: https://www.statsmodels.org/devel/generated/statsmodels.regression.linear_model.OLS.html\n",
    "\n",
    "Looking at a summary: https://www.statsmodels.org/dev/example_formulas.html"
   ]
  },
  {
   "cell_type": "code",
   "execution_count": 99,
   "metadata": {},
   "outputs": [
    {
     "name": "stdout",
     "output_type": "stream",
     "text": [
      "                            OLS Regression Results                            \n",
      "==============================================================================\n",
      "Dep. Variable:                      Y   R-squared:                       0.950\n",
      "Model:                            OLS   Adj. R-squared:                  0.943\n",
      "Method:                 Least Squares   F-statistic:                     151.0\n",
      "Date:                Mon, 26 Apr 2021   Prob (F-statistic):           1.79e-06\n",
      "Time:                        10:34:39   Log-Likelihood:                 3.4363\n",
      "No. Observations:                  10   AIC:                            -2.873\n",
      "Df Residuals:                       8   BIC:                            -2.268\n",
      "Df Model:                           1                                         \n",
      "Covariance Type:            nonrobust                                         \n",
      "==============================================================================\n",
      "                 coef    std err          t      P>|t|      [0.025      0.975]\n",
      "------------------------------------------------------------------------------\n",
      "Intercept      0.0313      0.131      0.239      0.817      -0.271       0.334\n",
      "X              0.2596      0.021     12.289      0.000       0.211       0.308\n",
      "==============================================================================\n",
      "Omnibus:                        0.154   Durbin-Watson:                   0.668\n",
      "Prob(Omnibus):                  0.926   Jarque-Bera (JB):                0.206\n",
      "Skew:                          -0.202   Prob(JB):                        0.902\n",
      "Kurtosis:                       2.424   Cond. No.                         13.7\n",
      "==============================================================================\n",
      "\n",
      "Notes:\n",
      "[1] Standard Errors assume that the covariance matrix of the errors is correctly specified.\n"
     ]
    },
    {
     "name": "stderr",
     "output_type": "stream",
     "text": [
      "C:\\Users\\asiminovsky\\anaconda3\\lib\\site-packages\\scipy\\stats\\stats.py:1603: UserWarning: kurtosistest only valid for n>=20 ... continuing anyway, n=10\n",
      "  warnings.warn(\"kurtosistest only valid for n>=20 ... continuing \"\n"
     ]
    }
   ],
   "source": [
    "# A:\n",
    "import statsmodels.api as sm\n",
    "\n",
    "import statsmodels.formula.api as smf\n",
    "\n",
    "\n",
    "\n",
    "mod = smf.ols(formula = 'Y ~ X',data=df)\n",
    "res = mod.fit()\n",
    "print(res.summary())"
   ]
  },
  {
   "cell_type": "markdown",
   "metadata": {},
   "source": [
    "## Using the model you fitted, answer the following questions:"
   ]
  },
  {
   "cell_type": "markdown",
   "metadata": {},
   "source": [
    "### What is the R-squared for the model?"
   ]
  },
  {
   "cell_type": "code",
   "execution_count": 8,
   "metadata": {
    "collapsed": true
   },
   "outputs": [],
   "source": [
    "# A:0.950"
   ]
  },
  {
   "cell_type": "markdown",
   "metadata": {},
   "source": [
    "### What is the p-value for your X?"
   ]
  },
  {
   "cell_type": "code",
   "execution_count": 9,
   "metadata": {
    "collapsed": true
   },
   "outputs": [],
   "source": [
    "# A: p < .01 (.000)"
   ]
  },
  {
   "cell_type": "markdown",
   "metadata": {},
   "source": [
    "### What is the intercept?"
   ]
  },
  {
   "cell_type": "code",
   "execution_count": 10,
   "metadata": {
    "collapsed": true
   },
   "outputs": [],
   "source": [
    "# A: 0.0313 "
   ]
  },
  {
   "cell_type": "markdown",
   "metadata": {},
   "source": [
    "### Using the above, write the equation for our model"
   ]
  },
  {
   "cell_type": "code",
   "execution_count": 11,
   "metadata": {
    "collapsed": true
   },
   "outputs": [],
   "source": [
    "# A: Y = 0.0313 + 0.2596* X"
   ]
  },
  {
   "cell_type": "markdown",
   "metadata": {},
   "source": [
    "### Solve the equation for an x of 20 then 21 (by hand/calculator)"
   ]
  },
  {
   "cell_type": "code",
   "execution_count": 12,
   "metadata": {
    "collapsed": true
   },
   "outputs": [],
   "source": [
    "# A: x = 20: 5.2233"
   ]
  },
  {
   "cell_type": "code",
   "execution_count": 13,
   "metadata": {
    "collapsed": true
   },
   "outputs": [],
   "source": [
    "# A: x = 21: 5.4829"
   ]
  },
  {
   "cell_type": "markdown",
   "metadata": {},
   "source": [
    "### Using the predict functionality of statsmodels, predict the values for 20 and 21\n",
    "\n",
    "Hint: You'll need to use a list - don't forget your intercept!"
   ]
  },
  {
   "cell_type": "code",
   "execution_count": 100,
   "metadata": {},
   "outputs": [
    {
     "data": {
      "text/plain": [
       "0    5.222848\n",
       "dtype: float64"
      ]
     },
     "execution_count": 100,
     "metadata": {},
     "output_type": "execute_result"
    }
   ],
   "source": [
    "# A:\n",
    "res.predict(exog=dict(X=20))"
   ]
  },
  {
   "cell_type": "code",
   "execution_count": 101,
   "metadata": {},
   "outputs": [
    {
     "data": {
      "text/plain": [
       "0    5.482424\n",
       "dtype: float64"
      ]
     },
     "execution_count": 101,
     "metadata": {},
     "output_type": "execute_result"
    }
   ],
   "source": [
    "res.predict(exog=dict(X=21))"
   ]
  },
  {
   "cell_type": "markdown",
   "metadata": {},
   "source": [
    "### Get the residuals by using the predictions for every X (y_hats) and the true y values"
   ]
  },
  {
   "cell_type": "code",
   "execution_count": 102,
   "metadata": {},
   "outputs": [
    {
     "data": {
      "text/plain": [
       "0    0.209091\n",
       "1    0.149515\n",
       "2   -0.010061\n",
       "3   -0.079636\n",
       "4   -0.329212\n",
       "5   -0.188788\n",
       "6   -0.048364\n",
       "7   -0.007939\n",
       "8    0.032485\n",
       "9    0.272909\n",
       "dtype: float64"
      ]
     },
     "execution_count": 102,
     "metadata": {},
     "output_type": "execute_result"
    }
   ],
   "source": [
    "# A:\n",
    "res.resid"
   ]
  },
  {
   "cell_type": "markdown",
   "metadata": {},
   "source": [
    "### Now plot your predictions for every X\n",
    "\n",
    "- Plot the predictions as a line and the true y values using a scatterplot"
   ]
  },
  {
   "cell_type": "code",
   "execution_count": 104,
   "metadata": {},
   "outputs": [
    {
     "data": {
      "image/png": "[encoded data removed]",
      "text/plain": [
       "<Figure size 360x360 with 1 Axes>"
      ]
     },
     "metadata": {
      "image/png": {
       "height": 368,
       "width": 368
      },
      "needs_background": "light"
     },
     "output_type": "display_data"
    }
   ],
   "source": [
    "# A:\n",
    "sns.lmplot(x='X', y='Y', data=df, ci=None);"
   ]
  },
  {
   "cell_type": "markdown",
   "metadata": {},
   "source": [
    "<img src=\"http://imgur.com/1ZcRyrc.png\" style=\"float: left; margin: 20px; height: 55px\">\n",
    "\n",
    "# Classification and KNN with NHL data\n",
    "\n",
    "---\n",
    "\n",
    "Below you will practice KNN classification on a dataset of NHL statistics.\n",
    "\n",
    "You will be predicting the `Rank` of a team from predictor variables of your choice."
   ]
  },
  {
   "cell_type": "code",
   "execution_count": 1,
   "metadata": {},
   "outputs": [],
   "source": [
    "import matplotlib.pyplot as plt\n",
    "import numpy as np\n",
    "import pandas as pd\n",
    "import seaborn as sns\n",
    "\n",
    "%matplotlib inline\n",
    "%config InlineBackend.figure_format = 'retina'"
   ]
  },
  {
   "cell_type": "code",
   "execution_count": 2,
   "metadata": {},
   "outputs": [],
   "source": [
    "# web location:\n",
    "local_csv = 'data/NHL_Data_GA.csv'"
   ]
  },
  {
   "cell_type": "markdown",
   "metadata": {},
   "source": [
    "### 1. Load the NHL data"
   ]
  },
  {
   "cell_type": "code",
   "execution_count": 5,
   "metadata": {},
   "outputs": [
    {
     "data": {
      "text/html": [
       "<div>\n",
       "<style scoped>\n",
       "    .dataframe tbody tr th:only-of-type {\n",
       "        vertical-align: middle;\n",
       "    }\n",
       "\n",
       "    .dataframe tbody tr th {\n",
       "        vertical-align: top;\n",
       "    }\n",
       "\n",
       "    .dataframe thead th {\n",
       "        text-align: right;\n",
       "    }\n",
       "</style>\n",
       "<table border=\"1\" class=\"dataframe\">\n",
       "  <thead>\n",
       "    <tr style=\"text-align: right;\">\n",
       "      <th></th>\n",
       "      <th>Team</th>\n",
       "      <th>PTS</th>\n",
       "      <th>Rank</th>\n",
       "      <th>TOI</th>\n",
       "      <th>GF</th>\n",
       "      <th>GA</th>\n",
       "      <th>GF60</th>\n",
       "      <th>GA60</th>\n",
       "      <th>GF%</th>\n",
       "      <th>SF</th>\n",
       "      <th>...</th>\n",
       "      <th>FF%</th>\n",
       "      <th>CF</th>\n",
       "      <th>CA</th>\n",
       "      <th>CF60</th>\n",
       "      <th>CA60</th>\n",
       "      <th>CF%</th>\n",
       "      <th>Sh%</th>\n",
       "      <th>Sv%</th>\n",
       "      <th>PDO</th>\n",
       "      <th>PIM</th>\n",
       "    </tr>\n",
       "  </thead>\n",
       "  <tbody>\n",
       "    <tr>\n",
       "      <th>0</th>\n",
       "      <td>Washington10</td>\n",
       "      <td>121</td>\n",
       "      <td>1</td>\n",
       "      <td>2001:52:00</td>\n",
       "      <td>115</td>\n",
       "      <td>73</td>\n",
       "      <td>3.45</td>\n",
       "      <td>2.19</td>\n",
       "      <td>61.2</td>\n",
       "      <td>1112</td>\n",
       "      <td>...</td>\n",
       "      <td>51.3</td>\n",
       "      <td>2138</td>\n",
       "      <td>1935</td>\n",
       "      <td>64.1</td>\n",
       "      <td>58.0</td>\n",
       "      <td>52.5</td>\n",
       "      <td>10.34</td>\n",
       "      <td>93.03</td>\n",
       "      <td>1034</td>\n",
       "      <td>1269</td>\n",
       "    </tr>\n",
       "    <tr>\n",
       "      <th>1</th>\n",
       "      <td>Vancouver11</td>\n",
       "      <td>117</td>\n",
       "      <td>1</td>\n",
       "      <td>2056:14:00</td>\n",
       "      <td>94</td>\n",
       "      <td>72</td>\n",
       "      <td>2.74</td>\n",
       "      <td>2.10</td>\n",
       "      <td>56.6</td>\n",
       "      <td>1143</td>\n",
       "      <td>...</td>\n",
       "      <td>53.1</td>\n",
       "      <td>2144</td>\n",
       "      <td>1870</td>\n",
       "      <td>62.6</td>\n",
       "      <td>54.6</td>\n",
       "      <td>53.4</td>\n",
       "      <td>8.22</td>\n",
       "      <td>93.16</td>\n",
       "      <td>1014</td>\n",
       "      <td>985</td>\n",
       "    </tr>\n",
       "    <tr>\n",
       "      <th>2</th>\n",
       "      <td>San Jose10</td>\n",
       "      <td>113</td>\n",
       "      <td>1</td>\n",
       "      <td>1929:54:00</td>\n",
       "      <td>90</td>\n",
       "      <td>68</td>\n",
       "      <td>2.80</td>\n",
       "      <td>2.11</td>\n",
       "      <td>57.0</td>\n",
       "      <td>1065</td>\n",
       "      <td>...</td>\n",
       "      <td>50.9</td>\n",
       "      <td>1985</td>\n",
       "      <td>1876</td>\n",
       "      <td>61.7</td>\n",
       "      <td>58.3</td>\n",
       "      <td>51.4</td>\n",
       "      <td>8.45</td>\n",
       "      <td>93.46</td>\n",
       "      <td>1019</td>\n",
       "      <td>1195</td>\n",
       "    </tr>\n",
       "    <tr>\n",
       "      <th>3</th>\n",
       "      <td>Chicago10</td>\n",
       "      <td>112</td>\n",
       "      <td>1</td>\n",
       "      <td>2020:23:00</td>\n",
       "      <td>104</td>\n",
       "      <td>83</td>\n",
       "      <td>3.09</td>\n",
       "      <td>2.46</td>\n",
       "      <td>55.6</td>\n",
       "      <td>1186</td>\n",
       "      <td>...</td>\n",
       "      <td>58.1</td>\n",
       "      <td>2093</td>\n",
       "      <td>1572</td>\n",
       "      <td>62.2</td>\n",
       "      <td>46.7</td>\n",
       "      <td>57.1</td>\n",
       "      <td>8.77</td>\n",
       "      <td>90.44</td>\n",
       "      <td>992</td>\n",
       "      <td>966</td>\n",
       "    </tr>\n",
       "    <tr>\n",
       "      <th>4</th>\n",
       "      <td>Vancouver12</td>\n",
       "      <td>111</td>\n",
       "      <td>1</td>\n",
       "      <td>2052:02:00</td>\n",
       "      <td>86</td>\n",
       "      <td>74</td>\n",
       "      <td>2.51</td>\n",
       "      <td>2.16</td>\n",
       "      <td>53.8</td>\n",
       "      <td>1078</td>\n",
       "      <td>...</td>\n",
       "      <td>51.0</td>\n",
       "      <td>2085</td>\n",
       "      <td>1880</td>\n",
       "      <td>61.0</td>\n",
       "      <td>55.0</td>\n",
       "      <td>52.6</td>\n",
       "      <td>7.98</td>\n",
       "      <td>93.36</td>\n",
       "      <td>1013</td>\n",
       "      <td>1049</td>\n",
       "    </tr>\n",
       "    <tr>\n",
       "      <th>...</th>\n",
       "      <td>...</td>\n",
       "      <td>...</td>\n",
       "      <td>...</td>\n",
       "      <td>...</td>\n",
       "      <td>...</td>\n",
       "      <td>...</td>\n",
       "      <td>...</td>\n",
       "      <td>...</td>\n",
       "      <td>...</td>\n",
       "      <td>...</td>\n",
       "      <td>...</td>\n",
       "      <td>...</td>\n",
       "      <td>...</td>\n",
       "      <td>...</td>\n",
       "      <td>...</td>\n",
       "      <td>...</td>\n",
       "      <td>...</td>\n",
       "      <td>...</td>\n",
       "      <td>...</td>\n",
       "      <td>...</td>\n",
       "      <td>...</td>\n",
       "    </tr>\n",
       "    <tr>\n",
       "      <th>85</th>\n",
       "      <td>Florida11</td>\n",
       "      <td>72</td>\n",
       "      <td>3</td>\n",
       "      <td>2155:11:00</td>\n",
       "      <td>78</td>\n",
       "      <td>96</td>\n",
       "      <td>2.17</td>\n",
       "      <td>2.67</td>\n",
       "      <td>44.8</td>\n",
       "      <td>1151</td>\n",
       "      <td>...</td>\n",
       "      <td>49.3</td>\n",
       "      <td>2101</td>\n",
       "      <td>2151</td>\n",
       "      <td>58.5</td>\n",
       "      <td>59.9</td>\n",
       "      <td>49.4</td>\n",
       "      <td>6.78</td>\n",
       "      <td>91.99</td>\n",
       "      <td>988</td>\n",
       "      <td>1270</td>\n",
       "    </tr>\n",
       "    <tr>\n",
       "      <th>86</th>\n",
       "      <td>Columbus11</td>\n",
       "      <td>68</td>\n",
       "      <td>3</td>\n",
       "      <td>2034:54:00</td>\n",
       "      <td>86</td>\n",
       "      <td>93</td>\n",
       "      <td>2.54</td>\n",
       "      <td>2.74</td>\n",
       "      <td>48.0</td>\n",
       "      <td>1075</td>\n",
       "      <td>...</td>\n",
       "      <td>51.1</td>\n",
       "      <td>1975</td>\n",
       "      <td>1905</td>\n",
       "      <td>58.2</td>\n",
       "      <td>56.2</td>\n",
       "      <td>50.9</td>\n",
       "      <td>8.00</td>\n",
       "      <td>91.18</td>\n",
       "      <td>992</td>\n",
       "      <td>1077</td>\n",
       "    </tr>\n",
       "    <tr>\n",
       "      <th>87</th>\n",
       "      <td>Colorado12</td>\n",
       "      <td>65</td>\n",
       "      <td>3</td>\n",
       "      <td>2129:37:00</td>\n",
       "      <td>83</td>\n",
       "      <td>89</td>\n",
       "      <td>2.34</td>\n",
       "      <td>2.51</td>\n",
       "      <td>48.3</td>\n",
       "      <td>1157</td>\n",
       "      <td>...</td>\n",
       "      <td>49.6</td>\n",
       "      <td>2123</td>\n",
       "      <td>2059</td>\n",
       "      <td>59.8</td>\n",
       "      <td>58.0</td>\n",
       "      <td>50.8</td>\n",
       "      <td>7.17</td>\n",
       "      <td>92.27</td>\n",
       "      <td>994</td>\n",
       "      <td>902</td>\n",
       "    </tr>\n",
       "    <tr>\n",
       "      <th>88</th>\n",
       "      <td>Edmonton10</td>\n",
       "      <td>62</td>\n",
       "      <td>3</td>\n",
       "      <td>1983:44:00</td>\n",
       "      <td>72</td>\n",
       "      <td>107</td>\n",
       "      <td>2.18</td>\n",
       "      <td>3.24</td>\n",
       "      <td>40.2</td>\n",
       "      <td>982</td>\n",
       "      <td>...</td>\n",
       "      <td>45.6</td>\n",
       "      <td>1765</td>\n",
       "      <td>2149</td>\n",
       "      <td>53.4</td>\n",
       "      <td>65.0</td>\n",
       "      <td>45.1</td>\n",
       "      <td>7.33</td>\n",
       "      <td>90.51</td>\n",
       "      <td>978</td>\n",
       "      <td>723</td>\n",
       "    </tr>\n",
       "    <tr>\n",
       "      <th>89</th>\n",
       "      <td>Edmonton11</td>\n",
       "      <td>62</td>\n",
       "      <td>3</td>\n",
       "      <td>1894:49:00</td>\n",
       "      <td>57</td>\n",
       "      <td>93</td>\n",
       "      <td>1.80</td>\n",
       "      <td>2.94</td>\n",
       "      <td>38.0</td>\n",
       "      <td>819</td>\n",
       "      <td>...</td>\n",
       "      <td>43.8</td>\n",
       "      <td>1592</td>\n",
       "      <td>1993</td>\n",
       "      <td>50.4</td>\n",
       "      <td>63.1</td>\n",
       "      <td>44.4</td>\n",
       "      <td>6.96</td>\n",
       "      <td>91.18</td>\n",
       "      <td>981</td>\n",
       "      <td>754</td>\n",
       "    </tr>\n",
       "  </tbody>\n",
       "</table>\n",
       "<p>90 rows × 28 columns</p>\n",
       "</div>"
      ],
      "text/plain": [
       "            Team  PTS  Rank         TOI   GF   GA  GF60  GA60   GF%    SF  \\\n",
       "0   Washington10  121     1  2001:52:00  115   73  3.45  2.19  61.2  1112   \n",
       "1    Vancouver11  117     1  2056:14:00   94   72  2.74  2.10  56.6  1143   \n",
       "2     San Jose10  113     1  1929:54:00   90   68  2.80  2.11  57.0  1065   \n",
       "3      Chicago10  112     1  2020:23:00  104   83  3.09  2.46  55.6  1186   \n",
       "4    Vancouver12  111     1  2052:02:00   86   74  2.51  2.16  53.8  1078   \n",
       "..           ...  ...   ...         ...  ...  ...   ...   ...   ...   ...   \n",
       "85     Florida11   72     3  2155:11:00   78   96  2.17  2.67  44.8  1151   \n",
       "86    Columbus11   68     3  2034:54:00   86   93  2.54  2.74  48.0  1075   \n",
       "87    Colorado12   65     3  2129:37:00   83   89  2.34  2.51  48.3  1157   \n",
       "88    Edmonton10   62     3  1983:44:00   72  107  2.18  3.24  40.2   982   \n",
       "89    Edmonton11   62     3  1894:49:00   57   93  1.80  2.94  38.0   819   \n",
       "\n",
       "    ...   FF%    CF    CA  CF60  CA60   CF%    Sh%    Sv%   PDO   PIM  \n",
       "0   ...  51.3  2138  1935  64.1  58.0  52.5  10.34  93.03  1034  1269  \n",
       "1   ...  53.1  2144  1870  62.6  54.6  53.4   8.22  93.16  1014   985  \n",
       "2   ...  50.9  1985  1876  61.7  58.3  51.4   8.45  93.46  1019  1195  \n",
       "3   ...  58.1  2093  1572  62.2  46.7  57.1   8.77  90.44   992   966  \n",
       "4   ...  51.0  2085  1880  61.0  55.0  52.6   7.98  93.36  1013  1049  \n",
       "..  ...   ...   ...   ...   ...   ...   ...    ...    ...   ...   ...  \n",
       "85  ...  49.3  2101  2151  58.5  59.9  49.4   6.78  91.99   988  1270  \n",
       "86  ...  51.1  1975  1905  58.2  56.2  50.9   8.00  91.18   992  1077  \n",
       "87  ...  49.6  2123  2059  59.8  58.0  50.8   7.17  92.27   994   902  \n",
       "88  ...  45.6  1765  2149  53.4  65.0  45.1   7.33  90.51   978   723  \n",
       "89  ...  43.8  1592  1993  50.4  63.1  44.4   6.96  91.18   981   754  \n",
       "\n",
       "[90 rows x 28 columns]"
      ]
     },
     "execution_count": 5,
     "metadata": {},
     "output_type": "execute_result"
    }
   ],
   "source": [
    "# A:\n",
    "nhl_data = pd.read_csv(local_csv)\n",
    "nhl_data"
   ]
  },
  {
   "cell_type": "markdown",
   "metadata": {},
   "source": [
    "### 2. Perform any required data cleaning. Do some EDA."
   ]
  },
  {
   "cell_type": "code",
   "execution_count": 4,
   "metadata": {},
   "outputs": [],
   "source": [
    "# A: I tried to do a quick-ish version here in the next few cells."
   ]
  },
  {
   "cell_type": "code",
   "execution_count": 6,
   "metadata": {},
   "outputs": [
    {
     "data": {
      "text/plain": [
       "Team     object\n",
       "PTS       int64\n",
       "Rank      int64\n",
       "TOI      object\n",
       "GF        int64\n",
       "GA        int64\n",
       "GF60    float64\n",
       "GA60    float64\n",
       "GF%     float64\n",
       "SF        int64\n",
       "SA        int64\n",
       "SF60    float64\n",
       "SA60    float64\n",
       "SF%     float64\n",
       "FF        int64\n",
       "FA        int64\n",
       "FF60    float64\n",
       "FA60    float64\n",
       "FF%     float64\n",
       "CF        int64\n",
       "CA        int64\n",
       "CF60    float64\n",
       "CA60    float64\n",
       "CF%     float64\n",
       "Sh%     float64\n",
       "Sv%     float64\n",
       "PDO       int64\n",
       "PIM       int64\n",
       "dtype: object"
      ]
     },
     "execution_count": 6,
     "metadata": {},
     "output_type": "execute_result"
    }
   ],
   "source": [
    "nhl_data.dtypes\n",
    "# based on the preview of the data above, these seem to be correct."
   ]
  },
  {
   "cell_type": "code",
   "execution_count": 7,
   "metadata": {},
   "outputs": [
    {
     "data": {
      "text/plain": [
       "(90, 28)"
      ]
     },
     "execution_count": 7,
     "metadata": {},
     "output_type": "execute_result"
    }
   ],
   "source": [
    "nhl_data.shape"
   ]
  },
  {
   "cell_type": "code",
   "execution_count": 8,
   "metadata": {},
   "outputs": [
    {
     "data": {
      "text/html": [
       "<div>\n",
       "<style scoped>\n",
       "    .dataframe tbody tr th:only-of-type {\n",
       "        vertical-align: middle;\n",
       "    }\n",
       "\n",
       "    .dataframe tbody tr th {\n",
       "        vertical-align: top;\n",
       "    }\n",
       "\n",
       "    .dataframe thead th {\n",
       "        text-align: right;\n",
       "    }\n",
       "</style>\n",
       "<table border=\"1\" class=\"dataframe\">\n",
       "  <thead>\n",
       "    <tr style=\"text-align: right;\">\n",
       "      <th></th>\n",
       "      <th>PTS</th>\n",
       "      <th>Rank</th>\n",
       "      <th>GF</th>\n",
       "      <th>GA</th>\n",
       "      <th>GF60</th>\n",
       "      <th>GA60</th>\n",
       "      <th>GF%</th>\n",
       "      <th>SF</th>\n",
       "      <th>SA</th>\n",
       "      <th>SF60</th>\n",
       "      <th>...</th>\n",
       "      <th>FF%</th>\n",
       "      <th>CF</th>\n",
       "      <th>CA</th>\n",
       "      <th>CF60</th>\n",
       "      <th>CA60</th>\n",
       "      <th>CF%</th>\n",
       "      <th>Sh%</th>\n",
       "      <th>Sv%</th>\n",
       "      <th>PDO</th>\n",
       "      <th>PIM</th>\n",
       "    </tr>\n",
       "  </thead>\n",
       "  <tbody>\n",
       "    <tr>\n",
       "      <th>count</th>\n",
       "      <td>90.000000</td>\n",
       "      <td>90.000000</td>\n",
       "      <td>90.000000</td>\n",
       "      <td>90.000000</td>\n",
       "      <td>90.000000</td>\n",
       "      <td>90.000000</td>\n",
       "      <td>90.000000</td>\n",
       "      <td>90.000000</td>\n",
       "      <td>90.000000</td>\n",
       "      <td>90.000000</td>\n",
       "      <td>...</td>\n",
       "      <td>90.000000</td>\n",
       "      <td>90.000000</td>\n",
       "      <td>90.000000</td>\n",
       "      <td>90.000000</td>\n",
       "      <td>90.000000</td>\n",
       "      <td>90.000000</td>\n",
       "      <td>90.000000</td>\n",
       "      <td>90.000000</td>\n",
       "      <td>90.000000</td>\n",
       "      <td>90.000000</td>\n",
       "    </tr>\n",
       "    <tr>\n",
       "      <th>mean</th>\n",
       "      <td>91.977778</td>\n",
       "      <td>2.022222</td>\n",
       "      <td>83.288889</td>\n",
       "      <td>83.288889</td>\n",
       "      <td>2.442222</td>\n",
       "      <td>2.444000</td>\n",
       "      <td>49.981111</td>\n",
       "      <td>1068.333333</td>\n",
       "      <td>1068.333333</td>\n",
       "      <td>31.252222</td>\n",
       "      <td>...</td>\n",
       "      <td>49.966667</td>\n",
       "      <td>1973.466667</td>\n",
       "      <td>1973.466667</td>\n",
       "      <td>57.735556</td>\n",
       "      <td>57.798889</td>\n",
       "      <td>49.972222</td>\n",
       "      <td>7.814556</td>\n",
       "      <td>92.182556</td>\n",
       "      <td>999.988889</td>\n",
       "      <td>990.966667</td>\n",
       "    </tr>\n",
       "    <tr>\n",
       "      <th>std</th>\n",
       "      <td>12.524114</td>\n",
       "      <td>0.820767</td>\n",
       "      <td>10.376339</td>\n",
       "      <td>9.694484</td>\n",
       "      <td>0.325331</td>\n",
       "      <td>0.313522</td>\n",
       "      <td>4.644554</td>\n",
       "      <td>95.929047</td>\n",
       "      <td>75.514118</td>\n",
       "      <td>2.237637</td>\n",
       "      <td>...</td>\n",
       "      <td>2.797913</td>\n",
       "      <td>176.468299</td>\n",
       "      <td>154.148928</td>\n",
       "      <td>4.124476</td>\n",
       "      <td>4.291106</td>\n",
       "      <td>2.844313</td>\n",
       "      <td>0.866942</td>\n",
       "      <td>0.928621</td>\n",
       "      <td>12.292772</td>\n",
       "      <td>178.049321</td>\n",
       "    </tr>\n",
       "    <tr>\n",
       "      <th>min</th>\n",
       "      <td>62.000000</td>\n",
       "      <td>1.000000</td>\n",
       "      <td>57.000000</td>\n",
       "      <td>64.000000</td>\n",
       "      <td>1.700000</td>\n",
       "      <td>1.730000</td>\n",
       "      <td>38.000000</td>\n",
       "      <td>815.000000</td>\n",
       "      <td>868.000000</td>\n",
       "      <td>25.800000</td>\n",
       "      <td>...</td>\n",
       "      <td>43.100000</td>\n",
       "      <td>1565.000000</td>\n",
       "      <td>1572.000000</td>\n",
       "      <td>49.500000</td>\n",
       "      <td>46.700000</td>\n",
       "      <td>43.700000</td>\n",
       "      <td>5.900000</td>\n",
       "      <td>89.830000</td>\n",
       "      <td>978.000000</td>\n",
       "      <td>689.000000</td>\n",
       "    </tr>\n",
       "    <tr>\n",
       "      <th>25%</th>\n",
       "      <td>82.250000</td>\n",
       "      <td>1.000000</td>\n",
       "      <td>76.000000</td>\n",
       "      <td>75.500000</td>\n",
       "      <td>2.232500</td>\n",
       "      <td>2.202500</td>\n",
       "      <td>46.825000</td>\n",
       "      <td>1011.500000</td>\n",
       "      <td>1022.250000</td>\n",
       "      <td>29.550000</td>\n",
       "      <td>...</td>\n",
       "      <td>47.775000</td>\n",
       "      <td>1855.250000</td>\n",
       "      <td>1877.000000</td>\n",
       "      <td>54.275000</td>\n",
       "      <td>54.600000</td>\n",
       "      <td>47.925000</td>\n",
       "      <td>7.235000</td>\n",
       "      <td>91.555000</td>\n",
       "      <td>992.000000</td>\n",
       "      <td>881.250000</td>\n",
       "    </tr>\n",
       "    <tr>\n",
       "      <th>50%</th>\n",
       "      <td>92.500000</td>\n",
       "      <td>2.000000</td>\n",
       "      <td>84.000000</td>\n",
       "      <td>84.000000</td>\n",
       "      <td>2.400000</td>\n",
       "      <td>2.495000</td>\n",
       "      <td>49.700000</td>\n",
       "      <td>1072.000000</td>\n",
       "      <td>1072.000000</td>\n",
       "      <td>31.400000</td>\n",
       "      <td>...</td>\n",
       "      <td>50.050000</td>\n",
       "      <td>1981.500000</td>\n",
       "      <td>1961.000000</td>\n",
       "      <td>58.050000</td>\n",
       "      <td>58.350000</td>\n",
       "      <td>50.400000</td>\n",
       "      <td>7.730000</td>\n",
       "      <td>92.250000</td>\n",
       "      <td>1000.500000</td>\n",
       "      <td>960.000000</td>\n",
       "    </tr>\n",
       "    <tr>\n",
       "      <th>75%</th>\n",
       "      <td>102.000000</td>\n",
       "      <td>3.000000</td>\n",
       "      <td>90.000000</td>\n",
       "      <td>89.000000</td>\n",
       "      <td>2.600000</td>\n",
       "      <td>2.670000</td>\n",
       "      <td>53.625000</td>\n",
       "      <td>1143.000000</td>\n",
       "      <td>1125.750000</td>\n",
       "      <td>32.775000</td>\n",
       "      <td>...</td>\n",
       "      <td>51.775000</td>\n",
       "      <td>2112.750000</td>\n",
       "      <td>2077.250000</td>\n",
       "      <td>60.850000</td>\n",
       "      <td>60.400000</td>\n",
       "      <td>52.000000</td>\n",
       "      <td>8.270000</td>\n",
       "      <td>92.870000</td>\n",
       "      <td>1007.750000</td>\n",
       "      <td>1101.500000</td>\n",
       "    </tr>\n",
       "    <tr>\n",
       "      <th>max</th>\n",
       "      <td>121.000000</td>\n",
       "      <td>3.000000</td>\n",
       "      <td>115.000000</td>\n",
       "      <td>107.000000</td>\n",
       "      <td>3.450000</td>\n",
       "      <td>3.240000</td>\n",
       "      <td>61.200000</td>\n",
       "      <td>1311.000000</td>\n",
       "      <td>1245.000000</td>\n",
       "      <td>35.600000</td>\n",
       "      <td>...</td>\n",
       "      <td>58.100000</td>\n",
       "      <td>2341.000000</td>\n",
       "      <td>2332.000000</td>\n",
       "      <td>64.900000</td>\n",
       "      <td>67.500000</td>\n",
       "      <td>57.100000</td>\n",
       "      <td>10.340000</td>\n",
       "      <td>93.940000</td>\n",
       "      <td>1034.000000</td>\n",
       "      <td>1515.000000</td>\n",
       "    </tr>\n",
       "  </tbody>\n",
       "</table>\n",
       "<p>8 rows × 26 columns</p>\n",
       "</div>"
      ],
      "text/plain": [
       "              PTS       Rank          GF          GA       GF60       GA60  \\\n",
       "count   90.000000  90.000000   90.000000   90.000000  90.000000  90.000000   \n",
       "mean    91.977778   2.022222   83.288889   83.288889   2.442222   2.444000   \n",
       "std     12.524114   0.820767   10.376339    9.694484   0.325331   0.313522   \n",
       "min     62.000000   1.000000   57.000000   64.000000   1.700000   1.730000   \n",
       "25%     82.250000   1.000000   76.000000   75.500000   2.232500   2.202500   \n",
       "50%     92.500000   2.000000   84.000000   84.000000   2.400000   2.495000   \n",
       "75%    102.000000   3.000000   90.000000   89.000000   2.600000   2.670000   \n",
       "max    121.000000   3.000000  115.000000  107.000000   3.450000   3.240000   \n",
       "\n",
       "             GF%           SF           SA       SF60  ...        FF%  \\\n",
       "count  90.000000    90.000000    90.000000  90.000000  ...  90.000000   \n",
       "mean   49.981111  1068.333333  1068.333333  31.252222  ...  49.966667   \n",
       "std     4.644554    95.929047    75.514118   2.237637  ...   2.797913   \n",
       "min    38.000000   815.000000   868.000000  25.800000  ...  43.100000   \n",
       "25%    46.825000  1011.500000  1022.250000  29.550000  ...  47.775000   \n",
       "50%    49.700000  1072.000000  1072.000000  31.400000  ...  50.050000   \n",
       "75%    53.625000  1143.000000  1125.750000  32.775000  ...  51.775000   \n",
       "max    61.200000  1311.000000  1245.000000  35.600000  ...  58.100000   \n",
       "\n",
       "                CF           CA       CF60       CA60        CF%        Sh%  \\\n",
       "count    90.000000    90.000000  90.000000  90.000000  90.000000  90.000000   \n",
       "mean   1973.466667  1973.466667  57.735556  57.798889  49.972222   7.814556   \n",
       "std     176.468299   154.148928   4.124476   4.291106   2.844313   0.866942   \n",
       "min    1565.000000  1572.000000  49.500000  46.700000  43.700000   5.900000   \n",
       "25%    1855.250000  1877.000000  54.275000  54.600000  47.925000   7.235000   \n",
       "50%    1981.500000  1961.000000  58.050000  58.350000  50.400000   7.730000   \n",
       "75%    2112.750000  2077.250000  60.850000  60.400000  52.000000   8.270000   \n",
       "max    2341.000000  2332.000000  64.900000  67.500000  57.100000  10.340000   \n",
       "\n",
       "             Sv%          PDO          PIM  \n",
       "count  90.000000    90.000000    90.000000  \n",
       "mean   92.182556   999.988889   990.966667  \n",
       "std     0.928621    12.292772   178.049321  \n",
       "min    89.830000   978.000000   689.000000  \n",
       "25%    91.555000   992.000000   881.250000  \n",
       "50%    92.250000  1000.500000   960.000000  \n",
       "75%    92.870000  1007.750000  1101.500000  \n",
       "max    93.940000  1034.000000  1515.000000  \n",
       "\n",
       "[8 rows x 26 columns]"
      ]
     },
     "execution_count": 8,
     "metadata": {},
     "output_type": "execute_result"
    }
   ],
   "source": [
    "nhl_data.describe()"
   ]
  },
  {
   "cell_type": "code",
   "execution_count": 10,
   "metadata": {},
   "outputs": [
    {
     "data": {
      "text/plain": [
       "Team    0\n",
       "PTS     0\n",
       "Rank    0\n",
       "TOI     0\n",
       "GF      0\n",
       "GA      0\n",
       "GF60    0\n",
       "GA60    0\n",
       "GF%     0\n",
       "SF      0\n",
       "SA      0\n",
       "SF60    0\n",
       "SA60    0\n",
       "SF%     0\n",
       "FF      0\n",
       "FA      0\n",
       "FF60    0\n",
       "FA60    0\n",
       "FF%     0\n",
       "CF      0\n",
       "CA      0\n",
       "CF60    0\n",
       "CA60    0\n",
       "CF%     0\n",
       "Sh%     0\n",
       "Sv%     0\n",
       "PDO     0\n",
       "PIM     0\n",
       "dtype: int64"
      ]
     },
     "execution_count": 10,
     "metadata": {},
     "output_type": "execute_result"
    }
   ],
   "source": [
    "nhl_data.apply(lambda x: sum(x.isnull()),axis=0)\n",
    "# There appear to be no null values"
   ]
  },
  {
   "cell_type": "code",
   "execution_count": 11,
   "metadata": {},
   "outputs": [
    {
     "data": {
      "text/plain": [
       "<AxesSubplot:>"
      ]
     },
     "execution_count": 11,
     "metadata": {},
     "output_type": "execute_result"
    },
    {
     "data": {
      "image/png": "[encoded data removed]",
      "text/plain": [
       "<Figure size 432x288 with 2 Axes>"
      ]
     },
     "metadata": {
      "image/png": {
       "height": 269,
       "width": 381
      },
      "needs_background": "light"
     },
     "output_type": "display_data"
    }
   ],
   "source": [
    "corr = nhl_data.corr()\n",
    "sns.heatmap(corr)"
   ]
  },
  {
   "cell_type": "code",
   "execution_count": 28,
   "metadata": {},
   "outputs": [
    {
     "data": {
      "text/plain": [
       "3    31\n",
       "2    30\n",
       "1    29\n",
       "Name: Rank, dtype: int64"
      ]
     },
     "execution_count": 28,
     "metadata": {},
     "output_type": "execute_result"
    }
   ],
   "source": [
    "nhl_data['Rank'].value_counts()"
   ]
  },
  {
   "cell_type": "markdown",
   "metadata": {},
   "source": [
    "### 3. Set up the `Rank` variable as your target. How many classes are there?"
   ]
  },
  {
   "cell_type": "code",
   "execution_count": 34,
   "metadata": {},
   "outputs": [],
   "source": [
    "# A: There are three classes as per the above.\n",
    "\n",
    "y = nhl_data.Rank\n"
   ]
  },
  {
   "cell_type": "markdown",
   "metadata": {},
   "source": [
    "### 4. What is the baseline accuracy?"
   ]
  },
  {
   "cell_type": "code",
   "execution_count": 64,
   "metadata": {},
   "outputs": [],
   "source": [
    "# A: Since the most frequent rank is 3 (31 instances), the baseline accuracy is 31%."
   ]
  },
  {
   "cell_type": "markdown",
   "metadata": {},
   "source": [
    "### 5. Choose 4 features to be your predictor variables and set up your design matrix."
   ]
  },
  {
   "cell_type": "code",
   "execution_count": 7,
   "metadata": {
    "collapsed": true
   },
   "outputs": [],
   "source": [
    "# A:\n",
    "feature_cols = ['SA', 'GA', 'SF', 'PDO']\n",
    "X = nhl_data[feature_cols]"
   ]
  },
  {
   "cell_type": "markdown",
   "metadata": {},
   "source": [
    "### 6. Fit a `KNeighborsClassifier` with 1 neighbor using the target and predictors."
   ]
  },
  {
   "cell_type": "code",
   "execution_count": 22,
   "metadata": {},
   "outputs": [
    {
     "name": "stdout",
     "output_type": "stream",
     "text": [
      "0.5217391304347826\n"
     ]
    }
   ],
   "source": [
    "# A:\n",
    "X_train, X_test, y_train, y_test = train_test_split(X, y, random_state=99)\n",
    "knn = KNeighborsClassifier(n_neighbors=1)\n",
    "knn.fit(X_train, y_train)\n",
    "y_pred_class = knn.predict(X_test)\n",
    "print((metrics.accuracy_score(y_test, y_pred_class)))"
   ]
  },
  {
   "cell_type": "markdown",
   "metadata": {},
   "source": [
    "### 7. Evaluate the accuracy of your model.\n",
    "- Is it better than baseline?\n",
    "- Is it legitimate?"
   ]
  },
  {
   "cell_type": "code",
   "execution_count": 9,
   "metadata": {},
   "outputs": [],
   "source": [
    "# A: The accuracy is better than baseline by about 21%. This seems legitimate as more predictors were added to the model."
   ]
  },
  {
   "cell_type": "markdown",
   "metadata": {},
   "source": [
    "### 8. Create a 50-50 train-test-split of your target and predictors. Refit the KNN and assess the accuracy."
   ]
  },
  {
   "cell_type": "code",
   "execution_count": 36,
   "metadata": {},
   "outputs": [
    {
     "name": "stdout",
     "output_type": "stream",
     "text": [
      "0.6\n"
     ]
    }
   ],
   "source": [
    "# A:\n",
    "\n",
    "X_train, X_test, y_train, y_test = train_test_split(X, y, test_size=0.5)\n",
    "knn = KNeighborsClassifier(n_neighbors=4)\n",
    "knn.fit(X_train, y_train)\n",
    "y_pred_class = knn.predict(X_test)\n",
    "print((metrics.accuracy_score(y_test, y_pred_class)))\n",
    "\n",
    "# By increasing neigbors from 1 to 4, I increased accuracy by about 8%.\n"
   ]
  },
  {
   "cell_type": "markdown",
   "metadata": {},
   "source": [
    "### 9. Evaluate the test accuracy of a KNN where K == number of rows in the training data."
   ]
  },
  {
   "cell_type": "code",
   "execution_count": 37,
   "metadata": {},
   "outputs": [
    {
     "name": "stdout",
     "output_type": "stream",
     "text": [
      "0.3111111111111111\n"
     ]
    }
   ],
   "source": [
    "# A:\n",
    "\n",
    "knn = KNeighborsClassifier(n_neighbors=45)\n",
    "knn.fit(X_train, y_train)\n",
    "y_pred_class = knn.predict(X_test)\n",
    "print((metrics.accuracy_score(y_test, y_pred_class)))\n",
    "\n",
    "# The accuracy is approximately baseline when K== the number of rows in the training data--likely overfitting the data."
   ]
  },
  {
   "cell_type": "markdown",
   "metadata": {},
   "source": [
    "### 10. Fit the KNN at values of K from 1 to the number of rows in the training data.\n",
    "- Store the test accuracy in a list.\n",
    "- Plot the test accuracy vs. the number of neighbors."
   ]
  },
  {
   "cell_type": "code",
   "execution_count": 43,
   "metadata": {},
   "outputs": [],
   "source": [
    "# A:\n",
    "scores = []\n",
    "for k in range(1,X_train.shape[0]): # in the event that my data change shape in the future, this is a generalized solution\n",
    "    knn = KNeighborsClassifier(n_neighbors=k)\n",
    "    knn.fit(X,y)\n",
    "    pred = knn.predict(X)\n",
    "    score = float(sum(pred == y)) / len(y)\n",
    "    scores.append([k, score])b"
   ]
  },
  {
   "cell_type": "code",
   "execution_count": 44,
   "metadata": {},
   "outputs": [
    {
     "data": {
      "image/png": "[encoded data removed]",
      "text/plain": [
       "<Figure size 432x288 with 1 Axes>"
      ]
     },
     "metadata": {
      "image/png": {
       "height": 261,
       "width": 372
      },
      "needs_background": "light"
     },
     "output_type": "display_data"
    }
   ],
   "source": [
    "data = pd.DataFrame(scores,columns=['k','score'])\n",
    "data.plot.line(x='k',y='score');"
   ]
  },
  {
   "cell_type": "markdown",
   "metadata": {},
   "source": [
    "### 11. Fit KNN across different values of K and plot the mean cross-validated accuracy with 5 folds."
   ]
  },
  {
   "cell_type": "code",
   "execution_count": 74,
   "metadata": {},
   "outputs": [
    {
     "name": "stdout",
     "output_type": "stream",
     "text": [
      "CROSS VALIDATION each fold5\n",
      "Model 0\n",
      "MSE: 0.5111111111111111\n",
      "R2: [0.6888888888888889, 5]\n",
      "\n",
      "Model 0\n",
      "MSE: 0.5111111111111111\n",
      "R2: [0.6888888888888889, 5]\n",
      "\n",
      "Model 0\n",
      "MSE: 0.5111111111111111\n",
      "R2: [0.6888888888888889, 5]\n",
      "\n",
      "Model 0\n",
      "MSE: 0.5111111111111111\n",
      "R2: [0.6888888888888889, 5]\n",
      "\n",
      "Model 0\n",
      "MSE: 0.5111111111111111\n",
      "R2: [0.6888888888888889, 5]\n",
      "\n",
      "SUMMARY OF CROSS VALIDATION\n",
      "Mean of MSE for all folds: 0.5111111111111111\n",
      "Mean of R2 for all folds: 2.8444444444444446\n",
      "CROSS VALIDATION each fold6\n",
      "Model 0\n",
      "MSE: 0.4888888888888889\n",
      "R2: [0.6444444444444445, 6]\n",
      "\n",
      "Model 0\n",
      "MSE: 0.4888888888888889\n",
      "R2: [0.6444444444444445, 6]\n",
      "\n",
      "Model 0\n",
      "MSE: 0.4888888888888889\n",
      "R2: [0.6444444444444445, 6]\n",
      "\n",
      "Model 0\n",
      "MSE: 0.4888888888888889\n",
      "R2: [0.6444444444444445, 6]\n",
      "\n",
      "Model 0\n",
      "MSE: 0.4888888888888889\n",
      "R2: [0.6444444444444445, 6]\n",
      "\n",
      "SUMMARY OF CROSS VALIDATION\n",
      "Mean of MSE for all folds: 0.5\n",
      "Mean of R2 for all folds: 3.0833333333333335\n",
      "CROSS VALIDATION each fold7\n",
      "Model 0\n",
      "MSE: 0.5777777777777777\n",
      "R2: [0.6222222222222222, 7]\n",
      "\n",
      "Model 0\n",
      "MSE: 0.5777777777777777\n",
      "R2: [0.6222222222222222, 7]\n",
      "\n",
      "Model 0\n",
      "MSE: 0.5777777777777777\n",
      "R2: [0.6222222222222222, 7]\n",
      "\n",
      "Model 0\n",
      "MSE: 0.5777777777777777\n",
      "R2: [0.6222222222222222, 7]\n",
      "\n",
      "Model 0\n",
      "MSE: 0.5777777777777777\n",
      "R2: [0.6222222222222222, 7]\n",
      "\n",
      "SUMMARY OF CROSS VALIDATION\n",
      "Mean of MSE for all folds: 0.5259259259259258\n",
      "Mean of R2 for all folds: 3.3259259259259255\n",
      "CROSS VALIDATION each fold8\n",
      "Model 0\n",
      "MSE: 0.6888888888888889\n",
      "R2: [0.5777777777777777, 8]\n",
      "\n",
      "Model 0\n",
      "MSE: 0.6888888888888889\n",
      "R2: [0.5777777777777777, 8]\n",
      "\n",
      "Model 0\n",
      "MSE: 0.6888888888888889\n",
      "R2: [0.5777777777777777, 8]\n",
      "\n",
      "Model 0\n",
      "MSE: 0.6888888888888889\n",
      "R2: [0.5777777777777777, 8]\n",
      "\n",
      "Model 0\n",
      "MSE: 0.6888888888888889\n",
      "R2: [0.5777777777777777, 8]\n",
      "\n",
      "SUMMARY OF CROSS VALIDATION\n",
      "Mean of MSE for all folds: 0.5666666666666665\n",
      "Mean of R2 for all folds: 3.5666666666666673\n",
      "CROSS VALIDATION each fold9\n",
      "Model 0\n",
      "MSE: 0.8444444444444444\n",
      "R2: [0.5555555555555556, 9]\n",
      "\n",
      "Model 0\n",
      "MSE: 0.8444444444444444\n",
      "R2: [0.5555555555555556, 9]\n",
      "\n",
      "Model 0\n",
      "MSE: 0.8444444444444444\n",
      "R2: [0.5555555555555556, 9]\n",
      "\n",
      "Model 0\n",
      "MSE: 0.8444444444444444\n",
      "R2: [0.5555555555555556, 9]\n",
      "\n",
      "Model 0\n",
      "MSE: 0.8444444444444444\n",
      "R2: [0.5555555555555556, 9]\n",
      "\n",
      "SUMMARY OF CROSS VALIDATION\n",
      "Mean of MSE for all folds: 0.6222222222222222\n",
      "Mean of R2 for all folds: 3.8088888888888888\n",
      "CROSS VALIDATION each fold10\n",
      "Model 0\n",
      "MSE: 0.7777777777777778\n",
      "R2: [0.6222222222222222, 10]\n",
      "\n",
      "Model 0\n",
      "MSE: 0.7777777777777778\n",
      "R2: [0.6222222222222222, 10]\n",
      "\n",
      "Model 0\n",
      "MSE: 0.7777777777777778\n",
      "R2: [0.6222222222222222, 10]\n",
      "\n",
      "Model 0\n",
      "MSE: 0.7777777777777778\n",
      "R2: [0.6222222222222222, 10]\n",
      "\n",
      "Model 0\n",
      "MSE: 0.7777777777777778\n",
      "R2: [0.6222222222222222, 10]\n",
      "\n",
      "SUMMARY OF CROSS VALIDATION\n",
      "Mean of MSE for all folds: 0.6481481481481483\n",
      "Mean of R2 for all folds: 4.05925925925926\n",
      "CROSS VALIDATION each fold11\n",
      "Model 0\n",
      "MSE: 0.6444444444444445\n",
      "R2: [0.6222222222222222, 11]\n",
      "\n",
      "Model 0\n",
      "MSE: 0.6444444444444445\n",
      "R2: [0.6222222222222222, 11]\n",
      "\n",
      "Model 0\n",
      "MSE: 0.6444444444444445\n",
      "R2: [0.6222222222222222, 11]\n",
      "\n",
      "Model 0\n",
      "MSE: 0.6444444444444445\n",
      "R2: [0.6222222222222222, 11]\n",
      "\n",
      "Model 0\n",
      "MSE: 0.6444444444444445\n",
      "R2: [0.6222222222222222, 11]\n",
      "\n",
      "SUMMARY OF CROSS VALIDATION\n",
      "Mean of MSE for all folds: 0.6476190476190476\n",
      "Mean of R2 for all folds: 4.309523809523809\n",
      "CROSS VALIDATION each fold12\n",
      "Model 0\n",
      "MSE: 0.6666666666666666\n",
      "R2: [0.6, 12]\n",
      "\n",
      "Model 0\n",
      "MSE: 0.6666666666666666\n",
      "R2: [0.6, 12]\n",
      "\n",
      "Model 0\n",
      "MSE: 0.6666666666666666\n",
      "R2: [0.6, 12]\n",
      "\n",
      "Model 0\n",
      "MSE: 0.6666666666666666\n",
      "R2: [0.6, 12]\n",
      "\n",
      "Model 0\n",
      "MSE: 0.6666666666666666\n",
      "R2: [0.6, 12]\n",
      "\n",
      "SUMMARY OF CROSS VALIDATION\n",
      "Mean of MSE for all folds: 0.65\n",
      "Mean of R2 for all folds: 4.558333333333334\n",
      "CROSS VALIDATION each fold13\n",
      "Model 0\n",
      "MSE: 0.7111111111111111\n",
      "R2: [0.6222222222222222, 13]\n",
      "\n",
      "Model 0\n",
      "MSE: 0.7111111111111111\n",
      "R2: [0.6222222222222222, 13]\n",
      "\n",
      "Model 0\n",
      "MSE: 0.7111111111111111\n",
      "R2: [0.6222222222222222, 13]\n",
      "\n",
      "Model 0\n",
      "MSE: 0.7111111111111111\n",
      "R2: [0.6222222222222222, 13]\n",
      "\n",
      "Model 0\n",
      "MSE: 0.7111111111111111\n",
      "R2: [0.6222222222222222, 13]\n",
      "\n",
      "SUMMARY OF CROSS VALIDATION\n",
      "Mean of MSE for all folds: 0.6567901234567902\n",
      "Mean of R2 for all folds: 4.808641975308642\n",
      "CROSS VALIDATION each fold14\n",
      "Model 0\n",
      "MSE: 0.6888888888888889\n",
      "R2: [0.5777777777777777, 14]\n",
      "\n",
      "Model 0\n",
      "MSE: 0.6888888888888889\n",
      "R2: [0.5777777777777777, 14]\n",
      "\n",
      "Model 0\n",
      "MSE: 0.6888888888888889\n",
      "R2: [0.5777777777777777, 14]\n",
      "\n",
      "Model 0\n",
      "MSE: 0.6888888888888889\n",
      "R2: [0.5777777777777777, 14]\n",
      "\n",
      "Model 0\n",
      "MSE: 0.6888888888888889\n",
      "R2: [0.5777777777777777, 14]\n",
      "\n",
      "SUMMARY OF CROSS VALIDATION\n",
      "Mean of MSE for all folds: 0.66\n",
      "Mean of R2 for all folds: 5.056666666666667\n",
      "CROSS VALIDATION each fold15\n",
      "Model 0\n",
      "MSE: 0.6888888888888889\n",
      "R2: [0.5777777777777777, 15]\n",
      "\n",
      "Model 0\n",
      "MSE: 0.6888888888888889\n",
      "R2: [0.5777777777777777, 15]\n",
      "\n",
      "Model 0\n",
      "MSE: 0.6888888888888889\n",
      "R2: [0.5777777777777777, 15]\n",
      "\n",
      "Model 0\n",
      "MSE: 0.6888888888888889\n",
      "R2: [0.5777777777777777, 15]\n",
      "\n",
      "Model 0\n",
      "MSE: 0.6888888888888889\n",
      "R2: [0.5777777777777777, 15]\n",
      "\n",
      "SUMMARY OF CROSS VALIDATION\n",
      "Mean of MSE for all folds: 0.6626262626262627\n",
      "Mean of R2 for all folds: 5.305050505050505\n",
      "CROSS VALIDATION each fold16\n",
      "Model 0\n",
      "MSE: 0.6444444444444445\n",
      "R2: [0.5555555555555556, 16]\n",
      "\n",
      "Model 0\n",
      "MSE: 0.6444444444444445\n",
      "R2: [0.5555555555555556, 16]\n",
      "\n",
      "Model 0\n",
      "MSE: 0.6444444444444445\n",
      "R2: [0.5555555555555556, 16]\n",
      "\n",
      "Model 0\n",
      "MSE: 0.6444444444444445\n",
      "R2: [0.5555555555555556, 16]\n",
      "\n",
      "Model 0\n",
      "MSE: 0.6444444444444445\n",
      "R2: [0.5555555555555556, 16]\n",
      "\n",
      "SUMMARY OF CROSS VALIDATION\n",
      "Mean of MSE for all folds: 0.6611111111111112\n",
      "Mean of R2 for all folds: 5.552777777777777\n",
      "CROSS VALIDATION each fold17\n",
      "Model 0\n",
      "MSE: 0.6222222222222222\n",
      "R2: [0.5111111111111111, 17]\n",
      "\n",
      "Model 0\n",
      "MSE: 0.6222222222222222\n",
      "R2: [0.5111111111111111, 17]\n",
      "\n",
      "Model 0\n",
      "MSE: 0.6222222222222222\n",
      "R2: [0.5111111111111111, 17]\n",
      "\n",
      "Model 0\n",
      "MSE: 0.6222222222222222\n",
      "R2: [0.5111111111111111, 17]\n",
      "\n",
      "Model 0\n",
      "MSE: 0.6222222222222222\n",
      "R2: [0.5111111111111111, 17]\n",
      "\n",
      "SUMMARY OF CROSS VALIDATION\n",
      "Mean of MSE for all folds: 0.658119658119658\n",
      "Mean of R2 for all folds: 5.799145299145299\n",
      "CROSS VALIDATION each fold18\n",
      "Model 0\n",
      "MSE: 0.6888888888888889\n",
      "R2: [0.5111111111111111, 18]\n",
      "\n",
      "Model 0\n",
      "MSE: 0.6888888888888889\n",
      "R2: [0.5111111111111111, 18]\n",
      "\n",
      "Model 0\n",
      "MSE: 0.6888888888888889\n",
      "R2: [0.5111111111111111, 18]\n",
      "\n",
      "Model 0\n",
      "MSE: 0.6888888888888889\n",
      "R2: [0.5111111111111111, 18]\n",
      "\n",
      "Model 0\n",
      "MSE: 0.6888888888888889\n",
      "R2: [0.5111111111111111, 18]\n",
      "\n",
      "SUMMARY OF CROSS VALIDATION\n",
      "Mean of MSE for all folds: 0.6603174603174603\n",
      "Mean of R2 for all folds: 6.046031746031745\n",
      "CROSS VALIDATION each fold19\n",
      "Model 0\n",
      "MSE: 0.6888888888888889\n",
      "R2: [0.5777777777777777, 19]\n",
      "\n",
      "Model 0\n",
      "MSE: 0.6888888888888889\n",
      "R2: [0.5777777777777777, 19]\n",
      "\n",
      "Model 0\n",
      "MSE: 0.6888888888888889\n",
      "R2: [0.5777777777777777, 19]\n",
      "\n",
      "Model 0\n",
      "MSE: 0.6888888888888889\n",
      "R2: [0.5777777777777777, 19]\n",
      "\n",
      "Model 0\n",
      "MSE: 0.6888888888888889\n",
      "R2: [0.5777777777777777, 19]\n",
      "\n",
      "SUMMARY OF CROSS VALIDATION\n",
      "Mean of MSE for all folds: 0.6622222222222224\n",
      "Mean of R2 for all folds: 6.295555555555556\n"
     ]
    }
   ],
   "source": [
    "# A:\n",
    "from sklearn import model_selection\n",
    "kf = model_selection.KFold(n_splits=5, shuffle=True)\n",
    "mse_values = []\n",
    "scores = []\n",
    "train_index = range(0,45)\n",
    "test_index = range(0,45)\n",
    "n = 0\n",
    "\n",
    "for i in range(5,20):\n",
    "    \n",
    "    print(\"CROSS VALIDATION each fold\" + str(i))\n",
    "    for train_index, test_index in kf.split(X_train,y_train):\n",
    "        knn = KNeighborsClassifier(n_neighbors=i).fit(X_train, y_train)\n",
    "\n",
    "        mse_values.append(metrics.mean_squared_error(y_train, knn.predict(X_train)))\n",
    "        scores.append([knn.score(X_train, y_train),i])\n",
    "        print('Model {}'.format(n))\n",
    "        print('MSE: {}'.format(mse_values[n-1]))\n",
    "        print('R2: {}\\n'.format(scores[n-1]))\n",
    "\n",
    "\n",
    "    print(\"SUMMARY OF CROSS VALIDATION\")\n",
    "    print('Mean of MSE for all folds: {}'.format(np.mean(mse_values)))\n",
    "    print('Mean of R2 for all folds: {}'.format(np.mean(scores)))\n",
    "    \n",
    "    # problem: R2s are higher than 1.00"
   ]
  },
  {
   "cell_type": "code",
   "execution_count": 75,
   "metadata": {
    "scrolled": true
   },
   "outputs": [
    {
     "data": {
      "image/png": "[encoded data removed]",
      "text/plain": [
       "<Figure size 432x288 with 1 Axes>"
      ]
     },
     "metadata": {
      "image/png": {
       "height": 261,
       "width": 369
      },
      "needs_background": "light"
     },
     "output_type": "display_data"
    }
   ],
   "source": [
    "data = pd.DataFrame(scores,columns=['k','score'])\n",
    "data.plot.line(x='k',y='score');"
   ]
  },
  {
   "cell_type": "markdown",
   "metadata": {},
   "source": [
    "### 12. Standardize the predictor matrix and cross-validate across the different K.\n",
    "- Plot the standardized mean cross-validated accuracy against the unstandardized. Which is better?\n",
    "- Why?"
   ]
  },
  {
   "cell_type": "code",
   "execution_count": 78,
   "metadata": {},
   "outputs": [
    {
     "name": "stdout",
     "output_type": "stream",
     "text": [
      "CROSS VALIDATION each fold5\n"
     ]
    },
    {
     "ename": "ValueError",
     "evalue": "Found input variables with inconsistent numbers of samples: [90, 45]",
     "output_type": "error",
     "traceback": [
      "\u001b[1;31m---------------------------------------------------------------------------\u001b[0m",
      "\u001b[1;31mValueError\u001b[0m                                Traceback (most recent call last)",
      "\u001b[1;32m<ipython-input-78-d57260436a7b>\u001b[0m in \u001b[0;36m<module>\u001b[1;34m\u001b[0m\n\u001b[0;32m     17\u001b[0m \u001b[1;33m\u001b[0m\u001b[0m\n\u001b[0;32m     18\u001b[0m     \u001b[0mprint\u001b[0m\u001b[1;33m(\u001b[0m\u001b[1;34m\"CROSS VALIDATION each fold\"\u001b[0m \u001b[1;33m+\u001b[0m \u001b[0mstr\u001b[0m\u001b[1;33m(\u001b[0m\u001b[0mi\u001b[0m\u001b[1;33m)\u001b[0m\u001b[1;33m)\u001b[0m\u001b[1;33m\u001b[0m\u001b[1;33m\u001b[0m\u001b[0m\n\u001b[1;32m---> 19\u001b[1;33m     \u001b[1;32mfor\u001b[0m \u001b[0mtrain_index\u001b[0m\u001b[1;33m,\u001b[0m \u001b[0mtest_index\u001b[0m \u001b[1;32min\u001b[0m \u001b[0mkf\u001b[0m\u001b[1;33m.\u001b[0m\u001b[0msplit\u001b[0m\u001b[1;33m(\u001b[0m\u001b[0mX_train_std\u001b[0m\u001b[1;33m,\u001b[0m\u001b[0my_train\u001b[0m\u001b[1;33m)\u001b[0m\u001b[1;33m:\u001b[0m\u001b[1;33m\u001b[0m\u001b[1;33m\u001b[0m\u001b[0m\n\u001b[0m\u001b[0;32m     20\u001b[0m         \u001b[0mknn\u001b[0m \u001b[1;33m=\u001b[0m \u001b[0mKNeighborsClassifier\u001b[0m\u001b[1;33m(\u001b[0m\u001b[0mn_neighbors\u001b[0m\u001b[1;33m=\u001b[0m\u001b[0mi\u001b[0m\u001b[1;33m)\u001b[0m\u001b[1;33m.\u001b[0m\u001b[0mfit\u001b[0m\u001b[1;33m(\u001b[0m\u001b[0mX_train_std\u001b[0m\u001b[1;33m,\u001b[0m \u001b[0my_train\u001b[0m\u001b[1;33m)\u001b[0m\u001b[1;33m\u001b[0m\u001b[1;33m\u001b[0m\u001b[0m\n\u001b[0;32m     21\u001b[0m \u001b[1;33m\u001b[0m\u001b[0m\n",
      "\u001b[1;32m~\\anaconda3\\lib\\site-packages\\sklearn\\model_selection\\_split.py\u001b[0m in \u001b[0;36msplit\u001b[1;34m(self, X, y, groups)\u001b[0m\n\u001b[0;32m    322\u001b[0m             \u001b[0mThe\u001b[0m \u001b[0mtesting\u001b[0m \u001b[0mset\u001b[0m \u001b[0mindices\u001b[0m \u001b[1;32mfor\u001b[0m \u001b[0mthat\u001b[0m \u001b[0msplit\u001b[0m\u001b[1;33m.\u001b[0m\u001b[1;33m\u001b[0m\u001b[1;33m\u001b[0m\u001b[0m\n\u001b[0;32m    323\u001b[0m         \"\"\"\n\u001b[1;32m--> 324\u001b[1;33m         \u001b[0mX\u001b[0m\u001b[1;33m,\u001b[0m \u001b[0my\u001b[0m\u001b[1;33m,\u001b[0m \u001b[0mgroups\u001b[0m \u001b[1;33m=\u001b[0m \u001b[0mindexable\u001b[0m\u001b[1;33m(\u001b[0m\u001b[0mX\u001b[0m\u001b[1;33m,\u001b[0m \u001b[0my\u001b[0m\u001b[1;33m,\u001b[0m \u001b[0mgroups\u001b[0m\u001b[1;33m)\u001b[0m\u001b[1;33m\u001b[0m\u001b[1;33m\u001b[0m\u001b[0m\n\u001b[0m\u001b[0;32m    325\u001b[0m         \u001b[0mn_samples\u001b[0m \u001b[1;33m=\u001b[0m \u001b[0m_num_samples\u001b[0m\u001b[1;33m(\u001b[0m\u001b[0mX\u001b[0m\u001b[1;33m)\u001b[0m\u001b[1;33m\u001b[0m\u001b[1;33m\u001b[0m\u001b[0m\n\u001b[0;32m    326\u001b[0m         \u001b[1;32mif\u001b[0m \u001b[0mself\u001b[0m\u001b[1;33m.\u001b[0m\u001b[0mn_splits\u001b[0m \u001b[1;33m>\u001b[0m \u001b[0mn_samples\u001b[0m\u001b[1;33m:\u001b[0m\u001b[1;33m\u001b[0m\u001b[1;33m\u001b[0m\u001b[0m\n",
      "\u001b[1;32m~\\anaconda3\\lib\\site-packages\\sklearn\\utils\\validation.py\u001b[0m in \u001b[0;36mindexable\u001b[1;34m(*iterables)\u001b[0m\n\u001b[0;32m    297\u001b[0m     \"\"\"\n\u001b[0;32m    298\u001b[0m     \u001b[0mresult\u001b[0m \u001b[1;33m=\u001b[0m \u001b[1;33m[\u001b[0m\u001b[0m_make_indexable\u001b[0m\u001b[1;33m(\u001b[0m\u001b[0mX\u001b[0m\u001b[1;33m)\u001b[0m \u001b[1;32mfor\u001b[0m \u001b[0mX\u001b[0m \u001b[1;32min\u001b[0m \u001b[0miterables\u001b[0m\u001b[1;33m]\u001b[0m\u001b[1;33m\u001b[0m\u001b[1;33m\u001b[0m\u001b[0m\n\u001b[1;32m--> 299\u001b[1;33m     \u001b[0mcheck_consistent_length\u001b[0m\u001b[1;33m(\u001b[0m\u001b[1;33m*\u001b[0m\u001b[0mresult\u001b[0m\u001b[1;33m)\u001b[0m\u001b[1;33m\u001b[0m\u001b[1;33m\u001b[0m\u001b[0m\n\u001b[0m\u001b[0;32m    300\u001b[0m     \u001b[1;32mreturn\u001b[0m \u001b[0mresult\u001b[0m\u001b[1;33m\u001b[0m\u001b[1;33m\u001b[0m\u001b[0m\n\u001b[0;32m    301\u001b[0m \u001b[1;33m\u001b[0m\u001b[0m\n",
      "\u001b[1;32m~\\anaconda3\\lib\\site-packages\\sklearn\\utils\\validation.py\u001b[0m in \u001b[0;36mcheck_consistent_length\u001b[1;34m(*arrays)\u001b[0m\n\u001b[0;32m    260\u001b[0m     \u001b[0muniques\u001b[0m \u001b[1;33m=\u001b[0m \u001b[0mnp\u001b[0m\u001b[1;33m.\u001b[0m\u001b[0munique\u001b[0m\u001b[1;33m(\u001b[0m\u001b[0mlengths\u001b[0m\u001b[1;33m)\u001b[0m\u001b[1;33m\u001b[0m\u001b[1;33m\u001b[0m\u001b[0m\n\u001b[0;32m    261\u001b[0m     \u001b[1;32mif\u001b[0m \u001b[0mlen\u001b[0m\u001b[1;33m(\u001b[0m\u001b[0muniques\u001b[0m\u001b[1;33m)\u001b[0m \u001b[1;33m>\u001b[0m \u001b[1;36m1\u001b[0m\u001b[1;33m:\u001b[0m\u001b[1;33m\u001b[0m\u001b[1;33m\u001b[0m\u001b[0m\n\u001b[1;32m--> 262\u001b[1;33m         raise ValueError(\"Found input variables with inconsistent numbers of\"\n\u001b[0m\u001b[0;32m    263\u001b[0m                          \" samples: %r\" % [int(l) for l in lengths])\n\u001b[0;32m    264\u001b[0m \u001b[1;33m\u001b[0m\u001b[0m\n",
      "\u001b[1;31mValueError\u001b[0m: Found input variables with inconsistent numbers of samples: [90, 45]"
     ]
    }
   ],
   "source": [
    "# A:\n",
    "from sklearn.preprocessing import StandardScaler\n",
    "\n",
    "scaler = StandardScaler()\n",
    "X_train_std = scaler.fit_transform(X)\n",
    "X_test_std = scaler.transform(X)\n",
    "\n",
    "from sklearn import model_selection\n",
    "kf = model_selection.KFold(n_splits=5, shuffle=True)\n",
    "mse_values = []\n",
    "scores = []\n",
    "train_index = range(0,45)\n",
    "test_index = range(0,45)\n",
    "n = 0\n",
    "\n",
    "for i in range(5,20):\n",
    "    \n",
    "    print(\"CROSS VALIDATION each fold\" + str(i))\n",
    "    for train_index, test_index in kf.split(X_train_std,y_train):\n",
    "        knn = KNeighborsClassifier(n_neighbors=i).fit(X_train_std, y_train)\n",
    "\n",
    "        mse_values.append(metrics.mean_squared_error(y_train, knn.predict(X_train_std)))\n",
    "        scores.append([knn.score(X_train_std, y_train),i])\n",
    "        print('Model {}'.format(n))\n",
    "        print('MSE: {}'.format(mse_values[n-1]))\n",
    "        print('R2: {}\\n'.format(scores[n-1]))\n",
    "\n",
    "\n",
    "    print(\"SUMMARY OF CROSS VALIDATION\")\n",
    "    print('Mean of MSE for all folds: {}'.format(np.mean(mse_values)))\n",
    "    print('Mean of R2 for all folds: {}'.format(np.mean(scores)))\n",
    "    \n",
    "    # problem: R2s are higher than 1.00"
   ]
  },
  {
   "cell_type": "code",
   "execution_count": 16,
   "metadata": {
    "collapsed": true
   },
   "outputs": [],
   "source": [
    "# A: I tried for a while to troubleshoot the above but was unsuccessful."
   ]
  }
 ],
 "metadata": {
  "anaconda-cloud": {},
  "kernelspec": {
   "display_name": "Python 3",
   "language": "python",
   "name": "python3"
  },
  "language_info": {
   "codemirror_mode": {
    "name": "ipython",
    "version": 3
   },
   "file_extension": ".py",
   "mimetype": "text/x-python",
   "name": "python",
   "nbconvert_exporter": "python",
   "pygments_lexer": "ipython3",
   "version": "3.8.5"
  }
 },
 "nbformat": 4,
 "nbformat_minor": 1
}

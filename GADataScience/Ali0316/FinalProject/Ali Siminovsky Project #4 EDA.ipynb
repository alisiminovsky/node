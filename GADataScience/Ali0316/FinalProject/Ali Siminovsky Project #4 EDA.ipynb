{
 "cells": [
  {
   "cell_type": "code",
   "execution_count": 84,
   "id": "chubby-announcement",
   "metadata": {},
   "outputs": [],
   "source": [
    "# Load all necessary libraries for EDA.\n",
    "import numpy as np\n",
    "import pandas as pd\n",
    "import seaborn as sns\n",
    "import matplotlib.pyplot as plt\n",
    "%matplotlib inline\n",
    "import missingno as msng\n",
    "import os"
   ]
  },
  {
   "cell_type": "code",
   "execution_count": 85,
   "id": "retained-bolivia",
   "metadata": {},
   "outputs": [
    {
     "name": "stderr",
     "output_type": "stream",
     "text": [
      "C:\\Users\\asiminovsky\\anaconda3\\lib\\site-packages\\IPython\\core\\interactiveshell.py:3165: DtypeWarning: Columns (13,17,18,20,21,22,23,24,25,26,27,29,30,31,35) have mixed types.Specify dtype option on import or set low_memory=False.\n",
      "  has_raised = await self.run_ast_nodes(code_ast.body, cell_name,\n"
     ]
    },
    {
     "data": {
      "text/plain": [
       "<bound method NDFrame.head of         Lead_Age__c Lead_Cohort__c      Lead_Type__c  NumberOfEmployees  \\\n",
       "0            1432.0         May-17      Try PI Offer            21400.0   \n",
       "1               NaN            NaN           Webinar                NaN   \n",
       "2               NaN            NaN           Content                NaN   \n",
       "3               NaN            NaN           Content                NaN   \n",
       "4               NaN            NaN           Content                NaN   \n",
       "...             ...            ...               ...                ...   \n",
       "185753          1.0         Nov-20           Content                NaN   \n",
       "185754         13.0         Oct-20      Request Demo                NaN   \n",
       "185755          0.0         Nov-20         Live Chat                NaN   \n",
       "185756        779.0         Sep-18      Try PI Offer               30.0   \n",
       "185757          0.0         Nov-20  Business Inquiry                NaN   \n",
       "\n",
       "             Status                     pi__campaign__c pi__grade__c  \\\n",
       "0       Unqualified                Website-Pre Nov 2019            B   \n",
       "1               NaN              [Webinar]-Pre Nov 2019          NaN   \n",
       "2               NaN  ¶ LinkedIn Ads-Partner Recruitment          NaN   \n",
       "3               NaN            Partner Recruitment-Paid          NaN   \n",
       "4               NaN            Partner Recruitment-Paid          NaN   \n",
       "...             ...                                 ...          ...   \n",
       "185753    Qualified            Partner Recruitment-Paid          NaN   \n",
       "185754    Qualified                            Learn-20          NaN   \n",
       "185755    Qualified             Google Ads-Direct-Brand          NaN   \n",
       "185756    Qualified            Website-Business Inquiry            C   \n",
       "185757    Qualified             Google Ads-Direct-Brand          NaN   \n",
       "\n",
       "       MQL_Lead_Type__c ZoomInfo_Industry__c         Zoominfo_Job_Role__c  \\\n",
       "0                   NaN                  NaN                          NaN   \n",
       "1          Try PI Offer                  NaN                          NaN   \n",
       "2               Content                  NaN                          NaN   \n",
       "3               Content                  NaN                          NaN   \n",
       "4               Content                  NaN                          NaN   \n",
       "...                 ...                  ...                          ...   \n",
       "185753          Content                  NaN                          NaN   \n",
       "185754              NaN  Healthcare Services                          NaN   \n",
       "185755              NaN         Construction               Majority Owner   \n",
       "185756              NaN                  NaN                          NaN   \n",
       "185757              NaN                  NaN  Director, People Operations   \n",
       "\n",
       "        ...          Lead Record Type    Lead_Lead Type  \\\n",
       "0       ...                Sales Lead               NaN   \n",
       "1       ...                Sales Lead               NaN   \n",
       "2       ...  Partner Recruitment Lead               NaN   \n",
       "3       ...  Partner Recruitment Lead               NaN   \n",
       "4       ...  Partner Recruitment Lead               NaN   \n",
       "...     ...                       ...               ...   \n",
       "185753  ...  Partner Recruitment Lead           Content   \n",
       "185754  ...                Sales Lead      Request Demo   \n",
       "185755  ...                Sales Lead         Live Chat   \n",
       "185756  ...                Sales Lead      Try PI Offer   \n",
       "185757  ...                Sales Lead  Business Inquiry   \n",
       "\n",
       "                                   Original Lead Source Re_MQL_Date__c  \\\n",
       "0                                                   NaN            NaN   \n",
       "1                                                   NaN            NaN   \n",
       "2                                                   NaN            NaN   \n",
       "3                                                   NaN            NaN   \n",
       "4                                                   NaN            NaN   \n",
       "...                                                 ...            ...   \n",
       "185753                  LinkedIn - 2019 CEO Report 2 v7            NaN   \n",
       "185754                                     Request Demo            NaN   \n",
       "185755  Incoming Call - Lead Type Selected through form            NaN   \n",
       "185756                                     Try PI Offer            NaN   \n",
       "185757  Incoming Call - Lead Type Selected through form            NaN   \n",
       "\n",
       "        Lead Pardot Score_1  Lead Pardot Score  key_contact_lead_score  \\\n",
       "0                       NaN                1.0                     NaN   \n",
       "1                       NaN                NaN                     NaN   \n",
       "2                       NaN                NaN                     NaN   \n",
       "3                       NaN                NaN                     NaN   \n",
       "4                       NaN                NaN                     NaN   \n",
       "...                     ...                ...                     ...   \n",
       "185753                  0.0                0.0                     NaN   \n",
       "185754                283.0              283.0                     NaN   \n",
       "185755                202.0              202.0                     NaN   \n",
       "185756                 12.0               12.0                    95.0   \n",
       "185757                238.0              238.0                     NaN   \n",
       "\n",
       "       T90_Hero_Point_Buckets__c             Lead ID              Lead Email  \n",
       "0                            NaN  00Q0Z00001GjISdUAN      larso@stanford.edu  \n",
       "1                            NaN  00Qf300001Vc4i7EAB                     NaN  \n",
       "2                            NaN  00Q4y00001YFVQHEA5                     NaN  \n",
       "3                            NaN  00Qf300001XWZEvEAP                     NaN  \n",
       "4                            NaN  00Qf300001XWZEvEAP                     NaN  \n",
       "...                          ...                 ...                     ...  \n",
       "185753                       NaN  00Qf300001XWmnWEAT      jpatsch@tread4.com  \n",
       "185754                       NaN  00Qf300001XWFuuEAH    kira@philia-care.com  \n",
       "185755                       NaN  00Qf300001XWqm2EAD   rogersc@paladinky.com  \n",
       "185756                     < $10  00Q0Z00001MpO7JUAV  bray2002@link-labs.com  \n",
       "185757                       NaN  00Qf300001XWtT9EAL  linda@hometeamcare.com  \n",
       "\n",
       "[185758 rows x 38 columns]>"
      ]
     },
     "execution_count": 85,
     "metadata": {},
     "output_type": "execute_result"
    }
   ],
   "source": [
    "# Pull in the dataset, format as a DataFrame, and print head.\n",
    "data = pd.read_csv(r'C:\\\\Users\\\\asiminovsky\\\\Desktop\\\\GADataScience\\\\Ali0316\\\\FinalProject\\\\Ali Lead Scoring Data.csv')\n",
    "data.head"
   ]
  },
  {
   "cell_type": "code",
   "execution_count": 86,
   "id": "forced-training",
   "metadata": {},
   "outputs": [
    {
     "data": {
      "text/plain": [
       "['Lead_Age__c',\n",
       " 'Lead_Cohort__c',\n",
       " 'Lead_Type__c',\n",
       " 'NumberOfEmployees',\n",
       " 'Status',\n",
       " 'pi__campaign__c',\n",
       " 'pi__grade__c',\n",
       " 'MQL_Lead_Type__c',\n",
       " 'ZoomInfo_Industry__c',\n",
       " 'Zoominfo_Job_Role__c',\n",
       " 'Zoominfo_Company__c',\n",
       " 'Zoominfo_Job_Senority__c',\n",
       " 'Zoominfo_Number_of_Employees__c',\n",
       " 'Buyer_Persona__c',\n",
       " 'Account Max Number of Employees',\n",
       " 'Quote_Subscription Amount',\n",
       " 'Netsuite_Amount Paid',\n",
       " 'Key Contact Title',\n",
       " 'Key Contact Department',\n",
       " 'Lead Created Date',\n",
       " 'Campaign__c',\n",
       " 'Opportunity_Campaign_Channel__c',\n",
       " 'Opportunity Pardot Campaign',\n",
       " 'Converted_to_Opportunity__c',\n",
       " 'IsConverted',\n",
       " 'pi__campaign__c_1',\n",
       " 'Opportunity_Campaign_Type__c',\n",
       " 'CampaignId',\n",
       " 'Lead Record Type',\n",
       " 'Lead_Lead Type',\n",
       " 'Original Lead Source',\n",
       " 'Re_MQL_Date__c',\n",
       " 'Lead Pardot Score_1',\n",
       " 'Lead Pardot Score',\n",
       " 'key_contact_lead_score',\n",
       " 'T90_Hero_Point_Buckets__c',\n",
       " 'Lead ID',\n",
       " 'Lead Email']"
      ]
     },
     "execution_count": 86,
     "metadata": {},
     "output_type": "execute_result"
    }
   ],
   "source": [
    "# Print column names.\n",
    "list(data.columns)"
   ]
  },
  {
   "cell_type": "code",
   "execution_count": 87,
   "id": "coordinated-klein",
   "metadata": {},
   "outputs": [],
   "source": [
    "# Rename columns for simplicity.\n",
    "\n",
    "data.columns = ['lead_age',\n",
    "'lead_cohort',\n",
    " 'lead_type',\n",
    " 'num_employees',\n",
    " 'status',\n",
    " 'lead_campaign',\n",
    " 'grade',\n",
    " 'MQL_type',\n",
    " 'zi_industry',\n",
    " 'zi_role',\n",
    " 'zi_company',\n",
    " 'zi_seniority',\n",
    " 'zi_num_employees',\n",
    " 'persona',\n",
    " 'max_employees',\n",
    " 'quote_sub',\n",
    " 'amount_paid',\n",
    " 'key_title',\n",
    " 'key_dept',\n",
    " 'lead_creation_date',\n",
    " 'campaign',\n",
    " 'opp_channel',\n",
    " 'opp_campaign',\n",
    " 'converted_to_opp',\n",
    " 'is_converted',\n",
    " 'pi_campaign',\n",
    " 'opp_campaign_type',\n",
    " 'campaign_id',\n",
    " 'lead_record_type',\n",
    " 'lead_lead_type',\n",
    " 'og_lead_source',\n",
    " 're_MQL_date',\n",
    " 'lead_pardot_score',\n",
    " 'lead_pardot_score_2',\n",
    " 'key_contact_lead_score',\n",
    " 'hero_points',\n",
    " 'lead_id',\n",
    " 'lead_email']"
   ]
  },
  {
   "cell_type": "code",
   "execution_count": 66,
   "id": "offensive-explanation",
   "metadata": {
    "scrolled": true
   },
   "outputs": [
    {
     "ename": "KeyError",
     "evalue": "\"['lead_campaign' 'persona' 'quote_sub' 'amount_paid' 'key_title'\\n 'key_dept' 'campaign' 'opp_channel' 'opp_campaign' 'pi_campaign'\\n 'campaign_id' 'og_lead_source' 'lead_pardot_score'\\n 'key_contact_lead_score' 'hero_points' 'lead_id' 'lead_email'] not found in axis\"",
     "output_type": "error",
     "traceback": [
      "\u001b[1;31m---------------------------------------------------------------------------\u001b[0m",
      "\u001b[1;31mKeyError\u001b[0m                                  Traceback (most recent call last)",
      "\u001b[1;32m<ipython-input-66-7a69d1627ac4>\u001b[0m in \u001b[0;36m<module>\u001b[1;34m\u001b[0m\n\u001b[0;32m      1\u001b[0m \u001b[1;31m# Drop irrelevant columns.\u001b[0m\u001b[1;33m\u001b[0m\u001b[1;33m\u001b[0m\u001b[1;33m\u001b[0m\u001b[0m\n\u001b[0;32m      2\u001b[0m \u001b[1;33m\u001b[0m\u001b[0m\n\u001b[1;32m----> 3\u001b[1;33m data = data.drop(['lead_cohort','lead_campaign', 'persona','quote_sub','amount_paid','key_title','key_dept',\n\u001b[0m\u001b[0;32m      4\u001b[0m           \u001b[1;34m'campaign'\u001b[0m\u001b[1;33m,\u001b[0m\u001b[1;34m'opp_channel'\u001b[0m\u001b[1;33m,\u001b[0m\u001b[1;34m'opp_campaign'\u001b[0m\u001b[1;33m,\u001b[0m\u001b[1;34m'pi_campaign'\u001b[0m\u001b[1;33m,\u001b[0m\u001b[1;34m'campaign_id'\u001b[0m\u001b[1;33m,\u001b[0m\u001b[1;34m'og_lead_source'\u001b[0m\u001b[1;33m,\u001b[0m\u001b[1;33m\u001b[0m\u001b[1;33m\u001b[0m\u001b[0m\n\u001b[0;32m      5\u001b[0m           'lead_pardot_score','key_contact_lead_score','hero_points','lead_id','lead_email'], axis=1)\n",
      "\u001b[1;32m~\\anaconda3\\lib\\site-packages\\pandas\\core\\frame.py\u001b[0m in \u001b[0;36mdrop\u001b[1;34m(self, labels, axis, index, columns, level, inplace, errors)\u001b[0m\n\u001b[0;32m   4306\u001b[0m                 \u001b[0mweight\u001b[0m  \u001b[1;36m1.0\u001b[0m     \u001b[1;36m0.8\u001b[0m\u001b[1;33m\u001b[0m\u001b[1;33m\u001b[0m\u001b[0m\n\u001b[0;32m   4307\u001b[0m         \"\"\"\n\u001b[1;32m-> 4308\u001b[1;33m         return super().drop(\n\u001b[0m\u001b[0;32m   4309\u001b[0m             \u001b[0mlabels\u001b[0m\u001b[1;33m=\u001b[0m\u001b[0mlabels\u001b[0m\u001b[1;33m,\u001b[0m\u001b[1;33m\u001b[0m\u001b[1;33m\u001b[0m\u001b[0m\n\u001b[0;32m   4310\u001b[0m             \u001b[0maxis\u001b[0m\u001b[1;33m=\u001b[0m\u001b[0maxis\u001b[0m\u001b[1;33m,\u001b[0m\u001b[1;33m\u001b[0m\u001b[1;33m\u001b[0m\u001b[0m\n",
      "\u001b[1;32m~\\anaconda3\\lib\\site-packages\\pandas\\core\\generic.py\u001b[0m in \u001b[0;36mdrop\u001b[1;34m(self, labels, axis, index, columns, level, inplace, errors)\u001b[0m\n\u001b[0;32m   4151\u001b[0m         \u001b[1;32mfor\u001b[0m \u001b[0maxis\u001b[0m\u001b[1;33m,\u001b[0m \u001b[0mlabels\u001b[0m \u001b[1;32min\u001b[0m \u001b[0maxes\u001b[0m\u001b[1;33m.\u001b[0m\u001b[0mitems\u001b[0m\u001b[1;33m(\u001b[0m\u001b[1;33m)\u001b[0m\u001b[1;33m:\u001b[0m\u001b[1;33m\u001b[0m\u001b[1;33m\u001b[0m\u001b[0m\n\u001b[0;32m   4152\u001b[0m             \u001b[1;32mif\u001b[0m \u001b[0mlabels\u001b[0m \u001b[1;32mis\u001b[0m \u001b[1;32mnot\u001b[0m \u001b[1;32mNone\u001b[0m\u001b[1;33m:\u001b[0m\u001b[1;33m\u001b[0m\u001b[1;33m\u001b[0m\u001b[0m\n\u001b[1;32m-> 4153\u001b[1;33m                 \u001b[0mobj\u001b[0m \u001b[1;33m=\u001b[0m \u001b[0mobj\u001b[0m\u001b[1;33m.\u001b[0m\u001b[0m_drop_axis\u001b[0m\u001b[1;33m(\u001b[0m\u001b[0mlabels\u001b[0m\u001b[1;33m,\u001b[0m \u001b[0maxis\u001b[0m\u001b[1;33m,\u001b[0m \u001b[0mlevel\u001b[0m\u001b[1;33m=\u001b[0m\u001b[0mlevel\u001b[0m\u001b[1;33m,\u001b[0m \u001b[0merrors\u001b[0m\u001b[1;33m=\u001b[0m\u001b[0merrors\u001b[0m\u001b[1;33m)\u001b[0m\u001b[1;33m\u001b[0m\u001b[1;33m\u001b[0m\u001b[0m\n\u001b[0m\u001b[0;32m   4154\u001b[0m \u001b[1;33m\u001b[0m\u001b[0m\n\u001b[0;32m   4155\u001b[0m         \u001b[1;32mif\u001b[0m \u001b[0minplace\u001b[0m\u001b[1;33m:\u001b[0m\u001b[1;33m\u001b[0m\u001b[1;33m\u001b[0m\u001b[0m\n",
      "\u001b[1;32m~\\anaconda3\\lib\\site-packages\\pandas\\core\\generic.py\u001b[0m in \u001b[0;36m_drop_axis\u001b[1;34m(self, labels, axis, level, errors)\u001b[0m\n\u001b[0;32m   4186\u001b[0m                 \u001b[0mnew_axis\u001b[0m \u001b[1;33m=\u001b[0m \u001b[0maxis\u001b[0m\u001b[1;33m.\u001b[0m\u001b[0mdrop\u001b[0m\u001b[1;33m(\u001b[0m\u001b[0mlabels\u001b[0m\u001b[1;33m,\u001b[0m \u001b[0mlevel\u001b[0m\u001b[1;33m=\u001b[0m\u001b[0mlevel\u001b[0m\u001b[1;33m,\u001b[0m \u001b[0merrors\u001b[0m\u001b[1;33m=\u001b[0m\u001b[0merrors\u001b[0m\u001b[1;33m)\u001b[0m\u001b[1;33m\u001b[0m\u001b[1;33m\u001b[0m\u001b[0m\n\u001b[0;32m   4187\u001b[0m             \u001b[1;32melse\u001b[0m\u001b[1;33m:\u001b[0m\u001b[1;33m\u001b[0m\u001b[1;33m\u001b[0m\u001b[0m\n\u001b[1;32m-> 4188\u001b[1;33m                 \u001b[0mnew_axis\u001b[0m \u001b[1;33m=\u001b[0m \u001b[0maxis\u001b[0m\u001b[1;33m.\u001b[0m\u001b[0mdrop\u001b[0m\u001b[1;33m(\u001b[0m\u001b[0mlabels\u001b[0m\u001b[1;33m,\u001b[0m \u001b[0merrors\u001b[0m\u001b[1;33m=\u001b[0m\u001b[0merrors\u001b[0m\u001b[1;33m)\u001b[0m\u001b[1;33m\u001b[0m\u001b[1;33m\u001b[0m\u001b[0m\n\u001b[0m\u001b[0;32m   4189\u001b[0m             \u001b[0mresult\u001b[0m \u001b[1;33m=\u001b[0m \u001b[0mself\u001b[0m\u001b[1;33m.\u001b[0m\u001b[0mreindex\u001b[0m\u001b[1;33m(\u001b[0m\u001b[1;33m**\u001b[0m\u001b[1;33m{\u001b[0m\u001b[0maxis_name\u001b[0m\u001b[1;33m:\u001b[0m \u001b[0mnew_axis\u001b[0m\u001b[1;33m}\u001b[0m\u001b[1;33m)\u001b[0m\u001b[1;33m\u001b[0m\u001b[1;33m\u001b[0m\u001b[0m\n\u001b[0;32m   4190\u001b[0m \u001b[1;33m\u001b[0m\u001b[0m\n",
      "\u001b[1;32m~\\anaconda3\\lib\\site-packages\\pandas\\core\\indexes\\base.py\u001b[0m in \u001b[0;36mdrop\u001b[1;34m(self, labels, errors)\u001b[0m\n\u001b[0;32m   5589\u001b[0m         \u001b[1;32mif\u001b[0m \u001b[0mmask\u001b[0m\u001b[1;33m.\u001b[0m\u001b[0many\u001b[0m\u001b[1;33m(\u001b[0m\u001b[1;33m)\u001b[0m\u001b[1;33m:\u001b[0m\u001b[1;33m\u001b[0m\u001b[1;33m\u001b[0m\u001b[0m\n\u001b[0;32m   5590\u001b[0m             \u001b[1;32mif\u001b[0m \u001b[0merrors\u001b[0m \u001b[1;33m!=\u001b[0m \u001b[1;34m\"ignore\"\u001b[0m\u001b[1;33m:\u001b[0m\u001b[1;33m\u001b[0m\u001b[1;33m\u001b[0m\u001b[0m\n\u001b[1;32m-> 5591\u001b[1;33m                 \u001b[1;32mraise\u001b[0m \u001b[0mKeyError\u001b[0m\u001b[1;33m(\u001b[0m\u001b[1;34mf\"{labels[mask]} not found in axis\"\u001b[0m\u001b[1;33m)\u001b[0m\u001b[1;33m\u001b[0m\u001b[1;33m\u001b[0m\u001b[0m\n\u001b[0m\u001b[0;32m   5592\u001b[0m             \u001b[0mindexer\u001b[0m \u001b[1;33m=\u001b[0m \u001b[0mindexer\u001b[0m\u001b[1;33m[\u001b[0m\u001b[1;33m~\u001b[0m\u001b[0mmask\u001b[0m\u001b[1;33m]\u001b[0m\u001b[1;33m\u001b[0m\u001b[1;33m\u001b[0m\u001b[0m\n\u001b[0;32m   5593\u001b[0m         \u001b[1;32mreturn\u001b[0m \u001b[0mself\u001b[0m\u001b[1;33m.\u001b[0m\u001b[0mdelete\u001b[0m\u001b[1;33m(\u001b[0m\u001b[0mindexer\u001b[0m\u001b[1;33m)\u001b[0m\u001b[1;33m\u001b[0m\u001b[1;33m\u001b[0m\u001b[0m\n",
      "\u001b[1;31mKeyError\u001b[0m: \"['lead_campaign' 'persona' 'quote_sub' 'amount_paid' 'key_title'\\n 'key_dept' 'campaign' 'opp_channel' 'opp_campaign' 'pi_campaign'\\n 'campaign_id' 'og_lead_source' 'lead_pardot_score'\\n 'key_contact_lead_score' 'hero_points' 'lead_id' 'lead_email'] not found in axis\""
     ]
    }
   ],
   "source": [
    "# Drop irrelevant columns.\n",
    "\n",
    "data = data.drop(['lead_cohort','lead_campaign', 'persona','quote_sub','amount_paid','key_title','key_dept',\n",
    "          'campaign','opp_channel','opp_campaign','pi_campaign','campaign_id','og_lead_source',\n",
    "          'lead_pardot_score','key_contact_lead_score','hero_points','lead_id','lead_email'], axis=1)"
   ]
  },
  {
   "cell_type": "code",
   "execution_count": 89,
   "id": "mathematical-balloon",
   "metadata": {},
   "outputs": [],
   "source": [
    "data = data.drop(['lead_cohort'],axis=1)"
   ]
  },
  {
   "cell_type": "code",
   "execution_count": 90,
   "id": "metropolitan-atlas",
   "metadata": {},
   "outputs": [
    {
     "data": {
      "text/plain": [
       "(185758, 37)"
      ]
     },
     "execution_count": 90,
     "metadata": {},
     "output_type": "execute_result"
    }
   ],
   "source": [
    "# Check the shape of the dataframe.\n",
    "data.shape"
   ]
  },
  {
   "cell_type": "code",
   "execution_count": 91,
   "id": "hungry-cover",
   "metadata": {},
   "outputs": [
    {
     "data": {
      "text/plain": [
       "lead_age                  float64\n",
       "lead_type                  object\n",
       "num_employees             float64\n",
       "status                     object\n",
       "lead_campaign              object\n",
       "grade                      object\n",
       "MQL_type                   object\n",
       "zi_industry                object\n",
       "zi_role                    object\n",
       "zi_company                 object\n",
       "zi_seniority               object\n",
       "zi_num_employees          float64\n",
       "persona                    object\n",
       "max_employees             float64\n",
       "quote_sub                 float64\n",
       "amount_paid               float64\n",
       "key_title                  object\n",
       "key_dept                   object\n",
       "lead_creation_date         object\n",
       "campaign                   object\n",
       "opp_channel                object\n",
       "opp_campaign               object\n",
       "converted_to_opp           object\n",
       "is_converted               object\n",
       "pi_campaign                object\n",
       "opp_campaign_type          object\n",
       "campaign_id                object\n",
       "lead_record_type           object\n",
       "lead_lead_type             object\n",
       "og_lead_source             object\n",
       "re_MQL_date                object\n",
       "lead_pardot_score         float64\n",
       "lead_pardot_score_2       float64\n",
       "key_contact_lead_score    float64\n",
       "hero_points                object\n",
       "lead_id                    object\n",
       "lead_email                 object\n",
       "dtype: object"
      ]
     },
     "execution_count": 91,
     "metadata": {},
     "output_type": "execute_result"
    }
   ],
   "source": [
    "# Check variable types.\n",
    "data.dtypes"
   ]
  },
  {
   "cell_type": "code",
   "execution_count": 92,
   "id": "valuable-pickup",
   "metadata": {},
   "outputs": [],
   "source": [
    "# Convert converted_to_opp to Boolean.\n",
    "\n",
    "## Am struggling here!"
   ]
  },
  {
   "cell_type": "code",
   "execution_count": 93,
   "id": "threatened-playing",
   "metadata": {},
   "outputs": [],
   "source": [
    "# Convert lead_creation_date to datetime format.\n",
    "pd.to_datetime(data['lead_creation_date'])\n",
    "\n",
    "data['lead_creation_date'] =  pd.to_datetime(data['lead_creation_date'], format='%m/%d/%Y %H:%M')"
   ]
  },
  {
   "cell_type": "code",
   "execution_count": 94,
   "id": "characteristic-trademark",
   "metadata": {},
   "outputs": [
    {
     "name": "stdout",
     "output_type": "stream",
     "text": [
      "Empty DataFrame\n",
      "Columns: [lead_age, lead_type, num_employees, status, lead_campaign, grade, MQL_type, zi_industry, zi_role, zi_company, zi_seniority, zi_num_employees, persona, max_employees, quote_sub, amount_paid, key_title, key_dept, lead_creation_date, campaign, opp_channel, opp_campaign, converted_to_opp, is_converted, pi_campaign, opp_campaign_type, campaign_id, lead_record_type, lead_lead_type, og_lead_source, re_MQL_date, lead_pardot_score, lead_pardot_score_2, key_contact_lead_score, hero_points, lead_id, lead_email]\n",
      "Index: []\n",
      "\n",
      "[0 rows x 37 columns]\n"
     ]
    }
   ],
   "source": [
    "# Identify and delete duplicate rows.\n",
    "duplicate = data[data.duplicated()]\n",
    "print(duplicate)\n",
    "\n",
    "data.drop_duplicates(inplace=True)"
   ]
  },
  {
   "cell_type": "code",
   "execution_count": 95,
   "id": "seventh-problem",
   "metadata": {},
   "outputs": [
    {
     "name": "stdout",
     "output_type": "stream",
     "text": [
      "lead_age                     723\n",
      "lead_type                  38492\n",
      "num_employees             125791\n",
      "status                       723\n",
      "lead_campaign               3411\n",
      "grade                      94599\n",
      "MQL_type                  126813\n",
      "zi_industry               167123\n",
      "zi_role                   174109\n",
      "zi_company                182815\n",
      "zi_seniority              180678\n",
      "zi_num_employees          165544\n",
      "persona                   181901\n",
      "max_employees             176030\n",
      "quote_sub                 182385\n",
      "amount_paid               184782\n",
      "key_title                 180289\n",
      "key_dept                  185584\n",
      "lead_creation_date             0\n",
      "campaign                  185568\n",
      "opp_channel               184713\n",
      "opp_campaign              180318\n",
      "converted_to_opp             723\n",
      "is_converted                 723\n",
      "pi_campaign               177222\n",
      "opp_campaign_type         183919\n",
      "campaign_id               179945\n",
      "lead_record_type            3785\n",
      "lead_lead_type            175104\n",
      "og_lead_source            181179\n",
      "re_MQL_date               185090\n",
      "lead_pardot_score         177683\n",
      "lead_pardot_score_2         4687\n",
      "key_contact_lead_score    178572\n",
      "hero_points               183811\n",
      "lead_id                        0\n",
      "lead_email                  1499\n",
      "dtype: int64\n"
     ]
    },
    {
     "data": {
      "text/plain": [
       "<AxesSubplot:>"
      ]
     },
     "execution_count": 95,
     "metadata": {},
     "output_type": "execute_result"
    },
    {
     "data": {
      "image/png": "[encoded data removed]",
      "text/plain": [
       "<Figure size 1800x720 with 2 Axes>"
      ]
     },
     "metadata": {
      "needs_background": "light"
     },
     "output_type": "display_data"
    }
   ],
   "source": [
    "# Check for missing values.\n",
    "\n",
    "print(data.isnull().sum())\n",
    "msng.matrix(data)\n",
    "\n",
    "# As anticipated, there is a great deal of missing data, most of which is MNAR."
   ]
  },
  {
   "cell_type": "code",
   "execution_count": 96,
   "id": "premium-colon",
   "metadata": {},
   "outputs": [
    {
     "name": "stdout",
     "output_type": "stream",
     "text": [
      "0    Try PI Offer\n",
      "dtype: object\n"
     ]
    }
   ],
   "source": [
    "# Most missing values are MNAR and will be retained as missing. For lead_type, change all null values to the mode.\n",
    "\n",
    "print(data['lead_type'].mode())\n",
    "data['lead_type'].fillna(\"Try PI Offer\", inplace = True)\n",
    "\n",
    "# For all null converted_to_opp, replace with boolean False.\n",
    "data['converted_to_opp'].fillna(False,inplace=True)"
   ]
  },
  {
   "cell_type": "code",
   "execution_count": 97,
   "id": "ethical-greenhouse",
   "metadata": {},
   "outputs": [],
   "source": [
    "# Create a column containing just the month from lead_creation_date.\n",
    "\n",
    "data['month'] = data['lead_creation_date'].dt.month"
   ]
  },
  {
   "cell_type": "code",
   "execution_count": 98,
   "id": "equal-buyer",
   "metadata": {},
   "outputs": [
    {
     "data": {
      "text/html": [
       "<div>\n",
       "<style scoped>\n",
       "    .dataframe tbody tr th:only-of-type {\n",
       "        vertical-align: middle;\n",
       "    }\n",
       "\n",
       "    .dataframe tbody tr th {\n",
       "        vertical-align: top;\n",
       "    }\n",
       "\n",
       "    .dataframe thead th {\n",
       "        text-align: right;\n",
       "    }\n",
       "</style>\n",
       "<table border=\"1\" class=\"dataframe\">\n",
       "  <thead>\n",
       "    <tr style=\"text-align: right;\">\n",
       "      <th></th>\n",
       "      <th>lead_age</th>\n",
       "      <th>num_employees</th>\n",
       "      <th>zi_num_employees</th>\n",
       "      <th>max_employees</th>\n",
       "      <th>quote_sub</th>\n",
       "      <th>amount_paid</th>\n",
       "      <th>lead_pardot_score</th>\n",
       "      <th>lead_pardot_score_2</th>\n",
       "      <th>key_contact_lead_score</th>\n",
       "      <th>month</th>\n",
       "    </tr>\n",
       "  </thead>\n",
       "  <tbody>\n",
       "    <tr>\n",
       "      <th>count</th>\n",
       "      <td>185035.000000</td>\n",
       "      <td>5.996700e+04</td>\n",
       "      <td>2.021400e+04</td>\n",
       "      <td>9.728000e+03</td>\n",
       "      <td>3373.000000</td>\n",
       "      <td>976.000000</td>\n",
       "      <td>8075.000000</td>\n",
       "      <td>181071.000000</td>\n",
       "      <td>7186.000000</td>\n",
       "      <td>185758.000000</td>\n",
       "    </tr>\n",
       "    <tr>\n",
       "      <th>mean</th>\n",
       "      <td>561.454406</td>\n",
       "      <td>1.537707e+04</td>\n",
       "      <td>1.333707e+04</td>\n",
       "      <td>5.818328e+03</td>\n",
       "      <td>10333.170949</td>\n",
       "      <td>10088.655348</td>\n",
       "      <td>142.519505</td>\n",
       "      <td>1.880638</td>\n",
       "      <td>37.791678</td>\n",
       "      <td>6.029345</td>\n",
       "    </tr>\n",
       "    <tr>\n",
       "      <th>std</th>\n",
       "      <td>348.836836</td>\n",
       "      <td>1.042216e+05</td>\n",
       "      <td>6.402344e+04</td>\n",
       "      <td>5.247049e+04</td>\n",
       "      <td>14350.338808</td>\n",
       "      <td>11075.951968</td>\n",
       "      <td>378.175700</td>\n",
       "      <td>183.059326</td>\n",
       "      <td>331.327533</td>\n",
       "      <td>3.275856</td>\n",
       "    </tr>\n",
       "    <tr>\n",
       "      <th>min</th>\n",
       "      <td>0.000000</td>\n",
       "      <td>1.000000e+00</td>\n",
       "      <td>1.000000e+00</td>\n",
       "      <td>0.000000e+00</td>\n",
       "      <td>0.000000</td>\n",
       "      <td>0.000000</td>\n",
       "      <td>-430.000000</td>\n",
       "      <td>-992.000000</td>\n",
       "      <td>-11642.000000</td>\n",
       "      <td>1.000000</td>\n",
       "    </tr>\n",
       "    <tr>\n",
       "      <th>25%</th>\n",
       "      <td>297.000000</td>\n",
       "      <td>9.000000e+01</td>\n",
       "      <td>2.700000e+01</td>\n",
       "      <td>2.000000e+01</td>\n",
       "      <td>5300.000000</td>\n",
       "      <td>4450.000000</td>\n",
       "      <td>42.000000</td>\n",
       "      <td>0.000000</td>\n",
       "      <td>-50.000000</td>\n",
       "      <td>4.000000</td>\n",
       "    </tr>\n",
       "    <tr>\n",
       "      <th>50%</th>\n",
       "      <td>581.000000</td>\n",
       "      <td>3.500000e+02</td>\n",
       "      <td>1.560000e+02</td>\n",
       "      <td>7.500000e+01</td>\n",
       "      <td>6900.000000</td>\n",
       "      <td>7828.750000</td>\n",
       "      <td>55.000000</td>\n",
       "      <td>4.000000</td>\n",
       "      <td>-28.000000</td>\n",
       "      <td>5.000000</td>\n",
       "    </tr>\n",
       "    <tr>\n",
       "      <th>75%</th>\n",
       "      <td>754.000000</td>\n",
       "      <td>3.000000e+03</td>\n",
       "      <td>3.000000e+03</td>\n",
       "      <td>3.500000e+02</td>\n",
       "      <td>12500.000000</td>\n",
       "      <td>12655.050000</td>\n",
       "      <td>107.000000</td>\n",
       "      <td>32.000000</td>\n",
       "      <td>51.000000</td>\n",
       "      <td>9.000000</td>\n",
       "    </tr>\n",
       "    <tr>\n",
       "      <th>max</th>\n",
       "      <td>1731.000000</td>\n",
       "      <td>2.300000e+06</td>\n",
       "      <td>2.200000e+06</td>\n",
       "      <td>2.200000e+06</td>\n",
       "      <td>389890.000000</td>\n",
       "      <td>121125.000000</td>\n",
       "      <td>3813.000000</td>\n",
       "      <td>20420.000000</td>\n",
       "      <td>3894.000000</td>\n",
       "      <td>12.000000</td>\n",
       "    </tr>\n",
       "  </tbody>\n",
       "</table>\n",
       "</div>"
      ],
      "text/plain": [
       "            lead_age  num_employees  zi_num_employees  max_employees  \\\n",
       "count  185035.000000   5.996700e+04      2.021400e+04   9.728000e+03   \n",
       "mean      561.454406   1.537707e+04      1.333707e+04   5.818328e+03   \n",
       "std       348.836836   1.042216e+05      6.402344e+04   5.247049e+04   \n",
       "min         0.000000   1.000000e+00      1.000000e+00   0.000000e+00   \n",
       "25%       297.000000   9.000000e+01      2.700000e+01   2.000000e+01   \n",
       "50%       581.000000   3.500000e+02      1.560000e+02   7.500000e+01   \n",
       "75%       754.000000   3.000000e+03      3.000000e+03   3.500000e+02   \n",
       "max      1731.000000   2.300000e+06      2.200000e+06   2.200000e+06   \n",
       "\n",
       "           quote_sub    amount_paid  lead_pardot_score  lead_pardot_score_2  \\\n",
       "count    3373.000000     976.000000        8075.000000        181071.000000   \n",
       "mean    10333.170949   10088.655348         142.519505             1.880638   \n",
       "std     14350.338808   11075.951968         378.175700           183.059326   \n",
       "min         0.000000       0.000000        -430.000000          -992.000000   \n",
       "25%      5300.000000    4450.000000          42.000000             0.000000   \n",
       "50%      6900.000000    7828.750000          55.000000             4.000000   \n",
       "75%     12500.000000   12655.050000         107.000000            32.000000   \n",
       "max    389890.000000  121125.000000        3813.000000         20420.000000   \n",
       "\n",
       "       key_contact_lead_score          month  \n",
       "count             7186.000000  185758.000000  \n",
       "mean                37.791678       6.029345  \n",
       "std                331.327533       3.275856  \n",
       "min             -11642.000000       1.000000  \n",
       "25%                -50.000000       4.000000  \n",
       "50%                -28.000000       5.000000  \n",
       "75%                 51.000000       9.000000  \n",
       "max               3894.000000      12.000000  "
      ]
     },
     "execution_count": 98,
     "metadata": {},
     "output_type": "execute_result"
    }
   ],
   "source": [
    "# Check descriptives of float and integer variables in DataFrame and ensure all values make sense.\n",
    "\n",
    "data.describe()"
   ]
  },
  {
   "cell_type": "code",
   "execution_count": 100,
   "id": "linear-watson",
   "metadata": {},
   "outputs": [
    {
     "name": "stdout",
     "output_type": "stream",
     "text": [
      "Try PI Offer                         80922\n",
      "Content                              32156\n",
      "Request Demo                         20615\n",
      "Outbound                             20044\n",
      "Webinar                               8965\n",
      "Unknown                               7749\n",
      "Business Inquiry                      6528\n",
      "Events                                2789\n",
      "Become a Partner                      1878\n",
      "Learning                              1385\n",
      "Partner Recruitment                    565\n",
      "1:1 Session                            552\n",
      "Live Chat                              297\n",
      "Inbound                                232\n",
      "Paid                                   227\n",
      "Freemium                               130\n",
      "Standard                               127\n",
      "Vistage                                127\n",
      "Referral                               122\n",
      "Clearbit Append                        100\n",
      "Calculator                              78\n",
      "Workshop                                54\n",
      "Free BA Demo                            43\n",
      "Talent Optimization Certification       19\n",
      "MDC                                     17\n",
      "Ambassador                              10\n",
      "Outbound - PR                            7\n",
      "Interactive Demo                         6\n",
      "Lead Scoring                             5\n",
      "Partner Marketing                        4\n",
      "Pre-Persona                              3\n",
      "Fishing                                  2\n",
      "Name: lead_type, dtype: int64\n",
      "Sales Accepted Lead          60776\n",
      "Sales Qualified Lead         48812\n",
      "Nurture                      36802\n",
      "Unqualified                  22385\n",
      "Qualified                    11336\n",
      "Sales Qualified               1179\n",
      "Convo-Disqualified             899\n",
      "Assigned                       822\n",
      "Rejected - No Fit              562\n",
      "Convo-Opportunity Created      459\n",
      "Unsubscribe                    372\n",
      "Marketing Lead                 274\n",
      "Timing                         132\n",
      "Attempt-No Convo                97\n",
      "Rejected                        35\n",
      "Sales Qualified Contact         34\n",
      "Marketing Qualified             21\n",
      "No Buy-In                       12\n",
      "No Prospect                      6\n",
      "Attempt-Bad Contact Info         4\n",
      "Convo-Not Now                    3\n",
      "No Contact Made                  2\n",
      "Opened                           2\n",
      "Active                           2\n",
      "No Attempt                       2\n",
      "Convo-No Pitch                   1\n",
      "Unassigned                       1\n",
      "Price                            1\n",
      "Competitor                       1\n",
      "Budget                           1\n",
      "Name: status, dtype: int64\n",
      "C     46067\n",
      "B     15338\n",
      "C+    12650\n",
      "D+     7862\n",
      "B+     6371\n",
      "B-     1841\n",
      "F       830\n",
      "C-       88\n",
      "A        61\n",
      "D        45\n",
      "A+        5\n",
      "A-        1\n",
      "Name: grade, dtype: int64\n",
      "Try PI Offer                         17290\n",
      "Content                              14342\n",
      "Request Demo                          7006\n",
      "Paid                                  5712\n",
      "Webinar                               4351\n",
      "Outbound                              2876\n",
      "Partner Recruitment                   2427\n",
      "Inbound                                992\n",
      "Business Inquiry                       745\n",
      "Become a Partner                       534\n",
      "Outbound - PR                          496\n",
      "1:1 Session                            489\n",
      "Calculator                             412\n",
      "Clearbit Append                        403\n",
      "Events                                 233\n",
      "Learning                               142\n",
      "Freemium                               133\n",
      "Free BA Demo                           115\n",
      "Live Chat                               65\n",
      "MDC                                     49\n",
      "Unknown                                 42\n",
      "Talent Optimization Certification       37\n",
      "Workshop                                30\n",
      "Referral                                16\n",
      "Standard                                 5\n",
      "Vistage                                  3\n",
      "Name: MQL_type, dtype: int64\n",
      "President                                         299\n",
      "Chief Executive Officer                           241\n",
      "Partner                                           190\n",
      "Managing Partner                                  148\n",
      "Principal                                         136\n",
      "                                                 ... \n",
      "Software Engineering Lead                           1\n",
      "Controller & Director                               1\n",
      "Director, Logistical Operations                     1\n",
      "Manager, Business Analytics & Sales Operations      1\n",
      "Processing Manager                                  1\n",
      "Name: zi_role, Length: 5870, dtype: int64\n",
      "Idea Cellular                            12\n",
      "Auburn University                        11\n",
      "Dell                                     10\n",
      "OrangeTwist                               9\n",
      "Bajaj Allianz General Insurance           9\n",
      "                                         ..\n",
      "Gilead                                    1\n",
      "Foundation For Excellence                 1\n",
      "OK Works                                  1\n",
      "Brand Growth Experts                      1\n",
      "Universidad Autónoma de Ciudad Juárez     1\n",
      "Name: zi_company, Length: 2517, dtype: int64\n",
      "Manager               1687\n",
      "C-Level               1077\n",
      "Director               958\n",
      "Non-Manager            790\n",
      "VP-Level               547\n",
      "Below Manager           11\n",
      "Head of / Director       8\n",
      "Analyst / IC             1\n",
      "VP                       1\n",
      "Name: zi_seniority, dtype: int64\n",
      "False    175069\n",
      "True      10689\n",
      "Name: converted_to_opp, dtype: int64\n"
     ]
    }
   ],
   "source": [
    "# Check value counts of all string variables in DataFrame.\n",
    "\n",
    "print(data['lead_type'].value_counts())\n",
    "\n",
    "print(data['status'].value_counts())\n",
    "\n",
    "print(data['grade'].value_counts())\n",
    "\n",
    "print(data['MQL_type'].value_counts())\n",
    "\n",
    "print(data['zi_role'].value_counts())\n",
    "\n",
    "print(data['zi_company'].value_counts())\n",
    "\n",
    "print(data['zi_seniority'].value_counts())\n",
    "\n",
    "print(data['converted_to_opp'].value_counts())\n"
   ]
  },
  {
   "cell_type": "code",
   "execution_count": 101,
   "id": "driving-scanner",
   "metadata": {},
   "outputs": [],
   "source": [
    "# As per above, struggling to convert converted_to_opp to Boolean, resulting in two \"False\" values and \n",
    "# impacting ability to create accurate visualizations."
   ]
  },
  {
   "cell_type": "code",
   "execution_count": 102,
   "id": "third-forth",
   "metadata": {},
   "outputs": [
    {
     "data": {
      "text/html": [
       "<div>\n",
       "<style scoped>\n",
       "    .dataframe tbody tr th:only-of-type {\n",
       "        vertical-align: middle;\n",
       "    }\n",
       "\n",
       "    .dataframe tbody tr th {\n",
       "        vertical-align: top;\n",
       "    }\n",
       "\n",
       "    .dataframe thead th {\n",
       "        text-align: right;\n",
       "    }\n",
       "</style>\n",
       "<table border=\"1\" class=\"dataframe\">\n",
       "  <thead>\n",
       "    <tr style=\"text-align: right;\">\n",
       "      <th></th>\n",
       "      <th>lead_age</th>\n",
       "      <th>num_employees</th>\n",
       "      <th>zi_num_employees</th>\n",
       "      <th>max_employees</th>\n",
       "      <th>quote_sub</th>\n",
       "      <th>amount_paid</th>\n",
       "      <th>converted_to_opp</th>\n",
       "      <th>lead_pardot_score</th>\n",
       "      <th>lead_pardot_score_2</th>\n",
       "      <th>key_contact_lead_score</th>\n",
       "      <th>month</th>\n",
       "    </tr>\n",
       "  </thead>\n",
       "  <tbody>\n",
       "    <tr>\n",
       "      <th>lead_age</th>\n",
       "      <td>1.000000</td>\n",
       "      <td>0.020668</td>\n",
       "      <td>0.015589</td>\n",
       "      <td>0.007140</td>\n",
       "      <td>-0.020380</td>\n",
       "      <td>-0.014684</td>\n",
       "      <td>-0.379844</td>\n",
       "      <td>-0.025094</td>\n",
       "      <td>-0.005653</td>\n",
       "      <td>0.033539</td>\n",
       "      <td>0.035138</td>\n",
       "    </tr>\n",
       "    <tr>\n",
       "      <th>num_employees</th>\n",
       "      <td>0.020668</td>\n",
       "      <td>1.000000</td>\n",
       "      <td>0.918679</td>\n",
       "      <td>0.696777</td>\n",
       "      <td>0.194602</td>\n",
       "      <td>0.085493</td>\n",
       "      <td>-0.015424</td>\n",
       "      <td>0.011169</td>\n",
       "      <td>0.012110</td>\n",
       "      <td>-0.006647</td>\n",
       "      <td>-0.009196</td>\n",
       "    </tr>\n",
       "    <tr>\n",
       "      <th>zi_num_employees</th>\n",
       "      <td>0.015589</td>\n",
       "      <td>0.918679</td>\n",
       "      <td>1.000000</td>\n",
       "      <td>0.882592</td>\n",
       "      <td>0.002369</td>\n",
       "      <td>-0.045517</td>\n",
       "      <td>-0.021667</td>\n",
       "      <td>-0.018658</td>\n",
       "      <td>-0.027350</td>\n",
       "      <td>-0.032743</td>\n",
       "      <td>-0.006613</td>\n",
       "    </tr>\n",
       "    <tr>\n",
       "      <th>max_employees</th>\n",
       "      <td>0.007140</td>\n",
       "      <td>0.696777</td>\n",
       "      <td>0.882592</td>\n",
       "      <td>1.000000</td>\n",
       "      <td>0.045606</td>\n",
       "      <td>0.083371</td>\n",
       "      <td>NaN</td>\n",
       "      <td>-0.005737</td>\n",
       "      <td>-0.006039</td>\n",
       "      <td>-0.011703</td>\n",
       "      <td>-0.022248</td>\n",
       "    </tr>\n",
       "    <tr>\n",
       "      <th>quote_sub</th>\n",
       "      <td>-0.020380</td>\n",
       "      <td>0.194602</td>\n",
       "      <td>0.002369</td>\n",
       "      <td>0.045606</td>\n",
       "      <td>1.000000</td>\n",
       "      <td>0.733627</td>\n",
       "      <td>NaN</td>\n",
       "      <td>-0.022044</td>\n",
       "      <td>-0.024480</td>\n",
       "      <td>-0.060440</td>\n",
       "      <td>-0.008896</td>\n",
       "    </tr>\n",
       "    <tr>\n",
       "      <th>amount_paid</th>\n",
       "      <td>-0.014684</td>\n",
       "      <td>0.085493</td>\n",
       "      <td>-0.045517</td>\n",
       "      <td>0.083371</td>\n",
       "      <td>0.733627</td>\n",
       "      <td>1.000000</td>\n",
       "      <td>NaN</td>\n",
       "      <td>0.020508</td>\n",
       "      <td>0.020759</td>\n",
       "      <td>-0.034503</td>\n",
       "      <td>0.001788</td>\n",
       "    </tr>\n",
       "    <tr>\n",
       "      <th>converted_to_opp</th>\n",
       "      <td>-0.379844</td>\n",
       "      <td>-0.015424</td>\n",
       "      <td>-0.021667</td>\n",
       "      <td>NaN</td>\n",
       "      <td>NaN</td>\n",
       "      <td>NaN</td>\n",
       "      <td>1.000000</td>\n",
       "      <td>NaN</td>\n",
       "      <td>0.163938</td>\n",
       "      <td>NaN</td>\n",
       "      <td>0.039061</td>\n",
       "    </tr>\n",
       "    <tr>\n",
       "      <th>lead_pardot_score</th>\n",
       "      <td>-0.025094</td>\n",
       "      <td>0.011169</td>\n",
       "      <td>-0.018658</td>\n",
       "      <td>-0.005737</td>\n",
       "      <td>-0.022044</td>\n",
       "      <td>0.020508</td>\n",
       "      <td>NaN</td>\n",
       "      <td>1.000000</td>\n",
       "      <td>0.985063</td>\n",
       "      <td>0.015014</td>\n",
       "      <td>0.000022</td>\n",
       "    </tr>\n",
       "    <tr>\n",
       "      <th>lead_pardot_score_2</th>\n",
       "      <td>-0.005653</td>\n",
       "      <td>0.012110</td>\n",
       "      <td>-0.027350</td>\n",
       "      <td>-0.006039</td>\n",
       "      <td>-0.024480</td>\n",
       "      <td>0.020759</td>\n",
       "      <td>0.163938</td>\n",
       "      <td>0.985063</td>\n",
       "      <td>1.000000</td>\n",
       "      <td>0.017416</td>\n",
       "      <td>0.121183</td>\n",
       "    </tr>\n",
       "    <tr>\n",
       "      <th>key_contact_lead_score</th>\n",
       "      <td>0.033539</td>\n",
       "      <td>-0.006647</td>\n",
       "      <td>-0.032743</td>\n",
       "      <td>-0.011703</td>\n",
       "      <td>-0.060440</td>\n",
       "      <td>-0.034503</td>\n",
       "      <td>NaN</td>\n",
       "      <td>0.015014</td>\n",
       "      <td>0.017416</td>\n",
       "      <td>1.000000</td>\n",
       "      <td>0.018682</td>\n",
       "    </tr>\n",
       "    <tr>\n",
       "      <th>month</th>\n",
       "      <td>0.035138</td>\n",
       "      <td>-0.009196</td>\n",
       "      <td>-0.006613</td>\n",
       "      <td>-0.022248</td>\n",
       "      <td>-0.008896</td>\n",
       "      <td>0.001788</td>\n",
       "      <td>0.039061</td>\n",
       "      <td>0.000022</td>\n",
       "      <td>0.121183</td>\n",
       "      <td>0.018682</td>\n",
       "      <td>1.000000</td>\n",
       "    </tr>\n",
       "  </tbody>\n",
       "</table>\n",
       "</div>"
      ],
      "text/plain": [
       "                        lead_age  num_employees  zi_num_employees  \\\n",
       "lead_age                1.000000       0.020668          0.015589   \n",
       "num_employees           0.020668       1.000000          0.918679   \n",
       "zi_num_employees        0.015589       0.918679          1.000000   \n",
       "max_employees           0.007140       0.696777          0.882592   \n",
       "quote_sub              -0.020380       0.194602          0.002369   \n",
       "amount_paid            -0.014684       0.085493         -0.045517   \n",
       "converted_to_opp       -0.379844      -0.015424         -0.021667   \n",
       "lead_pardot_score      -0.025094       0.011169         -0.018658   \n",
       "lead_pardot_score_2    -0.005653       0.012110         -0.027350   \n",
       "key_contact_lead_score  0.033539      -0.006647         -0.032743   \n",
       "month                   0.035138      -0.009196         -0.006613   \n",
       "\n",
       "                        max_employees  quote_sub  amount_paid  \\\n",
       "lead_age                     0.007140  -0.020380    -0.014684   \n",
       "num_employees                0.696777   0.194602     0.085493   \n",
       "zi_num_employees             0.882592   0.002369    -0.045517   \n",
       "max_employees                1.000000   0.045606     0.083371   \n",
       "quote_sub                    0.045606   1.000000     0.733627   \n",
       "amount_paid                  0.083371   0.733627     1.000000   \n",
       "converted_to_opp                  NaN        NaN          NaN   \n",
       "lead_pardot_score           -0.005737  -0.022044     0.020508   \n",
       "lead_pardot_score_2         -0.006039  -0.024480     0.020759   \n",
       "key_contact_lead_score      -0.011703  -0.060440    -0.034503   \n",
       "month                       -0.022248  -0.008896     0.001788   \n",
       "\n",
       "                        converted_to_opp  lead_pardot_score  \\\n",
       "lead_age                       -0.379844          -0.025094   \n",
       "num_employees                  -0.015424           0.011169   \n",
       "zi_num_employees               -0.021667          -0.018658   \n",
       "max_employees                        NaN          -0.005737   \n",
       "quote_sub                            NaN          -0.022044   \n",
       "amount_paid                          NaN           0.020508   \n",
       "converted_to_opp                1.000000                NaN   \n",
       "lead_pardot_score                    NaN           1.000000   \n",
       "lead_pardot_score_2             0.163938           0.985063   \n",
       "key_contact_lead_score               NaN           0.015014   \n",
       "month                           0.039061           0.000022   \n",
       "\n",
       "                        lead_pardot_score_2  key_contact_lead_score     month  \n",
       "lead_age                          -0.005653                0.033539  0.035138  \n",
       "num_employees                      0.012110               -0.006647 -0.009196  \n",
       "zi_num_employees                  -0.027350               -0.032743 -0.006613  \n",
       "max_employees                     -0.006039               -0.011703 -0.022248  \n",
       "quote_sub                         -0.024480               -0.060440 -0.008896  \n",
       "amount_paid                        0.020759               -0.034503  0.001788  \n",
       "converted_to_opp                   0.163938                     NaN  0.039061  \n",
       "lead_pardot_score                  0.985063                0.015014  0.000022  \n",
       "lead_pardot_score_2                1.000000                0.017416  0.121183  \n",
       "key_contact_lead_score             0.017416                1.000000  0.018682  \n",
       "month                              0.121183                0.018682  1.000000  "
      ]
     },
     "execution_count": 102,
     "metadata": {},
     "output_type": "execute_result"
    }
   ],
   "source": [
    "# Check for correlations.\n",
    "\n",
    "data.corr()"
   ]
  },
  {
   "cell_type": "code",
   "execution_count": 104,
   "id": "present-kernel",
   "metadata": {},
   "outputs": [
    {
     "data": {
      "text/plain": [
       "<AxesSubplot:xlabel='converted_to_opp', ylabel='lead_pardot_score_2'>"
      ]
     },
     "execution_count": 104,
     "metadata": {},
     "output_type": "execute_result"
    },
    {
     "data": {
      "image/png": "[encoded data removed]",
      "text/plain": [
       "<Figure size 432x288 with 1 Axes>"
      ]
     },
     "metadata": {
      "needs_background": "light"
     },
     "output_type": "display_data"
    }
   ],
   "source": [
    "# Make a boxplot of main anticipated relationship: lead score versus opportunity conversion.\n",
    "sns.boxplot(x=\"converted_to_opp\", y=\"lead_pardot_score_2\", data=data)"
   ]
  },
  {
   "cell_type": "code",
   "execution_count": 111,
   "id": "executive-positive",
   "metadata": {},
   "outputs": [
    {
     "name": "stdout",
     "output_type": "stream",
     "text": [
      "<matplotlib.collections.PathCollection object at 0x000001F588AE88E0>\n"
     ]
    },
    {
     "data": {
      "image/png": "[encoded data removed]",
      "text/plain": [
       "<Figure size 432x288 with 1 Axes>"
      ]
     },
     "metadata": {
      "needs_background": "light"
     },
     "output_type": "display_data"
    }
   ],
   "source": [
    "# Create scatterplots of critical anticipated relationships.\n",
    "print(plt.scatter(data['converted_to_opp'],data['lead_pardot_score_2']))"
   ]
  },
  {
   "cell_type": "code",
   "execution_count": 108,
   "id": "italic-coordination",
   "metadata": {},
   "outputs": [
    {
     "name": "stdout",
     "output_type": "stream",
     "text": [
      "<matplotlib.collections.PathCollection object at 0x000001F58D6D7070>\n"
     ]
    },
    {
     "data": {
      "image/png": "[encoded data removed]",
      "text/plain": [
       "<Figure size 432x288 with 1 Axes>"
      ]
     },
     "metadata": {
      "needs_background": "light"
     },
     "output_type": "display_data"
    }
   ],
   "source": [
    "print(plt.scatter(data['lead_age'],data['lead_pardot_score_2']))"
   ]
  },
  {
   "cell_type": "code",
   "execution_count": 109,
   "id": "stuck-venezuela",
   "metadata": {},
   "outputs": [
    {
     "name": "stdout",
     "output_type": "stream",
     "text": [
      "<matplotlib.collections.PathCollection object at 0x000001F58D6B62B0>\n"
     ]
    },
    {
     "data": {
      "image/png": "[encoded data removed]",
      "text/plain": [
       "<Figure size 432x288 with 1 Axes>"
      ]
     },
     "metadata": {
      "needs_background": "light"
     },
     "output_type": "display_data"
    }
   ],
   "source": [
    "print(plt.scatter(data['num_employees'],data['lead_pardot_score_2']))"
   ]
  },
  {
   "cell_type": "code",
   "execution_count": 110,
   "id": "bearing-rogers",
   "metadata": {},
   "outputs": [
    {
     "name": "stdout",
     "output_type": "stream",
     "text": [
      "<matplotlib.collections.PathCollection object at 0x000001F588B18B80>\n"
     ]
    },
    {
     "data": {
      "image/png": "[encoded data removed]",
      "text/plain": [
       "<Figure size 432x288 with 1 Axes>"
      ]
     },
     "metadata": {
      "needs_background": "light"
     },
     "output_type": "display_data"
    }
   ],
   "source": [
    "print(plt.scatter(data['month'],data['lead_pardot_score_2']))"
   ]
  },
  {
   "cell_type": "code",
   "execution_count": null,
   "id": "bulgarian-return",
   "metadata": {},
   "outputs": [],
   "source": [
    "# Conclusions: the data are now clean and based on the correlation matrix above, I anticipate finding some relationships between\n",
    "# the various independent variables and the dependent variable."
   ]
  }
 ],
 "metadata": {
  "kernelspec": {
   "display_name": "Python 3",
   "language": "python",
   "name": "python3"
  },
  "language_info": {
   "codemirror_mode": {
    "name": "ipython",
    "version": 3
   },
   "file_extension": ".py",
   "mimetype": "text/x-python",
   "name": "python",
   "nbconvert_exporter": "python",
   "pygments_lexer": "ipython3",
   "version": "3.8.5"
  }
 },
 "nbformat": 4,
 "nbformat_minor": 5
}

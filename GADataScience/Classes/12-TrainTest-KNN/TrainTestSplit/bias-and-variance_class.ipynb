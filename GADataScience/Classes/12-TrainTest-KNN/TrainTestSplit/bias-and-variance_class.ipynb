{
 "cells": [
  {
   "cell_type": "markdown",
   "metadata": {},
   "source": [
    "<img src=\"http://imgur.com/1ZcRyrc.png\" style=\"float: left; margin: 20px; height: 55px\">\n",
    "\n",
    "# Train/Test Split and Bias and Variance\n",
    "\n",
    "_Authors: Joseph Nelson (DC), Kevin Markham (DC)_\n",
    "\n",
    "---"
   ]
  },
  {
   "cell_type": "markdown",
   "metadata": {},
   "source": [
    "<a id=\"learning-objectives\"></a>\n",
    "<a id=\"learning-objectives\"></a>\n",
    "<a id=\"learning-objectives\"></a>\n",
    "### Learning Objectives\n",
    "- Define error due to bias and error due to variance.\n",
    "- Identify the bias-variance trade-off.\n",
    "- Describe what overfitting and underfitting means in the context of model building.\n",
    "- Explain problems associated with over- and underfitting.\n",
    "- Grasp why train/test split is necessary.\n",
    "- Explore k-folds, LOOCV, and three split methods."
   ]
  },
  {
   "cell_type": "markdown",
   "metadata": {},
   "source": [
    "### Lesson Guide\n",
    "- [Bias and Variance Trade-Off](#bias-and-variance-trade-off)\n",
    "\t- [Bias? Variance?](#bias-variance)\n",
    "\t- [Exploring the Bias-Variance Trade-Off](#exploring-the-bias-variance-tradeoff)\n",
    "\t- [Brain and Body Weight Mammal Data Set](#brain-and-body-weight-mammal-dataset)\n",
    "\t- [Making a Prediction](#making-a-prediction)\n",
    "- [Making a Prediction From a Sample](#making-a-prediction-from-a-sample)\n",
    "\t- [Let's Try Something Completely Different](#lets-try-something-completely-different)\n",
    "- [Balancing Bias and Variance](#balancing-bias-and-variance)\n",
    "- [Train/Test Split](#train-test-split)\n",
    "\t- [Evaluation Procedure #1: Train and Test on the Entire Data Set (Do Not Do This)](#evaluation-procedure--train-and-test-on-the-entire-dataset-do-not-do-this)\n",
    "\t- [Problems With Training and Testing on the Same Data](#problems-with-training-and-testing-on-the-same-data)\n",
    "\t- [Evaluation Procedure #2: Train/Test Split](#evaluation-procedure--traintest-split)\n",
    "\t- [Comparing Test Performance With a Null Baseline](#comparing-test-performance-with-a-null-baseline)\n",
    "- [K-Folds Cross-Validation](#k-folds-cross-validation)\n",
    "\t- [Leave-One-Out Cross-Validation](#leave-one-out-cross-validation)\n",
    "\t- [Intro to Cross-Validation With the Boston Data](#intro-to-cross-validation-with-the-boston-data)\n",
    "- [Three-Way Data Split](#three-way-data-split)\n",
    "\t- [Additional Resources](#additional-resources)\n",
    "- [Summary](#summary)"
   ]
  },
  {
   "cell_type": "markdown",
   "metadata": {},
   "source": [
    "<a id=\"bias-and-variance-trade-off\"></a>\n",
    "## Bias and Variance Trade-Off\n",
    "---\n",
    "\n",
    "The **bias-variance tradeoff** is widely used in machine learning as a conceptual way of comparing and contrasting different models. We only have a few methods that are able to compare all machine learning models. The others are more mathematical.\n",
    "\n",
    "**Bias** is error stemming from incorrect model assumptions.\n",
    "- Example: Assuming data is linear when it has a more complicated structure.\n",
    "\n",
    "**Variance** is error stemming from being overly sensitive from changes to the training data.\n",
    "- Example: Using the training set exactly (e.g. 1-NN) for a model results in a completely different model -- even if the training set differs only slightly.\n",
    "\n",
    "\n",
    "As model complexity **increases**:\n",
    "- Bias **decreases**. (The model can more accurately model complex structure in data.)\n",
    "- Variance **increases**. (The model identifies more complex structures, making it more sensitive to small changes in the training data.)"
   ]
  },
  {
   "cell_type": "markdown",
   "metadata": {},
   "source": [
    "<a id=\"bias-variance\"></a>\n",
    "### Bias? Variance?"
   ]
  },
  {
   "cell_type": "markdown",
   "metadata": {
    "collapsed": true
   },
   "source": [
    "**Conceptual Definitions**\n",
    "- **Bias**: How close are predictions to the actual values?\n",
    "  - Roughly, whether or not our model aims on target.\n",
    "  - If the model cannot represent the data's structure, our predictions could be consistent, but will not be accurate.\n",
    "- **Variance**: How variable are our predictions?\n",
    "  - Roughly, whether or not our model is reliable.\n",
    "  - We will make slightly different predictions given slightly different training sets."
   ]
  },
  {
   "cell_type": "markdown",
   "metadata": {},
   "source": [
    "![](./assets/biasVsVarianceImage.png)"
   ]
  },
  {
   "cell_type": "markdown",
   "metadata": {
    "collapsed": true
   },
   "source": [
    "- Visually, we are building a model where the bulls-eye is the goal.\n",
    "- Each individual hit is one prediction based on our model.\n",
    "- Critically, the success of our model (low variance, low bias) depends on the training data present."
   ]
  },
  {
   "cell_type": "code",
   "execution_count": 1,
   "metadata": {},
   "outputs": [],
   "source": [
    "import pandas as pd\n",
    "import numpy as np\n",
    "import seaborn as sns\n",
    "import matplotlib.pyplot as plt\n",
    "\n",
    "# Allow plots to appear in the notebook.\n",
    "%matplotlib inline"
   ]
  },
  {
   "cell_type": "markdown",
   "metadata": {},
   "source": [
    "---\n",
    "\n",
    "<a id=\"train-test-split\"></a>\n",
    "## Train-test-split"
   ]
  },
  {
   "cell_type": "markdown",
   "metadata": {},
   "source": [
    "For the rest of the lab, we will look at three evaluation procedures for predicting model out-of-sample accuracy:\n",
    "\n",
    "1. **Train on the entire dataset** should never be done to estimate model accuracy on out-of-sample data! After all, training error can be made arbitrarily small or large. You might train on the entire dataset as the very last step when a model is chosen, hoping to make the final model as accurate as possible. Or, you could use this to estimate the degree of overfitting.\n",
    "2. **Train-test-split** is useful if cross-validation is not practical (e.g. it takes too long to train). It is also useful for computing a quick confusion matrix. You could also use this as a final step after the model is finalized (often called evaluating the model against a **validation set**).\n",
    "3. **Cross-validation** is the gold standard for estimating accuracy and comparing accuracy across models.\n",
    "4. **Three-way split** combines cross-validation and the train-test-split. It takes an initial split to be used as a final validation set, then uses cross-validation on the rest."
   ]
  },
  {
   "cell_type": "code",
   "execution_count": 2,
   "metadata": {},
   "outputs": [],
   "source": [
    "import pandas as pd\n",
    "import numpy as np\n",
    "from sklearn.datasets import load_boston\n",
    "\n",
    "boston = load_boston()"
   ]
  },
  {
   "cell_type": "code",
   "execution_count": 3,
   "metadata": {},
   "outputs": [
    {
     "name": "stdout",
     "output_type": "stream",
     "text": [
      ".. _boston_dataset:\n",
      "\n",
      "Boston house prices dataset\n",
      "---------------------------\n",
      "\n",
      "**Data Set Characteristics:**  \n",
      "\n",
      "    :Number of Instances: 506 \n",
      "\n",
      "    :Number of Attributes: 13 numeric/categorical predictive. Median Value (attribute 14) is usually the target.\n",
      "\n",
      "    :Attribute Information (in order):\n",
      "        - CRIM     per capita crime rate by town\n",
      "        - ZN       proportion of residential land zoned for lots over 25,000 sq.ft.\n",
      "        - INDUS    proportion of non-retail business acres per town\n",
      "        - CHAS     Charles River dummy variable (= 1 if tract bounds river; 0 otherwise)\n",
      "        - NOX      nitric oxides concentration (parts per 10 million)\n",
      "        - RM       average number of rooms per dwelling\n",
      "        - AGE      proportion of owner-occupied units built prior to 1940\n",
      "        - DIS      weighted distances to five Boston employment centres\n",
      "        - RAD      index of accessibility to radial highways\n",
      "        - TAX      full-value property-tax rate per $10,000\n",
      "        - PTRATIO  pupil-teacher ratio by town\n",
      "        - B        1000(Bk - 0.63)^2 where Bk is the proportion of blacks by town\n",
      "        - LSTAT    % lower status of the population\n",
      "        - MEDV     Median value of owner-occupied homes in $1000's\n",
      "\n",
      "    :Missing Attribute Values: None\n",
      "\n",
      "    :Creator: Harrison, D. and Rubinfeld, D.L.\n",
      "\n",
      "This is a copy of UCI ML housing dataset.\n",
      "https://archive.ics.uci.edu/ml/machine-learning-databases/housing/\n",
      "\n",
      "\n",
      "This dataset was taken from the StatLib library which is maintained at Carnegie Mellon University.\n",
      "\n",
      "The Boston house-price data of Harrison, D. and Rubinfeld, D.L. 'Hedonic\n",
      "prices and the demand for clean air', J. Environ. Economics & Management,\n",
      "vol.5, 81-102, 1978.   Used in Belsley, Kuh & Welsch, 'Regression diagnostics\n",
      "...', Wiley, 1980.   N.B. Various transformations are used in the table on\n",
      "pages 244-261 of the latter.\n",
      "\n",
      "The Boston house-price data has been used in many machine learning papers that address regression\n",
      "problems.   \n",
      "     \n",
      ".. topic:: References\n",
      "\n",
      "   - Belsley, Kuh & Welsch, 'Regression diagnostics: Identifying Influential Data and Sources of Collinearity', Wiley, 1980. 244-261.\n",
      "   - Quinlan,R. (1993). Combining Instance-Based and Model-Based Learning. In Proceedings on the Tenth International Conference of Machine Learning, 236-243, University of Massachusetts, Amherst. Morgan Kaufmann.\n",
      "\n"
     ]
    }
   ],
   "source": [
    "print(boston.DESCR)"
   ]
  },
  {
   "cell_type": "markdown",
   "metadata": {},
   "source": [
    "#### Create X and y variable to stores the feature matrix and response from the Boston data."
   ]
  },
  {
   "cell_type": "code",
   "execution_count": 4,
   "metadata": {},
   "outputs": [],
   "source": [
    "# Create a DataFrame for both parts of data; don't forget to assign column names.\n",
    "X = pd.DataFrame(boston.data, columns=boston.feature_names)\n",
    "y = pd.DataFrame(boston.target, columns=['MEDV'])"
   ]
  },
  {
   "cell_type": "markdown",
   "metadata": {},
   "source": [
    "#### Concatenate y and X, then overwrite the Boston variable."
   ]
  },
  {
   "cell_type": "code",
   "execution_count": 5,
   "metadata": {},
   "outputs": [],
   "source": [
    "boston = pd.concat([y, X], axis=1)"
   ]
  },
  {
   "cell_type": "markdown",
   "metadata": {},
   "source": [
    "<a id=\"evaluation-procedure--traintest-split\"></a>\n",
    "### Evaluation procedure #2: Train/Test Split"
   ]
  },
  {
   "cell_type": "markdown",
   "metadata": {
    "collapsed": true
   },
   "source": [
    "1. Split the data set into two pieces: a **training set** and a **testing set**.\n",
    "2. Train the model on the **training set**.\n",
    "3. Test the model on the **testing set** and evaluate how well we did.\n",
    "\n",
    "Often a good rule-of-thumb is 70% training/30% test, but this can vary based on the size of your dataset. For example, with a small dataset you would need to use as much training data as possible (in return, your test accuracy will be more variable).\n",
    "\n",
    "What does this accomplish?\n",
    "\n",
    "- Models can be trained and tested on **different data** (We treat testing data like out-of-sample data).\n",
    "- Response values are known for the testing set and thus **predictions can be evaluated**.\n",
    "\n",
    "This is known as the **testing root mean squared error** because we are evaluating the model on an independent \"test set\" that was not used during model training.\n",
    "\n",
    "**The testing RMSE is a better estimate of out-of-sample performance than the training RMSE.**"
   ]
  },
  {
   "cell_type": "markdown",
   "metadata": {
    "collapsed": true
   },
   "source": [
    "#### Understanding the `train_test_split` Function"
   ]
  },
  {
   "cell_type": "code",
   "execution_count": 6,
   "metadata": {},
   "outputs": [],
   "source": [
    "from sklearn.model_selection import train_test_split\n",
    "from sklearn import metrics\n",
    "\n",
    "X_train, X_test, y_train, y_test = train_test_split(X, y)"
   ]
  },
  {
   "cell_type": "code",
   "execution_count": 7,
   "metadata": {},
   "outputs": [
    {
     "name": "stdout",
     "output_type": "stream",
     "text": [
      "(506, 13)\n",
      "(506, 1)\n",
      "(379, 13)\n",
      "(127, 13)\n",
      "(379, 1)\n",
      "(127, 1)\n"
     ]
    }
   ],
   "source": [
    "# Before splitting\n",
    "print(X.shape)\n",
    "print(y.shape)\n",
    "\n",
    "# After splitting\n",
    "print(X_train.shape)\n",
    "print(X_test.shape)\n",
    "\n",
    "print(y_train.shape)\n",
    "print(y_test.shape)"
   ]
  },
  {
   "cell_type": "code",
   "execution_count": 8,
   "metadata": {},
   "outputs": [
    {
     "name": "stdout",
     "output_type": "stream",
     "text": [
      "(506, 1)\n",
      "(379, 1)\n",
      "(127, 1)\n"
     ]
    }
   ],
   "source": [
    "# Recall that (1,) is a tuple. \n",
    "# The trailing comma distinguishes it as being a tuple, not an integer.\n",
    "\n",
    "# Before splitting\n",
    "print(y.shape)\n",
    "\n",
    "# After splitting\n",
    "print(y_train.shape)\n",
    "print(y_test.shape)"
   ]
  },
  {
   "cell_type": "markdown",
   "metadata": {},
   "source": [
    "![train_test_split](./assets/train_test_split.png)"
   ]
  },
  {
   "cell_type": "markdown",
   "metadata": {
    "collapsed": true
   },
   "source": [
    "#### Understanding the `random_state` Parameter\n",
    "\n",
    "The `random_state` is a pseudo-random number that allows us to reproduce our results every time we run them. However, it makes it impossible to predict what are exact results will be if we chose a new `random_state`.\n",
    "\n",
    "`random_state` is very useful for testing that your model was made correctly since it provides you with the same split each time. However, make sure you remove it if you are testing for model variability!"
   ]
  },
  {
   "cell_type": "code",
   "execution_count": 9,
   "metadata": {},
   "outputs": [
    {
     "name": "stdout",
     "output_type": "stream",
     "text": [
      "        CRIM   ZN  INDUS  CHAS    NOX     RM   AGE     DIS  RAD    TAX  \\\n",
      "137  0.35233  0.0  21.89   0.0  0.624  6.454  98.4  1.8498  4.0  437.0   \n",
      "\n",
      "     PTRATIO       B  LSTAT  \n",
      "137     21.2  394.08  14.59  \n"
     ]
    }
   ],
   "source": [
    "# WITHOUT a random_state parameter:\n",
    "#  (If you run this code several times, you get different results!)\n",
    "X_train, X_test, y_train, y_test = train_test_split(X, y)\n",
    "\n",
    "# Print the first element of each object.\n",
    "print(X_train.head(1))"
   ]
  },
  {
   "cell_type": "code",
   "execution_count": 10,
   "metadata": {},
   "outputs": [
    {
     "name": "stdout",
     "output_type": "stream",
     "text": [
      "        CRIM   ZN  INDUS  CHAS    NOX    RM   AGE     DIS  RAD    TAX  \\\n",
      "502  0.04527  0.0  11.93   0.0  0.573  6.12  76.7  2.2875  1.0  273.0   \n",
      "\n",
      "     PTRATIO      B  LSTAT  \n",
      "502     21.0  396.9   9.08  \n",
      "        CRIM    ZN  INDUS  CHAS    NOX     RM   AGE     DIS  RAD    TAX  \\\n",
      "307  0.04932  33.0   2.18   0.0  0.472  6.849  70.3  3.1827  7.0  222.0   \n",
      "\n",
      "     PTRATIO      B  LSTAT  \n",
      "307     18.4  396.9   7.53  \n",
      "     MEDV\n",
      "502  20.6\n",
      "     MEDV\n",
      "307  28.2\n"
     ]
    }
   ],
   "source": [
    "# WITH a random_state parameter:\n",
    "#  (Same split every time! Note you can change the random state to any integer.)\n",
    "X_train, X_test, y_train, y_test = train_test_split(X, y, random_state=1)\n",
    "\n",
    "# Print the first element of each object.\n",
    "print(X_train.head(1))\n",
    "print(X_test.head(1))\n",
    "print(y_train.head(1))\n",
    "print(y_test.head(1))"
   ]
  },
  {
   "cell_type": "code",
   "execution_count": 13,
   "metadata": {},
   "outputs": [
    {
     "data": {
      "text/plain": [
       "LinearRegression()"
      ]
     },
     "execution_count": 13,
     "metadata": {},
     "output_type": "execute_result"
    }
   ],
   "source": [
    "from sklearn.linear_model import LinearRegression\n",
    "lr = LinearRegression()\n",
    "lr.fit(X_train, y_train)"
   ]
  },
  {
   "cell_type": "markdown",
   "metadata": {},
   "source": [
    "## Remember the outputs for comparison"
   ]
  },
  {
   "cell_type": "code",
   "execution_count": 14,
   "metadata": {},
   "outputs": [
    {
     "name": "stdout",
     "output_type": "stream",
     "text": [
      "4.74109521333182\n",
      "4.6795048238087364\n"
     ]
    }
   ],
   "source": [
    "y_pred = lr.predict(X_test)\n",
    "\n",
    "print(np.sqrt(metrics.mean_squared_error(y_train, lr.predict(X_train))))\n",
    "print(np.sqrt(metrics.mean_squared_error(y_test, y_pred)))"
   ]
  },
  {
   "cell_type": "markdown",
   "metadata": {},
   "source": [
    "![Bias-variance tradeoff](./assets/bias_variance.png)"
   ]
  },
  {
   "cell_type": "markdown",
   "metadata": {},
   "source": [
    "#### Go back to Step 1 and try adding new variables and transformations."
   ]
  },
  {
   "cell_type": "markdown",
   "metadata": {},
   "source": [
    "- **Training error**: Decreases as model complexity increases (lower value of k).\n",
    "- **Testing error**: Is minimized at the optimum model complexity."
   ]
  },
  {
   "cell_type": "markdown",
   "metadata": {},
   "source": [
    "<a id=\"comparing-test-performance-with-a-null-baseline\"></a>\n",
    "### Comparing Test Performance With a Null Baseline"
   ]
  },
  {
   "cell_type": "markdown",
   "metadata": {
    "collapsed": true
   },
   "source": [
    "When interpreting the predictive power of a model, it's best to compare it to a baseline using a dummy model, sometimes called a ZeroR model or a baseline model. A dummy model is simply using the mean, median, or most common value as the prediction. This forms a benchmark to compare your model against and becomes especially important in classification where your null accuracy might be 95 percent.\n",
    "\n",
    "For example, suppose your dataset is **imbalanced** -- it contains 99% one class and 1% the other class. Then, your baseline accuracy (always guessing the first class) would be 99%. So, if your model is less than 99% accurate, you know it is worse than the baseline. Imbalanced datasets generally must be trained differently (with less of a focus on accuracy) because of this.\n",
    "\n",
    "You can alternatively use simple models to achieve baseline results, for example nearest neighbors or a basic unigram bag of words for text data."
   ]
  },
  {
   "cell_type": "markdown",
   "metadata": {},
   "source": [
    "#### Examine the baseline root mean squared error using a null model.\n",
    "How does this compare to what we achieved with linear regression. Is our model making an actual improvement?"
   ]
  },
  {
   "cell_type": "code",
   "execution_count": 15,
   "metadata": {},
   "outputs": [
    {
     "ename": "ValueError",
     "evalue": "Input object to FillWithScalar is not a scalar",
     "output_type": "error",
     "traceback": [
      "\u001b[1;31m---------------------------------------------------------------------------\u001b[0m",
      "\u001b[1;31mValueError\u001b[0m                                Traceback (most recent call last)",
      "\u001b[1;32m<ipython-input-15-a51679a4e217>\u001b[0m in \u001b[0;36m<module>\u001b[1;34m\u001b[0m\n\u001b[0;32m      2\u001b[0m \u001b[1;33m\u001b[0m\u001b[0m\n\u001b[0;32m      3\u001b[0m \u001b[1;31m# Fill the array with the mean value of y_test.\u001b[0m\u001b[1;33m\u001b[0m\u001b[1;33m\u001b[0m\u001b[1;33m\u001b[0m\u001b[0m\n\u001b[1;32m----> 4\u001b[1;33m \u001b[0my_null\u001b[0m\u001b[1;33m.\u001b[0m\u001b[0mfill\u001b[0m\u001b[1;33m(\u001b[0m\u001b[0mnp\u001b[0m\u001b[1;33m.\u001b[0m\u001b[0mmean\u001b[0m\u001b[1;33m(\u001b[0m\u001b[0my_test\u001b[0m\u001b[1;33m)\u001b[0m\u001b[1;33m)\u001b[0m\u001b[1;33m\u001b[0m\u001b[1;33m\u001b[0m\u001b[0m\n\u001b[0m\u001b[0;32m      5\u001b[0m \u001b[0my_null\u001b[0m\u001b[1;33m\u001b[0m\u001b[1;33m\u001b[0m\u001b[0m\n",
      "\u001b[1;31mValueError\u001b[0m: Input object to FillWithScalar is not a scalar"
     ]
    }
   ],
   "source": [
    "y_null = np.zeros_like(y_test, dtype=float)\n",
    "\n",
    "# Fill the array with the mean value of y_test.\n",
    "y_null.fill(np.mean(y_test))\n",
    "y_null\n",
    "\n",
    "# this doesn't work but is supposed to be getting the null baseline for each variable (about 23) to see how far prediction is\n",
    "# with all variables being equal compared to actual prediction--RMSE was about 9.4"
   ]
  },
  {
   "cell_type": "code",
   "execution_count": 16,
   "metadata": {},
   "outputs": [
    {
     "name": "stdout",
     "output_type": "stream",
     "text": [
      "25.147840031853956\n"
     ]
    }
   ],
   "source": [
    "print(np.sqrt(metrics.mean_squared_error(y_test, y_null)))"
   ]
  },
  {
   "cell_type": "markdown",
   "metadata": {},
   "source": [
    "<a id=\"k-folds-cross-validation\"></a>\n",
    "## K-Folds Cross-Validation\n",
    "---"
   ]
  },
  {
   "cell_type": "markdown",
   "metadata": {
    "collapsed": true
   },
   "source": [
    "Train/test split provides us with helpful tool, but it's a shame that we are tossing out a large chunk of our data for testing purposes.\n",
    "\n",
    "**How can we use the maximum amount of our data points while still ensuring model integrity?**\n",
    "\n",
    "1. Split our data into a number of different pieces (folds).\n",
    "2. Train using `k-1` folds for training and a different fold for testing.\n",
    "3. Average our model against EACH of those iterations.\n",
    "4. Choose our model and TEST it against the final fold.\n",
    "5. Average all test accuracies to get the estimated out-of-sample accuracy.\n",
    "\n",
    "Although this may sound complicated, we are just training the model on k separate train-test-splits, then taking the average of the resulting test accuracies!"
   ]
  },
  {
   "cell_type": "markdown",
   "metadata": {},
   "source": [
    "![](./assets/cross_validation_diagram.png)"
   ]
  },
  {
   "cell_type": "markdown",
   "metadata": {},
   "source": [
    "<a id=\"leave-one-out-cross-validation\"></a>\n",
    "### Leave-One-Out Cross-Validation"
   ]
  },
  {
   "cell_type": "markdown",
   "metadata": {
    "collapsed": true
   },
   "source": [
    "A special case of k-fold cross-validation is leave-one-out cross-validation. Rather than taking 5–10 folds, we take a fold of size `n-1` and leave one observation to test. \n",
    "\n",
    "Typically, 5–10 fold cross-validaiton is recommended."
   ]
  },
  {
   "cell_type": "markdown",
   "metadata": {},
   "source": [
    "<a id=\"intro-to-cross-validation-with-the-boston-data\"></a>\n",
    "### Intro to Cross-Validation With the Boston Data"
   ]
  },
  {
   "cell_type": "markdown",
   "metadata": {},
   "source": [
    "#### Create a cross-valiation with five folds."
   ]
  },
  {
   "cell_type": "code",
   "execution_count": 18,
   "metadata": {},
   "outputs": [],
   "source": [
    "from sklearn import model_selection"
   ]
  },
  {
   "cell_type": "code",
   "execution_count": 19,
   "metadata": {},
   "outputs": [],
   "source": [
    "kf = model_selection.KFold(n_splits=5, shuffle=True, random_state=22)"
   ]
  },
  {
   "cell_type": "code",
   "execution_count": 20,
   "metadata": {},
   "outputs": [
    {
     "name": "stdout",
     "output_type": "stream",
     "text": [
      "404 [  0   1   4   5   6   7   8   9  10  11  12  14  15  16  17  18  19  20\n",
      "  21  23  24  25  26  27  29  30  32  33  34  36  37  38  39  41  43  44\n",
      "  45  47  48  49  50  51  52  53  54  55  56  57  59  60  61  62  63  64\n",
      "  65  68  69  70  72  74  75  76  78  79  80  81  82  83  84  85  86  87\n",
      "  88  90  91  92  93  94  95  96  97  98  99 100 103 104 105 106 107 108\n",
      " 109 110 112 113 114 115 116 117 118 120 121 124 125 126 128 129 131 132\n",
      " 133 134 135 136 138 139 140 141 142 143 144 145 146 147 149 150 151 153\n",
      " 154 155 156 158 159 160 161 162 164 165 167 168 169 170 171 172 175 176\n",
      " 177 179 181 182 183 184 186 187 188 189 190 191 192 193 194 195 196 197\n",
      " 198 199 200 201 203 204 205 206 207 210 211 212 213 214 215 216 217 218\n",
      " 220 223 224 225 226 227 228 229 230 231 232 233 234 237 238 239 240 241\n",
      " 242 244 245 246 247 248 249 250 251 252 253 254 255 256 257 258 259 260\n",
      " 265 267 268 269 270 272 273 274 275 276 277 278 279 281 283 285 286 287\n",
      " 288 289 290 291 293 294 295 296 297 298 299 300 301 302 303 304 305 306\n",
      " 307 308 309 312 313 314 315 317 318 319 321 322 323 324 325 326 328 331\n",
      " 332 335 336 338 339 340 341 343 344 345 347 348 349 351 352 353 354 355\n",
      " 356 357 358 359 360 361 362 363 365 366 367 368 369 370 371 372 373 374\n",
      " 376 379 382 383 384 385 387 389 390 391 392 393 394 395 397 399 400 401\n",
      " 402 403 404 405 406 407 408 409 410 411 412 413 414 415 416 417 420 421\n",
      " 422 423 424 425 427 428 429 430 431 432 433 436 438 439 440 442 443 444\n",
      " 445 446 447 448 449 450 453 454 455 456 457 460 461 462 463 466 469 470\n",
      " 471 472 473 474 475 477 478 479 480 482 483 484 485 488 490 491 492 495\n",
      " 496 497 498 499 500 501 502 505]\n",
      "102 [  2   3  13  22  28  31  35  40  42  46  58  66  67  71  73  77  89 101\n",
      " 102 111 119 122 123 127 130 137 148 152 157 163 166 173 174 178 180 185\n",
      " 202 208 209 219 221 222 235 236 243 261 262 263 264 266 271 280 282 284\n",
      " 292 310 311 316 320 327 329 330 333 334 337 342 346 350 364 375 377 378\n",
      " 380 381 386 388 396 398 418 419 426 434 435 437 441 451 452 458 459 464\n",
      " 465 467 468 476 481 486 487 489 493 494 503 504]\n",
      "405 [  0   2   3   5   6   7   8   9  10  11  13  14  16  17  18  19  20  21\n",
      "  22  23  24  25  27  28  29  30  31  34  35  37  38  39  40  42  43  44\n",
      "  45  46  47  48  49  50  51  52  53  54  55  58  59  60  61  62  63  64\n",
      "  66  67  68  69  70  71  72  73  74  75  76  77  78  80  81  83  84  87\n",
      "  88  89  91  92  93  95  96  97  99 100 101 102 103 104 105 106 107 108\n",
      " 109 110 111 112 113 115 116 117 118 119 121 122 123 124 125 127 128 129\n",
      " 130 132 133 134 136 137 138 139 141 142 143 144 145 146 148 149 151 152\n",
      " 153 155 156 157 159 160 162 163 165 166 168 170 171 173 174 175 176 178\n",
      " 179 180 181 182 183 184 185 186 187 188 189 190 191 192 194 195 197 198\n",
      " 199 200 201 202 205 207 208 209 210 211 212 213 214 215 217 219 220 221\n",
      " 222 223 225 226 227 229 230 231 232 234 235 236 238 239 241 242 243 246\n",
      " 247 248 249 250 252 253 256 257 258 259 260 261 262 263 264 265 266 269\n",
      " 271 272 273 275 277 278 279 280 281 282 283 284 285 286 287 288 289 290\n",
      " 291 292 293 294 295 296 297 298 299 300 304 306 307 308 310 311 313 314\n",
      " 316 317 318 320 321 322 323 325 326 327 329 330 331 333 334 335 336 337\n",
      " 340 341 342 344 345 346 347 349 350 351 353 355 356 357 358 359 360 361\n",
      " 363 364 365 366 367 368 370 371 372 373 374 375 376 377 378 379 380 381\n",
      " 382 383 386 387 388 390 391 392 393 394 395 396 397 398 399 400 401 403\n",
      " 405 407 408 410 413 414 415 416 417 418 419 422 423 425 426 428 429 430\n",
      " 431 432 434 435 437 438 439 441 442 443 444 445 447 448 449 450 451 452\n",
      " 453 455 457 458 459 460 462 463 464 465 466 467 468 471 472 473 474 475\n",
      " 476 477 479 480 481 482 483 484 485 486 487 488 489 490 491 492 493 494\n",
      " 496 497 498 499 500 502 503 504 505]\n",
      "101 [  1   4  12  15  26  32  33  36  41  56  57  65  79  82  85  86  90  94\n",
      "  98 114 120 126 131 135 140 147 150 154 158 161 164 167 169 172 177 193\n",
      " 196 203 204 206 216 218 224 228 233 237 240 244 245 251 254 255 267 268\n",
      " 270 274 276 301 302 303 305 309 312 315 319 324 328 332 338 339 343 348\n",
      " 352 354 362 369 384 385 389 402 404 406 409 411 412 420 421 424 427 433\n",
      " 436 440 446 454 456 461 469 470 478 495 501]\n",
      "405 [  0   1   2   3   4   5   6   7   8   9  10  11  12  13  14  15  16  17\n",
      "  19  21  22  23  24  26  27  28  29  31  32  33  34  35  36  38  40  41\n",
      "  42  44  45  46  47  48  52  53  54  56  57  58  60  62  63  64  65  66\n",
      "  67  68  69  70  71  72  73  76  77  79  80  81  82  83  84  85  86  87\n",
      "  88  89  90  92  93  94  96  98 100 101 102 104 105 106 107 108 111 113\n",
      " 114 115 116 118 119 120 121 122 123 126 127 129 130 131 132 133 135 137\n",
      " 138 139 140 141 142 143 145 146 147 148 149 150 152 153 154 155 156 157\n",
      " 158 161 162 163 164 165 166 167 168 169 172 173 174 175 177 178 179 180\n",
      " 181 183 184 185 187 190 191 192 193 194 195 196 198 199 202 203 204 206\n",
      " 207 208 209 210 211 212 214 215 216 217 218 219 221 222 223 224 225 226\n",
      " 227 228 230 232 233 234 235 236 237 238 240 241 243 244 245 247 248 249\n",
      " 251 252 253 254 255 256 257 260 261 262 263 264 266 267 268 270 271 272\n",
      " 273 274 275 276 277 278 279 280 281 282 284 287 289 290 291 292 293 294\n",
      " 295 298 300 301 302 303 305 308 309 310 311 312 313 314 315 316 317 318\n",
      " 319 320 321 322 324 326 327 328 329 330 332 333 334 335 337 338 339 340\n",
      " 342 343 344 345 346 348 350 352 354 356 358 359 360 361 362 363 364 365\n",
      " 367 369 371 372 373 374 375 376 377 378 379 380 381 383 384 385 386 387\n",
      " 388 389 390 391 392 393 394 395 396 397 398 399 402 403 404 406 408 409\n",
      " 410 411 412 413 414 415 416 418 419 420 421 423 424 425 426 427 428 429\n",
      " 431 432 433 434 435 436 437 438 439 440 441 442 443 445 446 448 449 450\n",
      " 451 452 453 454 456 457 458 459 460 461 464 465 466 467 468 469 470 471\n",
      " 472 473 475 476 477 478 479 481 482 483 484 486 487 488 489 491 493 494\n",
      " 495 497 498 499 500 501 502 503 504]\n",
      "101 [ 18  20  25  30  37  39  43  49  50  51  55  59  61  74  75  78  91  95\n",
      "  97  99 103 109 110 112 117 124 125 128 134 136 144 151 159 160 170 171\n",
      " 176 182 186 188 189 197 200 201 205 213 220 229 231 239 242 246 250 258\n",
      " 259 265 269 283 285 286 288 296 297 299 304 306 307 323 325 331 336 341\n",
      " 347 349 351 353 355 357 366 368 370 382 400 401 405 407 417 422 430 444\n",
      " 447 455 462 463 474 480 485 490 492 496 505]\n",
      "405 [  1   2   3   4   5   7   8  12  13  14  15  17  18  20  22  23  25  26\n",
      "  27  28  29  30  31  32  33  35  36  37  39  40  41  42  43  45  46  47\n",
      "  48  49  50  51  52  53  55  56  57  58  59  60  61  65  66  67  71  73\n",
      "  74  75  77  78  79  80  81  82  83  84  85  86  88  89  90  91  93  94\n",
      "  95  96  97  98  99 100 101 102 103 106 108 109 110 111 112 113 114 115\n",
      " 116 117 119 120 121 122 123 124 125 126 127 128 129 130 131 132 133 134\n",
      " 135 136 137 139 140 144 145 146 147 148 149 150 151 152 154 155 156 157\n",
      " 158 159 160 161 162 163 164 166 167 168 169 170 171 172 173 174 176 177\n",
      " 178 180 181 182 185 186 188 189 190 193 194 196 197 200 201 202 203 204\n",
      " 205 206 208 209 210 213 215 216 218 219 220 221 222 224 225 228 229 231\n",
      " 233 234 235 236 237 238 239 240 242 243 244 245 246 249 250 251 252 253\n",
      " 254 255 258 259 261 262 263 264 265 266 267 268 269 270 271 274 275 276\n",
      " 279 280 282 283 284 285 286 288 290 292 294 296 297 299 300 301 302 303\n",
      " 304 305 306 307 308 309 310 311 312 313 314 315 316 318 319 320 321 323\n",
      " 324 325 326 327 328 329 330 331 332 333 334 335 336 337 338 339 340 341\n",
      " 342 343 345 346 347 348 349 350 351 352 353 354 355 356 357 358 359 361\n",
      " 362 364 365 366 367 368 369 370 373 375 377 378 380 381 382 383 384 385\n",
      " 386 387 388 389 390 392 393 395 396 397 398 400 401 402 403 404 405 406\n",
      " 407 408 409 410 411 412 413 416 417 418 419 420 421 422 423 424 425 426\n",
      " 427 430 431 433 434 435 436 437 440 441 443 444 445 446 447 448 451 452\n",
      " 454 455 456 458 459 461 462 463 464 465 466 467 468 469 470 471 472 474\n",
      " 475 476 477 478 479 480 481 484 485 486 487 488 489 490 491 492 493 494\n",
      " 495 496 497 498 499 501 503 504 505]\n",
      "101 [  0   6   9  10  11  16  19  21  24  34  38  44  54  62  63  64  68  69\n",
      "  70  72  76  87  92 104 105 107 118 138 141 142 143 153 165 175 179 183\n",
      " 184 187 191 192 195 198 199 207 211 212 214 217 223 226 227 230 232 241\n",
      " 247 248 256 257 260 272 273 277 278 281 287 289 291 293 295 298 317 322\n",
      " 344 360 363 371 372 374 376 379 391 394 399 414 415 428 429 432 438 439\n",
      " 442 449 450 453 457 460 473 482 483 500 502]\n",
      "405 [  0   1   2   3   4   6   9  10  11  12  13  15  16  18  19  20  21  22\n",
      "  24  25  26  28  30  31  32  33  34  35  36  37  38  39  40  41  42  43\n",
      "  44  46  49  50  51  54  55  56  57  58  59  61  62  63  64  65  66  67\n",
      "  68  69  70  71  72  73  74  75  76  77  78  79  82  85  86  87  89  90\n",
      "  91  92  94  95  97  98  99 101 102 103 104 105 107 109 110 111 112 114\n",
      " 117 118 119 120 122 123 124 125 126 127 128 130 131 134 135 136 137 138\n",
      " 140 141 142 143 144 147 148 150 151 152 153 154 157 158 159 160 161 163\n",
      " 164 165 166 167 169 170 171 172 173 174 175 176 177 178 179 180 182 183\n",
      " 184 185 186 187 188 189 191 192 193 195 196 197 198 199 200 201 202 203\n",
      " 204 205 206 207 208 209 211 212 213 214 216 217 218 219 220 221 222 223\n",
      " 224 226 227 228 229 230 231 232 233 235 236 237 239 240 241 242 243 244\n",
      " 245 246 247 248 250 251 254 255 256 257 258 259 260 261 262 263 264 265\n",
      " 266 267 268 269 270 271 272 273 274 276 277 278 280 281 282 283 284 285\n",
      " 286 287 288 289 291 292 293 295 296 297 298 299 301 302 303 304 305 306\n",
      " 307 309 310 311 312 315 316 317 319 320 322 323 324 325 327 328 329 330\n",
      " 331 332 333 334 336 337 338 339 341 342 343 344 346 347 348 349 350 351\n",
      " 352 353 354 355 357 360 362 363 364 366 368 369 370 371 372 374 375 376\n",
      " 377 378 379 380 381 382 384 385 386 388 389 391 394 396 398 399 400 401\n",
      " 402 404 405 406 407 409 411 412 414 415 417 418 419 420 421 422 424 426\n",
      " 427 428 429 430 432 433 434 435 436 437 438 439 440 441 442 444 446 447\n",
      " 449 450 451 452 453 454 455 456 457 458 459 460 461 462 463 464 465 467\n",
      " 468 469 470 473 474 476 478 480 481 482 483 485 486 487 489 490 492 493\n",
      " 494 495 496 500 501 502 503 504 505]\n",
      "101 [  5   7   8  14  17  23  27  29  45  47  48  52  53  60  80  81  83  84\n",
      "  88  93  96 100 106 108 113 115 116 121 129 132 133 139 145 146 149 155\n",
      " 156 162 168 181 190 194 210 215 225 234 238 249 252 253 275 279 290 294\n",
      " 300 308 313 314 318 321 326 335 340 345 356 358 359 361 365 367 373 383\n",
      " 387 390 392 393 395 397 403 408 410 413 416 423 425 431 443 445 448 466\n",
      " 471 472 475 477 479 484 488 491 497 498 499]\n"
     ]
    }
   ],
   "source": [
    "for train_index, test_index in kf.split(X, y):\n",
    "    print(len(train_index), train_index)\n",
    "    print(len(test_index), test_index)"
   ]
  },
  {
   "cell_type": "code",
   "execution_count": 24,
   "metadata": {},
   "outputs": [
    {
     "name": "stdout",
     "output_type": "stream",
     "text": [
      "~~~~ CROSS VALIDATION each fold ~~~~\n",
      "Model 1\n",
      "RMSE: 4.557486674063895\n",
      "R2: 0.7372764083054522\n",
      "\n",
      "Model 2\n",
      "RMSE: 4.947676432287839\n",
      "R2: 0.738407555904109\n",
      "\n",
      "Model 3\n",
      "RMSE: 5.040685667588865\n",
      "R2: 0.7380846085724404\n",
      "\n",
      "Model 4\n",
      "RMSE: 5.449415076048851\n",
      "R2: 0.737941157765235\n",
      "\n",
      "Model 5\n",
      "RMSE: 4.215218147998688\n",
      "R2: 0.7399617090488522\n",
      "\n",
      "~~~~ SUMMARY OF CROSS VALIDATION ~~~~\n",
      "Mean of RMSE for all folds: 4.842096399597628\n",
      "Mean of R2 for all folds: 0.7383342879192176\n"
     ]
    }
   ],
   "source": [
    "mse_values = []\n",
    "scores = []\n",
    "n = 0\n",
    "\n",
    "print(\"~~~~ CROSS VALIDATION each fold ~~~~\")\n",
    "for train_index, test_index in kf.split(X, y):\n",
    "    \n",
    "    lr = LinearRegression().fit(X.iloc[train_index], y.iloc[train_index])\n",
    "    \n",
    "    mse_values.append(np.sqrt(metrics.mean_squared_error(y.iloc[test_index], lr.predict(X.iloc[test_index]))))\n",
    "    scores.append(lr.score(X, y))\n",
    "    \n",
    "    n += 1\n",
    "    \n",
    "    print('Model {}'.format(n))\n",
    "    print('RMSE: {}'.format(mse_values[n-1]))\n",
    "    print('R2: {}\\n'.format(scores[n-1]))\n",
    "\n",
    "\n",
    "print(\"~~~~ SUMMARY OF CROSS VALIDATION ~~~~\")\n",
    "print('Mean of RMSE for all folds: {}'.format(np.mean(mse_values)))\n",
    "print('Mean of R2 for all folds: {}'.format(np.mean(scores)))"
   ]
  },
  {
   "cell_type": "code",
   "execution_count": 22,
   "metadata": {},
   "outputs": [
    {
     "name": "stdout",
     "output_type": "stream",
     "text": [
      "CV Root Mean Squared Error:  4.842096399597628\n",
      "CV R2 Score:  0.7138131423455494\n"
     ]
    }
   ],
   "source": [
    "from sklearn.model_selection import cross_val_score\n",
    "\n",
    "# Note the results will vary each run since we take a different\n",
    "#   subset of the data each time (since shuffle=True)\n",
    "kf = model_selection.KFold(n_splits=5, shuffle=True, random_state=22)\n",
    "\n",
    "print(\"CV Root Mean Squared Error: \", np.mean(-cross_val_score(lr, X, y, cv=kf, scoring='neg_root_mean_squared_error')))\n",
    "print(\"CV R2 Score: \", np.mean(cross_val_score(lr, X, y, cv=kf)))"
   ]
  },
  {
   "cell_type": "markdown",
   "metadata": {},
   "source": [
    "While the cross-validated approach here generated more overall error, which of the two approaches would predict new data more accurately — the single model or the cross-validated, averaged one? Why?\n",
    "\n",
    "\n",
    "\n",
    "**Answer**: \n",
    "\n",
    "...."
   ]
  },
  {
   "cell_type": "markdown",
   "metadata": {},
   "source": [
    "<a id=\"three-way-data-split\"></a>\n",
    "## Three-Way Data Split\n",
    "---\n",
    "\n",
    "The most common workflow is actually a combination of train/test split and cross-validation. We take a train/test split on our data right away and try not spend a lot of time using the testing data set. Instead, we take our training data and tune our models using cross-validation. When we think we are done, we do one last test on the testing data to make sure we haven't accidently overfit to our training data.\n",
    "\n",
    "Even with good evaluation procedures, it is incredibly easy to overfit our models by including features that will not be available during production or leak information about our testing data in other ways."
   ]
  },
  {
   "cell_type": "markdown",
   "metadata": {},
   "source": [
    "![](./assets/Train-Test-Split-CV.png)"
   ]
  },
  {
   "cell_type": "markdown",
   "metadata": {
    "collapsed": true
   },
   "source": [
    "- If model selection and true error estimates are to be computed simultaneously, three disjointed data sets are best.\n",
    "    - **Training set**: A set of examples used for learning – what parameters of the classifier?\n",
    "    - **Validation set**: A set of examples used to tune the parameters of the classifier.\n",
    "    - **Testing set**: A set of examples used ONLY to assess the performance of the fully trained classifier.\n",
    "- Validation and testing must be separate data sets. Once you have the final model set, you cannot do any additional tuning after testing."
   ]
  },
  {
   "cell_type": "markdown",
   "metadata": {
    "collapsed": true
   },
   "source": [
    "1. Divide data into training, validation, and testing sets.\n",
    "2. Select architecture (model type) and training parameters (k).\n",
    "3. Train the model using the training set.\n",
    "4. Evaluate the model using the training set.\n",
    "5. Repeat 2–4 times, selecting different architectures (models) and tuning parameters.\n",
    "6. Select the best model.\n",
    "7. Assess the model with the final testing set."
   ]
  },
  {
   "cell_type": "markdown",
   "metadata": {
    "collapsed": true
   },
   "source": [
    "<a id=\"additional-resources\"></a>\n",
    "<a id=\"additional-resources\"></a>\n",
    "### Additional Resources\n",
    "- [Bias Variance](http://scott.fortmann-roe.com/docs/BiasVariance.html)\n",
    "- University of Washington [slides](https://courses.cs.washington.edu/courses/cse546/12wi/slides/)"
   ]
  },
  {
   "cell_type": "markdown",
   "metadata": {
    "collapsed": true
   },
   "source": [
    "<a id=\"summary\"></a>\n",
    "### Summary\n",
    "\n",
    "In this lab, we compared four methods of estimating model accuracy on out-of-sample data. Throughout your regular data science work, you will likely use all four at some point:\n",
    "\n",
    "1. **Train on the entire dataset**\n",
    "2. **Train-test-split**\n",
    "3. **Cross-validation**\n",
    "4. **Three-way split**"
   ]
  },
  {
   "cell_type": "code",
   "execution_count": null,
   "metadata": {},
   "outputs": [],
   "source": []
  }
 ],
 "metadata": {
  "anaconda-cloud": {},
  "kernelspec": {
   "display_name": "Python 3",
   "language": "python",
   "name": "python3"
  },
  "language_info": {
   "codemirror_mode": {
    "name": "ipython",
    "version": 3
   },
   "file_extension": ".py",
   "mimetype": "text/x-python",
   "name": "python",
   "nbconvert_exporter": "python",
   "pygments_lexer": "ipython3",
   "version": "3.8.5"
  }
 },
 "nbformat": 4,
 "nbformat_minor": 2
}

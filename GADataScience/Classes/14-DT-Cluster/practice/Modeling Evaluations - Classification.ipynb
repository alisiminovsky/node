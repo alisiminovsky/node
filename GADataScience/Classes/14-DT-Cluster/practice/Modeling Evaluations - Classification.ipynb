{
 "cells": [
  {
   "cell_type": "markdown",
   "metadata": {},
   "source": [
    "<img src=\"http://imgur.com/1ZcRyrc.png\" style=\"float: left; margin: 20px; height: 55px\">\n",
    "\n",
    "# Build and Evaluate Your Models - Classification\n",
    "\n",
    "\n",
    "\n",
    "---\n",
    "\n",
    "> **Note**: this is intended to be a group work lab or a codealong with the instructor.\n"
   ]
  },
  {
   "cell_type": "markdown",
   "metadata": {},
   "source": [
    "## Model Options\n",
    "\n",
    "---\n",
    "\n",
    "We now have a selection of models to utilize for your modeling practice session.\n",
    "\n"
   ]
  },
  {
   "cell_type": "code",
   "execution_count": 2,
   "metadata": {},
   "outputs": [],
   "source": [
    "# Data science modules\n",
    "import pandas as pd\n",
    "import numpy as np\n",
    "\n",
    "# Plotting modules\n",
    "import seaborn as sns\n",
    "import matplotlib.pyplot as plt\n",
    "%matplotlib inline\n",
    "\n",
    "# Modeling modules\n",
    "from sklearn.model_selection import train_test_split ##Train test split your data\n",
    "from sklearn.linear_model import LogisticRegression ##Building a Linear Regressor\n",
    "from sklearn.neighbors import KNeighborsClassifier #Building a KNN regressor\n",
    "from sklearn.tree import DecisionTreeClassifier #Building a DT Regressor\n",
    "\n",
    "# Evaluation modules\n",
    "from sklearn import metrics"
   ]
  },
  {
   "cell_type": "code",
   "execution_count": 3,
   "metadata": {},
   "outputs": [],
   "source": [
    "# Example of creating a model\n",
    "\n",
    "#from sklearn.linear_model import LogisticRegression\n",
    "#LR = LogisticRegression()\n",
    "#X = glass[['al']]\n",
    "#y = glass.household\n",
    "\n",
    "#from sklearn.model_selection import train_test_split\n",
    "\n",
    "#X_train, X_test, y_train, y_test = train_test_split(X,y,random_state=2)\n",
    "\n",
    "#LR.fit(X_train,y_train)\n",
    "\n",
    "#y_pred = LR.predict(X_test)"
   ]
  },
  {
   "cell_type": "code",
   "execution_count": null,
   "metadata": {},
   "outputs": [],
   "source": [
    "# Cheat sheet\n",
    "# Accuracy score of model\n",
    "# model.score(X_test, y_test)\n",
    "\n",
    "# True Positive, True Negative, False Positives, False Negatives\n",
    "#tn, fp, fn, tp = metrics.confusion_matrix(y_true=true_value, y_pred= predicted_class).ravel()"
   ]
  },
  {
   "cell_type": "markdown",
   "metadata": {},
   "source": [
    "## Lab Instructions\n",
    "\n",
    "---\n",
    "\n",
    "Utilize the models you have access to for an evaluation of the hitters dataset. Your outcome variable will be your NewLeague variable.\n",
    "\n",
    "1. Import the hitters data\n",
    "2. Do very minimal cleaning and create intial models for all three classifiers. Choose at least three variables and let them all be numeric.\n",
    "3. Evaluate your models with Accuracy and True Positive Rate and False Positive Rate\n",
    "4. Go back into your data and start to explore your variables (create at least three charts showing correlation, boxplots, scatter plots, etc.)\n",
    "5. After you have done this EDA, will you keep your same variables? \n",
    "6. Create new models but this time choose a categorical variable to include. Create dummy variables for this categorial variable.'\n",
    "7. Re-evaluate your models outputs\n",
    "\n",
    "Bonus! Look at other evaluation metrics. https://scikit-learn.org/stable/modules/classes.html#module-sklearn.metrics"
   ]
  },
  {
   "cell_type": "markdown",
   "metadata": {},
   "source": [
    "- Major League Baseball player data from 1986-87: [data](https://github.com/justmarkham/DAT8/blob/master/data/hitters.csv), [data dictionary](https://cran.r-project.org/web/packages/ISLR/ISLR.pdf) (page 7)\n",
    "- Each observation represents a player.\n",
    "- **Goal:** Predict player new league."
   ]
  },
  {
   "cell_type": "markdown",
   "metadata": {},
   "source": [
    "path ='../data/hitters.csv'\n",
    "hitters = pd.read_csv(path)"
   ]
  }
 ],
 "metadata": {
  "kernelspec": {
   "display_name": "Python 3",
   "language": "python",
   "name": "python3"
  },
  "language_info": {
   "codemirror_mode": {
    "name": "ipython",
    "version": 3
   },
   "file_extension": ".py",
   "mimetype": "text/x-python",
   "name": "python",
   "nbconvert_exporter": "python",
   "pygments_lexer": "ipython3",
   "version": "3.8.3"
  }
 },
 "nbformat": 4,
 "nbformat_minor": 1
}

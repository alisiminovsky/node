{
 "cells": [
  {
   "cell_type": "markdown",
   "metadata": {},
   "source": [
    "<img src=\"http://imgur.com/1ZcRyrc.png\" style=\"float: left; margin: 20px; height: 55px\">\n",
    "\n",
    "# Build and Evaluate Your Models - Classification\n",
    "\n",
    "\n",
    "\n",
    "---\n",
    "\n",
    "> **Note**: this is intended to be a group work lab or a codealong with the instructor.\n"
   ]
  },
  {
   "cell_type": "markdown",
   "metadata": {},
   "source": [
    "## Model Options\n",
    "\n",
    "---\n",
    "\n",
    "We now have a selection of models to utilize for your modeling practice session.\n",
    "\n"
   ]
  },
  {
   "cell_type": "code",
   "execution_count": 14,
   "metadata": {},
   "outputs": [],
   "source": [
    "# Data science modules\n",
    "import pandas as pd\n",
    "import numpy as np\n",
    "\n",
    "# Plotting modules\n",
    "import seaborn as sns\n",
    "import matplotlib.pyplot as plt\n",
    "%matplotlib inline\n",
    "\n",
    "# Modeling modules\n",
    "from sklearn.model_selection import train_test_split ##Train test split your data\n",
    "from sklearn.linear_model import LogisticRegression ##Building a Linear Regressor\n",
    "from sklearn.neighbors import KNeighborsClassifier #Building a KNN regressor\n",
    "from sklearn.tree import DecisionTreeClassifier #Building a DT Regressor\n",
    "from sklearn.ensemble import RandomForestClassifier #Building at RF classifier\n",
    "\n",
    "# Evaluation modules\n",
    "from sklearn import metrics"
   ]
  },
  {
   "cell_type": "code",
   "execution_count": 15,
   "metadata": {},
   "outputs": [],
   "source": [
    "# Example of creating a model\n",
    "\n",
    "#from sklearn.linear_model import LogisticRegression\n",
    "#LR = LogisticRegression()\n",
    "#X = glass[['al']]\n",
    "#y = glass.household\n",
    "\n",
    "#from sklearn.model_selection import train_test_split\n",
    "\n",
    "#X_train, X_test, y_train, y_test = train_test_split(X,y,random_state=2)\n",
    "\n",
    "#LR.fit(X_train,y_train)\n",
    "\n",
    "#y_pred = LR.predict(X_test)"
   ]
  },
  {
   "cell_type": "code",
   "execution_count": 16,
   "metadata": {},
   "outputs": [],
   "source": [
    "# Cheat sheet\n",
    "# Accuracy score of model\n",
    "# model.score(X_test, y_test)\n",
    "\n",
    "# True Positive, True Negative, False Positives, False Negatives\n",
    "#tn, fp, fn, tp = metrics.confusion_matrix(y_true=true_value, y_pred= predicted_class).ravel()"
   ]
  },
  {
   "cell_type": "markdown",
   "metadata": {},
   "source": [
    "## Lab Instructions\n",
    "\n",
    "---\n",
    "\n",
    "Utilize the models you have access to for an evaluation of the hitters dataset. Your outcome variable will be your NewLeague variable.\n",
    "\n",
    "1. Import the hitters data\n",
    "2. Do very minimal cleaning and create intial models for all three classifiers. Choose at least three variables and let them all be numeric.\n",
    "3. Evaluate your models with Accuracy and True Positive Rate and False Positive Rate\n",
    "4. Go back into your data and start to explore your variables (create at least three charts showing correlation, boxplots, scatter plots, etc.)\n",
    "5. After you have done this EDA, will you keep your same variables? \n",
    "6. Create new models but this time choose a categorical variable to include. Create dummy variables for this categorial variable.'\n",
    "7. Re-evaluate your models outputs\n",
    "\n",
    "Bonus! Look at other evaluation metrics. https://scikit-learn.org/stable/modules/classes.html#module-sklearn.metrics"
   ]
  },
  {
   "cell_type": "markdown",
   "metadata": {},
   "source": [
    "- Major League Baseball player data from 1986-87: [data](https://github.com/justmarkham/DAT8/blob/master/data/hitters.csv), [data dictionary](https://cran.r-project.org/web/packages/ISLR/ISLR.pdf) (page 7)\n",
    "- Each observation represents a player.\n",
    "- **Goal:** Predict player new league."
   ]
  },
  {
   "cell_type": "code",
   "execution_count": 31,
   "metadata": {},
   "outputs": [],
   "source": [
    "path ='../data/hitters.csv'\n",
    "hitters = pd.read_csv(path)\n",
    "hitters['League'] = pd.factorize(hitters.League)[0]\n",
    "hitters['Division'] = pd.factorize(hitters.Division)[0]\n",
    "hitters['NewLeague'] = pd.factorize(hitters.NewLeague)[0]"
   ]
  },
  {
   "cell_type": "code",
   "execution_count": 32,
   "metadata": {},
   "outputs": [
    {
     "data": {
      "text/plain": [
       "AtBat         0\n",
       "Hits          0\n",
       "HmRun         0\n",
       "Runs          0\n",
       "RBI           0\n",
       "Walks         0\n",
       "Years         0\n",
       "CAtBat        0\n",
       "CHits         0\n",
       "CHmRun        0\n",
       "CRuns         0\n",
       "CRBI          0\n",
       "CWalks        0\n",
       "League        0\n",
       "Division      0\n",
       "PutOuts       0\n",
       "Assists       0\n",
       "Errors        0\n",
       "Salary       59\n",
       "NewLeague     0\n",
       "dtype: int64"
      ]
     },
     "execution_count": 32,
     "metadata": {},
     "output_type": "execute_result"
    }
   ],
   "source": [
    "hitters.isnull().sum()"
   ]
  },
  {
   "cell_type": "code",
   "execution_count": 33,
   "metadata": {},
   "outputs": [
    {
     "data": {
      "text/plain": [
       "0.41975308641975306"
      ]
     },
     "execution_count": 33,
     "metadata": {},
     "output_type": "execute_result"
    }
   ],
   "source": [
    "from sklearn.linear_model import LogisticRegression\n",
    "LR = LogisticRegression()\n",
    "X = hitters[['HmRun','RBI','Years']]\n",
    "y = hitters.NewLeague\n",
    "\n",
    "from sklearn.model_selection import train_test_split\n",
    "\n",
    "X_train, X_test, y_train, y_test = train_test_split(X,y,random_state=2)\n",
    "\n",
    "LR.fit(X_train,y_train)\n",
    "\n",
    "y_pred = LR.predict(X_test)\n",
    "\n",
    "metrics.accuracy_score(y_test,y_pred)"
   ]
  },
  {
   "cell_type": "code",
   "execution_count": 47,
   "metadata": {},
   "outputs": [
    {
     "data": {
      "image/png": "[encoded data removed]",
      "text/plain": [
       "<Figure size 432x288 with 1 Axes>"
      ]
     },
     "metadata": {
      "needs_background": "light"
     },
     "output_type": "display_data"
    }
   ],
   "source": [
    "from sklearn.tree import DecisionTreeClassifier\n",
    "\n",
    "# List of values to try for max_depth:\n",
    "max_depth_range = list(range(1, 21))\n",
    "\n",
    "# List to store the average RMSE for each value of max_depth:\n",
    "RMSE_scores = []\n",
    "accuracy_score = []\n",
    "\n",
    "# Use 10-fold cross-validation with each value of max_depth.\n",
    "from sklearn.model_selection import cross_val_score\n",
    "for depth in max_depth_range:\n",
    "    treereg = DecisionTreeClassifier(max_depth = depth,random_state=1)\n",
    "    treereg.fit(X_train,y_train)\n",
    "    accuracy_score.append(treereg.score(X_test,y_test))\n",
    "\n",
    "plt.plot(max_depth_range,accuracy_score);\n",
    "plt.xlabel('max_depth');\n",
    "plt.ylabel('accuracy_score');"
   ]
  },
  {
   "cell_type": "code",
   "execution_count": null,
   "metadata": {
    "scrolled": true
   },
   "outputs": [],
   "source": [
    "from sklearn.ensemble import RandomForestClassifier\n",
    "\n",
    "accuracy_s = []\n",
    "n_estimator_range = list(range(1, 200))\n",
    "\n",
    "for num in n_estimator_range:\n",
    "    rfreg = RandomForestClassifier(n_estimators = num, random_state = 45)\n",
    "    rfreg.fit(X_train,y_train)\n",
    "    accuracy_s.append(rfreg.score(X_test,y_test))\n",
    "\n",
    "plt.plot(n_estimators_range,accuracy);\n",
    "plt.xlabel('n_estimator');\n",
    "plt.ylabel('accuracy_s');    \n",
    "\n",
    "# true negative, false positive, false negative, true positive\n",
    "#tn, fp, fn, tp = metrics.confusion_matrix(y_true= y_test, y_pred = y_pred).ravel()\n",
    "\n",
    "# accuracy score\n",
    "#print(rfreg.score(n_estimators_range, y_test))\n",
    "\n",
    "#print(tn)\n",
    "#print(fp)\n",
    "#print(fn)\n",
    "#print(tp)"
   ]
  },
  {
   "cell_type": "code",
   "execution_count": null,
   "metadata": {},
   "outputs": [],
   "source": []
  },
  {
   "cell_type": "code",
   "execution_count": null,
   "metadata": {},
   "outputs": [],
   "source": []
  }
 ],
 "metadata": {
  "kernelspec": {
   "display_name": "Python 3",
   "language": "python",
   "name": "python3"
  },
  "language_info": {
   "codemirror_mode": {
    "name": "ipython",
    "version": 3
   },
   "file_extension": ".py",
   "mimetype": "text/x-python",
   "name": "python",
   "nbconvert_exporter": "python",
   "pygments_lexer": "ipython3",
   "version": "3.8.5"
  }
 },
 "nbformat": 4,
 "nbformat_minor": 1
}

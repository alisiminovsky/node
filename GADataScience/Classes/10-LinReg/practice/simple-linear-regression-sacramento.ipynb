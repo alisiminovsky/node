{
 "cells": [
  {
   "cell_type": "markdown",
   "metadata": {},
   "source": [
    "<img src=\"http://imgur.com/1ZcRyrc.png\" style=\"float: left; margin: 20px; height: 55px\">\n",
    "\n",
    "# Simple Linear Regression with Sacramento Real Estate Data\n",
    "\n",
    "_Authors: Matt Brems, Sam Stack_\n",
    "\n",
    "---\n",
    "\n",
    "In this lab you will hone your EDA skills and practice constructing simple linear regressions using a dataset on Sacramento real estate sales.  The dataset contains information on qualities of the property, location of the property, and time of sale."
   ]
  },
  {
   "cell_type": "markdown",
   "metadata": {},
   "source": [
    "### 1. Read in the Sacramento housing data set."
   ]
  },
  {
   "cell_type": "code",
   "execution_count": 55,
   "metadata": {},
   "outputs": [],
   "source": [
    "\n",
    "sac_csv = r'C:/Users/asiminovsky/Desktop/GADataScience/Classes/10-LinReg/data/sacramento_real_estate_transactions.csv'\n"
   ]
  },
  {
   "cell_type": "code",
   "execution_count": 3,
   "metadata": {},
   "outputs": [
    {
     "name": "stderr",
     "output_type": "stream",
     "text": [
      "UsageError: Line magic function `%` not found.\n"
     ]
    }
   ],
   "source": [
    "import pandas as pd\n",
    "import seaborn as sns\n",
    "import matplotlib.pyplot as plt\n",
    "import numpy as np\n",
    "import scipy.stats\n",
    "\n",
    "% matplotlib inline"
   ]
  },
  {
   "cell_type": "markdown",
   "metadata": {},
   "source": [
    "### 2. Conduct exploratory data analysis on this data set. \n",
    "\n",
    "**Report any notable findings here and any steps you take to clean/process data.**\n",
    "\n",
    "> **Note:** These EDA checks should be done on every data set we give you. If you find yourself checking for, say, missing/corrupted data over and over, it might be to your long-term benefit to have a function that you can re-use every time you're given some new data."
   ]
  },
  {
   "cell_type": "code",
   "execution_count": 56,
   "metadata": {},
   "outputs": [
    {
     "data": {
      "text/plain": [
       "(985, 12)"
      ]
     },
     "execution_count": 56,
     "metadata": {},
     "output_type": "execute_result"
    }
   ],
   "source": [
    "# A: shape, data types, missingness, state=CA, city=Sacramento\n",
    "sac=pd.read_csv(sac_csv)\n",
    "sac.shape"
   ]
  },
  {
   "cell_type": "code",
   "execution_count": 19,
   "metadata": {},
   "outputs": [
    {
     "data": {
      "text/plain": [
       "street        object\n",
       "city          object\n",
       "zip            int64\n",
       "state         object\n",
       "beds           int64\n",
       "baths          int64\n",
       "sq__ft         int64\n",
       "type          object\n",
       "sale_date     object\n",
       "price          int64\n",
       "latitude     float64\n",
       "longitude    float64\n",
       "dtype: object"
      ]
     },
     "execution_count": 19,
     "metadata": {},
     "output_type": "execute_result"
    }
   ],
   "source": [
    "sac.dtypes"
   ]
  },
  {
   "cell_type": "code",
   "execution_count": 28,
   "metadata": {},
   "outputs": [
    {
     "name": "stderr",
     "output_type": "stream",
     "text": [
      "C:\\Users\\asiminovsky\\anaconda3\\lib\\site-packages\\dateutil\\parser\\_parser.py:1213: UnknownTimezoneWarning: tzname EDT identified but not understood.  Pass `tzinfos` argument in order to correctly return a timezone-aware datetime.  In a future version, this will raise an exception.\n",
      "  warnings.warn(\"tzname {tzname} identified but not understood.  \"\n"
     ]
    }
   ],
   "source": [
    "sac['sale_date']=pd.to_datetime(sac['sale_date'])"
   ]
  },
  {
   "cell_type": "code",
   "execution_count": 27,
   "metadata": {},
   "outputs": [
    {
     "data": {
      "text/plain": [
       "street       0\n",
       "city         0\n",
       "zip          0\n",
       "state        0\n",
       "beds         0\n",
       "baths        0\n",
       "sq__ft       0\n",
       "type         0\n",
       "sale_date    0\n",
       "price        0\n",
       "latitude     0\n",
       "longitude    0\n",
       "dtype: int64"
      ]
     },
     "execution_count": 27,
     "metadata": {},
     "output_type": "execute_result"
    }
   ],
   "source": [
    "sac.isnull().sum()"
   ]
  },
  {
   "cell_type": "code",
   "execution_count": 35,
   "metadata": {},
   "outputs": [
    {
     "data": {
      "text/html": [
       "<div>\n",
       "<style scoped>\n",
       "    .dataframe tbody tr th:only-of-type {\n",
       "        vertical-align: middle;\n",
       "    }\n",
       "\n",
       "    .dataframe tbody tr th {\n",
       "        vertical-align: top;\n",
       "    }\n",
       "\n",
       "    .dataframe thead th {\n",
       "        text-align: right;\n",
       "    }\n",
       "</style>\n",
       "<table border=\"1\" class=\"dataframe\">\n",
       "  <thead>\n",
       "    <tr style=\"text-align: right;\">\n",
       "      <th></th>\n",
       "      <th>street</th>\n",
       "      <th>city</th>\n",
       "      <th>zip</th>\n",
       "      <th>state</th>\n",
       "      <th>beds</th>\n",
       "      <th>baths</th>\n",
       "      <th>sq__ft</th>\n",
       "      <th>type</th>\n",
       "      <th>sale_date</th>\n",
       "      <th>price</th>\n",
       "      <th>latitude</th>\n",
       "      <th>longitude</th>\n",
       "    </tr>\n",
       "  </thead>\n",
       "  <tbody>\n",
       "  </tbody>\n",
       "</table>\n",
       "</div>"
      ],
      "text/plain": [
       "Empty DataFrame\n",
       "Columns: [street, city, zip, state, beds, baths, sq__ft, type, sale_date, price, latitude, longitude]\n",
       "Index: []"
      ]
     },
     "execution_count": 35,
     "metadata": {},
     "output_type": "execute_result"
    }
   ],
   "source": [
    "(sac['state']!='CA').sum()\n",
    "# there is one incorrect state\n",
    "sac[sac['state']!='CA']\n",
    "# there's a typo!\n",
    "sac.loc[sac.state=='AC']='CA'"
   ]
  },
  {
   "cell_type": "code",
   "execution_count": 39,
   "metadata": {
    "scrolled": true
   },
   "outputs": [
    {
     "data": {
      "text/html": [
       "<div>\n",
       "<style scoped>\n",
       "    .dataframe tbody tr th:only-of-type {\n",
       "        vertical-align: middle;\n",
       "    }\n",
       "\n",
       "    .dataframe tbody tr th {\n",
       "        vertical-align: top;\n",
       "    }\n",
       "\n",
       "    .dataframe thead th {\n",
       "        text-align: right;\n",
       "    }\n",
       "</style>\n",
       "<table border=\"1\" class=\"dataframe\">\n",
       "  <thead>\n",
       "    <tr style=\"text-align: right;\">\n",
       "      <th></th>\n",
       "      <th>street</th>\n",
       "      <th>city</th>\n",
       "      <th>zip</th>\n",
       "      <th>state</th>\n",
       "      <th>beds</th>\n",
       "      <th>baths</th>\n",
       "      <th>sq__ft</th>\n",
       "      <th>type</th>\n",
       "      <th>sale_date</th>\n",
       "      <th>price</th>\n",
       "      <th>latitude</th>\n",
       "      <th>longitude</th>\n",
       "    </tr>\n",
       "  </thead>\n",
       "  <tbody>\n",
       "    <tr>\n",
       "      <th>8</th>\n",
       "      <td>11150 TRINITY RIVER DR Unit 114</td>\n",
       "      <td>RANCHO CORDOVA</td>\n",
       "      <td>95670</td>\n",
       "      <td>CA</td>\n",
       "      <td>2</td>\n",
       "      <td>2</td>\n",
       "      <td>941</td>\n",
       "      <td>Condo</td>\n",
       "      <td>2008-05-21 00:00:00</td>\n",
       "      <td>94905</td>\n",
       "      <td>38.621188</td>\n",
       "      <td>-121.270555</td>\n",
       "    </tr>\n",
       "    <tr>\n",
       "      <th>9</th>\n",
       "      <td>7325 10TH ST</td>\n",
       "      <td>RIO LINDA</td>\n",
       "      <td>95673</td>\n",
       "      <td>CA</td>\n",
       "      <td>3</td>\n",
       "      <td>2</td>\n",
       "      <td>1146</td>\n",
       "      <td>Residential</td>\n",
       "      <td>2008-05-21 00:00:00</td>\n",
       "      <td>98937</td>\n",
       "      <td>38.700909</td>\n",
       "      <td>-121.442979</td>\n",
       "    </tr>\n",
       "    <tr>\n",
       "      <th>16</th>\n",
       "      <td>6715 6TH ST</td>\n",
       "      <td>RIO LINDA</td>\n",
       "      <td>95673</td>\n",
       "      <td>CA</td>\n",
       "      <td>2</td>\n",
       "      <td>1</td>\n",
       "      <td>844</td>\n",
       "      <td>Residential</td>\n",
       "      <td>2008-05-21 00:00:00</td>\n",
       "      <td>113263</td>\n",
       "      <td>38.689591</td>\n",
       "      <td>-121.452239</td>\n",
       "    </tr>\n",
       "    <tr>\n",
       "      <th>17</th>\n",
       "      <td>6236 LONGFORD DR Unit 1</td>\n",
       "      <td>CITRUS HEIGHTS</td>\n",
       "      <td>95621</td>\n",
       "      <td>CA</td>\n",
       "      <td>2</td>\n",
       "      <td>1</td>\n",
       "      <td>795</td>\n",
       "      <td>Condo</td>\n",
       "      <td>2008-05-21 00:00:00</td>\n",
       "      <td>116250</td>\n",
       "      <td>38.679776</td>\n",
       "      <td>-121.314089</td>\n",
       "    </tr>\n",
       "    <tr>\n",
       "      <th>19</th>\n",
       "      <td>113 LEEWILL AVE</td>\n",
       "      <td>RIO LINDA</td>\n",
       "      <td>95673</td>\n",
       "      <td>CA</td>\n",
       "      <td>3</td>\n",
       "      <td>2</td>\n",
       "      <td>1356</td>\n",
       "      <td>Residential</td>\n",
       "      <td>2008-05-21 00:00:00</td>\n",
       "      <td>121630</td>\n",
       "      <td>38.689999</td>\n",
       "      <td>-121.46322</td>\n",
       "    </tr>\n",
       "    <tr>\n",
       "      <th>...</th>\n",
       "      <td>...</td>\n",
       "      <td>...</td>\n",
       "      <td>...</td>\n",
       "      <td>...</td>\n",
       "      <td>...</td>\n",
       "      <td>...</td>\n",
       "      <td>...</td>\n",
       "      <td>...</td>\n",
       "      <td>...</td>\n",
       "      <td>...</td>\n",
       "      <td>...</td>\n",
       "      <td>...</td>\n",
       "    </tr>\n",
       "    <tr>\n",
       "      <th>976</th>\n",
       "      <td>2400 INVERNESS DR</td>\n",
       "      <td>LINCOLN</td>\n",
       "      <td>95648</td>\n",
       "      <td>CA</td>\n",
       "      <td>3</td>\n",
       "      <td>2</td>\n",
       "      <td>1358</td>\n",
       "      <td>Residential</td>\n",
       "      <td>2008-05-15 00:00:00</td>\n",
       "      <td>229027</td>\n",
       "      <td>38.897814</td>\n",
       "      <td>-121.324691</td>\n",
       "    </tr>\n",
       "    <tr>\n",
       "      <th>979</th>\n",
       "      <td>1909 YARNELL WAY</td>\n",
       "      <td>ELK GROVE</td>\n",
       "      <td>95758</td>\n",
       "      <td>CA</td>\n",
       "      <td>3</td>\n",
       "      <td>2</td>\n",
       "      <td>1262</td>\n",
       "      <td>Residential</td>\n",
       "      <td>2008-05-15 00:00:00</td>\n",
       "      <td>230000</td>\n",
       "      <td>38.417382</td>\n",
       "      <td>-121.484325</td>\n",
       "    </tr>\n",
       "    <tr>\n",
       "      <th>982</th>\n",
       "      <td>7933 DAFFODIL WAY</td>\n",
       "      <td>CITRUS HEIGHTS</td>\n",
       "      <td>95610</td>\n",
       "      <td>CA</td>\n",
       "      <td>3</td>\n",
       "      <td>2</td>\n",
       "      <td>1216</td>\n",
       "      <td>Residential</td>\n",
       "      <td>2008-05-15 00:00:00</td>\n",
       "      <td>235000</td>\n",
       "      <td>38.708824</td>\n",
       "      <td>-121.256803</td>\n",
       "    </tr>\n",
       "    <tr>\n",
       "      <th>983</th>\n",
       "      <td>8304 RED FOX WAY</td>\n",
       "      <td>ELK GROVE</td>\n",
       "      <td>95758</td>\n",
       "      <td>CA</td>\n",
       "      <td>4</td>\n",
       "      <td>2</td>\n",
       "      <td>1685</td>\n",
       "      <td>Residential</td>\n",
       "      <td>2008-05-15 00:00:00</td>\n",
       "      <td>235301</td>\n",
       "      <td>38.417</td>\n",
       "      <td>-121.397424</td>\n",
       "    </tr>\n",
       "    <tr>\n",
       "      <th>984</th>\n",
       "      <td>3882 YELLOWSTONE LN</td>\n",
       "      <td>EL DORADO HILLS</td>\n",
       "      <td>95762</td>\n",
       "      <td>CA</td>\n",
       "      <td>3</td>\n",
       "      <td>2</td>\n",
       "      <td>1362</td>\n",
       "      <td>Residential</td>\n",
       "      <td>2008-05-15 00:00:00</td>\n",
       "      <td>235738</td>\n",
       "      <td>38.655245</td>\n",
       "      <td>-121.075915</td>\n",
       "    </tr>\n",
       "  </tbody>\n",
       "</table>\n",
       "<p>547 rows × 12 columns</p>\n",
       "</div>"
      ],
      "text/plain": [
       "                              street             city    zip state beds baths  \\\n",
       "8    11150 TRINITY RIVER DR Unit 114   RANCHO CORDOVA  95670    CA    2     2   \n",
       "9                       7325 10TH ST        RIO LINDA  95673    CA    3     2   \n",
       "16                       6715 6TH ST        RIO LINDA  95673    CA    2     1   \n",
       "17           6236 LONGFORD DR Unit 1   CITRUS HEIGHTS  95621    CA    2     1   \n",
       "19                   113 LEEWILL AVE        RIO LINDA  95673    CA    3     2   \n",
       "..                               ...              ...    ...   ...  ...   ...   \n",
       "976                2400 INVERNESS DR          LINCOLN  95648    CA    3     2   \n",
       "979                 1909 YARNELL WAY        ELK GROVE  95758    CA    3     2   \n",
       "982                7933 DAFFODIL WAY   CITRUS HEIGHTS  95610    CA    3     2   \n",
       "983                 8304 RED FOX WAY        ELK GROVE  95758    CA    4     2   \n",
       "984              3882 YELLOWSTONE LN  EL DORADO HILLS  95762    CA    3     2   \n",
       "\n",
       "    sq__ft         type            sale_date   price   latitude   longitude  \n",
       "8      941        Condo  2008-05-21 00:00:00   94905  38.621188 -121.270555  \n",
       "9     1146  Residential  2008-05-21 00:00:00   98937  38.700909 -121.442979  \n",
       "16     844  Residential  2008-05-21 00:00:00  113263  38.689591 -121.452239  \n",
       "17     795        Condo  2008-05-21 00:00:00  116250  38.679776 -121.314089  \n",
       "19    1356  Residential  2008-05-21 00:00:00  121630  38.689999  -121.46322  \n",
       "..     ...          ...                  ...     ...        ...         ...  \n",
       "976   1358  Residential  2008-05-15 00:00:00  229027  38.897814 -121.324691  \n",
       "979   1262  Residential  2008-05-15 00:00:00  230000  38.417382 -121.484325  \n",
       "982   1216  Residential  2008-05-15 00:00:00  235000  38.708824 -121.256803  \n",
       "983   1685  Residential  2008-05-15 00:00:00  235301     38.417 -121.397424  \n",
       "984   1362  Residential  2008-05-15 00:00:00  235738  38.655245 -121.075915  \n",
       "\n",
       "[547 rows x 12 columns]"
      ]
     },
     "execution_count": 39,
     "metadata": {},
     "output_type": "execute_result"
    }
   ],
   "source": [
    "(sac['city']!='Sacramento').sum()\n",
    "sac[sac['city']!='SACRAMENTO']"
   ]
  },
  {
   "cell_type": "markdown",
   "metadata": {},
   "source": [
    "### 3. Our goal will be to predict price. List variables that you think qualify as predictors of price in a SLR model. \n",
    "\n",
    "**For each of these variables you believe to be valid potential predictors in an SLR model, generate a plot showing the relationship between the independent variable and dependent variable.**"
   ]
  },
  {
   "cell_type": "code",
   "execution_count": 57,
   "metadata": {},
   "outputs": [
    {
     "data": {
      "text/plain": [
       "<matplotlib.collections.PathCollection at 0x26c09ef26a0>"
      ]
     },
     "execution_count": 57,
     "metadata": {},
     "output_type": "execute_result"
    },
    {
     "data": {
      "image/png": "[encoded data removed]",
      "text/plain": [
       "<Figure size 432x288 with 1 Axes>"
      ]
     },
     "metadata": {
      "needs_background": "light"
     },
     "output_type": "display_data"
    }
   ],
   "source": [
    "# A: beds, baths, sq_ft\n",
    "x1=sac['beds']\n",
    "x2=sac['baths']\n",
    "x3=sac['sq__ft']\n",
    "y=sac['price']\n",
    "\n",
    "plt.scatter(x1,y)"
   ]
  },
  {
   "cell_type": "code",
   "execution_count": 58,
   "metadata": {},
   "outputs": [
    {
     "data": {
      "text/plain": [
       "<matplotlib.collections.PathCollection at 0x26c099005e0>"
      ]
     },
     "execution_count": 58,
     "metadata": {},
     "output_type": "execute_result"
    },
    {
     "data": {
      "image/png": "[encoded data removed]",
      "text/plain": [
       "<Figure size 432x288 with 1 Axes>"
      ]
     },
     "metadata": {
      "needs_background": "light"
     },
     "output_type": "display_data"
    }
   ],
   "source": [
    "plt.scatter(x2,y)"
   ]
  },
  {
   "cell_type": "code",
   "execution_count": 59,
   "metadata": {},
   "outputs": [
    {
     "data": {
      "text/plain": [
       "<matplotlib.collections.PathCollection at 0x26c09961a60>"
      ]
     },
     "execution_count": 59,
     "metadata": {},
     "output_type": "execute_result"
    },
    {
     "data": {
      "image/png": "[encoded data removed]",
      "text/plain": [
       "<Figure size 432x288 with 1 Axes>"
      ]
     },
     "metadata": {
      "needs_background": "light"
     },
     "output_type": "display_data"
    }
   ],
   "source": [
    "plt.scatter(x3,y)"
   ]
  },
  {
   "cell_type": "markdown",
   "metadata": {},
   "source": [
    "### 4. Which variable would be the best predictor of Y in a SLR model? Why?"
   ]
  },
  {
   "cell_type": "code",
   "execution_count": 5,
   "metadata": {
    "collapsed": true
   },
   "outputs": [],
   "source": [
    "# A: Square feet"
   ]
  },
  {
   "cell_type": "markdown",
   "metadata": {},
   "source": [
    "### 5. Build a function that will take in two lists `Y` and `X` and returns the intercept and slope coefficients. \n",
    "\n",
    "`Y` is the target variable and `X` is the predictor variable.\n",
    "\n",
    "- **Test your function on price and the variable you determined was the best predictor in Problem 4.**\n",
    "- **Report the slope and intercept.**"
   ]
  },
  {
   "cell_type": "code",
   "execution_count": 68,
   "metadata": {},
   "outputs": [
    {
     "ename": "ValueError",
     "evalue": "Expected 2D array, got 1D array instead:\narray=[ 836 1167  796  852  797 1122 1104 1177  941 1146  909 1289  871 1020\n 1022 1134  844  795  588 1356 1118 1329 1240 1601  901 1088  963 1119\n 1380 1248 1039 1152 1380 1116 1039 1418 1082 1472 1146  760 1304 1207\n 1056 1043 1587 1120 1580 1955 1656 1477 1188 1590 1463 1714 1185 1406\n 1943 1172 1152 1851 1215 1130 1603 1479 1420 1280 1586 1362 2162 1266\n 1715 1820  936    0 1511 1590 1596 1341 2136 1616 1478 1287 1277 1448\n 2235 2093 1193 2163 1269    0  958 2508 1305 1591 1326 1843 1921 2790\n 1541 1018    0 1672 1380  975 2372 1446 1284 3009 3612 2056 1993 1857\n 1126 2213 2494 1843 1520 2800 2309 2367 3516    0 1914 1690 2725 2354\n    0 2185 1801 1961 3134 1915    0    0 2734 2110 3164 3599 2054 1830\n 1627 3440 2846 2359 2052 3433 3615    0 2687 2724 3440 3508 2462    0\n    0    0 2325    0  795 1099  840  800  746 1067 1316 1337  868  924\n  610    0 1220  722 1643  722 1080 1039 1051  967 1098 1050 1110  888\n 1120 1080  957  952 1211 1264 1080 1266  994 1202    0  722 1448 1188\n 1183 1320 1117 1364 1310 1006 1104  810 1123  904 1156 1321 1392 1439\n 1159 1671 1740 1265 1007 1716 1685 1829 1555 1120 1137 1174 1393    0\n    0 1289 1799    0 1953  723    0  948 1578 1317    0 1360    0 1522\n 1751 1465 1605 1475 1216 1315 1567 1776 2187 1291    0    0 1503 2491\n 1269    0 1176 1456 1498 1574 2085 2170 1595 1567    0 1253 1768    0\n 2030 1531    0 1653 2056 2494 1450 2169 1440 1527 1401 1411    0    0\n 1284 2307 1329 1910 1981    0    0    0 2205 1449 1258 2575  539 2208\n 1108 1595 2159 2295 1838 1900 1718 3389    0 3260 2016 2607 2724 3746\n    0 3192    0    0    0 1247 2581 2068    0 3992 3397 3881    0 1598\n 1929 3070    0    0    0    0 3984 2222 3838    0 2846 2484 1624  840\n  484  970  623  932  796  834  834  924  795 1250  984 1013 1012  795\n  918 1082  964 1404  625  888 1120 1331 1014 1448  966  779  836 1100\n 1174 1207 1995  804  958 1366  901  696 1080 1104  972 1390 1354  795\n  780 1587 1209 1139 1690 1245 1416 1300 1120 1590 1407 1516    0 1646\n 1676 1370 1370 1351 1152 1452  990 1162 1182 1112 1100 1280 1280 1039\n 1159 1917 1520 1204 1120 1436 1451 1638 1000 1152 1154 1353 1329 1356\n 1505 1009 1144  930 1766 1940 1776 1258 1872 1112 1856 1939  998 1758\n 2142  950 1739 1516  988 1555 1212 1871 1302  756 2026 1375 1250 1058\n 1187 1324 1936 2382 1427 1678 1798 2652 1816 3076 1844 1306 2447 1176\n 1182 1160 1424 1574 1830 1724 1255    0 2175 1904 1808 2711 1713 1457\n 2724    0 1468 2550 1928 1922 1343 1510  960 1559 1624 2992 2109 1524\n 1248 1876    0 1851    0 2218 1394 1410 3468 2346 2347 1659 2442    0\n 2155    0 1810 2789 1606    0 2166    0 1871 1800 1683    0    0 1596\n    0 1179    0 1639 3281 1697    0 2085    0 1744    0 1939    0 1788\n 1691 2002 4303 4246 2274    0 3056 2503    0    0 1905 1320    0    0\n 3037 3741 2660 3357 2896 2025 3788 3670    0    0    0    0    0    0\n    0    0    0    0    0    0    0    0    0    0    0    0    0    0\n    0    0    0    0    0    0    0    0    0    0    0    0    0    0\n    0    0    0    0    0    0    0    0    0    0    0    0    0    0\n    0 1166    0  838  904 1032  904 1080  990  900  861  906 1011 1089\n  832  800 1292  810 1064  911  846 1320 1410 1115 1169 1164 1341 1219\n 1127 1272 1253 1120 1118 1890 1260 1400 1264 1060 1132 1466 1092 1628\n  960 1075 1428 1358 2475 1410 1711 1483 1140 1549 1410 1240 1712 1580\n 1669 1029 1103 2161 1650 1320 1200 1170 1199 1695 1157 1410 1174 1593\n 1093 1770 1436 1124 1139 1638 1328 1273 1082 1578  796 1386 1452 1513\n    0 1578 1736    0 1473 1150 1127 1144  972 2306 1479 1040 1430 1800\n 1953 1120 1232 -984    0 2329 1351    0 1376 1300 1566 1115 1032 1419\n 1261 1637 1776 1338    0 2254 1441 1991 2126 1094 1462 2258 1074 2111\n 1686 1915 2367 1962 1406 1789 1876 1235 2504    0 1676 1367 1899 1636\n 1828    0 1438 1451 1520 1506 2605 1196 1621 1811 1540    0    0    0\n    0    0 1543 2494 1650 2214 2280 1443 1582 1857 1735 2096 1720 2160\n 1382    0 1721 1328    0 1982 1144 1623 1457 2555 1577 2592 1401    0\n 1502 1327 1800 2169 2457    0 2004 2212 3134 1360    0 1276 2962 1888\n    0    0 1548    0 2109 2484 2258 2212 1616 2372 2606    0 2877 2960\n    0 2172 2100 1795    0 2295 2577    0 1727 1485 1655    0    0 2049\n    0 2875    0 2199    0 1304 2334 2278 1493    0    0    0 2787 2824\n 3261 2053 2379    0    0    0    0    0    0 3173    0 1348    0 1252\n 3229 3863    0    0 2356    0 3579    0    0    0 4400    0 5822 1512\n  611  876  933  864 1011 1158 1092  956 1139 1058 1040 1354 1051  682\n 1161 1004 1229 1249 1161 1010    0 1462 1269 1188 1570 1093  962 1089\n 1127 1309  970 1144 1000    0 1206 1285 1543  884 1019 1392  924 1217\n 1670 1302 1488 1373 1381 1265  881    0 1608 1344 1202 1104    0 1859\n 1232 1638 1177 1582  904 1340 1204 1477 1497  960    0 1428 1039 1529\n 1892 1887 1294 1638 1677 1073 1231 1175 1416    0 1358 1609 1968 1089\n 1296 1189  795 1371 1310 1262 1740 1517 1450 1416  888 1882 1302 1418\n    0 1319 1770 1627    0 1040  960    0 1456 1450 1358 1329 1715 1262\n 2280 1477 1216 1685 1362].\nReshape your data either using array.reshape(-1, 1) if your data has a single feature or array.reshape(1, -1) if it contains a single sample.",
     "output_type": "error",
     "traceback": [
      "\u001b[1;31m---------------------------------------------------------------------------\u001b[0m",
      "\u001b[1;31mValueError\u001b[0m                                Traceback (most recent call last)",
      "\u001b[1;32m<ipython-input-68-ad05f28a40ec>\u001b[0m in \u001b[0;36m<module>\u001b[1;34m\u001b[0m\n\u001b[0;32m     10\u001b[0m     \u001b[0mprint\u001b[0m\u001b[1;33m(\u001b[0m\u001b[0mbeta1\u001b[0m\u001b[1;33m)\u001b[0m\u001b[1;33m\u001b[0m\u001b[1;33m\u001b[0m\u001b[0m\n\u001b[0;32m     11\u001b[0m \u001b[1;33m\u001b[0m\u001b[0m\n\u001b[1;32m---> 12\u001b[1;33m \u001b[0mlin_reg_func\u001b[0m\u001b[1;33m(\u001b[0m\u001b[0msac\u001b[0m\u001b[1;33m[\u001b[0m\u001b[1;34m'sq__ft'\u001b[0m\u001b[1;33m]\u001b[0m\u001b[1;33m,\u001b[0m\u001b[0msac\u001b[0m\u001b[1;33m[\u001b[0m\u001b[1;34m'price'\u001b[0m\u001b[1;33m]\u001b[0m\u001b[1;33m)\u001b[0m\u001b[1;33m\u001b[0m\u001b[1;33m\u001b[0m\u001b[0m\n\u001b[0m",
      "\u001b[1;32m<ipython-input-68-ad05f28a40ec>\u001b[0m in \u001b[0;36mlin_reg_func\u001b[1;34m(x, y)\u001b[0m\n\u001b[0;32m      4\u001b[0m \u001b[1;33m\u001b[0m\u001b[0m\n\u001b[0;32m      5\u001b[0m \u001b[1;32mdef\u001b[0m \u001b[0mlin_reg_func\u001b[0m\u001b[1;33m(\u001b[0m\u001b[0mx\u001b[0m\u001b[1;33m,\u001b[0m\u001b[0my\u001b[0m\u001b[1;33m)\u001b[0m\u001b[1;33m:\u001b[0m\u001b[1;33m\u001b[0m\u001b[1;33m\u001b[0m\u001b[0m\n\u001b[1;32m----> 6\u001b[1;33m     \u001b[0mlinreg\u001b[0m\u001b[1;33m.\u001b[0m\u001b[0mfit\u001b[0m\u001b[1;33m(\u001b[0m\u001b[0mx\u001b[0m\u001b[1;33m,\u001b[0m\u001b[0my\u001b[0m\u001b[1;33m)\u001b[0m\u001b[1;33m\u001b[0m\u001b[1;33m\u001b[0m\u001b[0m\n\u001b[0m\u001b[0;32m      7\u001b[0m     \u001b[0mbeta_1\u001b[0m\u001b[1;33m=\u001b[0m\u001b[0mlinreg\u001b[0m\u001b[1;33m.\u001b[0m\u001b[0mcoef_\u001b[0m\u001b[1;33m\u001b[0m\u001b[1;33m\u001b[0m\u001b[0m\n\u001b[0;32m      8\u001b[0m     \u001b[0mbeta_0\u001b[0m\u001b[1;33m=\u001b[0m\u001b[0mlingreg\u001b[0m\u001b[1;33m.\u001b[0m\u001b[0mintercept_\u001b[0m\u001b[1;33m\u001b[0m\u001b[1;33m\u001b[0m\u001b[0m\n",
      "\u001b[1;32m~\\anaconda3\\lib\\site-packages\\sklearn\\linear_model\\_base.py\u001b[0m in \u001b[0;36mfit\u001b[1;34m(self, X, y, sample_weight)\u001b[0m\n\u001b[0;32m    516\u001b[0m         \u001b[0maccept_sparse\u001b[0m \u001b[1;33m=\u001b[0m \u001b[1;32mFalse\u001b[0m \u001b[1;32mif\u001b[0m \u001b[0mself\u001b[0m\u001b[1;33m.\u001b[0m\u001b[0mpositive\u001b[0m \u001b[1;32melse\u001b[0m \u001b[1;33m[\u001b[0m\u001b[1;34m'csr'\u001b[0m\u001b[1;33m,\u001b[0m \u001b[1;34m'csc'\u001b[0m\u001b[1;33m,\u001b[0m \u001b[1;34m'coo'\u001b[0m\u001b[1;33m]\u001b[0m\u001b[1;33m\u001b[0m\u001b[1;33m\u001b[0m\u001b[0m\n\u001b[0;32m    517\u001b[0m \u001b[1;33m\u001b[0m\u001b[0m\n\u001b[1;32m--> 518\u001b[1;33m         X, y = self._validate_data(X, y, accept_sparse=accept_sparse,\n\u001b[0m\u001b[0;32m    519\u001b[0m                                    y_numeric=True, multi_output=True)\n\u001b[0;32m    520\u001b[0m \u001b[1;33m\u001b[0m\u001b[0m\n",
      "\u001b[1;32m~\\anaconda3\\lib\\site-packages\\sklearn\\base.py\u001b[0m in \u001b[0;36m_validate_data\u001b[1;34m(self, X, y, reset, validate_separately, **check_params)\u001b[0m\n\u001b[0;32m    431\u001b[0m                 \u001b[0my\u001b[0m \u001b[1;33m=\u001b[0m \u001b[0mcheck_array\u001b[0m\u001b[1;33m(\u001b[0m\u001b[0my\u001b[0m\u001b[1;33m,\u001b[0m \u001b[1;33m**\u001b[0m\u001b[0mcheck_y_params\u001b[0m\u001b[1;33m)\u001b[0m\u001b[1;33m\u001b[0m\u001b[1;33m\u001b[0m\u001b[0m\n\u001b[0;32m    432\u001b[0m             \u001b[1;32melse\u001b[0m\u001b[1;33m:\u001b[0m\u001b[1;33m\u001b[0m\u001b[1;33m\u001b[0m\u001b[0m\n\u001b[1;32m--> 433\u001b[1;33m                 \u001b[0mX\u001b[0m\u001b[1;33m,\u001b[0m \u001b[0my\u001b[0m \u001b[1;33m=\u001b[0m \u001b[0mcheck_X_y\u001b[0m\u001b[1;33m(\u001b[0m\u001b[0mX\u001b[0m\u001b[1;33m,\u001b[0m \u001b[0my\u001b[0m\u001b[1;33m,\u001b[0m \u001b[1;33m**\u001b[0m\u001b[0mcheck_params\u001b[0m\u001b[1;33m)\u001b[0m\u001b[1;33m\u001b[0m\u001b[1;33m\u001b[0m\u001b[0m\n\u001b[0m\u001b[0;32m    434\u001b[0m             \u001b[0mout\u001b[0m \u001b[1;33m=\u001b[0m \u001b[0mX\u001b[0m\u001b[1;33m,\u001b[0m \u001b[0my\u001b[0m\u001b[1;33m\u001b[0m\u001b[1;33m\u001b[0m\u001b[0m\n\u001b[0;32m    435\u001b[0m \u001b[1;33m\u001b[0m\u001b[0m\n",
      "\u001b[1;32m~\\anaconda3\\lib\\site-packages\\sklearn\\utils\\validation.py\u001b[0m in \u001b[0;36minner_f\u001b[1;34m(*args, **kwargs)\u001b[0m\n\u001b[0;32m     61\u001b[0m             \u001b[0mextra_args\u001b[0m \u001b[1;33m=\u001b[0m \u001b[0mlen\u001b[0m\u001b[1;33m(\u001b[0m\u001b[0margs\u001b[0m\u001b[1;33m)\u001b[0m \u001b[1;33m-\u001b[0m \u001b[0mlen\u001b[0m\u001b[1;33m(\u001b[0m\u001b[0mall_args\u001b[0m\u001b[1;33m)\u001b[0m\u001b[1;33m\u001b[0m\u001b[1;33m\u001b[0m\u001b[0m\n\u001b[0;32m     62\u001b[0m             \u001b[1;32mif\u001b[0m \u001b[0mextra_args\u001b[0m \u001b[1;33m<=\u001b[0m \u001b[1;36m0\u001b[0m\u001b[1;33m:\u001b[0m\u001b[1;33m\u001b[0m\u001b[1;33m\u001b[0m\u001b[0m\n\u001b[1;32m---> 63\u001b[1;33m                 \u001b[1;32mreturn\u001b[0m \u001b[0mf\u001b[0m\u001b[1;33m(\u001b[0m\u001b[1;33m*\u001b[0m\u001b[0margs\u001b[0m\u001b[1;33m,\u001b[0m \u001b[1;33m**\u001b[0m\u001b[0mkwargs\u001b[0m\u001b[1;33m)\u001b[0m\u001b[1;33m\u001b[0m\u001b[1;33m\u001b[0m\u001b[0m\n\u001b[0m\u001b[0;32m     64\u001b[0m \u001b[1;33m\u001b[0m\u001b[0m\n\u001b[0;32m     65\u001b[0m             \u001b[1;31m# extra_args > 0\u001b[0m\u001b[1;33m\u001b[0m\u001b[1;33m\u001b[0m\u001b[1;33m\u001b[0m\u001b[0m\n",
      "\u001b[1;32m~\\anaconda3\\lib\\site-packages\\sklearn\\utils\\validation.py\u001b[0m in \u001b[0;36mcheck_X_y\u001b[1;34m(X, y, accept_sparse, accept_large_sparse, dtype, order, copy, force_all_finite, ensure_2d, allow_nd, multi_output, ensure_min_samples, ensure_min_features, y_numeric, estimator)\u001b[0m\n\u001b[0;32m    812\u001b[0m         \u001b[1;32mraise\u001b[0m \u001b[0mValueError\u001b[0m\u001b[1;33m(\u001b[0m\u001b[1;34m\"y cannot be None\"\u001b[0m\u001b[1;33m)\u001b[0m\u001b[1;33m\u001b[0m\u001b[1;33m\u001b[0m\u001b[0m\n\u001b[0;32m    813\u001b[0m \u001b[1;33m\u001b[0m\u001b[0m\n\u001b[1;32m--> 814\u001b[1;33m     X = check_array(X, accept_sparse=accept_sparse,\n\u001b[0m\u001b[0;32m    815\u001b[0m                     \u001b[0maccept_large_sparse\u001b[0m\u001b[1;33m=\u001b[0m\u001b[0maccept_large_sparse\u001b[0m\u001b[1;33m,\u001b[0m\u001b[1;33m\u001b[0m\u001b[1;33m\u001b[0m\u001b[0m\n\u001b[0;32m    816\u001b[0m                     \u001b[0mdtype\u001b[0m\u001b[1;33m=\u001b[0m\u001b[0mdtype\u001b[0m\u001b[1;33m,\u001b[0m \u001b[0morder\u001b[0m\u001b[1;33m=\u001b[0m\u001b[0morder\u001b[0m\u001b[1;33m,\u001b[0m \u001b[0mcopy\u001b[0m\u001b[1;33m=\u001b[0m\u001b[0mcopy\u001b[0m\u001b[1;33m,\u001b[0m\u001b[1;33m\u001b[0m\u001b[1;33m\u001b[0m\u001b[0m\n",
      "\u001b[1;32m~\\anaconda3\\lib\\site-packages\\sklearn\\utils\\validation.py\u001b[0m in \u001b[0;36minner_f\u001b[1;34m(*args, **kwargs)\u001b[0m\n\u001b[0;32m     61\u001b[0m             \u001b[0mextra_args\u001b[0m \u001b[1;33m=\u001b[0m \u001b[0mlen\u001b[0m\u001b[1;33m(\u001b[0m\u001b[0margs\u001b[0m\u001b[1;33m)\u001b[0m \u001b[1;33m-\u001b[0m \u001b[0mlen\u001b[0m\u001b[1;33m(\u001b[0m\u001b[0mall_args\u001b[0m\u001b[1;33m)\u001b[0m\u001b[1;33m\u001b[0m\u001b[1;33m\u001b[0m\u001b[0m\n\u001b[0;32m     62\u001b[0m             \u001b[1;32mif\u001b[0m \u001b[0mextra_args\u001b[0m \u001b[1;33m<=\u001b[0m \u001b[1;36m0\u001b[0m\u001b[1;33m:\u001b[0m\u001b[1;33m\u001b[0m\u001b[1;33m\u001b[0m\u001b[0m\n\u001b[1;32m---> 63\u001b[1;33m                 \u001b[1;32mreturn\u001b[0m \u001b[0mf\u001b[0m\u001b[1;33m(\u001b[0m\u001b[1;33m*\u001b[0m\u001b[0margs\u001b[0m\u001b[1;33m,\u001b[0m \u001b[1;33m**\u001b[0m\u001b[0mkwargs\u001b[0m\u001b[1;33m)\u001b[0m\u001b[1;33m\u001b[0m\u001b[1;33m\u001b[0m\u001b[0m\n\u001b[0m\u001b[0;32m     64\u001b[0m \u001b[1;33m\u001b[0m\u001b[0m\n\u001b[0;32m     65\u001b[0m             \u001b[1;31m# extra_args > 0\u001b[0m\u001b[1;33m\u001b[0m\u001b[1;33m\u001b[0m\u001b[1;33m\u001b[0m\u001b[0m\n",
      "\u001b[1;32m~\\anaconda3\\lib\\site-packages\\sklearn\\utils\\validation.py\u001b[0m in \u001b[0;36mcheck_array\u001b[1;34m(array, accept_sparse, accept_large_sparse, dtype, order, copy, force_all_finite, ensure_2d, allow_nd, ensure_min_samples, ensure_min_features, estimator)\u001b[0m\n\u001b[0;32m    635\u001b[0m             \u001b[1;31m# If input is 1D raise error\u001b[0m\u001b[1;33m\u001b[0m\u001b[1;33m\u001b[0m\u001b[1;33m\u001b[0m\u001b[0m\n\u001b[0;32m    636\u001b[0m             \u001b[1;32mif\u001b[0m \u001b[0marray\u001b[0m\u001b[1;33m.\u001b[0m\u001b[0mndim\u001b[0m \u001b[1;33m==\u001b[0m \u001b[1;36m1\u001b[0m\u001b[1;33m:\u001b[0m\u001b[1;33m\u001b[0m\u001b[1;33m\u001b[0m\u001b[0m\n\u001b[1;32m--> 637\u001b[1;33m                 raise ValueError(\n\u001b[0m\u001b[0;32m    638\u001b[0m                     \u001b[1;34m\"Expected 2D array, got 1D array instead:\\narray={}.\\n\"\u001b[0m\u001b[1;33m\u001b[0m\u001b[1;33m\u001b[0m\u001b[0m\n\u001b[0;32m    639\u001b[0m                     \u001b[1;34m\"Reshape your data either using array.reshape(-1, 1) if \"\u001b[0m\u001b[1;33m\u001b[0m\u001b[1;33m\u001b[0m\u001b[0m\n",
      "\u001b[1;31mValueError\u001b[0m: Expected 2D array, got 1D array instead:\narray=[ 836 1167  796  852  797 1122 1104 1177  941 1146  909 1289  871 1020\n 1022 1134  844  795  588 1356 1118 1329 1240 1601  901 1088  963 1119\n 1380 1248 1039 1152 1380 1116 1039 1418 1082 1472 1146  760 1304 1207\n 1056 1043 1587 1120 1580 1955 1656 1477 1188 1590 1463 1714 1185 1406\n 1943 1172 1152 1851 1215 1130 1603 1479 1420 1280 1586 1362 2162 1266\n 1715 1820  936    0 1511 1590 1596 1341 2136 1616 1478 1287 1277 1448\n 2235 2093 1193 2163 1269    0  958 2508 1305 1591 1326 1843 1921 2790\n 1541 1018    0 1672 1380  975 2372 1446 1284 3009 3612 2056 1993 1857\n 1126 2213 2494 1843 1520 2800 2309 2367 3516    0 1914 1690 2725 2354\n    0 2185 1801 1961 3134 1915    0    0 2734 2110 3164 3599 2054 1830\n 1627 3440 2846 2359 2052 3433 3615    0 2687 2724 3440 3508 2462    0\n    0    0 2325    0  795 1099  840  800  746 1067 1316 1337  868  924\n  610    0 1220  722 1643  722 1080 1039 1051  967 1098 1050 1110  888\n 1120 1080  957  952 1211 1264 1080 1266  994 1202    0  722 1448 1188\n 1183 1320 1117 1364 1310 1006 1104  810 1123  904 1156 1321 1392 1439\n 1159 1671 1740 1265 1007 1716 1685 1829 1555 1120 1137 1174 1393    0\n    0 1289 1799    0 1953  723    0  948 1578 1317    0 1360    0 1522\n 1751 1465 1605 1475 1216 1315 1567 1776 2187 1291    0    0 1503 2491\n 1269    0 1176 1456 1498 1574 2085 2170 1595 1567    0 1253 1768    0\n 2030 1531    0 1653 2056 2494 1450 2169 1440 1527 1401 1411    0    0\n 1284 2307 1329 1910 1981    0    0    0 2205 1449 1258 2575  539 2208\n 1108 1595 2159 2295 1838 1900 1718 3389    0 3260 2016 2607 2724 3746\n    0 3192    0    0    0 1247 2581 2068    0 3992 3397 3881    0 1598\n 1929 3070    0    0    0    0 3984 2222 3838    0 2846 2484 1624  840\n  484  970  623  932  796  834  834  924  795 1250  984 1013 1012  795\n  918 1082  964 1404  625  888 1120 1331 1014 1448  966  779  836 1100\n 1174 1207 1995  804  958 1366  901  696 1080 1104  972 1390 1354  795\n  780 1587 1209 1139 1690 1245 1416 1300 1120 1590 1407 1516    0 1646\n 1676 1370 1370 1351 1152 1452  990 1162 1182 1112 1100 1280 1280 1039\n 1159 1917 1520 1204 1120 1436 1451 1638 1000 1152 1154 1353 1329 1356\n 1505 1009 1144  930 1766 1940 1776 1258 1872 1112 1856 1939  998 1758\n 2142  950 1739 1516  988 1555 1212 1871 1302  756 2026 1375 1250 1058\n 1187 1324 1936 2382 1427 1678 1798 2652 1816 3076 1844 1306 2447 1176\n 1182 1160 1424 1574 1830 1724 1255    0 2175 1904 1808 2711 1713 1457\n 2724    0 1468 2550 1928 1922 1343 1510  960 1559 1624 2992 2109 1524\n 1248 1876    0 1851    0 2218 1394 1410 3468 2346 2347 1659 2442    0\n 2155    0 1810 2789 1606    0 2166    0 1871 1800 1683    0    0 1596\n    0 1179    0 1639 3281 1697    0 2085    0 1744    0 1939    0 1788\n 1691 2002 4303 4246 2274    0 3056 2503    0    0 1905 1320    0    0\n 3037 3741 2660 3357 2896 2025 3788 3670    0    0    0    0    0    0\n    0    0    0    0    0    0    0    0    0    0    0    0    0    0\n    0    0    0    0    0    0    0    0    0    0    0    0    0    0\n    0    0    0    0    0    0    0    0    0    0    0    0    0    0\n    0 1166    0  838  904 1032  904 1080  990  900  861  906 1011 1089\n  832  800 1292  810 1064  911  846 1320 1410 1115 1169 1164 1341 1219\n 1127 1272 1253 1120 1118 1890 1260 1400 1264 1060 1132 1466 1092 1628\n  960 1075 1428 1358 2475 1410 1711 1483 1140 1549 1410 1240 1712 1580\n 1669 1029 1103 2161 1650 1320 1200 1170 1199 1695 1157 1410 1174 1593\n 1093 1770 1436 1124 1139 1638 1328 1273 1082 1578  796 1386 1452 1513\n    0 1578 1736    0 1473 1150 1127 1144  972 2306 1479 1040 1430 1800\n 1953 1120 1232 -984    0 2329 1351    0 1376 1300 1566 1115 1032 1419\n 1261 1637 1776 1338    0 2254 1441 1991 2126 1094 1462 2258 1074 2111\n 1686 1915 2367 1962 1406 1789 1876 1235 2504    0 1676 1367 1899 1636\n 1828    0 1438 1451 1520 1506 2605 1196 1621 1811 1540    0    0    0\n    0    0 1543 2494 1650 2214 2280 1443 1582 1857 1735 2096 1720 2160\n 1382    0 1721 1328    0 1982 1144 1623 1457 2555 1577 2592 1401    0\n 1502 1327 1800 2169 2457    0 2004 2212 3134 1360    0 1276 2962 1888\n    0    0 1548    0 2109 2484 2258 2212 1616 2372 2606    0 2877 2960\n    0 2172 2100 1795    0 2295 2577    0 1727 1485 1655    0    0 2049\n    0 2875    0 2199    0 1304 2334 2278 1493    0    0    0 2787 2824\n 3261 2053 2379    0    0    0    0    0    0 3173    0 1348    0 1252\n 3229 3863    0    0 2356    0 3579    0    0    0 4400    0 5822 1512\n  611  876  933  864 1011 1158 1092  956 1139 1058 1040 1354 1051  682\n 1161 1004 1229 1249 1161 1010    0 1462 1269 1188 1570 1093  962 1089\n 1127 1309  970 1144 1000    0 1206 1285 1543  884 1019 1392  924 1217\n 1670 1302 1488 1373 1381 1265  881    0 1608 1344 1202 1104    0 1859\n 1232 1638 1177 1582  904 1340 1204 1477 1497  960    0 1428 1039 1529\n 1892 1887 1294 1638 1677 1073 1231 1175 1416    0 1358 1609 1968 1089\n 1296 1189  795 1371 1310 1262 1740 1517 1450 1416  888 1882 1302 1418\n    0 1319 1770 1627    0 1040  960    0 1456 1450 1358 1329 1715 1262\n 2280 1477 1216 1685 1362].\nReshape your data either using array.reshape(-1, 1) if your data has a single feature or array.reshape(1, -1) if it contains a single sample."
     ]
    }
   ],
   "source": [
    "# A:\n",
    "from sklearn.linear_model import LinearRegression\n",
    "\n",
    "\n",
    "def lin_reg_func(x,y):\n",
    "    linreg.fit(x,y)\n",
    "    beta_1=linreg.coef_\n",
    "    beta_0=lingreg.intercept_\n",
    "    print(beta_0)\n",
    "    print(beta1)\n",
    "    \n",
    "lin_reg_func(sac['sq__ft'],sac['price'])"
   ]
  },
  {
   "cell_type": "markdown",
   "metadata": {},
   "source": [
    "### 6. Interpret the intercept. Interpret the slope."
   ]
  },
  {
   "cell_type": "code",
   "execution_count": 7,
   "metadata": {
    "collapsed": true
   },
   "outputs": [],
   "source": [
    "# A:"
   ]
  },
  {
   "cell_type": "markdown",
   "metadata": {},
   "source": [
    "### 7. Give an example of how this model could be used for prediction and how this model could be used for inference. \n",
    "\n",
    "**Be sure to make it clear which example is associated with prediction and which is associated with inference.**"
   ]
  },
  {
   "cell_type": "code",
   "execution_count": 8,
   "metadata": {
    "collapsed": true
   },
   "outputs": [],
   "source": [
    "# A:"
   ]
  },
  {
   "cell_type": "markdown",
   "metadata": {},
   "source": [
    "### 8: [Bonus] Using the model you came up with in Problem 5, calculate and plot the residuals."
   ]
  },
  {
   "cell_type": "code",
   "execution_count": 9,
   "metadata": {
    "collapsed": true
   },
   "outputs": [],
   "source": [
    "# A:"
   ]
  }
 ],
 "metadata": {
  "anaconda-cloud": {},
  "kernelspec": {
   "display_name": "Python 3",
   "language": "python",
   "name": "python3"
  },
  "language_info": {
   "codemirror_mode": {
    "name": "ipython",
    "version": 3
   },
   "file_extension": ".py",
   "mimetype": "text/x-python",
   "name": "python",
   "nbconvert_exporter": "python",
   "pygments_lexer": "ipython3",
   "version": "3.8.5"
  }
 },
 "nbformat": 4,
 "nbformat_minor": 1
}

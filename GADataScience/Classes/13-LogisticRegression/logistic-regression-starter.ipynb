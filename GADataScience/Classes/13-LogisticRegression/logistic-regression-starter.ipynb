{
 "cells": [
  {
   "cell_type": "markdown",
   "metadata": {},
   "source": [
    "<img src=\"http://imgur.com/1ZcRyrc.png\" style=\"float: left; margin: 20px; height: 55px\">\n",
    " \n",
    "# Logistic Regression\n",
    " \n",
    "_Authors: Multiple_\n",
    " \n",
    "---\n",
    "\n",
    "_Instructor Note: There are several portions of this lab that are half filled in.  You can use these as independent activity or a refresher walkthrough_"
   ]
  },
  {
   "cell_type": "markdown",
   "metadata": {},
   "source": [
    "<a id=\"learning-objectives\"></a>\n",
    "### Learning Objectives\n",
    "- Recall how to perform linear regression in scikit-learn.\n",
    "- Demonstrate why logistic regression is a better alternative for classification than linear regression.\n",
    "- Understand the concepts of probability, odds, e, log, and log-odds in relation to machine learning.\n",
    "- Explain how logistic regression works.\n",
    "- Interpret logistic regression coefficients.\n",
    "- Use logistic regression with categorical features.\n",
    "- Compare logistic regression with other models.\n",
    "- Utilize different metrics for evaluating classifier models.\n",
    "- Construct a confusion matrix based on predicted classes."
   ]
  },
  {
   "cell_type": "markdown",
   "metadata": {},
   "source": [
    "### Lesson Guide\n",
    "- [Refresher: Fitting and Visualizing a Linear Regression Using scikit-learn](#refresher-fitting-and-visualizing-a-linear-regression-using-scikit-learn)\n",
    "- [Refresher: Interpreting Linear Regression Coefficients](#refresher-interpreting-linear-regression-coefficients)\n",
    "- [Predicting a Categorical Response](#predicting-a-categorical-response)\n",
    "- [Using Logistic Regression for Classification](#using-logistic-regression-for-classification)\n",
    "- [Probability, e, Log, and Log Odds](#probability-odds-e-log-and-log-odds)\n",
    "\t- [Understanding e and the Natural Logarithm](#understanding-e-and-the-natural-logarithm)\n",
    "\t- [Log Odds](#the-log-odds)\n",
    "- [What Is Logistic Regression?](#what-is-logistic-regression)\n",
    "- [Interpreting Logistic Regression Coefficients](#interpreting-logistic-regression-coefficients)\n",
    "- [Using Logistic Regression With Categorical Features](#using-logistic-regression-with-categorical-features)\n",
    "- [Comparing Logistic Regression to Other Models](#comparing-logistic-regression-to-other-models)\n",
    "- [Advanced Classification Metrics](#advanced-classification-metrics)\n",
    "\t- [Accuracy, True Positive Rate, and False Negative Rate](#accuracy-true-positive-rate-and-false-negative-rate)\n",
    "\t- [The Accuracy Paradox](#the-accuracy-paradox)\n",
    "- [OPTIONAL: How Many Samples Are Needed?](#samples)\n",
    "- [Lesson Review](#lesson-review)"
   ]
  },
  {
   "cell_type": "markdown",
   "metadata": {},
   "source": [
    "# Introduction\n",
    "\n",
    "In this lesson we learn about Logistic Regression, or what is sometimes referred to as Logistic Classification.\n",
    "\n",
    "\"How can a model be both a Regression and a Classification?\" you may ask.  \n",
    "\n",
    "\n",
    "## Discussion\n",
    "\n",
    "Have you ever had to sort objects, but everything didn't fit perfectly into groups?\n",
    "\n",
    "Example:\n",
    "- Movies/Books\n",
    "- Socks\n",
    "- Phone apps\n",
    "\n",
    "\n",
    "Logistic Regression/Classification uses elements from both the Linear Regression and the K Nearest Neighbors algorithms."
   ]
  },
  {
   "cell_type": "markdown",
   "metadata": {},
   "source": [
    "<a id=\"refresher-fitting-and-visualizing-a-linear-regression-using-scikit-learn\"></a>\n",
    "## Refresher: Fitting and Visualizing a Linear Regression Using scikit-learn\n",
    "---\n",
    "\n",
    "Use Pandas to load in the glass attribute data from the UCI machine learning website. The columns are different measurements of properties of glass that can be used to identify the glass type. For detailed information on the columns in this data set, [please see the included .names file](http://archive.ics.uci.edu/ml/machine-learning-databases/glass/glass.names)."
   ]
  },
  {
   "cell_type": "code",
   "execution_count": 17,
   "metadata": {},
   "outputs": [],
   "source": [
    "# Glass identification data set\n",
    "import pandas as pd\n",
    " # source =  data/glass.csv\n"
   ]
  },
  {
   "cell_type": "code",
   "execution_count": 18,
   "metadata": {},
   "outputs": [],
   "source": [
    "glass = pd.read_csv('data/glass.csv')"
   ]
  },
  {
   "cell_type": "code",
   "execution_count": 19,
   "metadata": {},
   "outputs": [],
   "source": [
    "# change columns to something more uniform\n",
    "glass.columns = ['ri','na','mg','al','si','k','ca','ba','fe','glass_type']"
   ]
  },
  {
   "cell_type": "code",
   "execution_count": 20,
   "metadata": {},
   "outputs": [
    {
     "data": {
      "text/html": [
       "<div>\n",
       "<style scoped>\n",
       "    .dataframe tbody tr th:only-of-type {\n",
       "        vertical-align: middle;\n",
       "    }\n",
       "\n",
       "    .dataframe tbody tr th {\n",
       "        vertical-align: top;\n",
       "    }\n",
       "\n",
       "    .dataframe thead th {\n",
       "        text-align: right;\n",
       "    }\n",
       "</style>\n",
       "<table border=\"1\" class=\"dataframe\">\n",
       "  <thead>\n",
       "    <tr style=\"text-align: right;\">\n",
       "      <th></th>\n",
       "      <th>ri</th>\n",
       "      <th>na</th>\n",
       "      <th>mg</th>\n",
       "      <th>al</th>\n",
       "      <th>si</th>\n",
       "      <th>k</th>\n",
       "      <th>ca</th>\n",
       "      <th>ba</th>\n",
       "      <th>fe</th>\n",
       "      <th>glass_type</th>\n",
       "    </tr>\n",
       "  </thead>\n",
       "  <tbody>\n",
       "    <tr>\n",
       "      <th>0</th>\n",
       "      <td>1.52101</td>\n",
       "      <td>13.64</td>\n",
       "      <td>4.49</td>\n",
       "      <td>1.10</td>\n",
       "      <td>71.78</td>\n",
       "      <td>0.06</td>\n",
       "      <td>8.75</td>\n",
       "      <td>0.0</td>\n",
       "      <td>0.0</td>\n",
       "      <td>1</td>\n",
       "    </tr>\n",
       "    <tr>\n",
       "      <th>1</th>\n",
       "      <td>1.51761</td>\n",
       "      <td>13.89</td>\n",
       "      <td>3.60</td>\n",
       "      <td>1.36</td>\n",
       "      <td>72.73</td>\n",
       "      <td>0.48</td>\n",
       "      <td>7.83</td>\n",
       "      <td>0.0</td>\n",
       "      <td>0.0</td>\n",
       "      <td>1</td>\n",
       "    </tr>\n",
       "    <tr>\n",
       "      <th>2</th>\n",
       "      <td>1.51618</td>\n",
       "      <td>13.53</td>\n",
       "      <td>3.55</td>\n",
       "      <td>1.54</td>\n",
       "      <td>72.99</td>\n",
       "      <td>0.39</td>\n",
       "      <td>7.78</td>\n",
       "      <td>0.0</td>\n",
       "      <td>0.0</td>\n",
       "      <td>1</td>\n",
       "    </tr>\n",
       "    <tr>\n",
       "      <th>3</th>\n",
       "      <td>1.51766</td>\n",
       "      <td>13.21</td>\n",
       "      <td>3.69</td>\n",
       "      <td>1.29</td>\n",
       "      <td>72.61</td>\n",
       "      <td>0.57</td>\n",
       "      <td>8.22</td>\n",
       "      <td>0.0</td>\n",
       "      <td>0.0</td>\n",
       "      <td>1</td>\n",
       "    </tr>\n",
       "    <tr>\n",
       "      <th>4</th>\n",
       "      <td>1.51742</td>\n",
       "      <td>13.27</td>\n",
       "      <td>3.62</td>\n",
       "      <td>1.24</td>\n",
       "      <td>73.08</td>\n",
       "      <td>0.55</td>\n",
       "      <td>8.07</td>\n",
       "      <td>0.0</td>\n",
       "      <td>0.0</td>\n",
       "      <td>1</td>\n",
       "    </tr>\n",
       "  </tbody>\n",
       "</table>\n",
       "</div>"
      ],
      "text/plain": [
       "        ri     na    mg    al     si     k    ca   ba   fe  glass_type\n",
       "0  1.52101  13.64  4.49  1.10  71.78  0.06  8.75  0.0  0.0           1\n",
       "1  1.51761  13.89  3.60  1.36  72.73  0.48  7.83  0.0  0.0           1\n",
       "2  1.51618  13.53  3.55  1.54  72.99  0.39  7.78  0.0  0.0           1\n",
       "3  1.51766  13.21  3.69  1.29  72.61  0.57  8.22  0.0  0.0           1\n",
       "4  1.51742  13.27  3.62  1.24  73.08  0.55  8.07  0.0  0.0           1"
      ]
     },
     "execution_count": 20,
     "metadata": {},
     "output_type": "execute_result"
    }
   ],
   "source": [
    "glass.head()"
   ]
  },
  {
   "cell_type": "markdown",
   "metadata": {},
   "source": [
    "**Data Dictionary**\n",
    "\n",
    "- `Id`: number: 1 to 214\n",
    "- `RI`: refractive index  \n",
    "- `Na`: Sodium (unit measurement: weight percent in corresponding oxide, as are attributes 4-10)\n",
    "- `Mg`: Magnesium\n",
    "- `Al`: Aluminum\n",
    "- `Si`: Silicon\n",
    "- `K` : Potassium\n",
    "- `Ca`: Calcium\n",
    "- `Ba`: Barium\n",
    "- `Fe`: Iron\n",
    "- `Type` : Type of glass:"
   ]
  },
  {
   "cell_type": "code",
   "execution_count": 21,
   "metadata": {},
   "outputs": [
    {
     "data": {
      "text/plain": [
       "2    76\n",
       "1    70\n",
       "7    29\n",
       "3    17\n",
       "5    13\n",
       "6     9\n",
       "Name: glass_type, dtype: int64"
      ]
     },
     "execution_count": 21,
     "metadata": {},
     "output_type": "execute_result"
    }
   ],
   "source": [
    "glass.glass_type.value_counts()"
   ]
  },
  {
   "cell_type": "markdown",
   "metadata": {},
   "source": [
    "**Pretend we want to predict `ri`, and our only feature is `al`. How could we do it using machine learning?**\n",
    "\n",
    "<!--\n",
    "**Answer:** We could frame it as a regression problem, and use a linear regression model with **`al`** as the only feature and **`ri`** as the response.\n",
    "-->\n",
    "\n",
    "**How would we visualize this model?**\n",
    "<!--\n",
    "**Answer:** Create a scatter plot with **`al`** on the x-axis and **`ri`** on the y-axis, and draw the line of best fit.\n",
    "-->"
   ]
  },
  {
   "cell_type": "code",
   "execution_count": 22,
   "metadata": {},
   "outputs": [],
   "source": [
    "import seaborn as sns\n",
    "import matplotlib.pyplot as plt\n",
    "%matplotlib inline\n",
    "sns.set(font_scale=1.5);"
   ]
  },
  {
   "cell_type": "code",
   "execution_count": 23,
   "metadata": {},
   "outputs": [
    {
     "data": {
      "image/png": "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\n",
      "text/plain": [
       "<Figure size 360x360 with 1 Axes>"
      ]
     },
     "metadata": {},
     "output_type": "display_data"
    }
   ],
   "source": [
    "#scatter with regression line\n",
    "sns.lmplot(x='al', y='ri', data=glass);"
   ]
  },
  {
   "cell_type": "markdown",
   "metadata": {},
   "source": [
    "**How can we draw this plot (just the points — don't worry about the regression line) without using Seaborn?**"
   ]
  },
  {
   "cell_type": "code",
   "execution_count": 24,
   "metadata": {},
   "outputs": [
    {
     "name": "stderr",
     "output_type": "stream",
     "text": [
      "*c* argument looks like a single numeric RGB or RGBA sequence, which should be avoided as value-mapping will have precedence in case its length matches with *x* & *y*.  Please use the *color* keyword-argument or provide a 2D array with a single row if you intend to specify the same RGB or RGBA value for all points.\n"
     ]
    },
    {
     "data": {
      "image/png": "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\n",
      "text/plain": [
       "<Figure size 432x288 with 1 Axes>"
      ]
     },
     "metadata": {},
     "output_type": "display_data"
    },
    {
     "data": {
      "image/png": "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\n",
      "text/plain": [
       "<Figure size 360x360 with 1 Axes>"
      ]
     },
     "metadata": {},
     "output_type": "display_data"
    }
   ],
   "source": [
    "# Scatter plot using Pandas\n",
    "glass.plot(kind='scatter', x='al', y='ri')\n",
    "\n",
    "# Seaborn with parameters\n",
    "sns.lmplot(x='al', y='ri', data=glass, fit_reg=False);\n",
    "\n",
    "# Equivalent scatter plot using Matplotlib\n",
    "#plt.scatter(glass.al, glass.ri)\n",
    "#plt.xlabel('al')\n",
    "#plt.ylabel('ri')"
   ]
  },
  {
   "cell_type": "markdown",
   "metadata": {},
   "source": [
    "To build a linear regression model to predict `ri` using scikit-learn, we will need to Import `LinearRegression` from `linear_model`.\n",
    "\n",
    "**Using `LinearRegression`, fit a model predicting `ri` from `al` (and an intercept).**"
   ]
  },
  {
   "cell_type": "code",
   "execution_count": 25,
   "metadata": {},
   "outputs": [
    {
     "data": {
      "text/plain": [
       "LinearRegression()"
      ]
     },
     "execution_count": 25,
     "metadata": {},
     "output_type": "execute_result"
    }
   ],
   "source": [
    "# Fit a linear regression model (name the model \"linreg\").\n",
    "from sklearn.linear_model import LinearRegression\n",
    "linreg = LinearRegression()\n",
    "\n",
    "feature_cols = ['al']\n",
    "X = glass[feature_cols]\n",
    "y = glass.ri\n",
    "\n",
    "linreg.fit(X, y)"
   ]
  },
  {
   "cell_type": "markdown",
   "metadata": {},
   "source": [
    "**Using the `LinearRegression` object we have fit, create a variable that are our predictions for `ri` for each row's `al` in the data set.**"
   ]
  },
  {
   "cell_type": "code",
   "execution_count": 26,
   "metadata": {},
   "outputs": [
    {
     "data": {
      "text/html": [
       "<div>\n",
       "<style scoped>\n",
       "    .dataframe tbody tr th:only-of-type {\n",
       "        vertical-align: middle;\n",
       "    }\n",
       "\n",
       "    .dataframe tbody tr th {\n",
       "        vertical-align: top;\n",
       "    }\n",
       "\n",
       "    .dataframe thead th {\n",
       "        text-align: right;\n",
       "    }\n",
       "</style>\n",
       "<table border=\"1\" class=\"dataframe\">\n",
       "  <thead>\n",
       "    <tr style=\"text-align: right;\">\n",
       "      <th></th>\n",
       "      <th>ri</th>\n",
       "      <th>na</th>\n",
       "      <th>mg</th>\n",
       "      <th>al</th>\n",
       "      <th>si</th>\n",
       "      <th>k</th>\n",
       "      <th>ca</th>\n",
       "      <th>ba</th>\n",
       "      <th>fe</th>\n",
       "      <th>glass_type</th>\n",
       "    </tr>\n",
       "  </thead>\n",
       "  <tbody>\n",
       "    <tr>\n",
       "      <th>0</th>\n",
       "      <td>1.52101</td>\n",
       "      <td>13.64</td>\n",
       "      <td>4.49</td>\n",
       "      <td>1.10</td>\n",
       "      <td>71.78</td>\n",
       "      <td>0.06</td>\n",
       "      <td>8.75</td>\n",
       "      <td>0.0</td>\n",
       "      <td>0.0</td>\n",
       "      <td>1</td>\n",
       "    </tr>\n",
       "    <tr>\n",
       "      <th>1</th>\n",
       "      <td>1.51761</td>\n",
       "      <td>13.89</td>\n",
       "      <td>3.60</td>\n",
       "      <td>1.36</td>\n",
       "      <td>72.73</td>\n",
       "      <td>0.48</td>\n",
       "      <td>7.83</td>\n",
       "      <td>0.0</td>\n",
       "      <td>0.0</td>\n",
       "      <td>1</td>\n",
       "    </tr>\n",
       "    <tr>\n",
       "      <th>2</th>\n",
       "      <td>1.51618</td>\n",
       "      <td>13.53</td>\n",
       "      <td>3.55</td>\n",
       "      <td>1.54</td>\n",
       "      <td>72.99</td>\n",
       "      <td>0.39</td>\n",
       "      <td>7.78</td>\n",
       "      <td>0.0</td>\n",
       "      <td>0.0</td>\n",
       "      <td>1</td>\n",
       "    </tr>\n",
       "    <tr>\n",
       "      <th>3</th>\n",
       "      <td>1.51766</td>\n",
       "      <td>13.21</td>\n",
       "      <td>3.69</td>\n",
       "      <td>1.29</td>\n",
       "      <td>72.61</td>\n",
       "      <td>0.57</td>\n",
       "      <td>8.22</td>\n",
       "      <td>0.0</td>\n",
       "      <td>0.0</td>\n",
       "      <td>1</td>\n",
       "    </tr>\n",
       "    <tr>\n",
       "      <th>4</th>\n",
       "      <td>1.51742</td>\n",
       "      <td>13.27</td>\n",
       "      <td>3.62</td>\n",
       "      <td>1.24</td>\n",
       "      <td>73.08</td>\n",
       "      <td>0.55</td>\n",
       "      <td>8.07</td>\n",
       "      <td>0.0</td>\n",
       "      <td>0.0</td>\n",
       "      <td>1</td>\n",
       "    </tr>\n",
       "  </tbody>\n",
       "</table>\n",
       "</div>"
      ],
      "text/plain": [
       "        ri     na    mg    al     si     k    ca   ba   fe  glass_type\n",
       "0  1.52101  13.64  4.49  1.10  71.78  0.06  8.75  0.0  0.0           1\n",
       "1  1.51761  13.89  3.60  1.36  72.73  0.48  7.83  0.0  0.0           1\n",
       "2  1.51618  13.53  3.55  1.54  72.99  0.39  7.78  0.0  0.0           1\n",
       "3  1.51766  13.21  3.69  1.29  72.61  0.57  8.22  0.0  0.0           1\n",
       "4  1.51742  13.27  3.62  1.24  73.08  0.55  8.07  0.0  0.0           1"
      ]
     },
     "execution_count": 26,
     "metadata": {},
     "output_type": "execute_result"
    }
   ],
   "source": [
    "glass.head()"
   ]
  },
  {
   "cell_type": "code",
   "execution_count": 27,
   "metadata": {},
   "outputs": [],
   "source": [
    "# Make predictions for all values of X and add back to the original DataFrame.\n",
    "y_pred = linreg.predict(X)\n",
    "\n",
    "# new column of y_pred\n",
    "glass['y_pred'] = y_pred"
   ]
  },
  {
   "cell_type": "markdown",
   "metadata": {},
   "source": [
    "**Plot the predicted `ri` against each `al` as a line.**"
   ]
  },
  {
   "cell_type": "code",
   "execution_count": 28,
   "metadata": {},
   "outputs": [
    {
     "data": {
      "image/png": "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\n",
      "text/plain": [
       "<Figure size 432x288 with 1 Axes>"
      ]
     },
     "metadata": {},
     "output_type": "display_data"
    }
   ],
   "source": [
    "# Plot those predictions connected by a line (try plt.plot()).\n",
    "plt.plot(glass.al, glass.y_pred);\n"
   ]
  },
  {
   "cell_type": "markdown",
   "metadata": {},
   "source": [
    "_Note the y axis labels when comparing to seaborns plot_"
   ]
  },
  {
   "cell_type": "markdown",
   "metadata": {},
   "source": [
    "**Plot this regression line with the scatter points on the same chart.**"
   ]
  },
  {
   "cell_type": "code",
   "execution_count": 12,
   "metadata": {},
   "outputs": [
    {
     "data": {
      "text/plain": [
       "Text(0, 0.5, 'ri')"
      ]
     },
     "execution_count": 12,
     "metadata": {},
     "output_type": "execute_result"
    },
    {
     "data": {
      "image/png": "iVBORw0KGgoAAAANSUhEUgAAAaUAAAEbCAYAAAB6EpurAAAAOXRFWHRTb2Z0d2FyZQBNYXRwbG90bGliIHZlcnNpb24zLjQuMCwgaHR0cHM6Ly9tYXRwbG90bGliLm9yZy8+yak3AAAACXBIWXMAAAsTAAALEwEAmpwYAAA6rklEQVR4nO3de1xU1d4/8M9wvys3RRM10YM5pKipkXYQrZA0S8zTxUftwTomGQdPEmqezu/R5+QVrycyM0NEi0wPlsdSUaFSqyfSLGT0SBaaETagXISBgfn9QTMyzB1m2HtmPu/Xy9fL2bP3nrU3sL+z1vqutSQqlUoFIiIiEXARugBERERqDEpERCQaDEpERCQaDEpERCQaDEpERCQaDEpERCQaoglKJSUlkEqlKC8vN7rfgQMHEBkZqfNv+fLlmn1qamqwfPly3H///Rg+fDjmzJmD77//Xus85eXles8zZcoUm1wfERGZ5iZ0AQCgtLQU8+bNg1KpNLmvTCZDv379sGbNGq3tISEhmv+npqZCJpPhpZdeQo8ePZCVlYVZs2bhww8/RHh4uOY8ALBjxw74+vpqjvXy8rLGJRERUQcIGpSUSiVyc3ORkZEBd3d3s465cOECpFIpoqOj9b7/3Xff4fPPP8fmzZsRHx8PABg5ciTuvfde7Nu3D6mpqQBag1JISAjGjh1rjUshIiIrELT5rqioCOvWrUNSUhIWLVpk1jEymQyRkZEG3x80aBByc3Mxfvx4zTZ3d3dIJBIoFArNtpKSEqPnISKiridoUIqIiEB+fj4WLFgAV1dXk/tXVFRALpfj/PnzmDRpEqRSKeLj45GXl6fZx8vLC9HR0fD09ERzczN+/PFHpKenQ6VS4dFHH9XsJ5PJ0NDQgKeeegp333037rvvPmRkZKCpqckWl0pERGYQtPmubT+QOdT9QFevXkVaWho8PT2Rl5eH9PR0NDc3Y/r06Vr7v/baa8jJyQEApKSkYPDgwQCA+vp6lJWV4ebNm0hLS8PChQvxxRdfYNu2baioqMDq1autcHVERGQpUSQ6mCsqKgpbt27FqFGj4OfnBwAYN24c5HI5Nm3apBOUpk2bhoceegiFhYXYsmULVCqVpla2Y8cO3HHHHejbty8AYPTo0XB3d8fGjRsxf/589O/f3+xyVVXVoaWF89p2RnCwH+TyWqGL4ZR474XjrPfexUWCwEBfve/ZVVAKCgpCXFyczvbY2FicOnUKlZWVCAoK0myPiooCAIwZMwZVVVV46623MH/+fHh4eCAmJkbnPOPHj8fGjRshk8ksCkotLSoGJSvgPRQO771weO+1iWackjnOnDmDvXv36mxXKBRwc3ODv78/Ll++jA8++ADtV+SQSqVoaGjAzZs3ceXKFeTm5qKyslJrn4aGBgBAYGCg7S6CiIgMsqugdPbsWSxbtkzTtwQALS0tOHz4MEaMGAF3d3dcvHgRr7zyCr788kutYz///HP06NEDgYGBqK6uxquvvoqDBw9q7XPo0CH4+/tjyJAhXXI9RESkTdTNd5WVlSgrK8PAgQPh5+eHxMREZGdnY8GCBUhNTYWvry/27NmDixcvYvfu3QCAuLg4SKVSpKenY+HChQgODsZHH32EEydOYO3atZBIJJBKpZgwYQI2bNiAlpYWDBo0CIWFhdi1axcWL14Mf39/ga+ciMg5iTooFRQUYMmSJcjOzsaYMWPQrVs35OTkICMjAytXrkRtbS2ioqKQlZWFYcOGAQA8PDywfft2bNy4EevXr0dVVRUiIyORmZmJiRMnas6dkZGBzMxM7Nq1CxUVFejbty9WrFiBGTNmCHW5REROT8Ll0DtPLq9lZ2UHnS4ux/7CUlRWKxAU4InE2AjESMOELpZTCQ31x/XrNUIXwyk56713cZEgONhP73uirimRYztdXI6dH8vQqGwBAMirFdj5cWt/IQMTkXOyq0QHciz7C0s1AUmtUdmC/YWlApWIiITGoESCkVcrLNpORI6PQYkEExzgadF2InJ8DEokmMTYCHi4af8Keri5IDE2QqASEZHQmOhAglEnMzD7jojUGJRIUDHSMMRIw5w2NZaItLH5joiIRINBiYiIRINBiYiIRINBiYiIRINBiYiIRINBiYiIRINBiYiIRINBiYiIRINBiYiIRINBiYiIRINBiYiIRINBiYiIRINBiYiIRINBiYiIRINBiYiIRIPrKRGRUaeLy7G/sBTyagWCuRAj2RiDEhEZdLq4HDs/lqFR2QIAkFcrsPNjGQAwMJFNsPmOiAzaX1iqCUhqjcoW7C8sFahE5OgYlIjIIHm1wqLtRJ3FoEREBgUHeFq0naizGJSIyKDE2Ah4uGk/JjzcXJAYGyFQicjRMdGBiAxSJzMw+466CoMSERkVIw1jEKIuw+Y7IiISDdEEpZKSEkilUpSXlxvd78CBA4iMjNT5t3z5cs0+NTU1WL58Oe6//34MHz4cc+bMwffff69zrp07d+LBBx/E0KFDMW3aNBQWFlr9uoiIyHyiaL4rLS3FvHnzoFQqTe4rk8nQr18/rFmzRmt7SEiI5v+pqamQyWR46aWX0KNHD2RlZWHWrFn48MMPER4eDgDYvn071q9fjwULFkAqlWLfvn1ITk7G7t27ER0dbdXrIyIi8wgalJRKJXJzc5GRkQF3d3ezjrlw4QKkUqnBwPHdd9/h888/x+bNmxEfHw8AGDlyJO69917s27cPqampuHXrFrZu3YqkpCQkJycDAP74xz/iySefxD//+U9s377dKtdHRESWEbT5rqioCOvWrUNSUhIWLVpk1jEymQyRkZEG3x80aBByc3Mxfvx4zTZ3d3dIJBIoFK0D/r799lvU1NTgoYce0uwjkUjw4IMP4vTp02hsbOzYBRERUacIGpQiIiKQn5+PBQsWwNXV1eT+FRUVkMvlOH/+PCZNmgSpVIr4+Hjk5eVp9vHy8kJ0dDQ8PT3R3NyMH3/8Eenp6VCpVHj00UcBAD/88AMAYMCAAVrn79evH5RKJa5cuWK9iyQiIrMJ2nzXth/IHDJZ60SQV69eRVpaGjw9PZGXl4f09HQ0Nzdj+vTpWvu/9tpryMnJAQCkpKRg8ODBAIDa2loAgK+vr9b+6td1dXUWlSs42M+i/Um/0FB/oYvgtHjvhcN7r00UiQ7mioqKwtatWzFq1Cj4+bUGgnHjxkEul2PTpk06QWnatGl46KGHUFhYiC1btkClUmHBggVQqVRGP0cikVhULrm8Fi0txs9JxoWG+uP69Rqhi+GUeO+F46z33sVFYvDLvF0FpaCgIMTFxelsj42NxalTp1BZWYmgoCDN9qioKADAmDFjUFVVhbfeegvz58+Hv3/rN5O6ujpNcANu16DU7xMRUdcSzTglc5w5cwZ79+7V2a5QKODm5gZ/f39cvnwZH3zwgU5tSCqVoqGhATdv3sSdd94JACgrK9Pa56effoKHhwd69+5tu4sgIiKD7CoonT17FsuWLdP0LQFAS0sLDh8+jBEjRsDd3R0XL17EK6+8gi+//FLr2M8//xw9evRAYGAghg8fDh8fHxw+fFjzvkqlwtGjRzFq1Ch4eHh02TUREdFtom6+q6ysRFlZGQYOHAg/Pz8kJiYiOzsbCxYsQGpqKnx9fbFnzx5cvHgRu3fvBgDExcVBKpUiPT0dCxcuRHBwMD766COcOHECa9euhUQigbe3N5KSkpCZmQlXV1cMGzYM+/btQ3FxMbKzswW+aiIi5yXqoFRQUIAlS5YgOzsbY8aMQbdu3ZCTk4OMjAysXLkStbW1iIqKQlZWFoYNGwYA8PDwwPbt27Fx40asX78eVVVViIyMRGZmJiZOnKg59wsvvABXV1e8//772L59OwYOHIjMzEyMHDlSqMslInJ6EpWpVDQyidl3neesWUhiwHsvHGe998ay7+yqT4mIiBwbgxIREYkGgxIREYkGgxIREYkGgxIREYkGgxIREYkGgxIREYkGgxIREYmGqGd0oK5xurgc+wtLIa9WIDjAE4mxEYiRhgldLCJyQgxKTu50cTl2fixDo7IFACCvVmDnx60T3jIwEVFXY/Odk9tfWKoJSGqNyhbsLywVqERE5MxYU3Jy8mqFye1s3iOirsKakpMLDvA0ul3dvKcOUurmvdPF5V1WRiJyHgxKTm5oRLDONg83FyTGRgBg8x4RdS0GJSd2urgcJ7/TrfGMvTtM0zxnTvMeEZG1MCg5MX21IAA4VyrX/N9U8x4RkTUxKDkxc2pBibER8HDT/jVp27xHRGRNzL5zYsEBnnoDU9takLoZj9l3RNQVuBy6FdjrcujtB84CrbWgsXeH4VypXCcI2TI13FmXhRYD3nvhOOu9N7YcOmtKTkxfLWhoRDBOfleuM8PDpas39G5vex4ios5iUHJyMdIwraCSlnlSbwp44dlraF8ZVKeGMygRkbUw0YG0GEp+MNQ6ydRwIrIm1pRIi6HkBxeJ/sDkKKnhnEqJSBxYUyIthlLAY6N7O2xqOKdSIhIPBiXSEiMNw5yEwZoaUHCAJ+YkDMas+MF6tztCbYJTKRGJB5vvSEf75AdT2+0dp1IiEg/WlMjpcSolIvFgUCKnx6mUiMSDzXfk9DiVEpF4MCgRwXH7y4jsjWiCUklJCR5//HEcO3YMYWGGHw4HDhzAyy+/rLN95syZePXVVwEAtbW1eP3113H06FH89ttvCA8Px1NPPYWnnnoKEokEAKBUKjFixAgoFNqd2T4+Pjhz5owVr4yIiMwliqBUWlqKefPmQalUmtxXJpOhX79+WLNmjdb2kJAQzf8XLlyIc+fOISUlBQMGDMCpU6ewYsUK1NTUYN68eQCAy5cvQ6FQYPXq1ejfv7/mWBcXdrMREQlF0KCkVCqRm5uLjIwMuLu7m3XMhQsXIJVKER0drff9kpISfPrpp9i4cSMSEhIAADExMaiursZbb72lCUoymQwuLi6Ij4+Ht7e3Va6HiIg6R9BqQVFREdatW4ekpCQsWrTIrGNkMhkiIyMNvq9SqfDEE08gJiZGa/uAAQNQU1ODqqoqAK3Bq2/fvgxIREQiImhNKSIiAvn5+QgODsb+/ftN7l9RUQG5XI7z589j0qRJuHLlCvr06YP58+fjscceAwAMGTIEy5cv1zk2Pz8foaGh6N69O4DWGpeHhwfmzp2Lb775Bm5ubkhISMDLL78MPz/963wQiR3n8CN7J2hQatsPZA6ZrHX9nqtXryItLQ2enp7Iy8tDeno6mpubMX36dL3H7dy5E1999RWWLl2qSXSQyWSora3FjBkz8Pzzz+P777/Hli1bcPnyZWRnZ2v2M4ehxarIMqGh/kIXwa4VFF1B9icXoGhqBtA6I0X2JxcQ4O+F8SPDjR7Ley8c3nttokh0MFdUVBS2bt2KUaNGaWoz48aNg1wux6ZNm/QGpZycHKxcuRIJCQmYPXu2ZvuGDRvQrVs3TVPgqFGjEBwcjLS0NJw6dQpjx441u1z2uvKsmDjrCpzWlHWwWBOQ1BRNzcg6WAxp3+4Gj+O9F46z3ntjK8/aVapZUFAQ4uLidJrXYmNj8euvv6KyslKzraWlBatXr8aKFSswefJkrFu3Tqv2M3r0aJ2+qfHjxwO4XSMjsiecw48cgV0FpTNnzmDv3r062xUKBdzc3ODv31oNbmpqQmpqKnbs2IGkpCSsW7cObm63K4VyuRx79+7FlStXtM7T0NAAAAgMDLThVRDZBufwI0dgV0Hp7NmzWLZsmVZNpqWlBYcPH8aIESM0aeVLly7FkSNHsGTJEqSnp+v0D0kkErz66qvIycnR2n7o0CG4urpi5MiRtr8YIivjHH7kCETdp1RZWYmysjIMHDgQfn5+SExMRHZ2NhYsWIDU1FT4+vpiz549uHjxInbv3g0AKCgowIcffogJEyYgOjoaZ8+e1TrnkCFDEBQUhJkzZ2LXrl3w8/PDPffcg6KiImzduhUzZ85Ev379BLha6ghmm93GOfzIEYg6KBUUFGDJkiXIzs7GmDFj0K1bN+Tk5CAjIwMrV65EbW0toqKikJWVhWHDhgEADh8+DAA4fvw4jh8/rnPOwsJChIWFIT09HT179sS+ffuwbds29OzZEykpKXj22We79Bqp49QrxqoX6FOvGAvAaR/EnMOP7J1EpVIxbayTmH3XeR3JQkrLPKm3Ez84wBNrk83PnnR2zpoBJgbOeu8dJvuOqC1mmxE5HlE33xEZExzgabCmZEpX9EWxv4vIcqwpkd3qaLaZui9KHdDUfVGni8utVrau+AwiR8SgRHYrRhqGOQmDNTWj4ABPzEkYbLI2sr+wVJMcodaobMH+wlKrla0rPoPIEbH5juxaR7LNuqIviv1dRB3DoOQg2H+hzdj96ExflLm64jOIHBGb7xwA+y+0mbofXTHzAWdXIOoY1pQcgLH+C1vWlsRaOzN1P7pi5gPOrkDUMQxKDkCI/gsxz6Zgzv3oipkPOLsCkeXYfOcAhJgdWszZZZwtm8h+MSg5ACH6L8ScXcb+HCL7xeY7ByBE/4WYs8vYn9M5Yu0rJOfAoOQgurr/IjE2QqtPCRBXbYT9OR0j5r5Ccg5Gg9LEiROxdOlSTJw4EQAwYcIEnQXz2pNIJMjPz7deCUlUdh2WofDsNagnRfd0d4WiqbnD36jV38orqxUI4rdywQmVyUmkZjQo9e7dGz4+PprXvr6+6N69u63LRGZoGxxcJEBsdG/Mih9stfPra8K5dPUGTpy5prWfoqkZccMNf7axpiB+KxcfMfcVknMwGpR27dql9bq6uhqTJk3CCy+8YNNCkXG7Dsu0gkOLCprX1ghMhoJFU3OL3v0Lz17T+7mmgg6/lYuPmPsKyTlYlH1348YNhIaG2qosZKbCs9cs2m4pQ8HC0HKQ+tY3PF1cjrcPnjeaNs5v5eLDzEUSmkWJDlOmTMHevXsxYcIEhISE2KpMZIKhRW6ttfitpUHBpV03o7qGZKg86vN39lu5NbPEmHHWipmLJDSLgpKLiwsuXbqE2NhY9O3bF8HBwXBx0f5WJZFIsHPnTqsWkrS5SPQHoPbBoaMMBQsPNwkalbofHBvdW+v1nqMXdGpI7c8PdC6Dz5r9Udbu27L3AMfMRRKSRc13J0+eRGBgIHr27AmFQoFr167h6tWrWv+uXLliq7LS79oHAVPbLWWoCWdOwl2IG95bE/xcJNBJclj77jeoa2g2eG43V4km6LRdD0kC89dDAqw7o4Q1z8XJcYk6x6Ka0vHjx21VDrKAOgjYKvvOWBNOjDTM4OfsOixDyU83jJ7bRaJd+1CfMzTUH9ev15hdRmv2R1nzXEzeIOocDp61U7PiB1s1Bby9jjThmJNooa/5ryOsmSVmzXMxeYOocxiUnIAt+zjanrsrWXNGic6ey5x7YK3+PiJHx6Dk4Gw5QLX9uc3h522dXzlrZol15lzm3gNrZUYSOToGJYF47t+LgOfnoiWgG+pfSEH9M3OhCgyy+ufYso9D37mNcXOV4KkH/tChz2pbG1FnH1qz1tfRjDNz7wEHnxKZh0tXCKWpCQDgUn0TvitXICSyP0J7BCC0RwD8n50Dt2++tsrH2LKPw5xzeLq7Amh9KP/3w3d1OMW6bUabutYhhsw2c+4BB58SmY81JYEonnga1594Gq7/uQjvrf+E964szXteH/4LXh/+S/NaOSAC9ckpaJjxJODtbdHn2HLaGGPnXps8ttPnVzNWGxF62XdD98AWtTkiZyBRqQxNHkPmkstr0WKtToO6Onjl7oFP5ha4lv1ocLf6Z+bi1vML0DLA+DdwfX0erWOOzBsP1FXnNpYSnrTK9FCEHYsnWPR55jJ1jZ29B2IYaFtcdgNZB4vtdrCvPbN0KISjcHGRIDjYT+97rCmJja8vGpKeQ0PSc5pNbl99CZ/MzfA89JFmm3fW2/DOelvzuume0biVnILGhMmAq6tmuy2njemqKWkM1Ubavm8rpvrkrJkkIcQs6aeLy5H9yQUompotLoMYAio5HtaUrMCqNSUzSH77Dd5Z2+H9+ma41NXq3Ufl44NbySmo/+/noLKDSXSNfWM0luFmrVqfvs80lebd2dpZWubJLmn+tEUZbFkDdyasKel5r4vLYlBJSQmkUinKy413Wh84cACRkZE6/5YvX67Zp7a2FqtXr8YDDzyA6OhoPPLII9izZw/ax9+DBw9i8uTJGDp0KBISEpCXl2eLS7M6VUgIbi1aDPnla7heUY3rv1ThZtYeNI2+V7OP5NYt+K5bhRBphCaBImD2U3D74jQMTvctUm2nIwJuj/mxZFoiS7RPrNDHGrUzMQy07WgZrDk1E1Fbomi+Ky0txbx586BUKk3uK5PJ0K9fP6xZs0Zre9tZyxcuXIhz584hJSUFAwYMwKlTp7BixQrU1NRg3rx5AIBDhw5h0aJFmDNnDsaNG4f8/Hykp6fDy8sLkyZNsu4F2pqrKxofnoLGh6doNrn8UAqfbZnw3vGWZpvnJ/+G5yf/1rxuDu+LW8kvouHJ/wJ8fbu0yJbqyklCTaV5dyabTl9qe3tdmT7e0UQYMQRUckyCBiWlUonc3FxkZGTA3d3drGMuXLgAqVSK6Ohove+XlJTg008/xcaNG5GQkAAAiImJQXV1Nd566y1NUNqwYQMSEhKwZMkSAMD999+PmzdvYtOmTfYXlPRoGRCB2lUZqF2V0bqhoQFeH+TCO3Mz3C79BwDgeqUM/kvS4L8kTXNc/czZqJ//Ipr/EClEsUXBVA2po30n7Zu89AWkrk4fT4yN0OpTMrcMXAyQbEXQ5ruioiKsW7cOSUlJWLRokVnHyGQyREYafmCqVCo88cQTiImJ0do+YMAA1NTUoKqqCleuXEFZWRkeeughrX3i4+Pxww8/OOZM515eaPivOag6VdTa5FdRjarDJ9DwWKLWbt67sxE0bpSmya/7g7Hw/NcHgBm1WEdh6MGq7mfpaI3NUA3MWHPk6eJypGWeRNKq40jLPGn1MVkx0jAsmDFMc83mNolyMUCyFUFrShEREcjPz0dwcDD2799vcv+KigrI5XKcP38ekyZNwpUrV9CnTx/Mnz8fjz32GABgyJAhWv1Lavn5+QgNDUX37t1x7tw5AMCdd96ptU+/fv0AAJcvX0Z4eHgnr078lMNHomZbFmq2ZQEAJFWV8Mp+Bz6Zm+FSVQUAcP/2DNznJQHzkgAAKnd31CenoP7ZeWjp6Zgd2tacV68tQzWwFpX+pImuys4bPzIc0r7dLTqGiwGSrQgalCxdvVYma/2DvHr1KtLS0uDp6Ym8vDykp6ejubkZ06dP13vczp078dVXX2Hp0qWQSCSoqWnNdvHz087+8P29X6W2Vn9Gm72xNGVXFRiE+r+8hPq/vNS6oaUFHify4f36Znh8/ikAQNLUBJ9NGfDZlKE5TjHxQdQnp6Bp3B8Bif3MPGro/tjqgWtsoO3p4nKd84t9GQwuBki2IIpEB3NFRUVh69atGDVqlCagjBs3DnK5HJs2bdIblHJycrBy5UokJCRg9uzZAKCThdde+9V0TTGU2mhIQdEVZH9cgt+q6hES6I3ZCXdh/Ejr1swKiq7ojD/J/uQCAvy9LPusJ6e3/lP76Sdg0yZgwwbNJs9jR+F57OjtfXr1AhYtAp59FggIMPujQkP9zS9XJ5m6P1PH+2Pq+EFW/cxnpkjxz73favXfAK01JX0/m0oDNavKaoXV71VX3nvSxnuvza6CUlBQEOLi4nS2x8bG4tSpU6isrERQUOukpi0tLVi7di127NiBKVOmYPXq1ZD8/i3e37/1l6Curk7rPOoakvp9c1kyTql9k8z1qnpsef8sqmsarPqtM+tgsc7DT9HUjKyDxRY31WjxCQKW/E/rPwBobITnvz6AT+YWuJUUt2775RfgpZda//2uYcaTuJWcgmZplN7TdvV4DZvdHyOkfbtj9qRIvH3wvE6Sg77PDjJQswoK8LTqvXLWsTJi4Kz33i7GKZnjzJkz2Lt3r852hUIBNzc3TTBpampCamoqduzYgaSkJKxbtw5ubrfjr7ovqaysTOs8P/30k9b7ttBV4zusmbJrtLPdwwOKJ55GVeFpTQJF5bHPW+fpa8Nr73sIirtPk0ARGBsDz9w9QGOjxeWxuIx6CJXSHCMNM7iMRfvPZjIBOSO7Ckpnz57FsmXLNH1LQGuN6PDhwxgxYoQmrXzp0qU4cuQIlixZgvT0dE0NSa1fv37o06cPPvnkE63tR44cQf/+/dG7d2+bXUNXPQyNZZBZov1AUnNm5m6+eyhqXt+mCVK/XbqC2v/3DzT36KnZx62kGAEvPo/QPiEI7REASCTw/fsrcPn5qkXls6SMbQOXoUX3uiKl2dyfTftBw7YaLEwkJqJuvqusrERZWRkGDhwIPz8/JCYmIjs7GwsWLEBqaip8fX2xZ88eXLx4Ebt37wYAFBQU4MMPP8SECRMQHR2Ns2fPap1zyJAh8PDwwAsvvIAlS5agW7duGD9+PI4dO4aPP/4YG9r0ldhCV43vsFYGmTU621UB3VCf/CLqk1/8fYMK7p8WwCdzMzxOHNPs5/PGFvi8seX259w/HrdeeBFNcQ8YTaB4N/+iyTKaM0bIzVWChkYlklYdt2k2mSU/G3OTCWw1Dx3nt6OuJuqgVFBQgCVLliA7OxtjxoxBt27dkJOTg4yMDKxcuRK1tbWIiopCVlYWhg0bBgA4fPgwAOD48eM4flx3dunCwkKEhYUhMTERjY2N2LFjB/bu3Yvw8HCsXr0aDz/8sE2vyVbpxu1ZK4PMJjU7iQRNsXG4GXu7fzC0sRq3VmfAO3MzJM2tfT0enxXA47MCrUPPDhqN9XHPw6V3L809q63XP4ZKXq3QBBhFU7PJxfiUzSoomy2fmLQ9Uw9ya2f32Sp1XAwTxpLz4YSsVmDphKz29O2zqyYN1enwbWqC58ED8M7cAvdvzxg8rlnigtemLsZXEaOtVpa2LL1Oa05Uau7vSWd/RoY628UwYayjY6KDLlHXlByVPY3v6KqanQ53dyimPQ7FtMcBtD4gQ2TfYtmBlehef1Ozm6uqBX878JrWof8eloB3/jgHCnevThfD0hqhtcYWWVJLsVU/Jee3IyEwKJFRYhm5L69WQN57MGbN36nZ5ttQi3kn3kJcSaHWvpO//RiTv/1Y8/pa915YM3kRSntaHkgt7euz1oPckuBmq35Kzm9HQmBQIpPEULPT94Cs8/LD61MXYX3CwtYNKhXiSgrw1082ae3X+8Yv2Lj7Ja1tO+6fgwMjp6LFxRXGJMZGWNTc6uftprePy89b90/N2HktCW62qs0KVksmp8agRKJ0urgce45eQF1Da+KBp7srJADa9ty5SgA3V0DR9PsGiQQnhsThxJDbCRQ9b5Rj4eFNkP5conX+pM92Iumz27Wub8Pvxqb4FFwPuL0gYtzw1qEBlnT2G+qibb/dVPOcJbUUW9VmxVJLJufCRAcr6OqVZx1R2w7f08Xl2HHwPJpN3FI3VwmURnbycJOgUan9vktLMx7/v/2YdXK3yTJ9/epGrKjrb3DNI32d/UmrdDM+1Z57ZIhZaymtTR5rMmHCmsky1uxst6ckHjFgooMu1pQcWFc8IGzxGfsLS00GJKA1hdvQwx2ATkACgBYXV7w/ZgbeHzNDsy3y2gW8/O916FFzXWvfe5an4kCb10eiHsD22CTUe/rorcUYG1Ds6+VqcpwUcLt5zlgtRayp2mItF9kXBiUH1RUPCFt9hiVJAdaooF7oHYm5z91eoddbcQvJp7Mx/hvtGT8e+j4fD32fr3nd/G5vVG/fCeWoMQBgdKooiUSCRmWzwffV2jbPGerLE+vs4WItF9kXBiUH1RUPCFt9hqH+FH18vVw1/U7WovDyQcb455Ex/nnNtrEXT2LxwbVa+7n+cg2Bkx/UvM4CsDvmKewdPR3Nrtp/WoYG+LZlbhKBWFO1xVousi8MSg6qKx4QtvqMxNgIs/qUAEDRZHyWho7QV/s6+YexeOSvt/uQBqmqseqbd+BReEJrv5mn38XM0+9qXpf0isTWaYtws0cfqy2zLtZUbbGWi+wLg5KDMucB0dn+IFs9hNRleOuj8yb3NZboYEv/kQTg5t7bPU6nz/2MihVr8GzhO1r73fXLBWzKfE5r24b4FBwfEqeZz8/SGRLEmqot1nKRfWH2nRWIMfvOnOytzk6HY80pdfRlIRma5kYM2gYSffcBAAZU/IC0f69Dn6prRs9VMPiPiDqQDVVgkNmfz+w7x8DsO10MSlYgxqAEGH9AWGteM2s9hNqnhKvPKVZxw3tjYJ/uZpVTfU9f2XgMjxzajkfO/tvo/i2Bgah+e1fr8vJdwFkfjGLgrPeeQcnGxBqUjDE2nmbH4gldWJJW6j9OQ7UOsfHzdkNjU4vJcpqqncb8WIT0j1bBtanJyFmAWyl/RV3aEsDT+v0zzvpgFANnvfccp0Q6xNoprS+jT4zMyaZzkUCrKTNGGoZLV2+g8Ow1tKha3/ea9ggqt6ZpaofNv5RjYcGbGHHhC61z+WxeD5/N6zWvS0PvxPY/LUbM43F22zzGpj7ShzUlK7DHmpI1+4OsQf2N0VgNzp7ou5eG7vnYu8Nw8rty/T+Lu3rAa+cO+Kf/1eRn1qzdiIbZ/210QcS21EGhslqBoC4OCmL7/RMKa0q6GJSswB6DEiCub6rqP05DfV2+Xq5oUqpEUYvycHOBu5vE4Pio4ABPDI0IxrlSuda9NdT/ZGhWChcJMHfKEM3PJGXTp6itV6Lvb2V46eP1GHD9R6PlVDz8CGrWboQqNFTnPXOCgi1/P7hWUysGJV0MSlZgr0FJTIz1KakflgC6PAFCXZNpH2AAGC2nvvc6ElDbntNQiry7shGrrx/FoHff0vu+msrbGzffyUHThAdNBgVb12TE1qcpFAYlXexTIlExNTN1jDQMuw7LcOKM8TRrT3cJlEqVWQNwDTFWOzhdXA4P99uBxtfLFU8/GIkYaRjSMk/qnenCEOPz97UYnb4IAJrcPPCPyESsrcjQbHMvPIGAubPhUn17QURJfT26PzkdQOvsEwBwYPgUZI+bhUb31r5EdaCy9YwgYu3TJOExKJHomFq/aVb8YJz6/hcomnSf5L5ertiSGgtAt/lpaESwTt+NPsaChPq87WsRTUoVLl29obXchrki+3ZH6c/VBstlTs2w/T5NsXGQX7qieS2Ry+G35CV45e3X2u/RMwfx6JmDmtfXQsLhOuU9m88IwoG2ZAib76yAzXedZ2kzhiVLO/h5u0GlUqGuodngInyG6Gs6NBW0LKVuIjRV+zOmff+TIZpmO5UKE88fR+rhLSbP/Y9HFuPLgaOhkrhYtc9HTH2aQmHznS4GJStgUOq8jvxxtn2o+Xq5QiKRoLZeCT9vN9Q3KDvVdNeWn7cbGhqbbTqlkSWT0BriKgG8vVqDbvulLszpi+tVdQ2vn3sH7kX/Z3CfRv9uaHrxL6ifk2TRDBSkH4OSLgYlK2BQ6rzO/HFaY8CtqQUDu4I1AlNbbq4S3D+0l1lNlkBrbWt7+u0kgy++vYJba9Zj+LlP8Ydf/2PwuIap01Cf/CKUI+6xSrmF1pU1OAYlXQxKVsCg1Hmd+ePs7Bx51q5ZdYT64Wft2SwkEsCSv3BTmW+u/7kI763/hPeuLIP7KAdEoD45BQ0zngS8vc3/cBEwNpasfQZm+0DVkWDGoKSLQckKGJQ6rzN/nJ0dcGusn6mjqdyWMNQXZqzvytr9WkAHxwjV1cErdw98MrfAtexHg7sdGzUFuVGT0divv6j7jsz9gqNvTFdHUugZlHQx+47sXmeavUwlPsxJGNyhjDpLPv+pB/6glfJu7EGnZu2A1OHMN19fNCQ9h4ak28tzuH31JXwyN8Pz0EeabRP/7yAm/t/tLD951Ai4LVqExvgEwNUVQMdqGtZuajP396h9ejxX3bUeBiWyex1t9vJwc4GxhgIXSeuAVQ8386btMYe6huMiAWKje2NW/GCD+7Yfs2XsfJZo3xwVGuiNx8bdabUAoBw9BtWjdwNorXk0lVfg4W8/wbSiPPg01gMAgr//Bnjm6dvHePmgfsRUNA1NAHy6QV6twM6PZVr3QV952v7czTnGFEu+4LTdj6vuWg+DEtk9cx7e7akfqsYWElQ/7BuV1quWqM/ZogJOfleOgX26G32AqmtOhpooW1St/UCni8vNWq1XXzAxpwmpowFAXq0AfLrhvZgn8F7MEwAAiaoFo374Gum/FsDji1MAALeGW3ji1Ht44tR7mmO/iBiNY9dnIGbVn/XO52eL2oklX3DaDvTlYGDrcRG6AETWECMNw9rksfDzNv09S913EiMNE/ShYWq2htPF5UjLPImkVcfhYqCypi5/jDQMSVOGGL2ettdtKWMBwBh95VFJXFA6/H7c/PATXK+oxvWKajyX9AYODntYa797S7/CK++kIbRnN4T2CEDQyCh4vf0mUFcHwDa1kxhpGOYkDNaUOzjAE3HDe8PDTftR2b65MzE2wuQ+ZB7WlMhhnC4uR32D8YGx+h4mQq7fZOgB2r5moq+Jrv21mKpVdeZh3dEAYO7MDU19++PN7n/GmxP/DKB1Pr+4kkI8/s0B9JJfBQC4XimD/5I0+C9JAwB8BOCTux/EgZGP4mpQH825XCSt96+jtSV9M4q0XdBRX23T1PRYZD4GJXIY+wtLjTZfmfswaWhU2iyxQV+Z9DG0rpS6D8nYQ88WTUkdPae5D+v2wavJzQMFw+PRb+lfNPu6nSmC9xtbtKZKmvTdUUz67qjm9cWeg/Cvex7FLolK6/MNMbefzNTUV+buQ6YxJdwKmBLeedZIjbXWzNNdtfqtsZThzlyLpenJHelTMnXOjrA0k05yowoVazejz65tCGjQX36Vuzvqk1NQ/+w8tPTUXtvq3fyLOpmXXb2mE1PCdYmmplRSUoLHH38cx44dQ1iY4V+IAwcO4OWXX9bZPnPmTLz66qs623fv3o2srCwcPXpUa3t5eTliY2N19h80aBAOHjyos53Ez1o1hPbf7ttOYWQo283UIFV1tp2pAZjWuBZbNCV1RfOUpTUNVfdAhP7j75jpf//vG1QY8eMZJH79Lwy78h0AQNLUBJ9NGfDZdHsG9V/H/BFF/R9Ebe8onQQKpnELTxRBqbS0FPPmzYNSaXqiTJlMhn79+mHNmjVa20NCQnT2PXLkCFauXIlevXrpPQ8A7NixA76+vprtXl5elhafRMKaM08bekCaMxGsNWoUnb0WWzQlWXrOzo4hMvd4TQCXSPDNnSPwzZ0jNNszHgmH97Y34PPm65r9e375Kf7ny081r+W+gfjXPdNw5O4HUe/hzTRuE2w9DZOgQUmpVCI3NxcZGRlwd3c365gLFy5AKpUiOjra4D43b97Eli1bkJOTg4CAAL37yGQyhISEYOxY51nl0tF11bd5Y59hrTLYe8d5Z8cQWXK8sQDeEh6GuhUrUbdiZesbjY3Y9ewKTPs6D3f+9hMAILiuCs8W7sCzhTs0xzf8/DRuzX8RzUOkHbwDjskWY8PaEzQoFRUVYd26dZg7dy569uyJZcuWmTxGJpNh9uzZRvfJzs7G0aNHsWHDBhQWFqKoqEhnn5KSEkRGRna47CROXdHZbOozrFUGe+447+wYIkuOtyiAe3jg3L2TcGJInGbTnRU/4LGiDzGhpECzzSt3D7xy92heK6V341byi1A8Nh0w8wu0I+qKmSsEHacUERGB/Px8LFiwAK6/TzViTEVFBeRyOc6fP49JkyZBKpUiPj4eeXl5WvtNmTIFR48eRUJCgsFzyWQyNDQ04KmnnsLdd9+N++67DxkZGWhqaursZRE5vc6OIbL0ePU4tR2LJ5gci9V+TNHlHgOwISEVTy79CB+euIjfSq+i9n9eQ3ObxAi34u8Q8MKfEXpHMEJ7BCC0RwB8//4KXH6+atb1OIqumLlC0JqSvn4gY9T9QFevXkVaWho8PT2Rl5eH9PR0NDc3Y/r01qWe77zzTqPnqa+vR1lZGW7evIm0tDQsXLgQX3zxBbZt24aKigqsXr3aonIZyiIhy4SG+gtdBKdl7XsfGuiN61X1ereb81mdPd6YqeP9EeDvheyPS/BbVT1CAr0xO+EujB8ZfnunV5e0/gNaM1iOHwfWrgUOH9bs4vPGFvi80WaRxIkTgUWLgPh4vTNQGGJPv/e2/LmoiSLRwVxRUVHYunUrRo0aBT+/1kAwbtw4yOVybNq0SROUTHF1dcWOHTtwxx13oG/fvgCA0aNHw93dHRs3bsT8+fPRv39/s8vFlPDOc9bUWDGwxb1/bNydevt5Hht3p1mf1dnjTZH27Y7V82K0thk979DRwK69mpcuv1yD9/Y34Z25GZLm38e0HTvW+u93LcHBuJX8FzTMfgaqbt31ntbefu+t9XMxlhJuV9MMBQUFIS4uThOQ1GJjY/Hrr7+isrLSrPN4eHggJiZGE5DUxo8fD+B2jYyIOkbfdD2WZCB29nhba+nVG3V/+x/89ktV61RJ1ypR/eYONA0brtnHRS6H34pXETKor6bJz//5JLidOytcwTupK34udlVTOnPmDC5duoQZM2ZobVcoFHBzc4O/v3nVxytXruDUqVN48MEHERR0e0nnhoYGAEBgYKD1Ck3kpDqbqGFXiR5ublBMexyKaY9rNrlekLUuiLg7W7PNa/8H8Nr/we3j7roLXvMWoGH6nwBP+5i81dY/F7uqKZ09exbLli3Tqsm0tLTg8OHDGDFihNlp5dXV1Xj11Vd1BskeOnQI/v7+GDJkiFXLTUTOpzlyMGo3/FMz6ez1H66hZuVaNIe3aaEpKYF/6gsIDQ+9nUCxNA0uP/0oWLmFJuqaUmVlJcrKyjBw4ED4+fkhMTER2dnZWLBgAVJTU+Hr64s9e/bg4sWL2L17t9nnlUqlmDBhAjZs2ICWlhYMGjQIhYWF2LVrFxYvXmx2jYvIkdl6kKTT8fNDw9x5aJg7r/W1SoXQi+eg+McqeH7yb81uPtvfhM/2NzWvG++9D/XJKWh8aBLgYlf1iA4R9RUWFBTgiSeeQHFxMQCgW7duyMnJwdChQ7Fy5Uqkpqbi1q1byMrKwrBhwyw6d0ZGBmbOnIldu3bh+eefx8mTJ7FixQo888wzNrgSIvuiHiSpTvVVD5I8XVwucMkciEQCjBuH6ux3NbWp376/hLq/vgyVt7dmN48vTqHb7CcRGtYdoT0CEDwwHD7r10BSKRew8LbDCVmtgNl3nWdvWUiORN+9T8s8aXDuvbXJnAXFWkz+3jc3w+Pjf8MnczPcv/7K4G6KKY/iVvKLUN4z2galtD6Hyb4joq7B5b1FwtUVjVOm4sahfE1tqvKLb1D/zFyt3TwPHkDgww9o+qWCRg+DV9bbQL3umCKxY1AiIh2GZiPn8t7Cax4wELVrNtxOoPjpV9Ss2wTlgNuT9br+eBn+Ly9EaL+emkDltygVrqX/EbDk5mFQIiIdXN7bjnh7o2H2f6PqizOaQFX18TE0TJ2mvVv2DgTFjNQEqe4JE+DxUR7Q3DULWpqLfUpWwD6lzmOfknAM3Xtm39leV/3eSyrl8M56G96ZW+BSfVPvPipvb9ya/yLqk/4MVY8eNi2PsT4lBiUrYFDqPAYl4fDeC0ewe9/SAo/8w/DO3AKPU58b3E0Rn4D65BQ03XufRfP5mcKgZGMMSp3HB6NweO+FU1x2A1kHiyGvVmhWNRaqVury04/wfusN+Gx7w+A+zXf0QX3yi6h/ahbg1/GJqBmUbIxBqfMc5cFoj01ejnLv7c3p4nJkf3IBiibdPp2OrFZsdQoFPP/1AXwyN8NNVqJ3l+tlFUAHVutmSjhRF+CAU7LE/sJSvQEJuL1wnqA8PaF4ciaqPv3ydgJF/qet8/QBUA4cZJMFDxmUiKzE2KqcRO2ZGvMlxjFhyqHRqHlje2uAOlUEmLE4q6UYlIishANOyRKmxnw565gwBiUiK+GAU7JEYmwEPN311zSceUwYgxKRlXDAKVkiRhqGBTOGab60uPyecS22BQ27mqiXriCyJ+qHiL1l35Fwxo8Mh7Rvd6GLISoMSkRWZFerpRKJEIMS2RV7HAdEROZjUCK7oR4HpE67Vo8DAsDAROQgmOhAdoPjgIgcH4MS2Q2OAyJyfAxKZDc4DojI8TEokd3gOCAix8dEB7IbHAdE5PgYlMiucBwQ0+LJsTEoiQQfNGQOpsWTo2OfkghwHR4yF9PiydExKIkAHzRkLqbFk6NjUBIBPmjIXEyLJ0fHoCQCfNCQuZgWT46OQUkE+KAhc8VIwzAnYbDmC4uzr71DjofZdyLA8TdkCabFkyNjUBIJPmiIiNh8R0REIsKgREREosGgREREosGgREREosFEBytwcZEIXQSHwPsoHN574TjjvTd2zRKVSqXqwrIQEREZxOY7IiISDQYlIiISDQYlIiISDQYlIiISDQYlIiISDQYlIiISDQYlIiISDQYlIiISDQYlIiISDQYlIiISDQYlEo2SkhJIpVKUl5cLXRSH19LSgnfffRePPPIIhg8fjgceeAArV65EbW2t0EVzeCqVCllZWYiPj8fQoUMxdepUfPTRR0IXSzQ4ISuJQmlpKebNmwelUil0UZzC9u3bsXHjRsydOxcxMTG4fPkyNm/ejEuXLuHtt98WungO7c0338TmzZvx4osvIjo6Gp9++ikWLVoEV1dXPPzww0IXT3CckJUEpVQqkZubi4yMDLi7u+PGjRsoLCxEWBiXhrcVlUqFMWPGYPLkyfj73/+u2X7o0CEsXLgQeXl5uOuuuwQsoeNqamrC2LFj8cgjj+Bvf/ubZvusWbPQ3NyMPXv2CFg6cWBNiQRVVFSEdevWYe7cuejZsyeWLVsmdJEcXl1dHaZOnYqEhASt7QMGDAAAlJWVMSjZiKurK3bt2oXu3btrbXd3d8etW7eEKZTIMCiRoCIiIpCfn4/g4GDs379f6OI4BT8/P73BPz8/HwAwcODAri6S03BxcUFkZCSA1hqrXC7H/v37cerUKSxfvlzg0okDgxIJKiQkROgiEIBvv/0W27ZtwwMPPICIiAihi+MUjhw5gpSUFADA+PHjMXXqVIFLJA7MviNyckVFRXj22WfRp08f/O///q/QxXEaQ4YMQU5ODv72t7/hm2++wZ///Gewi581JSKndujQISxevBj9+/fH9u3bERgYKHSRnEZ4eDjCw8MxatQo+Pn5IT09HWfOnMGIESOELpqgWFMiclLvvPMO/vrXvyI6Ohq7d+9Gjx49hC6Sw7tx4wby8vLw66+/am0fMmQIAKCiokKIYokKgxKRE9q7dy9WrVqFhIQEbN++Hf7+/kIXySm0tLRg8eLFyM3N1dp+8uRJAMAf/vAHIYolKmy+I3Iycrkc//jHP3DHHXdg5syZOH/+vNb7ffv2RVBQkEClc2xBQUF4+umnsW3bNnh5eeHuu+9GUVER3nzzTcyYMUOTlu/MGJSInMxnn32G+vp6/Pzzz5g5c6bO+2vWrMGjjz4qQMmcw5IlS9CrVy988MEH2LJlC8LCwpCSkoK5c+cKXTRR4IwOREQkGuxTIiIi0WBQIiIi0WBQIiIi0WBQIiIi0WBQIiIi0WBQIiIi0WBQInISEyZMwKxZs4QuBpFRDEpERCQaDEpERCQaDEpERCQanPuOyAGoVCq899572LdvH0pLS6FUKnHHHXcgMTERzz33HCQSidBFJDILgxKRA9i4cSO2bt2KadOm4U9/+hPq6uqQl5eHjIwM+Pr66p14lUiMGJSI7FxTUxNycnIwefJkrFq1SrN9xowZiImJwWeffcagRHaDQYnIzrm7u+PUqVNoamrS2l5VVQU/Pz/cunVLoJIRWY5BicgBuLu7o6CgAMeOHcPly5fx008/4ebNmwBa+5uI7AWz74jsnEqlQnJyMlJSUnD16lUMHz4cL7/8Mo4cOYJevXoJXTwii7CmRGTnvv76a5w4cQLJycn4y1/+otmuVCpx48YNhIeHC1g6IsuwpkRk527cuAEAGDhwoNb2999/H/X19VAqlQKUiqhjWFMisnPDhw+Hn58fVq5ciZ9//hndunXDl19+iUOHDsHT0xN1dXVCF5HIbKwpEdm5kJAQbNu2DeHh4XjjjTewfv16XLt2DevXr8fTTz+NS5cu4bfffhO6mERmkaiYmkNERCLBmhIREYkGgxIREYkGgxIREYkGgxIREYkGgxIREYkGgxIREYkGgxIREYkGgxIREYkGgxIREYnG/wcaeRNmaBVSmAAAAABJRU5ErkJggg==\n",
      "text/plain": [
       "<Figure size 432x288 with 1 Axes>"
      ]
     },
     "metadata": {},
     "output_type": "display_data"
    }
   ],
   "source": [
    "# Put the plots together (use a scatter and line graph).\n",
    "plt.scatter(glass.al, glass.ri)\n",
    "plt.plot(glass.al, glass.y_pred, color='red')\n",
    "plt.xlabel('al')\n",
    "plt.ylabel('ri')"
   ]
  },
  {
   "cell_type": "markdown",
   "metadata": {},
   "source": [
    "<a id=\"refresher-interpreting-linear-regression-coefficients\"></a>\n",
    "## Refresher: Interpreting Linear Regression Coefficients\n",
    "---\n",
    "\n",
    "Recall the simple linear regression equation is $y = \\beta_0 + \\beta_1x$\n",
    "\n",
    "$\\beta_0$ is the intercept and $\\beta_1$ is, in this case, our coefficient on the `al` predictor."
   ]
  },
  {
   "cell_type": "markdown",
   "metadata": {},
   "source": [
    "**Print out the intercept and coefficient values from our fit `LinearRegression` object.**"
   ]
  },
  {
   "cell_type": "code",
   "execution_count": 13,
   "metadata": {},
   "outputs": [
    {
     "name": "stdout",
     "output_type": "stream",
     "text": [
      "1.5219453302386425\n",
      "[-0.00247761]\n"
     ]
    }
   ],
   "source": [
    "print(linreg.intercept_)\n",
    "print(linreg.coef_)"
   ]
  },
  {
   "cell_type": "markdown",
   "metadata": {},
   "source": [
    "**Manually compute the predicted value of `ri` when `al=2.0` using the regression equation.**"
   ]
  },
  {
   "cell_type": "code",
   "execution_count": 14,
   "metadata": {},
   "outputs": [
    {
     "data": {
      "text/plain": [
       "1.5169901174637033"
      ]
     },
     "execution_count": 14,
     "metadata": {},
     "output_type": "execute_result"
    }
   ],
   "source": [
    "# Compute prediction for al=2 using the equation.\n",
    "linreg.intercept_ + linreg.coef_[0] * 2"
   ]
  },
  {
   "cell_type": "markdown",
   "metadata": {},
   "source": [
    "**Confirm that this is the same value we would get when using the built-in `.predict()` method of the `LinearRegression` object.**"
   ]
  },
  {
   "cell_type": "code",
   "execution_count": 15,
   "metadata": {},
   "outputs": [
    {
     "data": {
      "text/plain": [
       "array([1.51699012])"
      ]
     },
     "execution_count": 15,
     "metadata": {},
     "output_type": "execute_result"
    }
   ],
   "source": [
    "# Compute prediction for al=2 using the predict method.\n",
    "linreg.predict([[2]])"
   ]
  },
  {
   "cell_type": "markdown",
   "metadata": {},
   "source": [
    "**Coefficient interpretation:** A 1-unit increase in `al` is associated with a ~0.0025-unit decrease in `ri`.\n",
    "\n",
    "**Intercept interpretation:** When `al = 0`, the estimated value of `ri` is 1.52194533024."
   ]
  },
  {
   "cell_type": "markdown",
   "metadata": {},
   "source": [
    "---"
   ]
  },
  {
   "cell_type": "markdown",
   "metadata": {},
   "source": [
    "<a id=\"predicting-a-categorical-response\"></a>\n",
    "## Predicting a Single Categorical Response\n",
    "---\n",
    "\n",
    "Linear regression is appropriate when we want to predict the value of a continuous target/response variable, but what about when we want to predict membership in a class or category?\n",
    "\n",
    "**Examine the glass type column in the data set. What are the counts in each category?**"
   ]
  },
  {
   "cell_type": "code",
   "execution_count": 16,
   "metadata": {},
   "outputs": [
    {
     "data": {
      "text/plain": [
       "1    70\n",
       "2    76\n",
       "3    17\n",
       "5    13\n",
       "6     9\n",
       "7    29\n",
       "Name: glass_type, dtype: int64"
      ]
     },
     "execution_count": 16,
     "metadata": {},
     "output_type": "execute_result"
    }
   ],
   "source": [
    "# Examine glass_type.\n",
    "glass.glass_type.value_counts().sort_index()"
   ]
  },
  {
   "cell_type": "markdown",
   "metadata": {},
   "source": [
    "Say these types are subdivisions of broader glass types:\n",
    "\n",
    "> **Window glass:** types 1, 2, and 3\n",
    "\n",
    "> **Household glass:** types 5, 6, and 7\n",
    "\n",
    "**Create a new `household` column that indicates whether or not a row is household glass, coded as 1 or 0, respectively.**"
   ]
  },
  {
   "cell_type": "code",
   "execution_count": 30,
   "metadata": {},
   "outputs": [
    {
     "data": {
      "text/plain": [
       "0    163\n",
       "1     51\n",
       "Name: household, dtype: int64"
      ]
     },
     "execution_count": 30,
     "metadata": {},
     "output_type": "execute_result"
    }
   ],
   "source": [
    "# Types 1, 2, 3 are window glass.\n",
    "# Types 5, 6, 7 are household glass.\n",
    "glass['household'] = glass.glass_type.map({1:0, 2:0, 3:0, 5:1, 6:1, 7:1})\n",
    "glass.household.value_counts()"
   ]
  },
  {
   "cell_type": "markdown",
   "metadata": {},
   "source": [
    "Let's change our task, so that we're predicting the `household` category using `al`. Let's visualize the relationship to figure out how to do this.\n",
    "\n",
    "**Make a scatter plot comparing `al` and `household`.**"
   ]
  },
  {
   "cell_type": "code",
   "execution_count": 31,
   "metadata": {},
   "outputs": [
    {
     "data": {
      "text/plain": [
       "Text(0, 0.5, 'household')"
      ]
     },
     "execution_count": 31,
     "metadata": {},
     "output_type": "execute_result"
    },
    {
     "data": {
      "image/png": "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\n",
      "text/plain": [
       "<Figure size 432x288 with 1 Axes>"
      ]
     },
     "metadata": {},
     "output_type": "display_data"
    }
   ],
   "source": [
    "plt.scatter(glass.al, glass.household)\n",
    "plt.xlabel('al')\n",
    "plt.ylabel('household')"
   ]
  },
  {
   "cell_type": "markdown",
   "metadata": {},
   "source": [
    "**Fit a new `LinearRegression` predicting `household` from `al`.**\n",
    "\n",
    "Let's draw a regression line like we did before:"
   ]
  },
  {
   "cell_type": "code",
   "execution_count": 32,
   "metadata": {},
   "outputs": [],
   "source": [
    "# Fit a linear regression model and store the predictions.\n",
    "feature_cols = ['al']\n",
    "X = glass[feature_cols] \n",
    "y = glass.household \n",
    "linreg.fit(X, y)\n",
    "glass['household_pred'] = linreg.predict(X) # prediction via Lin Reg"
   ]
  },
  {
   "cell_type": "code",
   "execution_count": 33,
   "metadata": {},
   "outputs": [
    {
     "data": {
      "text/plain": [
       "Text(0, 0.5, 'household')"
      ]
     },
     "execution_count": 33,
     "metadata": {},
     "output_type": "execute_result"
    },
    {
     "data": {
      "image/png": "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\n",
      "text/plain": [
       "<Figure size 432x288 with 1 Axes>"
      ]
     },
     "metadata": {},
     "output_type": "display_data"
    }
   ],
   "source": [
    "# Scatter plot that includes the regression line\n",
    "plt.scatter(glass.al, glass.household)\n",
    "plt.plot(glass.al, glass.household_pred, color='red')\n",
    "plt.xlabel('al')\n",
    "plt.ylabel('household')"
   ]
  },
  {
   "cell_type": "markdown",
   "metadata": {},
   "source": [
    "If **al=3**, what class do we predict for household? **1**\n",
    "\n",
    "If **al=1.5**, what class do we predict for household? **0**\n",
    "\n",
    "We predict the 0 class for **lower** values of al, and the 1 class for **higher** values of al. What's our cutoff value? Around **al=2**, because that's where the linear regression line crosses the midpoint between predicting class 0 and class 1.\n",
    "\n",
    "Therefore, we'll say that if **household_pred >= 0.5**, we predict a class of **1**, else we predict a class of **0**."
   ]
  },
  {
   "cell_type": "markdown",
   "metadata": {},
   "source": [
    "**Using this threshold, create a new column of our predictions for whether a row is household glass.**"
   ]
  },
  {
   "cell_type": "code",
   "execution_count": 34,
   "metadata": {},
   "outputs": [
    {
     "data": {
      "text/plain": [
       "array(['small', 'big', 'small'], dtype='<U5')"
      ]
     },
     "execution_count": 34,
     "metadata": {},
     "output_type": "execute_result"
    }
   ],
   "source": [
    "# Understanding np.where\n",
    "import numpy as np\n",
    "nums = np.array([5, 15, 8])\n",
    "\n",
    "# np.where returns the first value if the condition is True, and the second value if the condition is False.\n",
    "# Ali notes: like an Excel if statement!\n",
    "np.where(nums > 10, 'big', 'small')"
   ]
  },
  {
   "cell_type": "code",
   "execution_count": 35,
   "metadata": {
    "scrolled": true
   },
   "outputs": [
    {
     "data": {
      "text/html": [
       "<div>\n",
       "<style scoped>\n",
       "    .dataframe tbody tr th:only-of-type {\n",
       "        vertical-align: middle;\n",
       "    }\n",
       "\n",
       "    .dataframe tbody tr th {\n",
       "        vertical-align: top;\n",
       "    }\n",
       "\n",
       "    .dataframe thead th {\n",
       "        text-align: right;\n",
       "    }\n",
       "</style>\n",
       "<table border=\"1\" class=\"dataframe\">\n",
       "  <thead>\n",
       "    <tr style=\"text-align: right;\">\n",
       "      <th></th>\n",
       "      <th>ri</th>\n",
       "      <th>na</th>\n",
       "      <th>mg</th>\n",
       "      <th>al</th>\n",
       "      <th>si</th>\n",
       "      <th>k</th>\n",
       "      <th>ca</th>\n",
       "      <th>ba</th>\n",
       "      <th>fe</th>\n",
       "      <th>glass_type</th>\n",
       "      <th>y_pred</th>\n",
       "      <th>household</th>\n",
       "      <th>household_pred</th>\n",
       "      <th>household_pred_class</th>\n",
       "    </tr>\n",
       "  </thead>\n",
       "  <tbody>\n",
       "    <tr>\n",
       "      <th>0</th>\n",
       "      <td>1.52101</td>\n",
       "      <td>13.64</td>\n",
       "      <td>4.49</td>\n",
       "      <td>1.10</td>\n",
       "      <td>71.78</td>\n",
       "      <td>0.06</td>\n",
       "      <td>8.75</td>\n",
       "      <td>0.0</td>\n",
       "      <td>0.0</td>\n",
       "      <td>1</td>\n",
       "      <td>1.519220</td>\n",
       "      <td>0</td>\n",
       "      <td>0.065459</td>\n",
       "      <td>0</td>\n",
       "    </tr>\n",
       "    <tr>\n",
       "      <th>1</th>\n",
       "      <td>1.51761</td>\n",
       "      <td>13.89</td>\n",
       "      <td>3.60</td>\n",
       "      <td>1.36</td>\n",
       "      <td>72.73</td>\n",
       "      <td>0.48</td>\n",
       "      <td>7.83</td>\n",
       "      <td>0.0</td>\n",
       "      <td>0.0</td>\n",
       "      <td>1</td>\n",
       "      <td>1.518576</td>\n",
       "      <td>0</td>\n",
       "      <td>0.195765</td>\n",
       "      <td>0</td>\n",
       "    </tr>\n",
       "    <tr>\n",
       "      <th>2</th>\n",
       "      <td>1.51618</td>\n",
       "      <td>13.53</td>\n",
       "      <td>3.55</td>\n",
       "      <td>1.54</td>\n",
       "      <td>72.99</td>\n",
       "      <td>0.39</td>\n",
       "      <td>7.78</td>\n",
       "      <td>0.0</td>\n",
       "      <td>0.0</td>\n",
       "      <td>1</td>\n",
       "      <td>1.518130</td>\n",
       "      <td>0</td>\n",
       "      <td>0.285976</td>\n",
       "      <td>0</td>\n",
       "    </tr>\n",
       "    <tr>\n",
       "      <th>3</th>\n",
       "      <td>1.51766</td>\n",
       "      <td>13.21</td>\n",
       "      <td>3.69</td>\n",
       "      <td>1.29</td>\n",
       "      <td>72.61</td>\n",
       "      <td>0.57</td>\n",
       "      <td>8.22</td>\n",
       "      <td>0.0</td>\n",
       "      <td>0.0</td>\n",
       "      <td>1</td>\n",
       "      <td>1.518749</td>\n",
       "      <td>0</td>\n",
       "      <td>0.160682</td>\n",
       "      <td>0</td>\n",
       "    </tr>\n",
       "    <tr>\n",
       "      <th>4</th>\n",
       "      <td>1.51742</td>\n",
       "      <td>13.27</td>\n",
       "      <td>3.62</td>\n",
       "      <td>1.24</td>\n",
       "      <td>73.08</td>\n",
       "      <td>0.55</td>\n",
       "      <td>8.07</td>\n",
       "      <td>0.0</td>\n",
       "      <td>0.0</td>\n",
       "      <td>1</td>\n",
       "      <td>1.518873</td>\n",
       "      <td>0</td>\n",
       "      <td>0.135623</td>\n",
       "      <td>0</td>\n",
       "    </tr>\n",
       "  </tbody>\n",
       "</table>\n",
       "</div>"
      ],
      "text/plain": [
       "        ri     na    mg    al     si     k    ca   ba   fe  glass_type  \\\n",
       "0  1.52101  13.64  4.49  1.10  71.78  0.06  8.75  0.0  0.0           1   \n",
       "1  1.51761  13.89  3.60  1.36  72.73  0.48  7.83  0.0  0.0           1   \n",
       "2  1.51618  13.53  3.55  1.54  72.99  0.39  7.78  0.0  0.0           1   \n",
       "3  1.51766  13.21  3.69  1.29  72.61  0.57  8.22  0.0  0.0           1   \n",
       "4  1.51742  13.27  3.62  1.24  73.08  0.55  8.07  0.0  0.0           1   \n",
       "\n",
       "     y_pred  household  household_pred  household_pred_class  \n",
       "0  1.519220          0        0.065459                     0  \n",
       "1  1.518576          0        0.195765                     0  \n",
       "2  1.518130          0        0.285976                     0  \n",
       "3  1.518749          0        0.160682                     0  \n",
       "4  1.518873          0        0.135623                     0  "
      ]
     },
     "execution_count": 35,
     "metadata": {},
     "output_type": "execute_result"
    }
   ],
   "source": [
    "# Transform household_pred to 1 or 0.\n",
    "glass['household_pred_class'] = np.where(glass.household_pred >= 0.5, 1, 0)\n",
    "glass.head()"
   ]
  },
  {
   "cell_type": "markdown",
   "metadata": {},
   "source": [
    "**Plot a line that shows our predictions for class membership in household vs. not.**"
   ]
  },
  {
   "cell_type": "code",
   "execution_count": 36,
   "metadata": {},
   "outputs": [
    {
     "data": {
      "text/plain": [
       "[<matplotlib.lines.Line2D at 0x1968204ce80>]"
      ]
     },
     "execution_count": 36,
     "metadata": {},
     "output_type": "execute_result"
    },
    {
     "data": {
      "image/png": "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\n",
      "text/plain": [
       "<Figure size 432x288 with 1 Axes>"
      ]
     },
     "metadata": {},
     "output_type": "display_data"
    }
   ],
   "source": [
    "# sort so we can have a continuous line\n",
    "glass.sort_values('al', inplace=True)\n",
    "# Plot the class predictions.\n",
    "plt.scatter(glass.al, glass.household)\n",
    "\n",
    "plt.xlabel('al')\n",
    "plt.ylabel('household')\n",
    "\n",
    "plt.plot(glass.al, glass.household_pred_class, color='red')"
   ]
  },
  {
   "cell_type": "markdown",
   "metadata": {},
   "source": [
    "<a id=\"using-logistic-regression-for-classification\"></a>\n",
    "## Using Logistic Regression for Classification\n",
    "---\n",
    "\n",
    "Logistic regression is a more appropriate method for what we just did with a linear regression. The values output from a linear regression cannot be interpreted as probabilities of class membership since their values can be greater than 1 and less than 0. Logistic regression, on the other hand, ensures that the values output as predictions can be interpreted as probabilities of class membership.\n",
    "\n",
    "**Import the `LogisticRegression` class from `linear_model` below and fit the same regression model predicting `household` from `al`.**"
   ]
  },
  {
   "cell_type": "code",
   "execution_count": 37,
   "metadata": {},
   "outputs": [
    {
     "data": {
      "text/html": [
       "<div>\n",
       "<style scoped>\n",
       "    .dataframe tbody tr th:only-of-type {\n",
       "        vertical-align: middle;\n",
       "    }\n",
       "\n",
       "    .dataframe tbody tr th {\n",
       "        vertical-align: top;\n",
       "    }\n",
       "\n",
       "    .dataframe thead th {\n",
       "        text-align: right;\n",
       "    }\n",
       "</style>\n",
       "<table border=\"1\" class=\"dataframe\">\n",
       "  <thead>\n",
       "    <tr style=\"text-align: right;\">\n",
       "      <th></th>\n",
       "      <th>al</th>\n",
       "    </tr>\n",
       "  </thead>\n",
       "  <tbody>\n",
       "    <tr>\n",
       "      <th>0</th>\n",
       "      <td>1.10</td>\n",
       "    </tr>\n",
       "    <tr>\n",
       "      <th>1</th>\n",
       "      <td>1.36</td>\n",
       "    </tr>\n",
       "    <tr>\n",
       "      <th>2</th>\n",
       "      <td>1.54</td>\n",
       "    </tr>\n",
       "    <tr>\n",
       "      <th>3</th>\n",
       "      <td>1.29</td>\n",
       "    </tr>\n",
       "    <tr>\n",
       "      <th>4</th>\n",
       "      <td>1.24</td>\n",
       "    </tr>\n",
       "    <tr>\n",
       "      <th>...</th>\n",
       "      <td>...</td>\n",
       "    </tr>\n",
       "    <tr>\n",
       "      <th>209</th>\n",
       "      <td>2.88</td>\n",
       "    </tr>\n",
       "    <tr>\n",
       "      <th>210</th>\n",
       "      <td>1.99</td>\n",
       "    </tr>\n",
       "    <tr>\n",
       "      <th>211</th>\n",
       "      <td>2.02</td>\n",
       "    </tr>\n",
       "    <tr>\n",
       "      <th>212</th>\n",
       "      <td>1.94</td>\n",
       "    </tr>\n",
       "    <tr>\n",
       "      <th>213</th>\n",
       "      <td>2.08</td>\n",
       "    </tr>\n",
       "  </tbody>\n",
       "</table>\n",
       "<p>214 rows × 1 columns</p>\n",
       "</div>"
      ],
      "text/plain": [
       "       al\n",
       "0    1.10\n",
       "1    1.36\n",
       "2    1.54\n",
       "3    1.29\n",
       "4    1.24\n",
       "..    ...\n",
       "209  2.88\n",
       "210  1.99\n",
       "211  2.02\n",
       "212  1.94\n",
       "213  2.08\n",
       "\n",
       "[214 rows x 1 columns]"
      ]
     },
     "execution_count": 37,
     "metadata": {},
     "output_type": "execute_result"
    }
   ],
   "source": [
<<<<<<< HEAD
    "X"
   ]
  },
  {
   "cell_type": "code",
   "execution_count": 39,
   "metadata": {},
   "outputs": [],
   "source": [
=======
>>>>>>> 272f360fcc307502d1af5b9fa3e728de6141fb98
    "# Fit a logistic regression model and store the class predictions.\n",
    "from sklearn.linear_model import LogisticRegression\n",
    "\n",
    "logreg = LogisticRegression()\n",
    "\n",
    "feature_cols = ['al']\n",
    "X = glass[feature_cols]\n",
    "y = glass.household\n",
    "\n",
    "logreg.fit(X,y)\n",
    "pred = logreg.predict(X)"
   ]
  },
  {
   "cell_type": "code",
   "execution_count": 40,
   "metadata": {},
   "outputs": [
    {
     "data": {
      "text/plain": [
       "array([0, 0, 0, 0, 0, 0, 0, 0, 0, 0, 0, 0, 0, 0, 0, 0, 0, 0, 0, 0, 0, 0,\n",
       "       0, 0, 0, 0, 0, 0, 0, 0, 0, 0, 0, 0, 0, 0, 0, 0, 0, 0, 0, 0, 0, 0,\n",
       "       0, 0, 0, 0, 0, 0, 0, 0, 0, 0, 0, 0, 0, 0, 0, 0, 0, 0, 0, 0, 0, 0,\n",
       "       0, 0, 0, 0, 0, 0, 0, 0, 0, 0, 0, 0, 0, 0, 0, 0, 0, 0, 0, 0, 0, 0,\n",
       "       0, 0, 0, 0, 0, 0, 0, 0, 0, 0, 0, 0, 0, 0, 0, 0, 0, 0, 0, 0, 0, 0,\n",
       "       0, 0, 0, 0, 0, 0, 0, 0, 0, 0, 0, 0, 0, 0, 0, 0, 0, 0, 0, 0, 0, 0,\n",
       "       0, 0, 0, 0, 0, 0, 0, 0, 0, 0, 0, 0, 0, 0, 0, 0, 0, 0, 0, 0, 0, 0,\n",
       "       0, 0, 0, 0, 0, 0, 0, 0, 0, 0, 0, 0, 0, 0, 0, 0, 0, 0, 0, 0, 0, 0,\n",
       "       0, 0, 0, 0, 0, 0, 0, 0, 0, 1, 1, 1, 1, 1, 1, 1, 1, 1, 1, 1, 1, 1,\n",
       "       1, 1, 1, 1, 1, 1, 1, 1, 1, 1, 1, 1, 1, 1, 1, 1], dtype=int64)"
      ]
     },
     "execution_count": 40,
     "metadata": {},
     "output_type": "execute_result"
    }
   ],
   "source": [
    "pred"
   ]
  },
  {
   "cell_type": "markdown",
   "metadata": {},
   "source": [
    "**Plot the predicted class using the logistic regression as we did for the linear regression predictions above.**\n",
    "\n",
    "As you can see, the class predictions are the same."
   ]
  },
  {
   "cell_type": "code",
   "execution_count": 41,
   "metadata": {},
   "outputs": [],
   "source": [
    "glass.sort_values('al', inplace=True)"
   ]
  },
  {
   "cell_type": "code",
   "execution_count": 42,
   "metadata": {},
   "outputs": [
    {
     "data": {
      "text/plain": [
       "Text(0, 0.5, 'household')"
      ]
     },
     "execution_count": 42,
     "metadata": {},
     "output_type": "execute_result"
    },
    {
     "data": {
      "image/png": "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\n",
      "text/plain": [
       "<Figure size 432x288 with 1 Axes>"
      ]
     },
     "metadata": {},
     "output_type": "display_data"
    }
   ],
   "source": [
    "# Plot the class predictions.\n",
    "\n",
    "plt.scatter(glass.al, glass.household)\n",
    "plt.plot(glass.al, pred, color='red')\n",
    "plt.xlabel('al')\n",
    "plt.ylabel('household')"
   ]
  },
  {
   "cell_type": "markdown",
   "metadata": {},
   "source": [
    "What if we wanted the predicted probabilities instead of just the class predictions, to understand how confident we are in a given prediction?\n",
    "\n",
    "**Using the built-in `.predict_proba()` function, examine the predicted probabilities for the first handful of rows of `X`.**"
   ]
  },
  {
   "cell_type": "code",
   "execution_count": 43,
   "metadata": {},
   "outputs": [
    {
     "data": {
      "text/plain": [
       "array([[0.9939759 , 0.0060241 ],\n",
       "       [0.99296771, 0.00703229],\n",
       "       [0.98949363, 0.01050637],\n",
       "       [0.98949363, 0.01050637],\n",
       "       [0.98811597, 0.01188403],\n",
       "       [0.98614074, 0.01385926],\n",
       "       [0.98614074, 0.01385926],\n",
       "       [0.98526292, 0.01473708],\n",
       "       [0.9817376 , 0.0182624 ],\n",
       "       [0.98117062, 0.01882938]])"
      ]
     },
     "execution_count": 43,
     "metadata": {},
     "output_type": "execute_result"
    }
   ],
   "source": [
    "logreg.predict_proba(X)[0:10]"
   ]
  },
  {
   "cell_type": "markdown",
   "metadata": {},
   "source": [
    "Sklearn orders the columns according to our class labels. The two-column output of `predict_proba` returns a column for each class of our `household` variable. The first column is the probability of `household=0` for a given row, and the second column is the probability of `household=1`.\n",
    "\n",
    "**Store the predicted probabilities of class=1 in its own column in the data set.**"
   ]
  },
  {
   "cell_type": "code",
   "execution_count": 46,
   "metadata": {},
   "outputs": [],
   "source": [
    "# Store the predicted probabilities of class 1.\n",
    "glass['household_pred_prob'] = logreg.predict_proba(X)[:, 1]"
   ]
  },
  {
   "cell_type": "code",
   "execution_count": 47,
   "metadata": {},
   "outputs": [
    {
     "data": {
      "text/html": [
       "<div>\n",
       "<style scoped>\n",
       "    .dataframe tbody tr th:only-of-type {\n",
       "        vertical-align: middle;\n",
       "    }\n",
       "\n",
       "    .dataframe tbody tr th {\n",
       "        vertical-align: top;\n",
       "    }\n",
       "\n",
       "    .dataframe thead th {\n",
       "        text-align: right;\n",
       "    }\n",
       "</style>\n",
       "<table border=\"1\" class=\"dataframe\">\n",
       "  <thead>\n",
       "    <tr style=\"text-align: right;\">\n",
       "      <th></th>\n",
       "      <th>ri</th>\n",
       "      <th>na</th>\n",
       "      <th>mg</th>\n",
       "      <th>al</th>\n",
       "      <th>si</th>\n",
       "      <th>k</th>\n",
       "      <th>ca</th>\n",
       "      <th>ba</th>\n",
       "      <th>fe</th>\n",
       "      <th>glass_type</th>\n",
       "      <th>y_pred</th>\n",
       "      <th>household</th>\n",
       "      <th>household_pred</th>\n",
       "      <th>household_pred_class</th>\n",
       "      <th>household_pred_prob</th>\n",
       "    </tr>\n",
       "  </thead>\n",
       "  <tbody>\n",
       "    <tr>\n",
       "      <th>21</th>\n",
       "      <td>1.51966</td>\n",
       "      <td>14.77</td>\n",
       "      <td>3.75</td>\n",
       "      <td>0.29</td>\n",
       "      <td>72.02</td>\n",
       "      <td>0.03</td>\n",
       "      <td>9.00</td>\n",
       "      <td>0.0</td>\n",
       "      <td>0.00</td>\n",
       "      <td>1</td>\n",
       "      <td>1.521227</td>\n",
       "      <td>0</td>\n",
       "      <td>-0.340495</td>\n",
       "      <td>0</td>\n",
       "      <td>0.006024</td>\n",
       "    </tr>\n",
       "    <tr>\n",
       "      <th>184</th>\n",
       "      <td>1.51115</td>\n",
       "      <td>17.38</td>\n",
       "      <td>0.00</td>\n",
       "      <td>0.34</td>\n",
       "      <td>75.41</td>\n",
       "      <td>0.00</td>\n",
       "      <td>6.65</td>\n",
       "      <td>0.0</td>\n",
       "      <td>0.00</td>\n",
       "      <td>6</td>\n",
       "      <td>1.521103</td>\n",
       "      <td>1</td>\n",
       "      <td>-0.315436</td>\n",
       "      <td>0</td>\n",
       "      <td>0.007032</td>\n",
       "    </tr>\n",
       "    <tr>\n",
       "      <th>39</th>\n",
       "      <td>1.52213</td>\n",
       "      <td>14.21</td>\n",
       "      <td>3.82</td>\n",
       "      <td>0.47</td>\n",
       "      <td>71.77</td>\n",
       "      <td>0.11</td>\n",
       "      <td>9.57</td>\n",
       "      <td>0.0</td>\n",
       "      <td>0.00</td>\n",
       "      <td>1</td>\n",
       "      <td>1.520781</td>\n",
       "      <td>0</td>\n",
       "      <td>-0.250283</td>\n",
       "      <td>0</td>\n",
       "      <td>0.010506</td>\n",
       "    </tr>\n",
       "    <tr>\n",
       "      <th>38</th>\n",
       "      <td>1.52213</td>\n",
       "      <td>14.21</td>\n",
       "      <td>3.82</td>\n",
       "      <td>0.47</td>\n",
       "      <td>71.77</td>\n",
       "      <td>0.11</td>\n",
       "      <td>9.57</td>\n",
       "      <td>0.0</td>\n",
       "      <td>0.00</td>\n",
       "      <td>1</td>\n",
       "      <td>1.520781</td>\n",
       "      <td>0</td>\n",
       "      <td>-0.250283</td>\n",
       "      <td>0</td>\n",
       "      <td>0.010506</td>\n",
       "    </tr>\n",
       "    <tr>\n",
       "      <th>50</th>\n",
       "      <td>1.52320</td>\n",
       "      <td>13.72</td>\n",
       "      <td>3.72</td>\n",
       "      <td>0.51</td>\n",
       "      <td>71.75</td>\n",
       "      <td>0.09</td>\n",
       "      <td>10.06</td>\n",
       "      <td>0.0</td>\n",
       "      <td>0.16</td>\n",
       "      <td>1</td>\n",
       "      <td>1.520682</td>\n",
       "      <td>0</td>\n",
       "      <td>-0.230236</td>\n",
       "      <td>0</td>\n",
       "      <td>0.011884</td>\n",
       "    </tr>\n",
       "    <tr>\n",
       "      <th>183</th>\n",
       "      <td>1.51969</td>\n",
       "      <td>14.56</td>\n",
       "      <td>0.00</td>\n",
       "      <td>0.56</td>\n",
       "      <td>73.48</td>\n",
       "      <td>0.00</td>\n",
       "      <td>11.22</td>\n",
       "      <td>0.0</td>\n",
       "      <td>0.00</td>\n",
       "      <td>6</td>\n",
       "      <td>1.520558</td>\n",
       "      <td>1</td>\n",
       "      <td>-0.205177</td>\n",
       "      <td>0</td>\n",
       "      <td>0.013859</td>\n",
       "    </tr>\n",
       "    <tr>\n",
       "      <th>109</th>\n",
       "      <td>1.51818</td>\n",
       "      <td>13.72</td>\n",
       "      <td>0.00</td>\n",
       "      <td>0.56</td>\n",
       "      <td>74.45</td>\n",
       "      <td>0.00</td>\n",
       "      <td>10.99</td>\n",
       "      <td>0.0</td>\n",
       "      <td>0.00</td>\n",
       "      <td>2</td>\n",
       "      <td>1.520558</td>\n",
       "      <td>0</td>\n",
       "      <td>-0.205177</td>\n",
       "      <td>0</td>\n",
       "      <td>0.013859</td>\n",
       "    </tr>\n",
       "    <tr>\n",
       "      <th>157</th>\n",
       "      <td>1.52121</td>\n",
       "      <td>14.03</td>\n",
       "      <td>3.76</td>\n",
       "      <td>0.58</td>\n",
       "      <td>71.79</td>\n",
       "      <td>0.11</td>\n",
       "      <td>9.65</td>\n",
       "      <td>0.0</td>\n",
       "      <td>0.00</td>\n",
       "      <td>3</td>\n",
       "      <td>1.520508</td>\n",
       "      <td>0</td>\n",
       "      <td>-0.195154</td>\n",
       "      <td>0</td>\n",
       "      <td>0.014737</td>\n",
       "    </tr>\n",
       "    <tr>\n",
       "      <th>152</th>\n",
       "      <td>1.51779</td>\n",
       "      <td>13.64</td>\n",
       "      <td>3.65</td>\n",
       "      <td>0.65</td>\n",
       "      <td>73.00</td>\n",
       "      <td>0.06</td>\n",
       "      <td>8.93</td>\n",
       "      <td>0.0</td>\n",
       "      <td>0.00</td>\n",
       "      <td>3</td>\n",
       "      <td>1.520335</td>\n",
       "      <td>0</td>\n",
       "      <td>-0.160071</td>\n",
       "      <td>0</td>\n",
       "      <td>0.018262</td>\n",
       "    </tr>\n",
       "    <tr>\n",
       "      <th>103</th>\n",
       "      <td>1.52725</td>\n",
       "      <td>13.80</td>\n",
       "      <td>3.15</td>\n",
       "      <td>0.66</td>\n",
       "      <td>70.57</td>\n",
       "      <td>0.08</td>\n",
       "      <td>11.64</td>\n",
       "      <td>0.0</td>\n",
       "      <td>0.00</td>\n",
       "      <td>2</td>\n",
       "      <td>1.520310</td>\n",
       "      <td>0</td>\n",
       "      <td>-0.155059</td>\n",
       "      <td>0</td>\n",
       "      <td>0.018829</td>\n",
       "    </tr>\n",
       "  </tbody>\n",
       "</table>\n",
       "</div>"
      ],
      "text/plain": [
       "          ri     na    mg    al     si     k     ca   ba    fe  glass_type  \\\n",
       "21   1.51966  14.77  3.75  0.29  72.02  0.03   9.00  0.0  0.00           1   \n",
       "184  1.51115  17.38  0.00  0.34  75.41  0.00   6.65  0.0  0.00           6   \n",
       "39   1.52213  14.21  3.82  0.47  71.77  0.11   9.57  0.0  0.00           1   \n",
       "38   1.52213  14.21  3.82  0.47  71.77  0.11   9.57  0.0  0.00           1   \n",
       "50   1.52320  13.72  3.72  0.51  71.75  0.09  10.06  0.0  0.16           1   \n",
       "183  1.51969  14.56  0.00  0.56  73.48  0.00  11.22  0.0  0.00           6   \n",
       "109  1.51818  13.72  0.00  0.56  74.45  0.00  10.99  0.0  0.00           2   \n",
       "157  1.52121  14.03  3.76  0.58  71.79  0.11   9.65  0.0  0.00           3   \n",
       "152  1.51779  13.64  3.65  0.65  73.00  0.06   8.93  0.0  0.00           3   \n",
       "103  1.52725  13.80  3.15  0.66  70.57  0.08  11.64  0.0  0.00           2   \n",
       "\n",
       "       y_pred  household  household_pred  household_pred_class  \\\n",
       "21   1.521227          0       -0.340495                     0   \n",
       "184  1.521103          1       -0.315436                     0   \n",
       "39   1.520781          0       -0.250283                     0   \n",
       "38   1.520781          0       -0.250283                     0   \n",
       "50   1.520682          0       -0.230236                     0   \n",
       "183  1.520558          1       -0.205177                     0   \n",
       "109  1.520558          0       -0.205177                     0   \n",
       "157  1.520508          0       -0.195154                     0   \n",
       "152  1.520335          0       -0.160071                     0   \n",
       "103  1.520310          0       -0.155059                     0   \n",
       "\n",
       "     household_pred_prob  \n",
       "21              0.006024  \n",
       "184             0.007032  \n",
       "39              0.010506  \n",
       "38              0.010506  \n",
       "50              0.011884  \n",
       "183             0.013859  \n",
       "109             0.013859  \n",
       "157             0.014737  \n",
       "152             0.018262  \n",
       "103             0.018829  "
      ]
     },
     "execution_count": 47,
     "metadata": {},
     "output_type": "execute_result"
    }
   ],
   "source": [
    "glass.head(10)"
   ]
  },
  {
   "cell_type": "markdown",
   "metadata": {},
   "source": [
    "**Plot the predicted probabilities as a line on our plot (probability of `household=1` as `al` changes).**"
   ]
  },
  {
   "cell_type": "code",
   "execution_count": 48,
   "metadata": {},
   "outputs": [
    {
     "data": {
      "text/plain": [
       "Text(0, 0.5, 'household')"
      ]
     },
     "execution_count": 48,
     "metadata": {},
     "output_type": "execute_result"
    },
    {
     "data": {
      "image/png": "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\n",
      "text/plain": [
       "<Figure size 432x288 with 1 Axes>"
      ]
     },
     "metadata": {},
     "output_type": "display_data"
    }
   ],
   "source": [
    "# Plot the predicted probabilities.\n",
    "plt.scatter(glass.al, glass.household)\n",
    "plt.plot(glass.al, glass.household_pred_prob, color='red')\n",
    "plt.xlabel('al')\n",
    "plt.ylabel('household')"
   ]
  },
  {
   "cell_type": "code",
   "execution_count": 49,
   "metadata": {},
   "outputs": [
    {
     "name": "stdout",
     "output_type": "stream",
     "text": [
      "[[0.94755733 0.05244267]]\n",
      "[[0.4449707 0.5550293]]\n",
      "[[0.03435025 0.96564975]]\n"
     ]
    }
   ],
   "source": [
    "# Examine some example predictions.\n",
    "print(logreg.predict_proba([[1]]))\n",
    "print(logreg.predict_proba([[2]]))\n",
    "print(logreg.predict_proba([[3]]))"
   ]
  },
  {
   "cell_type": "markdown",
   "metadata": {},
   "source": [
    "### Exercise 1:\n",
    "\n",
    "- Build and train a logistic regression model.\n",
    "- Select 2 features for you X\n",
    "- y will remain the same `glass.household`\n",
    "- Evaluate the model with `model.score` on the testing data."
   ]
  },
  {
   "cell_type": "code",
   "execution_count": 58,
   "metadata": {},
   "outputs": [
    {
     "data": {
      "text/plain": [
       "0.9074074074074074"
      ]
     },
     "execution_count": 58,
     "metadata": {},
     "output_type": "execute_result"
    }
   ],
   "source": [
<<<<<<< HEAD
    "# A: \n",
    "from sklearn.model_selection import train_test_split\n",
    "from sklearn.linear_model import LogisticRegression\n",
    "LR = LogisticRegression()\n",
    "\n",
    "X = glass[['na', 'mg']]\n",
    "y = glass.household\n",
    "\n",
    "X_train, X_test, y_train, y_test = train_test_split(X,y, random_state=30)\n",
    "\n",
    "LR.fit(X_train, y_train)\n",
    "\n",
    "pred = LR.predict(X_test)\n",
    "\n",
    "LR.score(X_test, y_test)\n",
    "# the below is just an accuracy score: the percentage of time the model predicted the proper class (i.e., the correct class)"
   ]
  },
  {
   "cell_type": "code",
   "execution_count": 59,
   "metadata": {},
   "outputs": [
    {
     "data": {
      "text/plain": [
       "mg                     -0.758289\n",
       "y_pred                 -0.585928\n",
       "fe                     -0.194903\n",
       "ri                     -0.134327\n",
       "ca                      0.040670\n",
       "k                       0.053774\n",
       "si                      0.148072\n",
       "na                      0.452336\n",
       "ba                      0.523403\n",
       "al                      0.585928\n",
       "household_pred          0.585928\n",
       "household_pred_class    0.596064\n",
       "household_pred_prob     0.664892\n",
       "glass_type              0.941680\n",
       "household               1.000000\n",
       "dtype: float64"
      ]
     },
     "execution_count": 59,
     "metadata": {},
     "output_type": "execute_result"
    }
   ],
   "source": [
    "glass.corrwith(glass.household).sort_values()"
=======
    "# A: \n"
>>>>>>> 272f360fcc307502d1af5b9fa3e728de6141fb98
   ]
  },
  {
   "cell_type": "markdown",
   "metadata": {},
   "source": [
    "<a id=\"probability-odds-e-log-and-log-odds\"></a>\n",
    "## Probability, e, Log, and Log Odds\n",
    "---\n",
    "\n",
    "To understand how logistic regression predicts the probability of class membership we need to start by understanding the relationship between probability, odds ratios, and log odds ratios. This is because logistic regression predicts log odds and so reading log odds is extremely useful for interpreting logistic regression.\n",
    "\n",
    "$$probability = \\frac {one\\ outcome} {all\\ outcomes}$$\n",
    "\n",
    "$$odds = \\frac {one\\ outcome} {all\\ other\\ outcomes}$$\n",
    "\n",
    "It is often useful to think of the numeric odds as a ratio. For example, 5/1 = 5 odds is \"5 to 1\" -- five wins for every one loss (e.g. of six total plays). 2/3 odds means \"2 to 3\" -- two wins for every three losses (e.g. of five total plays).\n",
    "\n",
    "Examples:\n",
    "\n",
    "- Dice roll of 1: probability = 1/6, odds = 1/5\n",
    "- Even dice roll: probability = 3/6, odds = 3/3 = 1\n",
    "- Dice roll less than 5: probability = 4/6, odds = 4/2 = 2\n",
    "\n",
    "$$odds = \\frac {probability} {1 - probability}$$\n",
    "\n",
    "$$probability = \\frac {odds} {1 + odds}$$"
   ]
  },
  {
   "cell_type": "markdown",
   "metadata": {},
   "source": [
    "**As an example we can create a table of probabilities vs. odds, as seen below.**"
   ]
  },
  {
   "cell_type": "code",
   "execution_count": 60,
   "metadata": {},
   "outputs": [
    {
     "data": {
      "text/html": [
       "<div>\n",
       "<style scoped>\n",
       "    .dataframe tbody tr th:only-of-type {\n",
       "        vertical-align: middle;\n",
       "    }\n",
       "\n",
       "    .dataframe tbody tr th {\n",
       "        vertical-align: top;\n",
       "    }\n",
       "\n",
       "    .dataframe thead th {\n",
       "        text-align: right;\n",
       "    }\n",
       "</style>\n",
       "<table border=\"1\" class=\"dataframe\">\n",
       "  <thead>\n",
       "    <tr style=\"text-align: right;\">\n",
       "      <th></th>\n",
       "      <th>probability</th>\n",
       "      <th>odds</th>\n",
       "    </tr>\n",
       "  </thead>\n",
       "  <tbody>\n",
       "    <tr>\n",
       "      <th>0</th>\n",
       "      <td>0.10</td>\n",
       "      <td>0.111111</td>\n",
       "    </tr>\n",
       "    <tr>\n",
       "      <th>1</th>\n",
       "      <td>0.20</td>\n",
       "      <td>0.250000</td>\n",
       "    </tr>\n",
       "    <tr>\n",
       "      <th>2</th>\n",
       "      <td>0.25</td>\n",
       "      <td>0.333333</td>\n",
       "    </tr>\n",
       "    <tr>\n",
       "      <th>3</th>\n",
       "      <td>0.50</td>\n",
       "      <td>1.000000</td>\n",
       "    </tr>\n",
       "    <tr>\n",
       "      <th>4</th>\n",
       "      <td>0.60</td>\n",
       "      <td>1.500000</td>\n",
       "    </tr>\n",
       "    <tr>\n",
       "      <th>5</th>\n",
       "      <td>0.80</td>\n",
       "      <td>4.000000</td>\n",
       "    </tr>\n",
       "    <tr>\n",
       "      <th>6</th>\n",
       "      <td>0.90</td>\n",
       "      <td>9.000000</td>\n",
       "    </tr>\n",
       "  </tbody>\n",
       "</table>\n",
       "</div>"
      ],
      "text/plain": [
       "   probability      odds\n",
       "0         0.10  0.111111\n",
       "1         0.20  0.250000\n",
       "2         0.25  0.333333\n",
       "3         0.50  1.000000\n",
       "4         0.60  1.500000\n",
       "5         0.80  4.000000\n",
       "6         0.90  9.000000"
      ]
     },
     "execution_count": 60,
     "metadata": {},
     "output_type": "execute_result"
    }
   ],
   "source": [
    "# Create a table of probability versus odds.\n",
    "table = pd.DataFrame({'probability':[0.1, 0.2, 0.25, 0.5, 0.6, 0.8, 0.9]})\n",
    "table['odds'] = table.probability / (1 - table.probability)\n",
    "table"
   ]
  },
  {
   "cell_type": "markdown",
   "metadata": {},
   "source": [
    "<a id=\"understanding-e-and-the-natural-logarithm\"></a>\n",
    "### Understanding e and the Natural Logarithm\n",
    "\n",
    "What is e? It is the base rate of growth shared by all continually growing processes:\n",
    "\n",
    "e is the irrational base of the natural log `ln`.\n",
    "\n",
    "- 2.718281828459"
   ]
  },
  {
   "cell_type": "code",
   "execution_count": 61,
   "metadata": {},
   "outputs": [
    {
     "data": {
      "text/plain": [
       "2.718281828459045"
      ]
     },
     "execution_count": 61,
     "metadata": {},
     "output_type": "execute_result"
    }
   ],
   "source": [
    "# Exponential function: e^1\n",
    "e = np.exp(1)\n",
    "e"
   ]
  },
  {
   "cell_type": "markdown",
   "metadata": {},
   "source": [
    "What is a (natural) log? It gives you the time needed to reach a certain level of growth:"
   ]
  },
  {
   "cell_type": "code",
   "execution_count": 62,
   "metadata": {},
   "outputs": [
    {
     "data": {
      "text/plain": [
       "0.9999999999999832"
      ]
     },
     "execution_count": 62,
     "metadata": {},
     "output_type": "execute_result"
    }
   ],
   "source": [
    "# Time needed to grow 1 unit to 2.718 units\n",
    "# ln e = 1\n",
    "np.log(2.718281828459) # very close to previous value"
   ]
  },
  {
   "cell_type": "code",
   "execution_count": 63,
   "metadata": {},
   "outputs": [
    {
     "data": {
      "text/plain": [
       "1.0"
      ]
     },
     "execution_count": 63,
     "metadata": {},
     "output_type": "execute_result"
    }
   ],
   "source": [
    "np.log(e)"
   ]
  },
  {
   "cell_type": "markdown",
   "metadata": {},
   "source": [
    "It is also the inverse of the exponential function:"
   ]
  },
  {
   "cell_type": "code",
   "execution_count": 64,
   "metadata": {},
   "outputs": [
    {
     "data": {
      "text/plain": [
       "148.4131591025766"
      ]
     },
     "execution_count": 64,
     "metadata": {},
     "output_type": "execute_result"
    }
   ],
   "source": [
    "# e^5\n",
    "np.exp(5)"
   ]
  },
  {
   "cell_type": "code",
   "execution_count": 65,
   "metadata": {},
   "outputs": [
    {
     "data": {
      "text/plain": [
       "148.41315133352072"
      ]
     },
     "execution_count": 65,
     "metadata": {},
     "output_type": "execute_result"
    }
   ],
   "source": [
    "# np.exp(5)\n",
    "2.7182818**5"
   ]
  },
  {
   "cell_type": "code",
   "execution_count": 66,
   "metadata": {},
   "outputs": [
    {
     "data": {
      "text/plain": [
       "5.0"
      ]
     },
     "execution_count": 66,
     "metadata": {},
     "output_type": "execute_result"
    }
   ],
   "source": [
    "# Taking the log of the exponential returns back to original input\n",
    "np.log(np.exp(5))"
   ]
  },
  {
   "cell_type": "markdown",
   "metadata": {},
   "source": [
    "Lets take one of our odds from out table and walk through how it works."
   ]
  },
  {
   "cell_type": "code",
   "execution_count": 69,
   "metadata": {},
   "outputs": [
    {
     "data": {
      "text/plain": [
       "-1.3862943611198906"
      ]
     },
     "execution_count": 69,
     "metadata": {},
     "output_type": "execute_result"
    }
   ],
   "source": [
    "# Odds = 0.25\n",
    "# ln 0.25 = -1.38629436\n",
    "np.log(0.25)"
   ]
  },
  {
   "cell_type": "code",
   "execution_count": 70,
   "metadata": {},
   "outputs": [
    {
     "name": "stdout",
     "output_type": "stream",
     "text": [
      "0.25000000000000006\n",
      "0.25\n"
     ]
    }
   ],
   "source": [
    "print(e**-1.3862943611198906)\n",
    "print(np.exp(-1.3862943611198906))"
   ]
  },
  {
   "cell_type": "markdown",
   "metadata": {},
   "source": [
    "<a id=\"the-log-odds\"></a>\n",
    "\n",
    "When we take the logarithm of the odds, we get what is known as the **log odds**. This may seem like an arbitrary transformation, but it has an important property: The log odds has the range $[-\\infty, \\infty]$. This is not true for the odds ratio, which can never be a negative number."
   ]
  },
  {
   "cell_type": "code",
   "execution_count": 71,
   "metadata": {},
   "outputs": [
    {
     "data": {
      "text/html": [
       "<div>\n",
       "<style scoped>\n",
       "    .dataframe tbody tr th:only-of-type {\n",
       "        vertical-align: middle;\n",
       "    }\n",
       "\n",
       "    .dataframe tbody tr th {\n",
       "        vertical-align: top;\n",
       "    }\n",
       "\n",
       "    .dataframe thead th {\n",
       "        text-align: right;\n",
       "    }\n",
       "</style>\n",
       "<table border=\"1\" class=\"dataframe\">\n",
       "  <thead>\n",
       "    <tr style=\"text-align: right;\">\n",
       "      <th></th>\n",
       "      <th>probability</th>\n",
       "      <th>odds</th>\n",
       "      <th>logodds</th>\n",
       "    </tr>\n",
       "  </thead>\n",
       "  <tbody>\n",
       "    <tr>\n",
       "      <th>0</th>\n",
       "      <td>0.10</td>\n",
       "      <td>0.111111</td>\n",
       "      <td>-2.197225</td>\n",
       "    </tr>\n",
       "    <tr>\n",
       "      <th>1</th>\n",
       "      <td>0.20</td>\n",
       "      <td>0.250000</td>\n",
       "      <td>-1.386294</td>\n",
       "    </tr>\n",
       "    <tr>\n",
       "      <th>2</th>\n",
       "      <td>0.25</td>\n",
       "      <td>0.333333</td>\n",
       "      <td>-1.098612</td>\n",
       "    </tr>\n",
       "    <tr>\n",
       "      <th>3</th>\n",
       "      <td>0.50</td>\n",
       "      <td>1.000000</td>\n",
       "      <td>0.000000</td>\n",
       "    </tr>\n",
       "    <tr>\n",
       "      <th>4</th>\n",
       "      <td>0.60</td>\n",
       "      <td>1.500000</td>\n",
       "      <td>0.405465</td>\n",
       "    </tr>\n",
       "    <tr>\n",
       "      <th>5</th>\n",
       "      <td>0.80</td>\n",
       "      <td>4.000000</td>\n",
       "      <td>1.386294</td>\n",
       "    </tr>\n",
       "    <tr>\n",
       "      <th>6</th>\n",
       "      <td>0.90</td>\n",
       "      <td>9.000000</td>\n",
       "      <td>2.197225</td>\n",
       "    </tr>\n",
       "  </tbody>\n",
       "</table>\n",
       "</div>"
      ],
      "text/plain": [
       "   probability      odds   logodds\n",
       "0         0.10  0.111111 -2.197225\n",
       "1         0.20  0.250000 -1.386294\n",
       "2         0.25  0.333333 -1.098612\n",
       "3         0.50  1.000000  0.000000\n",
       "4         0.60  1.500000  0.405465\n",
       "5         0.80  4.000000  1.386294\n",
       "6         0.90  9.000000  2.197225"
      ]
     },
     "execution_count": 71,
     "metadata": {},
     "output_type": "execute_result"
    }
   ],
   "source": [
    "# Add log odds to the table.\n",
    "table['logodds'] = np.log(table['odds'])\n",
    "table"
   ]
  },
  {
   "cell_type": "markdown",
   "metadata": {},
   "source": [
    "<a id=\"what-is-logistic-regression\"></a>\n",
    "## What Is Logistic Regression?\n",
    "---"
   ]
  },
  {
   "cell_type": "markdown",
   "metadata": {},
   "source": [
    "Linear regression: Continuous response is modeled as a linear combination of the features.\n",
    "\n",
    "$$y = \\beta_0 + \\beta_1x$$\n",
    "\n",
    "Logistic regression: Log odds of a categorical response being \"true\" (1) is modeled as a linear combination of the features.\n",
    "\n",
    "$$\\log \\left({p\\over 1-p}\\right) = \\beta_0 + \\beta_1x$$\n",
    "\n",
    "This is called the logit function.\n",
    "\n",
    "Probability is sometimes written as pi.\n",
    "\n",
    "$$\\log \\left({\\pi\\over 1-\\pi}\\right) = \\beta_0 + \\beta_1x$$\n",
    "\n",
    "The equation can be rearranged into the logistic function.\n",
    "\n",
    "$$\\hat{p} = \\frac{e^{\\beta_0 + \\beta_1x}} {1 + e^{\\beta_0 + \\beta_1x}}$$"
   ]
  },
  {
   "cell_type": "markdown",
   "metadata": {},
   "source": [
    "In other words:\n",
    "\n",
    "- Logistic regression outputs the probabilities of a specific class.\n",
    "- Those probabilities can be converted into class predictions.\n",
    "\n",
    "The logistic function has some nice properties:\n",
    "\n",
    "- Takes on an \"s\" shape\n",
    "- Output is bounded by 0 and 1\n",
    "\n",
    "We have covered how this works for binary classification problems (two response classes). But what about multi-class classification problems (more than two response classes)?\n",
    "\n",
    "- The most common solution for classification models is \"one-vs-all\" (also known as \"one-vs-rest\"): Decompose the problem into multiple binary classification problems.\n",
    "- Multinomial logistic regression, on the other hand, can solve this as a single problem, but how this works is beyond the scope of this lesson."
   ]
  },
  {
   "cell_type": "markdown",
   "metadata": {},
   "source": [
    "<a id=\"interpreting-logistic-regression-coefficients\"></a>\n",
    "## Interpreting Logistic Regression Coefficients\n",
    "\n",
    "---\n",
    "\n",
    "Logistic regression coefficients are not as immediately interpretable as the coefficients from a linear regression. To interpret the coefficients we need to remember how the formulation for logistic regression differs from linear regression.\n",
    "\n",
    "**First let's plot our logistic regression predicted probability line again.**"
   ]
  },
  {
   "cell_type": "code",
   "execution_count": 72,
   "metadata": {},
   "outputs": [
    {
     "data": {
      "text/plain": [
       "Text(0, 0.5, 'household')"
      ]
     },
     "execution_count": 72,
     "metadata": {},
     "output_type": "execute_result"
    },
    {
     "data": {
      "image/png": "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\n",
      "text/plain": [
       "<Figure size 432x288 with 1 Axes>"
      ]
     },
     "metadata": {},
     "output_type": "display_data"
    }
   ],
   "source": [
    "# Plot the predicted probabilities again.\n",
    "glass.sort_values('al', inplace=True)\n",
    "plt.scatter(glass.al, glass.household)\n",
    "plt.plot(glass.al, glass.household_pred_prob, color='red')\n",
    "plt.xlabel('al')\n",
    "plt.ylabel('household')"
   ]
  },
  {
   "cell_type": "markdown",
   "metadata": {},
   "source": [
    "Remember:\n",
    "\n",
    "$$\\log \\left({p\\over 1-p}\\right) = \\beta_0 + \\beta_1x$$\n",
    "\n",
    "That means we'll get out the log odds if we compute the intercept plus the coefficient times a value for `al`.\n",
    "\n",
    "**Compute the log odds of `household` when `al=2`.**"
   ]
  },
  {
   "cell_type": "code",
   "execution_count": 73,
   "metadata": {},
   "outputs": [
    {
     "name": "stdout",
     "output_type": "stream",
     "text": [
      "[-6.00934605]\n"
     ]
    },
    {
     "data": {
      "text/plain": [
       "array([[3.11517927]])"
      ]
     },
     "execution_count": 73,
     "metadata": {},
     "output_type": "execute_result"
    }
   ],
   "source": [
    "print(logreg.intercept_)\n",
    "logreg.coef_"
   ]
  },
  {
   "cell_type": "code",
   "execution_count": 74,
   "metadata": {},
   "outputs": [
    {
     "data": {
      "text/plain": [
       "array([0.22101248])"
      ]
     },
     "execution_count": 74,
     "metadata": {},
     "output_type": "execute_result"
    }
   ],
   "source": [
    "# Compute predicted log odds for al=2 using the equation.\n",
    "logodds = logreg.intercept_ + logreg.coef_[0] * 2\n",
    "logodds"
   ]
  },
  {
   "cell_type": "markdown",
   "metadata": {},
   "source": [
    "Now that we have the log odds, we will need to go through the process of converting these log odds to probability.\n",
    "\n",
    "**Convert the log odds to odds, then the odds to probability.**"
   ]
  },
  {
   "cell_type": "code",
   "execution_count": 75,
   "metadata": {},
   "outputs": [
    {
     "data": {
      "text/plain": [
       "array([1.247339])"
      ]
     },
     "execution_count": 75,
     "metadata": {},
     "output_type": "execute_result"
    }
   ],
   "source": [
    "# Convert log odds to odds.\n",
    "odds = np.exp(logodds)\n",
    "odds"
   ]
  },
  {
   "cell_type": "code",
   "execution_count": 76,
   "metadata": {},
   "outputs": [
    {
     "data": {
      "text/plain": [
       "array([0.5550293])"
      ]
     },
     "execution_count": 76,
     "metadata": {},
     "output_type": "execute_result"
    }
   ],
   "source": [
    "# Convert odds to probability.\n",
    "prob = odds/(1 + odds)\n",
    "prob"
   ]
  },
  {
   "cell_type": "markdown",
   "metadata": {},
   "source": [
    "This finally gives us the predicted probability of `household=1` when `al=2`. You can confirm this is the same as the value you would get out of the `.predict_proba()` method of the sklearn object."
   ]
  },
  {
   "cell_type": "code",
   "execution_count": 77,
   "metadata": {},
   "outputs": [
    {
     "data": {
      "text/plain": [
       "array([0.5550293])"
      ]
     },
     "execution_count": 77,
     "metadata": {},
     "output_type": "execute_result"
    }
   ],
   "source": [
    "# Compute predicted probability for al=2 using the predict_proba method.\n",
    "logreg.predict_proba([[2]])[:, 1]"
   ]
  },
  {
   "cell_type": "code",
   "execution_count": 78,
   "metadata": {},
   "outputs": [
    {
     "data": {
      "text/plain": [
       "[('al', 3.1151792681570165)]"
      ]
     },
     "execution_count": 78,
     "metadata": {},
     "output_type": "execute_result"
    }
   ],
   "source": [
    "# Examine the coefficient for al.\n",
    "list(zip(feature_cols, logreg.coef_[0]))"
   ]
  },
  {
   "cell_type": "code",
   "execution_count": 79,
   "metadata": {},
   "outputs": [
    {
     "data": {
      "text/plain": [
       "array([-6.00934605])"
      ]
     },
     "execution_count": 79,
     "metadata": {},
     "output_type": "execute_result"
    }
   ],
   "source": [
    "# Print the intercept.\n",
    "logreg.intercept_"
   ]
  },
  {
   "cell_type": "markdown",
   "metadata": {},
   "source": [
    "**Interpretation:** A 1-unit increase in `al` is associated with a 3.01-unit increase in the log odds of `household`."
   ]
  },
  {
   "cell_type": "code",
   "execution_count": 80,
   "metadata": {},
   "outputs": [
    {
     "data": {
      "text/plain": [
       "0.8704637704833843"
      ]
     },
     "execution_count": 80,
     "metadata": {},
     "output_type": "execute_result"
    }
   ],
   "source": [
    "# Increasing al by 1 (so that al=3)\n",
    "logodds = -4.12790736 + 2.0109909641729442*3\n",
    "odds = np.exp(logodds)\n",
    "prob = odds/(1 + odds)\n",
    "prob"
   ]
  },
  {
   "cell_type": "code",
   "execution_count": 81,
   "metadata": {},
   "outputs": [
    {
     "data": {
      "text/plain": [
       "array([0.96564975])"
      ]
     },
     "execution_count": 81,
     "metadata": {},
     "output_type": "execute_result"
    }
   ],
   "source": [
    "# Compute predicted probability for al=3 using the predict_proba method.\n",
    "logreg.predict_proba([[3]])[:, 1]"
   ]
  },
  {
   "cell_type": "markdown",
   "metadata": {},
   "source": [
    "**Bottom line:** Positive coefficients increase the log odds of the response (and thus increase the probability), and negative coefficients decrease the log odds of the response (and thus decrease the probability)."
   ]
  },
  {
   "cell_type": "code",
   "execution_count": 82,
   "metadata": {},
   "outputs": [
    {
     "data": {
      "text/plain": [
       "array([-6.00934605])"
      ]
     },
     "execution_count": 82,
     "metadata": {},
     "output_type": "execute_result"
    }
   ],
   "source": [
    "# Examine the intercept.\n",
    "logreg.intercept_"
   ]
  },
  {
   "cell_type": "markdown",
   "metadata": {},
   "source": [
    "###### **Intercept interpretation:** For an `al` value of 0, the log-odds of `household` is -6.00934605."
   ]
  },
  {
   "cell_type": "code",
   "execution_count": 83,
   "metadata": {},
   "outputs": [
    {
     "data": {
      "text/plain": [
       "array([0.00244968])"
      ]
     },
     "execution_count": 83,
     "metadata": {},
     "output_type": "execute_result"
    }
   ],
   "source": [
    "# Convert log odds to probability.\n",
    "logodds = logreg.intercept_\n",
    "odds = np.exp(logodds)\n",
    "prob = odds/(1 + odds)\n",
    "prob"
   ]
  },
  {
   "cell_type": "markdown",
   "metadata": {},
   "source": [
    "That makes sense from the plot above, because the probability of `household=1` should be very low for such a low `al` value."
   ]
  },
  {
   "cell_type": "markdown",
   "metadata": {},
   "source": [
    "![Logistic regression beta values](./assets/logistic_betas.png)"
   ]
  },
  {
   "cell_type": "markdown",
   "metadata": {},
   "source": [
    "Changing the $\\beta_0$ value shifts the curve horizontally, whereas changing the $\\beta_1$ value changes the slope of the curve."
   ]
  },
  {
   "cell_type": "markdown",
   "metadata": {},
   "source": [
    "<a id=\"comparing-logistic-regression-to-other-models\"></a>\n",
    "## Comparing Logistic Regression to Other Models\n",
    "---\n",
    "\n",
    "Advantages of logistic regression:\n",
    "\n",
    "- Highly interpretable (if you remember how).\n",
    "- Model training and prediction are fast.\n",
    "- No tuning is required (excluding regularization).\n",
    "- Features don't need scaling.\n",
    "- Can perform well with a small number of observations.\n",
    "- Outputs well-calibrated predicted probabilities.\n",
    "\n",
    "Disadvantages of logistic regression:\n",
    "\n",
    "- Presumes a linear relationship between the features and the log odds of the response.\n",
    "- Performance is (generally) not competitive with the best supervised learning methods.\n",
    "- Can't automatically learn feature interactions."
   ]
  },
  {
   "cell_type": "markdown",
   "metadata": {},
   "source": [
    "<a id=\"advanced-classification-metrics\"></a>\n",
    "## Advanced Classification Metrics\n",
    "\n",
    "---\n",
    "\n",
    "When we evaluate the performance of a logistic regression (or any classifier model), the standard metric to use is accuracy: How many class labels did we guess correctly? However, accuracy is only one of several metrics we could use when evaluating a classification model.\n",
    "\n",
    "$$Accuracy = \\frac{total~predicted~correct}{total~predicted}$$\n",
    "\n",
    "Accuracy alone doesn’t always give us a full picture.\n",
    "\n",
    "If we know a model is 75% accurate, it doesn’t provide any insight into why the 25% was wrong."
   ]
  },
  {
   "cell_type": "markdown",
   "metadata": {},
   "source": [
    "Consider a binary classification problem where we have 165 observations/rows of people who are either smokers or nonsmokers.\n",
    "\n",
    "<table style=\"border: none\">\n",
    "<tr style=\"border: none\">\n",
    "    <td style=\"border: none; vertical-align: bottom\">n = 165</td>\n",
    "    <td style=\"\"><b>Predicted: No</b></td>\n",
    "    <td style=\"\"><b>Predicted: Yes</b></td>\n",
    "</tr>\n",
    "<tr>\n",
    "    <td><b>Actual: No</b></td>\n",
    "    <td style=\"text-align: center\"></td>\n",
    "    <td style=\"text-align: center\"></td>\n",
    "    <td style=\"text-align: center\"></td>\n",
    "</tr>\n",
    "<tr>\n",
    "    <td><b>Actual: Yes</b></td>\n",
    "    <td style=\"text-align: center\"></td>\n",
    "    <td style=\"text-align: center\"></td>\n",
    "    <td style=\"text-align: center\"></td>\n",
    "</tr>\n",
    "<tr style=\"border: none\">\n",
    "    <td style=\"border: none\"></td>\n",
    "    <td style=\"text-align: center\"></td>\n",
    "    <td style=\"text-align: center\"></td>\n",
    "</tr>\n",
    "\n",
    "</table>"
   ]
  },
  {
   "cell_type": "markdown",
   "metadata": {},
   "source": [
    "There are 60 in class 0, nonsmokers, and 105 observations in class 1, smokers\n",
    "<table style=\"border: none\">\n",
    "<tr style=\"border: none\">\n",
    "    <td style=\"border: none; vertical-align: bottom\">n = 165</td>\n",
    "    <td style=\"\"><b>Predicted: No</b></td>\n",
    "    <td style=\"\"><b>Predicted: Yes</b></td>\n",
    "</tr>\n",
    "<tr>\n",
    "    <td><b>Actual: No</b></td>\n",
    "    <td style=\"text-align: center\"></td>\n",
    "    <td style=\"text-align: center\"></td>\n",
    "    <td style=\"text-align: center\">60</td>\n",
    "</tr>\n",
    "<tr>\n",
    "    <td><b>Actual: Yes</b></td>\n",
    "    <td style=\"text-align: center\"></td>\n",
    "    <td style=\"text-align: center\"></td>\n",
    "    <td style=\"text-align: center\">105</td>\n",
    "</tr>\n",
    "<tr style=\"border: none\">\n",
    "    <td style=\"border: none\"></td>\n",
    "    <td style=\"text-align: center\"></td>\n",
    "    <td style=\"text-align: center\"></td>\n",
    "</tr>\n",
    "\n",
    "</table>"
   ]
  },
  {
   "cell_type": "markdown",
   "metadata": {},
   "source": [
    "We have 55 predictions of class, predicted as nonsmokers, and 110 of class 1, predicted to be smokers.\n",
    "\n",
    "<table style=\"border: none\">\n",
    "<tr style=\"border: none\">\n",
    "    <td style=\"border: none; vertical-align: bottom\">n = 165</td>\n",
    "    <td style=\"\"><b>Predicted: No</b></td>\n",
    "    <td style=\"\"><b>Predicted: Yes</b></td>\n",
    "</tr>\n",
    "<tr>\n",
    "    <td><b>Actual: No</b></td>\n",
    "    <td style=\"text-align: center\"></td>\n",
    "    <td style=\"text-align: center\"></td>\n",
    "    <td style=\"text-align: center\">60</td>\n",
    "</tr>\n",
    "<tr>\n",
    "    <td><b>Actual: Yes</b></td>\n",
    "    <td style=\"text-align: center\"></td>\n",
    "    <td style=\"text-align: center\"></td>\n",
    "    <td style=\"text-align: center\">105</td>\n",
    "</tr>\n",
    "<tr style=\"border: none\">\n",
    "    <td style=\"border: none\"></td>\n",
    "    <td style=\"text-align: center\">55</td>\n",
    "    <td style=\"text-align: center\">110</td>\n",
    "</tr>\n",
    "\n",
    "</table>"
   ]
  },
  {
   "cell_type": "markdown",
   "metadata": {},
   "source": [
    "- **True positives (TP):** These are cases in which we predicted yes (smokers), and they actually are smokers.\n",
    "- **True negatives (TN):** We predicted no, and they are nonsmokers.\n",
    "- **False positives (FP):** We predicted yes, but they were not actually smokers. (This is also known as a \"Type I error.\")\n",
    "- **False negatives (FN):** We predicted no, but they are smokers. (This is also known as a \"Type II error.\")\n",
    "<table style=\"border: none\">\n",
    "<tr style=\"border: none\">\n",
    "    <td style=\"border: none; vertical-align: bottom\">n = 165</td>\n",
    "    <td style=\"\"><b>Predicted: No</b></td>\n",
    "    <td style=\"\"><b>Predicted: Yes</b></td>\n",
    "</tr>\n",
    "<tr>\n",
    "    <td><b>Actual: No</b></td>\n",
    "    <td style=\"text-align: center\">TN = 50</td>\n",
    "    <td style=\"text-align: center\">FP = 10</td>\n",
    "    <td style=\"text-align: center\">60</td>\n",
    "</tr>\n",
    "<tr>\n",
    "    <td><b>Actual: Yes</b></td>\n",
    "    <td style=\"text-align: center\">FN = 5</td>\n",
    "    <td style=\"text-align: center\">TP = 100</td>\n",
    "    <td style=\"text-align: center\">105</td>\n",
    "</tr>\n",
    "<tr style=\"border: none\">\n",
    "    <td style=\"border: none\"></td>\n",
    "    <td style=\"text-align: center\">55</td>\n",
    "    <td style=\"text-align: center\">110</td>\n",
    "</tr>\n",
    "\n",
    "</table>"
   ]
  },
  {
   "cell_type": "markdown",
   "metadata": {},
   "source": [
    "**Categorize these as TP, TN, FP, or FN:**\n",
    "\n",
    "Try not to look at the answers above.\n",
    "    \n",
    "- We predict nonsmoker, but the person is a smoker.\n",
    "- We predict nonsmoker, and the person is a nonsmoker.\n",
    "- We predict smoker and the person is a smoker.\n",
    "- We predict smoker and the person is a nonsmoker.\n",
    "\n",
    "<!--ANSWER\n",
    "- FN\n",
    "- TN\n",
    "- TP\n",
    "- FP\n",
    "-->"
   ]
  },
  {
   "cell_type": "markdown",
   "metadata": {},
   "source": [
    "<a id=\"accuracy-true-positive-rate-and-false-negative-rate\"></a>\n",
    "### Accuracy, True Positive Rate, and False Negative Rate"
   ]
  },
  {
   "cell_type": "markdown",
   "metadata": {},
   "source": [
    "**Accuracy:** Overall, how often is the classifier correct?\n",
    "\n",
    "<span>\n",
    "    (<span style=\"color: green\">TP</span>+<span style=\"color: red\">TN</span>)/<span style=\"color: blue\">total</span> = (<span style=\"color: green\">100</span>+<span style=\"color: red\">50</span>)/<span style=\"color: blue\">165</span> = 0.91\n",
    "</span>\n",
    "\n",
    "<table style=\"border: none\">\n",
    "<tr style=\"border: none\">\n",
    "    <td style=\"border: none; vertical-align: bottom; color: blue\">n = 165</td>\n",
    "    <td style=\"\"><b>Predicted: No</b></td>\n",
    "    <td style=\"\"><b>Predicted: Yes</b></td>\n",
    "</tr>\n",
    "<tr>\n",
    "    <td><b>Actual: No</b></td>\n",
    "    <td style=\"text-align: center; background-color: red\">TN = 50</td>\n",
    "    <td style=\"text-align: center\">FP = 10</td>\n",
    "    <td style=\"text-align: center\">60</td>\n",
    "</tr>\n",
    "<tr>\n",
    "    <td><b>Actual: Yes</b></td>\n",
    "    <td style=\"text-align: center\">FN = 5</td>\n",
    "    <td style=\"text-align: center; background-color: green\">TP = 100</td>\n",
    "    <td style=\"text-align: center\">105</td>\n",
    "</tr>\n",
    "<tr style=\"border: none\">\n",
    "    <td style=\"border: none\"></td>\n",
    "    <td style=\"text-align: center\">55</td>\n",
    "    <td style=\"text-align: center\">110</td>\n",
    "</tr>\n",
    "\n",
    "</table>"
   ]
  },
  {
   "cell_type": "markdown",
   "metadata": {},
   "source": [
    "**True positive rate (TPR)** asks, “Out of all of the target class labels, how many were accurately predicted to belong to that class?”\n",
    "\n",
    "For example, given a medical exam that tests for cancer, how often does it correctly identify patients with cancer?\n",
    "\n",
    "<span>\n",
    "<span style=\"color: green\">TP</span>/<span style=\"color: blue\">actual yes</span> = <span style=\"color: green\">100</span>/<span style=\"color: blue\">105</span> = 0.95\n",
    "</span>\n",
    "\n",
    "<table style=\"border: none\">\n",
    "<tr style=\"border: none\">\n",
    "    <td style=\"border: none; vertical-align: bottom\">n = 165</td>\n",
    "    <td style=\"\"><b>Predicted: No</b></td>\n",
    "    <td style=\"\"><b>Predicted: Yes</b></td>\n",
    "</tr>\n",
    "<tr>\n",
    "    <td><b>Actual: No</b></td>\n",
    "    <td style=\"text-align: center\">TN = 50</td>\n",
    "    <td style=\"text-align: center\">FP = 10</td>\n",
    "    <td style=\"text-align: center\">60</td>\n",
    "</tr>\n",
    "<tr>\n",
    "    <td><b>Actual: Yes</b></td>\n",
    "    <td style=\"text-align: center\">FN = 5</td>\n",
    "    <td style=\"text-align: center;background-color: green\">TP = 100</td>\n",
    "    <td style=\"text-align: center;color: blue\">105</td>\n",
    "</tr>\n",
    "<tr style=\"border: none\">\n",
    "    <td style=\"border: none\"></td>\n",
    "    <td style=\"text-align: center\">55</td>\n",
    "    <td style=\"text-align: center\">110</td>\n",
    "</tr>\n",
    "\n",
    "</table>"
   ]
  },
  {
   "cell_type": "markdown",
   "metadata": {},
   "source": [
    "**False positive rate (FPR)** asks, “Out of all items not belonging to a class label, how many were predicted as belonging to that target class label?”\n",
    "\n",
    "For example, given a medical exam that tests for cancer, how often does it trigger a “false alarm” by incorrectly saying a patient has cancer?\n",
    "\n",
    "<span>\n",
    "<span style=\"color: orange\">FP</span>/<span style=\"color: blue\">actual no</span> = <span style=\"color: orange\">10</span>/<span style=\"color: blue\">60</span> = 0.17\n",
    "</span>\n",
    "\n",
    "<table style=\"border: none\">\n",
    "<tr style=\"border: none\">\n",
    "    <td style=\"border: none; vertical-align: bottom\">n = 165</td>\n",
    "    <td style=\"\"><b>Predicted: No</b></td>\n",
    "    <td style=\"\"><b>Predicted: Yes</b></td>\n",
    "</tr>\n",
    "<tr>\n",
    "    <td><b>Actual: No</b></td>\n",
    "    <td style=\"text-align: center\">TN = 50</td>\n",
    "    <td style=\"text-align: center;background-color: orange\">FP = 10</td>\n",
    "    <td style=\"text-align: center;color:blue\">60</td>\n",
    "</tr>\n",
    "<tr>\n",
    "    <td><b>Actual: Yes</b></td>\n",
    "    <td style=\"text-align: center\">FN = 5</td>\n",
    "    <td style=\"text-align: center\">TP = 100</td>\n",
    "    <td style=\"text-align: center\">105</td>\n",
    "</tr>\n",
    "<tr style=\"border: none\">\n",
    "    <td style=\"border: none\"></td>\n",
    "    <td style=\"text-align: center\">55</td>\n",
    "    <td style=\"text-align: center\">110</td>\n",
    "</tr>\n",
    "\n",
    "</table>"
   ]
  },
  {
   "cell_type": "markdown",
   "metadata": {},
   "source": [
    "**Can you see that we might weigh TPR AND FPR differently depending on the situation?**\n",
    "\n",
    "- Give an example when we care about TPR, but not FPR.\n",
    "- Give an example when we care about FPR, but not TPR.\n",
    "\n",
    "<!--\n",
    "ANSWER:\n",
    "- During an initial medical diagnosis, we want to be sensitive. We want initial screens to come up with a lot of true positives, even if we get a lot of false positives.\n",
    "- If we are doing spam detection, we want to be precise. Anything that we remove from an inbox must be spam, which may mean accepting fewer true positives.\n",
    "-->"
   ]
  },
  {
   "cell_type": "markdown",
   "metadata": {},
   "source": [
    "**More Trade-Offs**"
   ]
  },
  {
   "cell_type": "markdown",
   "metadata": {},
   "source": [
    "The true positive and false positive rates gives us a much clearer picture of where predictions begin to fall apart.\n",
    "\n",
    "This allows us to adjust our models accordingly.\n",
    "\n",
    "**Below we will load in some data on admissions to college.**"
   ]
  },
  {
   "cell_type": "code",
   "execution_count": null,
   "metadata": {},
   "outputs": [],
   "source": [
    "import pandas as pd\n",
    "from sklearn import linear_model, model_selection, metrics\n",
    "\n",
    "admissions = pd.read_csv('data/admissions.csv')\n",
    "admissions = admissions.dropna()\n",
    "# Get dummy variables for prestige.\n",
    "admissions = admissions.join(pd.get_dummies(admissions['prestige'], prefix='prestige'))"
   ]
  },
  {
   "cell_type": "code",
   "execution_count": null,
   "metadata": {},
   "outputs": [],
   "source": [
    "admissions.admit.value_counts()"
   ]
  },
  {
   "cell_type": "markdown",
   "metadata": {},
   "source": [
    "**We can predict the `admit` class from `gre` and use a train-test split to evaluate the performance of our model on a held-out test set.**"
   ]
  },
  {
   "cell_type": "code",
   "execution_count": null,
   "metadata": {},
   "outputs": [],
   "source": [
    "X = admissions[['gre']]\n",
    "y = admissions['admit']\n",
    "X_train, X_test, y_train, y_test = model_selection.train_test_split(X, y, random_state=46)\n",
    "logit_simple = linear_model.LogisticRegression(C=1e9).fit(X_train, y_train)"
   ]
  },
  {
   "cell_type": "markdown",
   "metadata": {},
   "source": [
    "**Recall that our \"baseline\" accuracy is the proportion of the majority class label.**"
   ]
  },
  {
   "cell_type": "code",
   "execution_count": null,
   "metadata": {},
   "outputs": [],
   "source": [
    "1. - y_train.mean()"
   ]
  },
  {
   "cell_type": "code",
   "execution_count": null,
   "metadata": {},
   "outputs": [],
   "source": [
    "# What is our accuracy on the test set?\n",
    "print(np.mean(y_test == logit_simple.predict(X_test)))"
   ]
  },
  {
   "cell_type": "markdown",
   "metadata": {},
   "source": [
    "**Create a confusion matrix of predictions on our test set using `metrics.confusion_matrix`**."
   ]
  },
  {
   "cell_type": "code",
   "execution_count": null,
   "metadata": {},
   "outputs": [],
   "source": [
    "# Get probability predictions.\n",
    "logit_pred_proba = logit_simple.predict_proba(X_test)[:,1]"
   ]
  },
  {
   "cell_type": "code",
   "execution_count": null,
   "metadata": {},
   "outputs": [],
   "source": [
    "logit_simple.predict_proba(X_test)[:,1] > .5"
   ]
  },
  {
   "cell_type": "code",
   "execution_count": null,
   "metadata": {},
   "outputs": [],
   "source": [
    "metrics.confusion_matrix(y_true=y_test, y_pred=logit_pred_proba > .5)"
   ]
  },
  {
   "cell_type": "markdown",
   "metadata": {},
   "source": [
    "**Answer the following:**\n",
    "\n",
    "- What is our accuracy on the test set?\n",
    "- True positive rate?\n",
    "- False positive rate?\n",
    "\n",
    "<!--\n",
    "ANSWER: This will depend on the data:\n",
    "Accuracy: 64%\n",
    "TPR: 0\n",
    "FPR: 0\n",
    "-->"
   ]
  },
  {
   "cell_type": "code",
   "execution_count": null,
   "metadata": {},
   "outputs": [],
   "source": [
    "# Answer here:"
   ]
  },
  {
   "cell_type": "markdown",
   "metadata": {},
   "source": [
    "A good classifier would have a true positive rate approaching 1 and a false positive rate approaching 0.\n",
    "\n",
    "In our smoking problem, this model would accurately predict all of the smokers as smokers and not accidentally predict any of the nonsmokers as smokers."
   ]
  },
  {
   "cell_type": "markdown",
   "metadata": {},
   "source": [
    "### Trading True Positives and True Negatives"
   ]
  },
  {
   "cell_type": "markdown",
   "metadata": {},
   "source": [
    "By default, and with respect to the underlying assumptions of logistic regression, we predict a positive class when the probability of the class is greater than .5 and predict a negative class otherwise.\n",
    "\n",
    "What if we decide to use .3 as a threshold for picking the positive class? Is that even allowed?\n",
    "\n",
    "This turns out to be a useful strategy. By setting a lower probability threshold we will predict more positive classes. Which means we will predict more true positives, but fewer true negatives.\n",
    "\n",
    "Making this trade-off is important in applications that have imbalanced penalties for misclassification.\n",
    "\n",
    "The most popular example is medical diagnostics, where we want as many true positives as feasible. For example, if we are diagnosing cancer we prefer to have false positives, predict a cancer when there is no cancer, that can be later corrected with a more specific test.\n",
    "\n",
    "We do this in machine learning by setting a low threshold for predicting positives which increases the number of true positives and false positives, but allows us to balance the the costs of being correct and incorrect."
   ]
  },
  {
   "cell_type": "markdown",
   "metadata": {},
   "source": [
    "**We can vary the classification threshold for our model to get different predictions.**"
   ]
  },
  {
   "cell_type": "code",
   "execution_count": null,
   "metadata": {},
   "outputs": [],
   "source": [
    "logit_pred_proba"
   ]
  },
  {
   "cell_type": "code",
   "execution_count": null,
   "metadata": {},
   "outputs": [],
   "source": [
    "metrics.confusion_matrix(y_true=y_test, y_pred=logit_pred_proba > .3)"
   ]
  },
  {
   "cell_type": "markdown",
   "metadata": {},
   "source": [
    "### The Accuracy Paradox\n",
    "\n",
    "Accuracy is a very intuitive metric — it's a lot like an exam score where you get total correct/total attempted. However, accuracy is often a poor metric in application. There are many reasons for this:\n",
    "- Imbalanced problems problems with 95% positives in the baseline will have 95% accuracy even with no predictive power.\n",
    "  - This is the paradox; pursuing accuracy often means predicting the most common class rather than doing the most useful work.\n",
    "- Applications often have uneven penalties and rewards for true positives and false positives.\n",
    "- Ranking predictions in the correct order be more important than getting them correct.\n",
    "- In many case we need to know the exact probability of a positives and negatives.\n",
    "  - To calculate an expected return.\n",
    "  - To triage observations that are borderline positive."
   ]
  },
  {
   "cell_type": "markdown",
   "metadata": {},
   "source": [
    "**Some of the most useful metrics for addressing these problems are:**\n",
    "    \n",
    "- **Classification accuracy/error**\n",
    "  - Classification accuracy is the percentage of correct predictions (higher is better).\n",
    "  - Classification error is the percentage of incorrect predictions (lower is better).\n",
    "  - Easiest classification metric to understand.\n",
    "- **Confusion matrix**\n",
    "  - Gives you a better understanding of how your classifier is performing.\n",
    "  - Allows you to calculate sensitivity, specificity, and many other metrics that might match your business objective better than accuracy.\n",
    "  - Precision and recall are good for balancing misclassification costs.\n",
    "- **ROC curves and area under a curve (AUC)**\n",
    "  - Good for ranking and prioritization problems.\n",
    "  - Allows you to visualize the performance of your classifier across all possible classification thresholds, thus helping you to choose a threshold that appropriately balances sensitivity and specificity.\n",
    "  - Still useful when there is high class imbalance (unlike classification accuracy/error).\n",
    "  - Harder to use when there are more than two response classes.\n",
    "- **Log loss**\n",
    "  - Most useful when well-calibrated predicted probabilities are important to your business objective.\n",
    "    - Expected value calculations\n",
    "    - Triage\n",
    "\n",
    "The good news is that these are readily available in Python and R, and are usually easy to calculate once you know about them."
   ]
  },
  {
   "cell_type": "markdown",
   "metadata": {},
   "source": [
    "<a id=\"samples\"></a>\n",
    "## OPTIONAL: How Many Samples Are Needed?\n",
    "\n",
    "We often ask how large our data set should be to achieve a reasonable logistic regression result. Below, a few methods will be introduced for determining how accurate the resulting model will be.\n",
    "\n",
    "### Rule of Thumb\n",
    "\n",
    "**Quick:** At least 100 samples total. At least 10 samples per feature.\n",
    "\n",
    "**Formula method:**\n",
    "1. Find the proportion $p$ of positive cases and negative cases. Take the smaller of the two. \n",
    "    - Ideally, you want 50/50 for a proportion of 0.5.\n",
    "    - Example: Suppose we are predicting \"male\" or \"female\". Our data is 80% male, 20% female. \n",
    "        - So, we choose the proportion $p = 0.2$ since it is smaller.\n",
    "\n",
    "2. Find the number of independent variables $k$.\n",
    "    - Example: We are predicting gender based on the last letter of the first name, giving us 26 indicator columns for features. So, $k = 26$.\n",
    "\n",
    "3. Let the minimum number of cases be $N = \\frac{10k}{p}$. The minimum should always be set to at least $100$.\n",
    "    - Example: Here, $N = 10*26 / 0.2 = 1300$. So, we would need 1300 names (supposing 80% are male).\n",
    "\n",
    "\n",
    "Both methods from: Long, J. S. (1997). *Regression Models for Categorical and Limited Dependent Variables*. Thousand Oaks, CA: Sage Publications.\n",
    "\n",
    "\n",
    "### Statistical Testing\n",
    "\n",
    "Logistic regression is one of the few machine learning models where we can obtain comprehensive statistics. By performing hypothesis testing, we can understand whether we have sufficient data to make strong conclusions about individual coefficients and the model as a whole. A very popular Python library which gives you these statistics with just a few lines of code is [statsmodels](http://www.statsmodels.org/dev/index.html).\n",
    "\n",
    "\n",
    "### Power Analysis\n",
    "\n",
    "As you may suspect, many factors affect how statistically significant the results of a logistic regression are. The art of estimating the sample size to detect an effect of a given size with a given degree of confidence is called power analysis.\n",
    "\n",
    "Some factors that influence the accuracy of our resulting model are:\n",
    "\n",
    "+ Desired statistical significance (p-value)\n",
    "+ Magnitude of the effect\n",
    "    - It is more difficult to distinguish a small effect from noise. So, more data would be required!\n",
    "+ Measurement precision\n",
    "+ Sampling error\n",
    "    - An effect is more difficult to detect in a smaller sample.\n",
    "+ Experimental design\n",
    "\n",
    "So, many factors, in addition to the number of samples, contribute to the resulting statistical power. Hence, it is difficult to give an absolute number without a more comprehensive analysis. This analysis is out of the scope of this lesson, but it is important to understand some of the factors that affect confidence."
   ]
  },
  {
   "cell_type": "markdown",
   "metadata": {},
   "source": [
    "## Lesson Review\n",
    "- **Logistic regression**\n",
    "  - What kind of machine learning problems does logistic regression address?\n",
    "  - What do the coefficients in a logistic regression represent? How does the interpretation differ from ordinary least squares? How is it similar?\n",
    "  \n",
    "- **The confusion matrix**\n",
    "  - How do true positive rate and false positive rate help explain accuracy?\n",
    "  - Why might one classification metric be more important to tune than another? Give an example of a business problem or project where this would be the case."
   ]
  }
 ],
 "metadata": {
  "kernelspec": {
   "display_name": "Python 3",
   "language": "python",
   "name": "python3"
  },
  "language_info": {
   "codemirror_mode": {
    "name": "ipython",
    "version": 3
   },
   "file_extension": ".py",
   "mimetype": "text/x-python",
   "name": "python",
   "nbconvert_exporter": "python",
   "pygments_lexer": "ipython3",
   "version": "3.8.5"
  }
 },
 "nbformat": 4,
 "nbformat_minor": 1
}
